{
 "cells": [
  {
   "cell_type": "code",
   "execution_count": 1,
   "metadata": {},
   "outputs": [],
   "source": [
    "import pandas as pd"
   ]
  },
  {
   "attachments": {},
   "cell_type": "markdown",
   "metadata": {},
   "source": [
    "Компания по продаже бытовой техники представила новую версию сайта с рекомендациями товаров. Предполагается, что новый сайт будет стимулировать посетителей оставаться на нём в течение более длительного времени. Для проведения теста компания перенаправляет часть трафика на обновлённую версию сайта. Результат с дневным трафиком был нам предоставлен файлом new-site. Каждая строка показывает время пребывания посетителей. Если посетитель пользовался исходным дизайном, ему присваивалось значение \"0\"; если обновлённым — значение \"1\"."
   ]
  },
  {
   "cell_type": "code",
   "execution_count": 4,
   "metadata": {},
   "outputs": [],
   "source": [
    "df = pd.read_csv('new-site.zip', sep = '\\t')"
   ]
  },
  {
   "cell_type": "code",
   "execution_count": 5,
   "metadata": {},
   "outputs": [
    {
     "data": {
      "text/html": [
       "<div>\n",
       "<style scoped>\n",
       "    .dataframe tbody tr th:only-of-type {\n",
       "        vertical-align: middle;\n",
       "    }\n",
       "\n",
       "    .dataframe tbody tr th {\n",
       "        vertical-align: top;\n",
       "    }\n",
       "\n",
       "    .dataframe thead th {\n",
       "        text-align: right;\n",
       "    }\n",
       "</style>\n",
       "<table border=\"1\" class=\"dataframe\">\n",
       "  <thead>\n",
       "    <tr style=\"text-align: right;\">\n",
       "      <th></th>\n",
       "      <th>site</th>\n",
       "      <th>dwell-time</th>\n",
       "    </tr>\n",
       "  </thead>\n",
       "  <tbody>\n",
       "    <tr>\n",
       "      <th>0</th>\n",
       "      <td>0</td>\n",
       "      <td>2</td>\n",
       "    </tr>\n",
       "    <tr>\n",
       "      <th>1</th>\n",
       "      <td>1</td>\n",
       "      <td>48</td>\n",
       "    </tr>\n",
       "    <tr>\n",
       "      <th>2</th>\n",
       "      <td>0</td>\n",
       "      <td>15</td>\n",
       "    </tr>\n",
       "    <tr>\n",
       "      <th>3</th>\n",
       "      <td>1</td>\n",
       "      <td>16</td>\n",
       "    </tr>\n",
       "    <tr>\n",
       "      <th>4</th>\n",
       "      <td>0</td>\n",
       "      <td>38</td>\n",
       "    </tr>\n",
       "  </tbody>\n",
       "</table>\n",
       "</div>"
      ],
      "text/plain": [
       "   site  dwell-time\n",
       "0     0           2\n",
       "1     1          48\n",
       "2     0          15\n",
       "3     1          16\n",
       "4     0          38"
      ]
     },
     "execution_count": 5,
     "metadata": {},
     "output_type": "execute_result"
    }
   ],
   "source": [
    "df.head()"
   ]
  },
  {
   "cell_type": "code",
   "execution_count": 11,
   "metadata": {},
   "outputs": [
    {
     "data": {
      "text/plain": [
       "90.84946236559139"
      ]
     },
     "execution_count": 11,
     "metadata": {},
     "output_type": "execute_result"
    }
   ],
   "source": [
    "group_A = df[df['site']==0]\n",
    "#group_A['dwell-time'].sum()\n",
    "group_A['dwell-time'].mean()"
   ]
  },
  {
   "cell_type": "code",
   "execution_count": 12,
   "metadata": {},
   "outputs": [
    {
     "data": {
      "text/plain": [
       "88.0"
      ]
     },
     "execution_count": 12,
     "metadata": {},
     "output_type": "execute_result"
    }
   ],
   "source": [
    "group_B = df[df['site']==1]\n",
    "#group_B['dwell-time'].sum()\n",
    "group_B['dwell-time'].mean()"
   ]
  },
  {
   "cell_type": "code",
   "execution_count": 27,
   "metadata": {},
   "outputs": [
    {
     "name": "stdout",
     "output_type": "stream",
     "text": [
      "p=0.000\n",
      "Данные не распределены нормально (мы отвергаем H0)\n"
     ]
    }
   ],
   "source": [
    "#проверка на нормальность распределения\n",
    "H0 = 'Данные распределены нормально'\n",
    "Ha = 'Данные не распределены нормально (мы отвергаем H0)'\n",
    "alpha = 0.05\n",
    "from scipy.stats import shapiro\n",
    "_, p = shapiro(df['dwell-time'])\n",
    "print('p=%.3f' % p)\n",
    "\n",
    "# Интерпретация \n",
    "\n",
    "if p > alpha:\n",
    "\tprint(H0)\n",
    "else:\n",
    "\tprint(Ha)\n",
    " \n",
    "# используем z-тест"
   ]
  },
  {
   "cell_type": "code",
   "execution_count": 16,
   "metadata": {},
   "outputs": [],
   "source": [
    "from statsmodels.stats import weightstats"
   ]
  },
  {
   "cell_type": "code",
   "execution_count": 18,
   "metadata": {},
   "outputs": [
    {
     "name": "stdout",
     "output_type": "stream",
     "text": [
      "0.8136645546620853\n",
      "Мы не можем отвергнуть нулевую гипотезу об отсутсвии различий между данными.\n"
     ]
    }
   ],
   "source": [
    "#Проведем Z-тест для проверки двух независимых групп данных на равенство средних значений выборок.\n",
    "\n",
    "_ ,p = weightstats.ztest(group_A['dwell-time'], x2=group_B['dwell-time'], value=0,alternative='two-sided')\n",
    "print(float(p))\n",
    "\n",
    "\n",
    "if p < 0.05:\n",
    "    print(\"Мы отвергаем нулевую гипотезу об отсутсвии различий между данными.\")\n",
    "else:\n",
    "    print(\"Мы не можем отвергнуть нулевую гипотезу об отсутсвии различий между данными.\")"
   ]
  }
 ],
 "metadata": {
  "kernelspec": {
   "display_name": "Python 3",
   "language": "python",
   "name": "python3"
  },
  "language_info": {
   "codemirror_mode": {
    "name": "ipython",
    "version": 3
   },
   "file_extension": ".py",
   "mimetype": "text/x-python",
   "name": "python",
   "nbconvert_exporter": "python",
   "pygments_lexer": "ipython3",
   "version": "3.9.10"
  },
  "orig_nbformat": 4
 },
 "nbformat": 4,
 "nbformat_minor": 2
}
