{
  "cells": [
    {
      "cell_type": "code",
      "execution_count": 1,
      "metadata": {
        "collapsed": true
      },
      "outputs": [],
      "source": [
        "import numpy as np"
      ]
    },
    {
      "cell_type": "code",
      "execution_count": 2,
      "metadata": {
        "collapsed": false
      },
      "outputs": [
        {
          "name": "stdout",
          "output_type": "stream",
          "text": [
            "A1:\n",
            " [[ 1  2  3]\n",
            " [ 4  5  6]\n",
            " [ 7  8 10]]\n"
          ]
        }
      ],
      "source": [
        "# обратная матрица - все ок\n",
        "A1=np.array([[1,2,3],[4,5,6],[7,8,10]])\n",
        "print('A1:\\n',A1)"
      ]
    },
    {
      "cell_type": "code",
      "execution_count": 3,
      "metadata": {
        "collapsed": false
      },
      "outputs": [
        {
          "name": "stdout",
          "output_type": "stream",
          "text": [
            "rk(A3):\n",
            " 3\n"
          ]
        }
      ],
      "source": [
        "print('rk(A3):\\n',np.linalg.matrix_rank(A1))"
      ]
    },
    {
      "cell_type": "code",
      "execution_count": 4,
      "metadata": {
        "collapsed": false
      },
      "outputs": [
        {
          "name": "stdout",
          "output_type": "stream",
          "text": [
            "A1 inversed:\n",
            " [[-0.66666667 -1.33333333  1.        ]\n",
            " [-0.66666667  3.66666667 -2.        ]\n",
            " [ 1.         -2.          1.        ]]\n"
          ]
        }
      ],
      "source": [
        "# обратная матрица - все ок\n",
        "A1_inv=np.linalg.inv(A1)\n",
        "print('A1 inversed:\\n',A1_inv)\n"
      ]
    },
    {
      "cell_type": "code",
      "execution_count": 5,
      "metadata": {
        "collapsed": false
      },
      "outputs": [
        {
          "name": "stdout",
          "output_type": "stream",
          "text": [
            "A1 @ A1 inversed=E check:\n",
            " [[ 1.00000000e+00 -4.44089210e-16 -1.11022302e-16]\n",
            " [ 4.44089210e-16  1.00000000e+00 -2.22044605e-16]\n",
            " [ 4.44089210e-16  8.88178420e-16  1.00000000e+00]] 1\n",
            "[[ 1. -0. -0.]\n",
            " [ 0.  1. -0.]\n",
            " [ 0.  0.  1.]]\n",
            "check OK\n"
          ]
        }
      ],
      "source": [
        "# обратная матрица - все ок\n",
        "print('A1 @ A1 inversed=E check:\\n',A1@A1_inv,1)\n",
        "print(np.round(A1@A1_inv,1))\n",
        "print('check OK')"
      ]
    },
    {
      "cell_type": "code",
      "execution_count": 6,
      "metadata": {
        "collapsed": false
      },
      "outputs": [
        {
          "name": "stdout",
          "output_type": "stream",
          "text": [
            "A2:\n",
            " [[1 2 3]\n",
            " [4 5 6]\n",
            " [1 2 3]]\n"
          ]
        }
      ],
      "source": [
        "# обратная матрица - вырожденный случай\n",
        "A2=np.array([[1,2,3],[4,5,6],[1,2,3]])\n",
        "print('A2:\\n',A2)"
      ]
    },
    {
      "cell_type": "code",
      "execution_count": 7,
      "metadata": {
        "collapsed": false
      },
      "outputs": [
        {
          "name": "stdout",
          "output_type": "stream",
          "text": [
            "rk(A3):\n",
            " 2\n"
          ]
        }
      ],
      "source": [
        "# обратная матрица - вырожденный случай\n",
        "print('rk(A3):\\n',np.linalg.matrix_rank(A2))"
      ]
    },
    {
      "cell_type": "code",
      "execution_count": 8,
      "metadata": {
        "collapsed": false
      },
      "outputs": [
        {
          "ename": "LinAlgError",
          "evalue": "Singular matrix",
          "output_type": "error",
          "traceback": [
            "\u001b[1;31m---------------------------------------------------------------------------\u001b[0m",
            "\u001b[1;31mLinAlgError\u001b[0m                               Traceback (most recent call last)",
            "\u001b[1;32mc:\\Users\\пользователь\\Desktop\\IDE\\MATHML_1\\MATHML_Module_1_Matrix_Inverse_screencast.ipynb Ячейка 8\u001b[0m in \u001b[0;36m2\n\u001b[0;32m      <a href='vscode-notebook-cell:/c%3A/Users/%D0%BF%D0%BE%D0%BB%D1%8C%D0%B7%D0%BE%D0%B2%D0%B0%D1%82%D0%B5%D0%BB%D1%8C/Desktop/IDE/MATHML_1/MATHML_Module_1_Matrix_Inverse_screencast.ipynb#X10sZmlsZQ%3D%3D?line=0'>1</a>\u001b[0m \u001b[39m# обратная матрица - вырожденный случай\u001b[39;00m\n\u001b[1;32m----> <a href='vscode-notebook-cell:/c%3A/Users/%D0%BF%D0%BE%D0%BB%D1%8C%D0%B7%D0%BE%D0%B2%D0%B0%D1%82%D0%B5%D0%BB%D1%8C/Desktop/IDE/MATHML_1/MATHML_Module_1_Matrix_Inverse_screencast.ipynb#X10sZmlsZQ%3D%3D?line=1'>2</a>\u001b[0m np\u001b[39m.\u001b[39;49mlinalg\u001b[39m.\u001b[39;49minv(A2)\n",
            "File \u001b[1;32m<__array_function__ internals>:180\u001b[0m, in \u001b[0;36minv\u001b[1;34m(*args, **kwargs)\u001b[0m\n",
            "File \u001b[1;32mc:\\Users\\пользователь\\AppData\\Local\\Programs\\Python\\Python39\\lib\\site-packages\\numpy\\linalg\\linalg.py:552\u001b[0m, in \u001b[0;36minv\u001b[1;34m(a)\u001b[0m\n\u001b[0;32m    550\u001b[0m signature \u001b[39m=\u001b[39m \u001b[39m'\u001b[39m\u001b[39mD->D\u001b[39m\u001b[39m'\u001b[39m \u001b[39mif\u001b[39;00m isComplexType(t) \u001b[39melse\u001b[39;00m \u001b[39m'\u001b[39m\u001b[39md->d\u001b[39m\u001b[39m'\u001b[39m\n\u001b[0;32m    551\u001b[0m extobj \u001b[39m=\u001b[39m get_linalg_error_extobj(_raise_linalgerror_singular)\n\u001b[1;32m--> 552\u001b[0m ainv \u001b[39m=\u001b[39m _umath_linalg\u001b[39m.\u001b[39;49minv(a, signature\u001b[39m=\u001b[39;49msignature, extobj\u001b[39m=\u001b[39;49mextobj)\n\u001b[0;32m    553\u001b[0m \u001b[39mreturn\u001b[39;00m wrap(ainv\u001b[39m.\u001b[39mastype(result_t, copy\u001b[39m=\u001b[39m\u001b[39mFalse\u001b[39;00m))\n",
            "File \u001b[1;32mc:\\Users\\пользователь\\AppData\\Local\\Programs\\Python\\Python39\\lib\\site-packages\\numpy\\linalg\\linalg.py:89\u001b[0m, in \u001b[0;36m_raise_linalgerror_singular\u001b[1;34m(err, flag)\u001b[0m\n\u001b[0;32m     88\u001b[0m \u001b[39mdef\u001b[39;00m \u001b[39m_raise_linalgerror_singular\u001b[39m(err, flag):\n\u001b[1;32m---> 89\u001b[0m     \u001b[39mraise\u001b[39;00m LinAlgError(\u001b[39m\"\u001b[39m\u001b[39mSingular matrix\u001b[39m\u001b[39m\"\u001b[39m)\n",
            "\u001b[1;31mLinAlgError\u001b[0m: Singular matrix"
          ]
        }
      ],
      "source": [
        "# обратная матрица - вырожденный случай\n",
        "np.linalg.inv(A2)"
      ]
    },
    {
      "cell_type": "code",
      "execution_count": 9,
      "metadata": {
        "collapsed": false
      },
      "outputs": [
        {
          "name": "stdout",
          "output_type": "stream",
          "text": [
            "A3:\n",
            " [[1 2 3]\n",
            " [4 5 6]\n",
            " [7 8 9]]\n"
          ]
        }
      ],
      "source": [
        "# обратная матрица - magic\n",
        "A3=np.array([[1,2,3],[4,5,6],[7,8,9]])\n",
        "print('A3:\\n',A3)"
      ]
    },
    {
      "cell_type": "code",
      "execution_count": 10,
      "metadata": {
        "collapsed": false
      },
      "outputs": [
        {
          "name": "stdout",
          "output_type": "stream",
          "text": [
            "rk(A3):\n",
            " 2\n"
          ]
        }
      ],
      "source": [
        "# обратная матрица - magic\n",
        "print('rk(A3):\\n',np.linalg.matrix_rank(A3))"
      ]
    },
    {
      "cell_type": "code",
      "execution_count": 11,
      "metadata": {
        "collapsed": false
      },
      "outputs": [
        {
          "name": "stdout",
          "output_type": "stream",
          "text": [
            "A3 inversed:\n",
            " [[ 3.15251974e+15 -6.30503948e+15  3.15251974e+15]\n",
            " [-6.30503948e+15  1.26100790e+16 -6.30503948e+15]\n",
            " [ 3.15251974e+15 -6.30503948e+15  3.15251974e+15]]\n"
          ]
        }
      ],
      "source": [
        "# обратная матрица - magic\n",
        "print('A3 inversed:\\n',np.linalg.inv(A3))"
      ]
    },
    {
      "cell_type": "code",
      "execution_count": 12,
      "metadata": {
        "collapsed": false
      },
      "outputs": [
        {
          "name": "stdout",
          "output_type": "stream",
          "text": [
            "A3 @ A3 inversed = E check:\n",
            " [[ 0.  1.  0.]\n",
            " [ 0.  2.  0.]\n",
            " [-4.  3.  2.]]\n",
            "check failed\n"
          ]
        }
      ],
      "source": [
        "# обратная матрица - magic\n",
        "print('A3 @ A3 inversed = E check:\\n',A3@np.linalg.inv(A3))\n",
        "print('check failed')"
      ]
    },
    {
      "cell_type": "code",
      "execution_count": 13,
      "metadata": {
        "collapsed": false
      },
      "outputs": [
        {
          "name": "stdout",
          "output_type": "stream",
          "text": [
            "det(A1)):\n",
            " -3.000000000000001\n"
          ]
        }
      ],
      "source": [
        "print('det(A1)):\\n',np.linalg.det(A1))"
      ]
    },
    {
      "cell_type": "code",
      "execution_count": 14,
      "metadata": {
        "collapsed": false
      },
      "outputs": [
        {
          "name": "stdout",
          "output_type": "stream",
          "text": [
            "det(A2)):\n",
            " 0.0\n"
          ]
        }
      ],
      "source": [
        "print('det(A2)):\\n',np.linalg.det(A2))"
      ]
    },
    {
      "cell_type": "code",
      "execution_count": 15,
      "metadata": {
        "collapsed": false
      },
      "outputs": [
        {
          "name": "stdout",
          "output_type": "stream",
          "text": [
            "det(A3)):\n",
            " -9.51619735392994e-16\n"
          ]
        }
      ],
      "source": [
        "print('det(A3)):\\n',np.linalg.det(A3))"
      ]
    },
    {
      "cell_type": "code",
      "execution_count": 16,
      "metadata": {
        "collapsed": false
      },
      "outputs": [
        {
          "name": "stdout",
          "output_type": "stream",
          "text": [
            "A4:\n",
            " [[1.      2.      3.     ]\n",
            " [4.      5.      6.     ]\n",
            " [1.      2.      3.00005]]\n",
            "rk(A4):\n",
            " 3\n",
            "det(A4):\n",
            " -0.00014999999999965044\n",
            "A4 inverse:\n",
            " [[-2.00016667e+04  6.66666667e-01  2.00000000e+04]\n",
            " [ 4.00013333e+04 -3.33333333e-01 -4.00000000e+04]\n",
            " [-2.00000000e+04  0.00000000e+00  2.00000000e+04]]\n"
          ]
        }
      ],
      "source": [
        "# обратная матрица - неустойчивость\n",
        "A4=np.array([[1,2,3],[4,5,6],[1,2,3.00005]])\n",
        "print('A4:\\n',A4)\n",
        "print('rk(A4):\\n',np.linalg.matrix_rank(A4))\n",
        "print('det(A4):\\n',np.linalg.det(A4))\n",
        "print('A4 inverse:\\n',np.linalg.inv(A4))"
      ]
    },
    {
      "cell_type": "code",
      "execution_count": 17,
      "metadata": {
        "collapsed": false
      },
      "outputs": [
        {
          "name": "stdout",
          "output_type": "stream",
          "text": [
            "A5:\n",
            " [[1.         2.         3.        ]\n",
            " [4.         5.         6.        ]\n",
            " [1.         2.         3.00000005]]\n",
            "rk(A5):\n",
            " 3\n",
            "det(A5):\n",
            " -1.5000000042064706e-07\n",
            "A5 inverse:\n",
            " [[-2.00000016e+07  6.66666667e-01  1.99999999e+07]\n",
            " [ 4.00000012e+07 -3.33333333e-01 -3.99999999e+07]\n",
            " [-1.99999999e+07  0.00000000e+00  1.99999999e+07]]\n"
          ]
        }
      ],
      "source": [
        "# обратная матрица - неустойчивость вблизи нулевого определителя\n",
        "A5=np.array([[1,2,3],[4,5,6],[1,2,3.00000005]])\n",
        "print('A5:\\n',A5)\n",
        "print('rk(A5):\\n',np.linalg.matrix_rank(A5))\n",
        "print('det(A5):\\n',np.linalg.det(A5))\n",
        "print('A5 inverse:\\n',np.linalg.inv(A5))"
      ]
    },
    {
      "cell_type": "code",
      "execution_count": 18,
      "metadata": {
        "collapsed": false
      },
      "outputs": [
        {
          "name": "stdout",
          "output_type": "stream",
          "text": [
            "A:\n",
            " [[1 1]\n",
            " [2 1]\n",
            " [1 1]]\n",
            "Матрица Грама:\n",
            " [[6 4]\n",
            " [4 3]]\n"
          ]
        }
      ],
      "source": [
        "# обратимость матрицы Грама линейно независимой системы векторов\n",
        "v1=np.array([1,2,1])\n",
        "v2=np.array([1,1,1])\n",
        "A=np.array([v1,v2]).T\n",
        "print('A:\\n',A)\n",
        "print('Матрица Грама:\\n',A.T@A)"
      ]
    },
    {
      "cell_type": "code",
      "execution_count": 19,
      "metadata": {
        "collapsed": false
      },
      "outputs": [
        {
          "name": "stdout",
          "output_type": "stream",
          "text": [
            "Ранг матрицы Грама:\n",
            " 2\n"
          ]
        }
      ],
      "source": [
        "print('Ранг матрицы Грама:\\n',np.linalg.matrix_rank(A.T@A))"
      ]
    },
    {
      "cell_type": "code",
      "execution_count": 20,
      "metadata": {
        "collapsed": false
      },
      "outputs": [
        {
          "name": "stdout",
          "output_type": "stream",
          "text": [
            "Определитель матрицы Грама:\n",
            " 2.0000000000000004\n"
          ]
        }
      ],
      "source": [
        "print('Определитель матрицы Грама:\\n',np.linalg.det(A.T@A))"
      ]
    },
    {
      "cell_type": "code",
      "execution_count": 21,
      "metadata": {
        "collapsed": false
      },
      "outputs": [
        {
          "name": "stdout",
          "output_type": "stream",
          "text": [
            "Обратная к матрице Грама:\n",
            " [[ 1.5 -2. ]\n",
            " [-2.   3. ]]\n"
          ]
        }
      ],
      "source": [
        "print('Обратная к матрице Грама:\\n',np.linalg.inv(A.T@A))"
      ]
    },
    {
      "cell_type": "markdown",
      "metadata": {},
      "source": [
        "# Самостоятельная работа"
      ]
    },
    {
      "cell_type": "code",
      "execution_count": 24,
      "metadata": {
        "collapsed": true
      },
      "outputs": [
        {
          "data": {
            "text/plain": [
              "array([[-1.875  ,  2.3125 , -0.03125],\n",
              "       [ 0.375  , -0.5625 ,  0.15625],\n",
              "       [ 1.25   , -1.375  , -0.0625 ]])"
            ]
          },
          "execution_count": 24,
          "metadata": {},
          "output_type": "execute_result"
        }
      ],
      "source": [
        "#Дана матрица A:\n",
        "\n",
        "A = np.array([[8, 6, 11], [7, 5, 9],[6, 10, 6]])\n",
        "#Найдите матрицу, обратную матрице A.\n",
        "\n",
        "#В качестве ответа запишите элемент из первого столбца второй строки, округлив его до трёх знаков после точки-разделителя.\n",
        "\n",
        "np.linalg.inv(A)[1,0]\n",
        "#0.375"
      ]
    },
    {
      "cell_type": "code",
      "execution_count": 25,
      "metadata": {},
      "outputs": [],
      "source": [
        "#Дана система векторов:\n",
        "\n",
        "v1 = np.array([9, 10, 7, 7, 9])\n",
        "v2 = np.array([2, 0, 5, 1, 4])\n",
        "v3 = np.array([4, 0, 0, 4, 1])\n",
        "v4 = np.array([3, -4, 3, -1, -4])"
      ]
    },
    {
      "cell_type": "code",
      "execution_count": 30,
      "metadata": {},
      "outputs": [
        {
          "data": {
            "text/plain": [
              "4"
            ]
          },
          "execution_count": 30,
          "metadata": {},
          "output_type": "execute_result"
        }
      ],
      "source": [
        "#Найдите ранг системы векторов v1, v2, v3, v4. Для этого создайте матрицу системы векторов. Векторы в матрице расположите в столбцы.\n",
        "S = np.array([v1,v2,v3,v4]).T\n",
        "np.linalg.matrix_rank(S)\n",
        "#4"
      ]
    },
    {
      "cell_type": "code",
      "execution_count": 32,
      "metadata": {},
      "outputs": [
        {
          "data": {
            "text/plain": [
              "-35"
            ]
          },
          "execution_count": 32,
          "metadata": {},
          "output_type": "execute_result"
        }
      ],
      "source": [
        "#Найдите матрицу Грама системы векторов v1, v2, v3, v4: G=At@A. В качестве ответа запишите элемент из четвёртого столбца первой строки.\n",
        "G=S.T@S\n",
        "G[0,3]"
      ]
    },
    {
      "cell_type": "code",
      "execution_count": 34,
      "metadata": {},
      "outputs": [
        {
          "data": {
            "text/plain": [
              "3716648"
            ]
          },
          "execution_count": 34,
          "metadata": {},
          "output_type": "execute_result"
        }
      ],
      "source": [
        "#Найдите определитель матрицы Грама G системы v1, v2, v3, v4. Ответ округлите до целого числа.\n",
        "round(np.linalg.det(G))\n",
        "#3716648"
      ]
    },
    {
      "cell_type": "code",
      "execution_count": 35,
      "metadata": {},
      "outputs": [
        {
          "data": {
            "text/plain": [
              "-0.026"
            ]
          },
          "execution_count": 35,
          "metadata": {},
          "output_type": "execute_result"
        }
      ],
      "source": [
        "#Найдите обратную матрицу к матрице Грама G системы v1, v2, v3, v4. \n",
        "# В качестве ответа запишите элемент из первого столбца третьей строки, округлив его до трёх знаков после точки-разделителя.\n",
        "round(np.linalg.inv(G)[2,0],3)\n",
        "#-0.026"
      ]
    },
    {
      "cell_type": "code",
      "execution_count": 2,
      "metadata": {},
      "outputs": [
        {
          "data": {
            "text/plain": [
              "array([[ 7., -2.],\n",
              "       [-3.,  1.]])"
            ]
          },
          "execution_count": 2,
          "metadata": {},
          "output_type": "execute_result"
        }
      ],
      "source": [
        "np.linalg.inv(np.array([[1,2],[3,7]]))"
      ]
    },
    {
      "cell_type": "code",
      "execution_count": 3,
      "metadata": {},
      "outputs": [
        {
          "data": {
            "text/plain": [
              "2"
            ]
          },
          "execution_count": 3,
          "metadata": {},
          "output_type": "execute_result"
        }
      ],
      "source": [
        "s=np.array([[2,10,-2],[3,2,-2],[8,14,-6]]).T\n",
        "np.linalg.matrix_rank(s)"
      ]
    },
    {
      "cell_type": "code",
      "execution_count": 5,
      "metadata": {},
      "outputs": [
        {
          "name": "stdout",
          "output_type": "stream",
          "text": [
            "2\n",
            "2\n"
          ]
        }
      ],
      "source": [
        "s=np.array([[4,7,-1],[-4,2,5],[0,9,4]]).T\n",
        "print(np.linalg.matrix_rank(s))\n",
        "s_wide=np.array([[4,7,-1,7],[-4,2,5,3],[0,9,4,10]]).T\n",
        "print(np.linalg.matrix_rank(s_wide))"
      ]
    },
    {
      "cell_type": "code",
      "execution_count": 18,
      "metadata": {},
      "outputs": [
        {
          "data": {
            "text/plain": [
              "array([-0.5,  1.6])"
            ]
          },
          "execution_count": 18,
          "metadata": {},
          "output_type": "execute_result"
        }
      ],
      "source": [
        "s=np.array([[1,2],[-3,1],[1,2],[1,-1]])\n",
        "s_t=s.T\n",
        "s_t@s\n",
        "f=np.linalg.inv(s_t@s)\n",
        "b = np.array([1,4,5,0])\n",
        "g=s_t@b\n",
        "g\n",
        "f@g"
      ]
    },
    {
      "cell_type": "code",
      "execution_count": 3,
      "metadata": {},
      "outputs": [
        {
          "data": {
            "text/plain": [
              "array([[1.        , 0.05241424],\n",
              "       [0.05241424, 1.        ]])"
            ]
          },
          "execution_count": 3,
          "metadata": {},
          "output_type": "execute_result"
        }
      ],
      "source": [
        "x_1 = np.array([5, 1, 2])\n",
        "x_2 = np.array([4, 2, 8])\n",
        "np.corrcoef(x_1, x_2)"
      ]
    },
    {
      "cell_type": "code",
      "execution_count": 2,
      "metadata": {},
      "outputs": [],
      "source": [
        "import pandas as pd"
      ]
    },
    {
      "cell_type": "code",
      "execution_count": 26,
      "metadata": {},
      "outputs": [
        {
          "name": "stdout",
          "output_type": "stream",
          "text": [
            "3\n",
            "5e-07\n"
          ]
        }
      ],
      "source": [
        "#x_1 = pd.DataFrame([[5.1,1.8,2.1,10.3,12.1,12.6],[10.2,3.7,4.1,20.5,24.2,24.1],[10.2,3.7,4.1,20.5,24.2,24.1]])\n",
        "#x_2 = np.array([10.2,3.7,4.1,20.5,24.2,24.1])\n",
        "#x_3 = np.array([2.5,0.9,1.1,5.1,6.1,6.3])\n",
        "x_1 = np.array([[5.1,1.8,2.1,10.3,12.1,12.6],[10.2,3.7,4.1,20.5,24.2,24.1],[2.5,0.9,1.1,5.1,6.1,6.3]]).T\n",
        "\n",
        "x_1 = pd.DataFrame(x_1)\n",
        "x_1 = np.array(x_1.corr())\n",
        "print(np.linalg.matrix_rank(x_1))\n",
        "print(round(np.linalg.det(x_1),7))"
      ]
    },
    {
      "cell_type": "code",
      "execution_count": 5,
      "metadata": {},
      "outputs": [
        {
          "name": "stdout",
          "output_type": "stream",
          "text": [
            "[ 0.11446013  2.46095638 -0.01608801]\n"
          ]
        }
      ],
      "source": [
        "#поиск коэффициентов полиномиальной регрессии методом LOS\n",
        "A = np.array([\n",
        "    [1, 3, -2, 9]\n",
        "]).T\n",
        "y = np.array([3, 7, -5, 21])\n",
        "\n",
        "from sklearn.preprocessing import PolynomialFeatures\n",
        "\n",
        "poly = PolynomialFeatures(degree=2, include_bias=True) #вторая степень полинома, включаем столбец из единиц\n",
        "X_poly = poly.fit_transform(A)\n",
        "w_hat = np.linalg.inv(X_poly.T@X_poly)@X_poly.T@y\n",
        "y_pred = X_poly @ w_hat\n",
        "\n",
        "print(w_hat)\n",
        "## [ 0.11446013  2.46095638 -0.01608801]"
      ]
    },
    {
      "cell_type": "markdown",
      "metadata": {},
      "source": [
        "Вычислите коэффициенты линейной регрессии с L2-регуляризацией, используя аналитическую формулу Тихонова, если:\n",
        "    \n",
        "Коэффициент регуляризации alfa=1.\n",
        "\n",
        "В качестве ответа приведите значения полученных коэффициентов линейной регрессии, округлив их до второго знака после точки-разделителя."
      ]
    },
    {
      "cell_type": "code",
      "execution_count": 6,
      "metadata": {},
      "outputs": [
        {
          "name": "stdout",
          "output_type": "stream",
          "text": [
            "w0 - -0.09, w1 - -1.71, w2 - 1.91, w3 - 0.73\n"
          ]
        }
      ],
      "source": [
        "from sklearn.linear_model import Ridge\n",
        "\n",
        "# матрица наблюдений (включая столбец единиц)\n",
        "A = np.array([\n",
        "    [1, 1, 1, 1, 1],\n",
        "    [5, 9, 4, 3, 5],\n",
        "    [15, 18, 18, 19, 19],\n",
        "    [7, 6, 7, 7, 7]\n",
        "]).T\n",
        "# вектор целевого признака\n",
        "y = np.array([24, 22, 35, 33, 36])\n",
        "# получаем оценку коэффициентов регрессии по МНК с регуляризацией Тихонова\n",
        "ridge = Ridge(alpha=1, fit_intercept=False)\n",
        "ridge.fit(A, y)\n",
        "print(f'w0 - {round(ridge.coef_[0],2)}, w1 - {round(ridge.coef_[1],2)}, w2 - {round(ridge.coef_[2],2)}, w3 - {round(ridge.coef_[3],2)}') \n",
        "## w0 - -0.09, w1 - -1.71, w2 - 1.91, w3 - 0.73"
      ]
    },
    {
      "cell_type": "code",
      "execution_count": 9,
      "metadata": {},
      "outputs": [
        {
          "name": "stdout",
          "output_type": "stream",
          "text": [
            "Собственные числа: \n",
            " [20. -4. -7.]\n",
            "Собственные векторы: \n",
            " [[-0.59065136 -0.9084069  -0.40394124]\n",
            " [-0.29844178 -0.16657961 -0.77823322]\n",
            " [-0.74970893  0.38346857  0.48081652]]\n"
          ]
        }
      ],
      "source": [
        "#Найдите собственные числа для матрицы:\n",
        "#Каждое из собственных чисел округлите до целого.\n",
        "\n",
        "# создаем матрицу А\n",
        "A = np.array([\n",
        "    [1, 3, 5],\n",
        "    [4, -4, 9],\n",
        "    [13, 7, 12]\n",
        "]).T\n",
        "# вычисляем собственные числа и собственные векторы\n",
        "eig_values, eig_vectors = np.linalg.eig(A)\n",
        "print('Собственные числа: \\n', np.round(eig_values))\n",
        "print('Собственные векторы: \\n', eig_vectors)\n",
        "#[20. -4. -7.]"
      ]
    },
    {
      "cell_type": "code",
      "execution_count": 10,
      "metadata": {},
      "outputs": [
        {
          "name": "stdout",
          "output_type": "stream",
          "text": [
            "Собственные числа: \n",
            " [391.  46.  16.]\n",
            "Собственные векторы: \n",
            " [[-0.41955589 -0.7323045  -0.5363795 ]\n",
            " [-0.55709648  0.67425896 -0.48478693]\n",
            " [-0.71667034 -0.09541992  0.69085358]]\n"
          ]
        }
      ],
      "source": [
        "#Найдите собственные числа матрицы Грама A.T@A, если дана A\n",
        "# создаем матрицу А\n",
        "A = np.array([\n",
        "    [1, 9, 4],\n",
        "    [9, 4, 7],\n",
        "    [4, 7, 12]\n",
        "]).T\n",
        "# вычисляем собственные числа и собственные векторы\n",
        "eig_values, eig_vectors = np.linalg.eig(A.T@A)\n",
        "print('Собственные числа: \\n', np.round(eig_values))\n",
        "print('Собственные векторы: \\n', eig_vectors)"
      ]
    },
    {
      "cell_type": "code",
      "execution_count": 15,
      "metadata": {},
      "outputs": [
        {
          "name": "stdout",
          "output_type": "stream",
          "text": [
            "[-0.24  0.86 -0.29 -0.33]\n"
          ]
        }
      ],
      "source": [
        "#PCA\n",
        "#Выберите одну главную компоненту для дальнейшего анализа. Вычислите её значения.\n",
        "\n",
        "#Введите компоненты с округлением до второго знака после запятой.\n",
        "\n",
        "import numpy as np\n",
        "x1 = np.array([1, 2, 1, 1]).T\n",
        "x2 = np.array([70, 130, 65, 60]).T\n",
        "\n",
        "C = np.array([\n",
        "[1, 0.9922],\n",
        "[0.9922, 1],\n",
        "])\n",
        "\n",
        "eig_values, eig_vectors = np.linalg.eig(C)\n",
        "\n",
        "x1_norm = (x1 - x1.mean()) / np.linalg.norm(x1)\n",
        "x2_norm = (x2 - x2.mean()) / np.linalg.norm(x2)\n",
        "\n",
        "x_new = x1_norm * eig_vectors[0][0] + x2_norm * eig_vectors[1][0]\n",
        "\n",
        "x_new_norm = (x_new - x_new.mean()) / np.linalg.norm(x_new)\n",
        "\n",
        "print(np.round(x_new_norm, 2))\n",
        "\n",
        "## [-0.24  0.86 -0.29 -0.33]"
      ]
    }
  ],
  "metadata": {
    "kernelspec": {
      "display_name": "Python 3",
      "language": "python",
      "name": "python3"
    },
    "language_info": {
      "codemirror_mode": {
        "name": "ipython",
        "version": 3
      },
      "file_extension": ".py",
      "mimetype": "text/x-python",
      "name": "python",
      "nbconvert_exporter": "python",
      "pygments_lexer": "ipython3",
      "version": "3.9.10"
    },
    "nteract": {
      "version": "0.26.0"
    }
  },
  "nbformat": 4,
  "nbformat_minor": 2
}
