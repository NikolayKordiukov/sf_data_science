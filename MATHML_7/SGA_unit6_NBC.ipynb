{
  "cells": [
    {
      "cell_type": "markdown",
      "id": "00009cca",
      "metadata": {
        "id": "00009cca"
      },
      "source": [
        "# Классификация текстов с использованием Наивного Байесовского Классификатора"
      ]
    },
    {
      "cell_type": "markdown",
      "id": "a52414b8",
      "metadata": {
        "id": "a52414b8"
      },
      "source": [
        "## Задание 1 (1 балл)"
      ]
    },
    {
      "cell_type": "markdown",
      "id": "f5f27b43",
      "metadata": {
        "id": "f5f27b43"
      },
      "source": [
        "Откройте данные. Узнайте, сколько в них спам- и не спам-писем. Визуализируйте полученные соотношение подходящим образом."
      ]
    },
    {
      "cell_type": "code",
      "execution_count": 68,
      "id": "ac369274",
      "metadata": {
        "id": "ac369274"
      },
      "outputs": [
        {
          "name": "stdout",
          "output_type": "stream",
          "text": [
            "<class 'pandas.core.frame.DataFrame'>\n",
            "RangeIndex: 3000 entries, 0 to 2999\n",
            "Data columns (total 2 columns):\n",
            " #   Column  Non-Null Count  Dtype \n",
            "---  ------  --------------  ----- \n",
            " 0   email   2999 non-null   object\n",
            " 1   label   3000 non-null   int64 \n",
            "dtypes: int64(1), object(1)\n",
            "memory usage: 47.0+ KB\n"
          ]
        }
      ],
      "source": [
        "# откройте данные: ваш код здесь\n",
        "import numpy as np\n",
        "import pandas as pd\n",
        "import matplotlib.pyplot as plt\n",
        "import seaborn as sns\n",
        "\n",
        "data = pd.read_csv('data/spam_or_not_spam.zip')\n",
        "data.info()"
      ]
    },
    {
      "cell_type": "code",
      "execution_count": 69,
      "id": "f4231781",
      "metadata": {
        "id": "f4231781"
      },
      "outputs": [
        {
          "name": "stdout",
          "output_type": "stream",
          "text": [
            "0    2500\n",
            "1     500\n",
            "Name: label, dtype: int64\n"
          ]
        },
        {
          "data": {
            "text/plain": [
              "0    0.833333\n",
              "1    0.166667\n",
              "Name: label, dtype: float64"
            ]
          },
          "execution_count": 69,
          "metadata": {},
          "output_type": "execute_result"
        }
      ],
      "source": [
        "# рассчитайте частоты для классов : ваш код здесь\n",
        "print(data['label'].value_counts())\n",
        "data['label'].value_counts(normalize=True)\n",
        "#В данных 500 спам-писем (17%) и 2500 не спам-писем (83%). Есть несбалансированность классов\n"
      ]
    },
    {
      "cell_type": "code",
      "execution_count": 70,
      "id": "9b871636",
      "metadata": {
        "id": "9b871636"
      },
      "outputs": [
        {
          "data": {
            "image/png": "[encoded data removed]",
            "text/plain": [
              "<Figure size 640x480 with 1 Axes>"
            ]
          },
          "metadata": {},
          "output_type": "display_data"
        }
      ],
      "source": [
        "# визуализируйте результат: ваш код здесь\n",
        "colors = sns.color_palette('pastel')[0:2]\n",
        "\n",
        "plt.pie(x=data['label'].value_counts(), labels = data['label'].unique(), colors = colors, autopct='%.0f%%')\n",
        "plt.title('Структура писем, %')\n",
        "plt.show()\n"
      ]
    },
    {
      "cell_type": "markdown",
      "id": "b161614b",
      "metadata": {
        "id": "b161614b"
      },
      "source": [
        "## Задание 2 (2 балла)"
      ]
    },
    {
      "cell_type": "markdown",
      "id": "dd29763b",
      "metadata": {
        "id": "dd29763b"
      },
      "source": [
        "Вам необходимо предобработать ваши данные и перевести их в векторный вид. Подгрузим необходимый модуль:"
      ]
    },
    {
      "cell_type": "code",
      "execution_count": 71,
      "id": "382eac9c",
      "metadata": {
        "id": "382eac9c"
      },
      "outputs": [],
      "source": [
        "from sklearn.feature_extraction.text import CountVectorizer"
      ]
    },
    {
      "cell_type": "markdown",
      "id": "89546b95",
      "metadata": {
        "id": "89546b95"
      },
      "source": [
        "Замените в данных все пустые строки и строки, состоящие из пробелов, на пропуски (NaN). После этого удалите из данных все строки, в которых наблюдаются пропущенные значения."
      ]
    },
    {
      "cell_type": "code",
      "execution_count": 72,
      "id": "45180f82",
      "metadata": {
        "id": "45180f82"
      },
      "outputs": [
        {
          "name": "stdout",
          "output_type": "stream",
          "text": [
            "<class 'pandas.core.frame.DataFrame'>\n",
            "Int64Index: 2997 entries, 0 to 2999\n",
            "Data columns (total 2 columns):\n",
            " #   Column  Non-Null Count  Dtype \n",
            "---  ------  --------------  ----- \n",
            " 0   email   2997 non-null   object\n",
            " 1   label   2997 non-null   int64 \n",
            "dtypes: int64(1), object(1)\n",
            "memory usage: 70.2+ KB\n"
          ]
        }
      ],
      "source": [
        "#ваш код здесь\n",
        "# пустые ячейки есть в столбце \"email\" - 1 шт.\n",
        "data[data['email'].isnull()==True]\n",
        "\n",
        "# строки из пробелом есть в столбце \"email\" - 2 шт.\n",
        "data[data['email']==\" \"]\n",
        "\n",
        "#сразу сделаем очистку от лишнего с использванием масок\n",
        "data = data[(data['email'].isnull()!=True) & (data['email']!=\" \")]\n",
        "#осталось 2997 строк, все - не пустые\n",
        "data.info()\n"
      ]
    },
    {
      "cell_type": "markdown",
      "id": "2ca2fe88",
      "metadata": {
        "id": "2ca2fe88"
      },
      "source": [
        "Переводим данные в векторный вид:"
      ]
    },
    {
      "cell_type": "code",
      "execution_count": 73,
      "id": "29e9a37b",
      "metadata": {
        "id": "29e9a37b"
      },
      "outputs": [],
      "source": [
        "vectorizer = CountVectorizer()\n",
        "X = vectorizer.fit_transform(data[\"email\"])"
      ]
    },
    {
      "cell_type": "markdown",
      "id": "88c8b726",
      "metadata": {
        "id": "88c8b726"
      },
      "source": [
        "Определите, сколько теперь признаков в нашем наборе данных:"
      ]
    },
    {
      "cell_type": "code",
      "execution_count": 74,
      "id": "f19c2a02",
      "metadata": {
        "id": "f19c2a02"
      },
      "outputs": [
        {
          "data": {
            "text/plain": [
              "34116"
            ]
          },
          "execution_count": 74,
          "metadata": {},
          "output_type": "execute_result"
        }
      ],
      "source": [
        "#ваш код здесь\n",
        "X.shape[1]\n",
        "#34116 признаков"
      ]
    },
    {
      "cell_type": "markdown",
      "id": "1803f282",
      "metadata": {
        "id": "1803f282"
      },
      "source": [
        "## Задание 3 (2 балла)"
      ]
    },
    {
      "cell_type": "markdown",
      "id": "39f400b7",
      "metadata": {
        "id": "39f400b7"
      },
      "source": [
        "Определите целевую переменную и признаки:"
      ]
    },
    {
      "cell_type": "code",
      "execution_count": 85,
      "id": "31f1acb6",
      "metadata": {
        "id": "31f1acb6"
      },
      "outputs": [],
      "source": [
        "#ваш код здесь\n",
        "X = X.toarray()\n",
        "y = data['label']"
      ]
    },
    {
      "cell_type": "markdown",
      "id": "b20f273e",
      "metadata": {
        "id": "b20f273e"
      },
      "source": [
        "Разделите выборку на обучающую и тестовую, используя стратифицированное разбиение (параметр `stratify` установите в значение вектора ответов y) размер тестовой выборки (`test_size`) возьмите как 0.25, параметр `random_state` определите со значением 42:"
      ]
    },
    {
      "cell_type": "code",
      "execution_count": 86,
      "id": "96538fb6",
      "metadata": {
        "id": "96538fb6"
      },
      "outputs": [],
      "source": [
        "#ваш код здесь\n",
        "from sklearn import model_selection\n",
        "\n",
        "X_train, X_test, y_train, y_test = model_selection.train_test_split(\n",
        "    X, y, \n",
        "    stratify=y,\n",
        "    test_size=0.25, \n",
        "    random_state=42\n",
        ")"
      ]
    },
    {
      "cell_type": "markdown",
      "id": "139dac3d",
      "metadata": {
        "id": "139dac3d"
      },
      "source": [
        "Рассчитайте среднее значение целевой переменной по тестовой выборке. Ответ округлите до третьего знака после запятой"
      ]
    },
    {
      "cell_type": "code",
      "execution_count": 88,
      "id": "e9baf72d",
      "metadata": {
        "id": "e9baf72d"
      },
      "outputs": [
        {
          "data": {
            "text/plain": [
              "0.165"
            ]
          },
          "execution_count": 88,
          "metadata": {},
          "output_type": "execute_result"
        }
      ],
      "source": [
        "#ваш код здесь\n",
        "round(y_test.mean(),3)\n",
        "#0.165"
      ]
    },
    {
      "cell_type": "markdown",
      "id": "710e0e94",
      "metadata": {
        "id": "710e0e94"
      },
      "source": [
        "## Задание 4 (3 балла)"
      ]
    },
    {
      "cell_type": "markdown",
      "id": "26cf6885",
      "metadata": {
        "id": "26cf6885"
      },
      "source": [
        "Определите и обучите подходящий алгоритм с параметром `alpha = 0.01`"
      ]
    },
    {
      "cell_type": "code",
      "execution_count": 93,
      "id": "4865dd78",
      "metadata": {
        "id": "4865dd78"
      },
      "outputs": [],
      "source": [
        "# Подходящие алгоритмы\n",
        "# MultinomialNB  — работает с категориальными признаками, текстами и несбалансированными выборками;\n",
        "# ComplementNB — улучшенная версия MultinomialNB, стабильно показывает более высокое качество в задачах классификации текстов;\n",
        "# Попробуем по очереди каждый\n",
        "\n",
        "\n",
        "#ваш код здесь\n",
        "alpha = 0.01\n",
        "\n",
        "\n",
        "#импортируем, обучаем\n",
        "from sklearn import naive_bayes\n",
        "from sklearn import metrics\n",
        "\n",
        "#MultinomialNB \n",
        "multi_nb = naive_bayes.MultinomialNB(alpha=alpha)\n",
        "multi_nb.fit(X_train, y_train)\n",
        "\n",
        "#предсказываем\n",
        "y_test_pred_multi = multi_nb.predict(X_test)\n",
        "\n",
        "\n",
        "\n",
        "# ComplementNB\n",
        "compl_nb = naive_bayes.ComplementNB(alpha=alpha)\n",
        "compl_nb.fit(X_train, y_train)\n",
        "\n",
        "#предсказываем\n",
        "y_test_pred_compl = compl_nb.predict(X_test)"
      ]
    },
    {
      "cell_type": "markdown",
      "id": "d803fbe3",
      "metadata": {
        "id": "d803fbe3"
      },
      "source": [
        "Оцените результат с точки зрения всех известных вам метрик (не менее трёх):"
      ]
    },
    {
      "cell_type": "code",
      "execution_count": 103,
      "id": "b0bbc4d2",
      "metadata": {
        "id": "b0bbc4d2"
      },
      "outputs": [
        {
          "name": "stdout",
          "output_type": "stream",
          "text": [
            "              precision    recall  f1-score   support\n",
            "\n",
            "           0       0.98      1.00      0.99       626\n",
            "           1       1.00      0.92      0.96       124\n",
            "\n",
            "    accuracy                           0.99       750\n",
            "   macro avg       0.99      0.96      0.98       750\n",
            "weighted avg       0.99      0.99      0.99       750\n",
            "\n",
            "              precision    recall  f1-score   support\n",
            "\n",
            "           0       0.99      1.00      0.99       626\n",
            "           1       1.00      0.93      0.96       124\n",
            "\n",
            "    accuracy                           0.99       750\n",
            "   macro avg       0.99      0.96      0.98       750\n",
            "weighted avg       0.99      0.99      0.99       750\n",
            "\n",
            "MultinomialNB : accruracy - 0.987, precision - 1.0; ComplementNB: accruracy - 0.988, precision - 1.0\n"
          ]
        }
      ],
      "source": [
        "#ваш код здесь\n",
        "#Вывод отчет о метриках классификации\n",
        "print(metrics.classification_report(y_test, y_test_pred_multi))\n",
        "#precision    recall  f1-score\n",
        "#1.00          0.92      0.96\n",
        "\n",
        "#Вывод отчет о метриках классификации\n",
        "print(metrics.classification_report(y_test, y_test_pred_compl))\n",
        "#precision    recall  f1-score\n",
        "#1.00          0.93      0.96\n",
        "\n",
        "#Вычислите значения метрик качества accuracy, precision на тестовой выборке. Результат округлите до трёх знаков после точки-разделителя.\n",
        "print(f'MultinomialNB : accruracy - {round(metrics.accuracy_score(y_test, y_test_pred_multi),3)}, precision - {round(metrics.precision_score(y_test, y_test_pred_multi),3)}; ComplementNB: accruracy - {round(metrics.accuracy_score(y_test, y_test_pred_compl),3)}, precision - {round(metrics.precision_score(y_test, y_test_pred_compl),3)}')\n",
        "\n",
        "#MultinomialNB : accruracy - 0.987, precision - 1.0; ComplementNB: accruracy - 0.988, precision - 1.0\n",
        "#ComplementNB показывает чуть лучшие результаты на тестовой выборке"
      ]
    },
    {
      "cell_type": "markdown",
      "id": "c85976d1",
      "metadata": {
        "id": "c85976d1"
      },
      "source": [
        "Нарисуйте ROC-кривую:"
      ]
    },
    {
      "cell_type": "code",
      "execution_count": 112,
      "id": "b4195126",
      "metadata": {
        "id": "b4195126"
      },
      "outputs": [
        {
          "name": "stdout",
          "output_type": "stream",
          "text": [
            "ROC-AUC на тестовой выборке: 0.995\n"
          ]
        },
        {
          "data": {
            "image/png": "[encoded data removed]",
            "text/plain": [
              "<Figure size 700x700 with 1 Axes>"
            ]
          },
          "metadata": {},
          "output_type": "display_data"
        }
      ],
      "source": [
        "#ваш код здесь\n",
        "from sklearn.metrics import roc_curve\n",
        "\n",
        "pred_proba_compl = compl_nb.predict_proba(X_test)\n",
        "pred_proba_compl = pred_proba_compl[:, 1]\n",
        "\n",
        "false_positive_rates, true_positive_rates, threshold = roc_curve(y_test, pred_proba_compl)\n",
        "\n",
        "# создаём график\n",
        "plt.figure(figsize=(7, 7))\n",
        "\n",
        "# рисуем кривую\n",
        "plt.plot(false_positive_rates, true_positive_rates, \n",
        "         label='Сглаженные значения ROC-AUC')\n",
        "plt.title('ROC curve')\n",
        "plt.xlabel('False Positive Rate')\n",
        "plt.ylabel('True Positive Rate')\n",
        "\n",
        "\n",
        "from sklearn.metrics import roc_auc_score\n",
        "roc_auc = roc_auc_score(y_test, pred_proba_compl).round(3)\n",
        "print(\"ROC-AUC на тестовой выборке:\", roc_auc_score(y_test, pred_proba_compl).round(3)) \n"
      ]
    },
    {
      "cell_type": "markdown",
      "id": "cf0bb49b",
      "metadata": {
        "id": "cf0bb49b"
      },
      "source": [
        "## Задание 5 (3 балла)"
      ]
    },
    {
      "cell_type": "markdown",
      "id": "30b7a0ae",
      "metadata": {
        "id": "30b7a0ae"
      },
      "source": [
        "Переберите несколько значений alpha с помощью кросс-валидации. Оцените, зависит ли от этого параметра качество классификации."
      ]
    },
    {
      "cell_type": "code",
      "execution_count": 144,
      "id": "c6d0e275",
      "metadata": {},
      "outputs": [],
      "source": [
        "from sklearn.model_selection import cross_validate\n",
        "\n",
        "metrics_list = []\n",
        "\n",
        "for i in list(np.linspace(0.01, 0.1, 10, dtype=float)):\n",
        "\n",
        "    #Создаём модель\n",
        "    model = naive_bayes.ComplementNB(alpha=i)\n",
        " \n",
        "    #Создаём объект кросс-валидатора KFold\n",
        "    kf = model_selection.KFold(n_splits=5)\n",
        " \n",
        "    #Считаем метрики на кросс-валидации k-fold\n",
        "    cv_metrics = cross_validate(\n",
        "        estimator=model, #модель\n",
        "        X=X, #матрица наблюдений X\n",
        "        y=y, #вектор ответов y\n",
        "        cv=kf, #кросс-валидатор\n",
        "        scoring='accuracy', #метрика\n",
        "        return_train_score=True \n",
        "    )\n",
        "    metrics_list.append((np.mean(cv_metrics['test_score'])))"
      ]
    },
    {
      "cell_type": "code",
      "execution_count": 145,
      "id": "1d4a70b2",
      "metadata": {},
      "outputs": [
        {
          "data": {
            "text/plain": [
              "[Text(0.5, 1.0, 'accuracy на кросс-валидации'), Text(0.5, 0, 'alpha')]"
            ]
          },
          "execution_count": 145,
          "metadata": {},
          "output_type": "execute_result"
        },
        {
          "data": {
            "image/png": "[encoded data removed]",
            "text/plain": [
              "<Figure size 640x480 with 1 Axes>"
            ]
          },
          "metadata": {},
          "output_type": "display_data"
        }
      ],
      "source": [
        "lpt=sns.lineplot(\n",
        "    x=list(np.linspace(0.01, 0.1, 10, dtype=float)),\n",
        "    y=metrics_list\n",
        ")\n",
        "lpt.set(title='accuracy на кросс-валидации', xlabel='alpha')\n",
        "\n",
        "#при alpha больше 0.05 при кросс-валидации идёт ухудшение метрики accuracy"
      ]
    }
  ],
  "metadata": {
    "colab": {
      "name": "SGA_unit6_NBC.ipynb",
      "provenance": []
    },
    "kernelspec": {
      "display_name": "Python 3 (ipykernel)",
      "language": "python",
      "name": "python3"
    },
    "language_info": {
      "codemirror_mode": {
        "name": "ipython",
        "version": 3
      },
      "file_extension": ".py",
      "mimetype": "text/x-python",
      "name": "python",
      "nbconvert_exporter": "python",
      "pygments_lexer": "ipython3",
      "version": "3.9.10"
    }
  },
  "nbformat": 4,
  "nbformat_minor": 5
}
