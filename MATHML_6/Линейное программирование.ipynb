{
 "cells": [
  {
   "cell_type": "markdown",
   "metadata": {},
   "source": [
    "Составьте оптимальный план перевозок со склада № 1 и склада № 2 в три торговых центра с учётом тарифов, запасов на складах и потребностей торговых центров, которые указаны в таблице:\n",
    "\n",
    "Сформулируйте предложенную задачу как задачу линейного программирования и решите её любым способом (желательно программным).\n",
    "\n",
    "В качестве ответа введите минимальную суммарную стоимость поставки. Ответ округлите до целого числа."
   ]
  },
  {
   "cell_type": "code",
   "execution_count": 32,
   "metadata": {},
   "outputs": [
    {
     "name": "stdout",
     "output_type": "stream",
     "text": [
      "Количество по маршруту Склад 1 ТЦ 1:  110.0\n",
      "Количество по маршруту Склад 1 ТЦ 2:  0.0\n",
      "Количество по маршруту Склад 1 ТЦ 3:  70.0\n",
      "Количество по маршруту Склад 2 ТЦ 1:  0.0\n",
      "Количество по маршруту Склад 2 ТЦ 2:  150.0\n",
      "Количество по маршруту Склад 2 ТЦ 3:  70.0\n",
      "Суммарныe расходы:  1900.0\n"
     ]
    }
   ],
   "source": [
    "from pulp import * \n",
    "\n",
    "problem = LpProblem('Доставка по складу', LpMinimize)\n",
    "A = LpVariable('Склад1ТЦ1', lowBound=0 , cat=LpInteger)\n",
    "B = LpVariable('Склад1ТЦ2', lowBound=0 , cat=LpInteger)\n",
    "C = LpVariable('Склад1ТЦ3', lowBound=0 , cat=LpInteger)\n",
    "X = LpVariable('Склад2ТЦ1', lowBound=0 , cat=LpInteger)\n",
    "Y = LpVariable('Склад2ТЦ2', lowBound=0 , cat=LpInteger)\n",
    "Z = LpVariable('Склад2ТЦ3', lowBound=0 , cat=LpInteger)\n",
    "#Целевая функция\n",
    "problem += 2*A+5*B+3*C+7*X+7*Y+6*Z\n",
    "\n",
    "#Ограничения\n",
    "problem += A + X  == 110\n",
    "problem += B + Y  == 150\n",
    "problem += С + Z == 140\n",
    "problem += A + B + C  == 180\n",
    "problem += X + Y + Z == 220\n",
    "\n",
    "problem.solve()\n",
    "print(\"Количество по маршруту Склад 1 ТЦ 1: \", A.varValue)\n",
    "print(\"Количество по маршруту Склад 1 ТЦ 2: \", B.varValue)\n",
    "print(\"Количество по маршруту Склад 1 ТЦ 3: \", C.varValue)\n",
    "print(\"Количество по маршруту Склад 2 ТЦ 1: \", X.varValue)\n",
    "print(\"Количество по маршруту Склад 2 ТЦ 2: \", Y.varValue)\n",
    "print(\"Количество по маршруту Склад 2 ТЦ 3: \", Z.varValue)\n",
    "print(\"Суммарныe расходы: \", value(problem.objective))\n",
    "\n",
    "#Количество по маршруту Склад 1 ТЦ 1:  110.0\n",
    "#Количество по маршруту Склад 1 ТЦ 2:  0.0\n",
    "#Количество по маршруту Склад 1 ТЦ 3:  70.0\n",
    "#Количество по маршруту Склад 2 ТЦ 1:  0.0\n",
    "#Количество по маршруту Склад 2 ТЦ 2:  150.0\n",
    "#Количество по маршруту Склад 2 ТЦ 3:  70.0\n",
    "#Суммарныe расходы:  1900.0\n",
    "\n"
   ]
  },
  {
   "cell_type": "markdown",
   "metadata": {},
   "source": [
    "В прошлом юните мы обсуждали задачу о назначениях исполнителей задач - теперь пришло время решить её.\n",
    "\n",
    "Напомним суть: необходимо распределить пять задач между пятью исполнителями таким образом, чтобы суммарные затраты на работы были наименьшими."
   ]
  },
  {
   "cell_type": "code",
   "execution_count": 13,
   "metadata": {},
   "outputs": [
    {
     "data": {
      "text/plain": [
       "32.0"
      ]
     },
     "execution_count": 13,
     "metadata": {},
     "output_type": "execute_result"
    }
   ],
   "source": [
    "import cvxpy as cvx\n",
    "import numpy as np\n",
    "\n",
    "\n",
    "values = [[1000, 12, 10, 19, 8],\n",
    "          [12, 1000, 3, 7, 2],\n",
    "          [10, 3, 1000, 6, 20],\n",
    "          [19, 7, 6, 1000, 4],\n",
    "          [8, 2, 20, 4, 1000]\n",
    "          ] #стоимости услуг\n",
    "\n",
    "\n",
    "c = np.array(values) \n",
    "\n",
    "x = cvx.Variable(shape=(5,5), boolean=True)\n",
    "constraints = [cvx.sum(x, axis=0) == np.ones(5), cvx.sum(x, axis=1) == np.ones(5)]\n",
    "total_value = cvx.sum(cvx.multiply(x, c))\n",
    "\n",
    "problem = cvx.Problem(\n",
    "    cvx.Minimize(total_value), constraints=constraints\n",
    ")\n",
    "\n",
    "problem.solve()\n",
    "#x.value\n"
   ]
  },
  {
   "cell_type": "markdown",
   "metadata": {},
   "source": [
    "Найдите кратчайший маршрут из точки A, который проходит через все другие точки по одному разу и возвращается в A."
   ]
  },
  {
   "cell_type": "code",
   "execution_count": 15,
   "metadata": {},
   "outputs": [
    {
     "data": {
      "text/plain": [
       "32.0"
      ]
     },
     "execution_count": 15,
     "metadata": {},
     "output_type": "execute_result"
    }
   ],
   "source": [
    "import cvxpy as cvx\n",
    "import numpy as np\n",
    "\n",
    "\n",
    "c = np.array(\n",
    "    [\n",
    "        [0, 12, 10, 19, 8],\n",
    "        [12, 0, 3, 7, 2],\n",
    "        [10, 3, 0, 6, 20],\n",
    "        [19, 7, 6, 0, 4],\n",
    "        [8, 2, 20, 4, 0],\n",
    "    ]\n",
    ")\n",
    "\n",
    "\n",
    "x = cvx.Variable(shape=(5,5), boolean=True)\n",
    "constraints = [cvx.sum(x, axis=0) == np.ones(5), cvx.sum(x, axis=1) == np.ones(5)]\n",
    "\n",
    "for i in range(5):\n",
    "    constraints.append(x[i, i] == 0)\n",
    "\n",
    "total_value = cvx.sum(cvx.multiply(x, c))\n",
    "\n",
    "problem = cvx.Problem(\n",
    "    cvx.Minimize(total_value), constraints=constraints\n",
    ")\n",
    "\n",
    "problem.solve()"
   ]
  }
 ],
 "metadata": {
  "kernelspec": {
   "display_name": "Python 3",
   "language": "python",
   "name": "python3"
  },
  "language_info": {
   "codemirror_mode": {
    "name": "ipython",
    "version": 3
   },
   "file_extension": ".py",
   "mimetype": "text/x-python",
   "name": "python",
   "nbconvert_exporter": "python",
   "pygments_lexer": "ipython3",
   "version": "3.9.10"
  },
  "orig_nbformat": 4
 },
 "nbformat": 4,
 "nbformat_minor": 2
}
