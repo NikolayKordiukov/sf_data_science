{
 "cells": [
  {
   "cell_type": "markdown",
   "metadata": {},
   "source": [
    "Магазин спортивных товаров получает прибыль в размере 6 долларов с каждого проданного футбольного мяча и 5.5 долларов — с бейсбольного.\n",
    "\n",
    "Каждый месяц магазин продаёт от 35 до 45 футбольных мячей и от 40 до 55 бейсбольных.\n",
    "\n",
    "Известно, что в этом месяце у магазина есть в общей сложности 80 мячей.\n",
    "\n",
    "Какую максимальную прибыль в этом месяце может получить магазин от продажи мячей?"
   ]
  },
  {
   "cell_type": "code",
   "execution_count": 24,
   "metadata": {},
   "outputs": [
    {
     "name": "stdout",
     "output_type": "stream",
     "text": [
      "Целевая функция для аргументов a и b :\n",
      " f =  6*a + 5.5*b\n",
      "Функция ограничений q:  a + b - 80 = 0\n",
      "Функция Лагранжа :\n",
      "  -6*a - 5.5*b + c*(a + b - 80) + d*(-a + a_tilde**2 + 35) + e*(-b + b_tilde**2 + 40) + h*(a + a_tilde2**2 - 45) + i*(b + b_tilde2**2 - 55)\n",
      "df/da = c - d + h - 6 = 0\n",
      "df/db = c - e + i - 5.5 = 0\n",
      "(45.0000000000000, 35.0000000000000)\n"
     ]
    }
   ],
   "source": [
    "from sympy import *\n",
    "a,b,c,d,e,h,i,a_tilde,b_tilde,a_tilde2,b_tilde2=symbols(' a b c d e h i a_tilde b_tilde a_tilde2 b_tilde2')\n",
    "g = 6*a + 5.5*b\n",
    "print('Целевая функция для аргументов a и b :\\n f = ', g)\n",
    "q = a + b - 80\n",
    "print('Функция ограничений q: ', q,'= 0')\n",
    "\n",
    "\n",
    "\n",
    "f =  -(6*a + 5.5*b) + c*(a + b - 80) + d*(-a + 35 + a_tilde**2) + e*(-b + 40 + b_tilde**2) + h*(a - 45 + a_tilde2**2) + i*(b - 55 + b_tilde2**2)\n",
    "print('Функция Лагранжа :\\n ',f)\n",
    "fa = f.diff(a)\n",
    "print('df/da =',fa,'= 0')\n",
    "fb = f.diff(b)\n",
    "print('df/db =',fb,'= 0')\n",
    "\n",
    "fc = f.diff(c)\n",
    "fd = f.diff(d)\n",
    "fe = f.diff(e)\n",
    "fa_tilde = f.diff(a_tilde)\n",
    "fb_tilde = f.diff(b_tilde)\n",
    "fh = f.diff(h)\n",
    "fi = f.diff(i)\n",
    "fa_tilde2 = f.diff(a_tilde2)\n",
    "fb_tilde2 = f.diff(b_tilde2)\n",
    "\n",
    "sols = solve([fa,fb,fc,fd,fe,fh,fi,fa_tilde,fb_tilde,fa_tilde2,fb_tilde2],a,b,c,d,e,h,i,a_tilde,b_tilde,a_tilde2,b_tilde2)\n",
    "\n",
    "\n",
    "result = {}\n",
    "for i in sols:\n",
    "    result[(i[0], i[1])] = 6 * i[0] + 5.5 * i[1]\n",
    "for i in result.keys():\n",
    "    if result[i] == max(result.values()):\n",
    "        print(i)\n",
    "#(45.0000000000000, 35.0000000000000)\n",
    "#должно быть 40 и 40"
   ]
  }
 ],
 "metadata": {
  "kernelspec": {
   "display_name": "Python 3",
   "language": "python",
   "name": "python3"
  },
  "language_info": {
   "codemirror_mode": {
    "name": "ipython",
    "version": 3
   },
   "file_extension": ".py",
   "mimetype": "text/x-python",
   "name": "python",
   "nbconvert_exporter": "python",
   "pygments_lexer": "ipython3",
   "version": "3.9.10"
  },
  "orig_nbformat": 4
 },
 "nbformat": 4,
 "nbformat_minor": 2
}
