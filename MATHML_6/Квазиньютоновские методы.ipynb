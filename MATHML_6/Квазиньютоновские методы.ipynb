{
 "cells": [
  {
   "cell_type": "markdown",
   "metadata": {},
   "source": [
    "### Задание 4.1\n",
    "Найдите точку минимума для функции `f(x,y)=x**2-x*y+y**2+9*x-6*y+20`.\n",
    "\n",
    "В качестве стартовой возьмите точку (-400,-400).\n",
    "\n",
    "Значения координат округлите до целого числа."
   ]
  },
  {
   "cell_type": "code",
   "execution_count": 22,
   "metadata": {},
   "outputs": [],
   "source": [
    "from sympy import *\n",
    "import numpy as np\n",
    "from scipy.optimize import minimize"
   ]
  },
  {
   "cell_type": "code",
   "execution_count": 23,
   "metadata": {},
   "outputs": [
    {
     "name": "stdout",
     "output_type": "stream",
     "text": [
      "Статус оптимизации Optimization terminated successfully.\n",
      "Количество оценок: 11\n",
      "Решение: f([-4.  1.]) = -1.00000\n"
     ]
    }
   ],
   "source": [
    "#Определим функцию, которую будем оптимизировать. Вместо отдельных  и  можно взять координаты единого вектора:\n",
    "def func(x):\n",
    "    return x[0]**2.0 - x[0]*x[1] + x[1]**2.0 + 9*x[0] - 6*x[1] + 20\n",
    "\n",
    "\n",
    "#Теперь определим градиент для функции:\n",
    "def grad_func(x):\n",
    "    return np.array([x[0]*2 - x[1] + 9 , - x[0] + x[1] * 2 - 6])\n",
    "\n",
    "\n",
    "#Зададим начальную точку:\n",
    "\n",
    "x_0 = [-400,-400]\n",
    "#Определим алгоритм:\n",
    "\n",
    "result = minimize(func, x_0, method='BFGS', jac=grad_func)\n",
    "\n",
    "#Выведем результаты:\n",
    "\n",
    "print('Статус оптимизации %s' % result['message'])\n",
    "print('Количество оценок: %d' % result['nfev'])\n",
    "solution = result['x']\n",
    "evaluation = func(solution)\n",
    "print('Решение: f(%s) = %.5f' % (solution, evaluation))\n",
    " \n",
    "#Статус оптимизации Optimization terminated successfully.\n",
    "#Количество оценок: 11\n",
    "#Решение: f([-4.  1.]) = -1.00000"
   ]
  },
  {
   "cell_type": "markdown",
   "metadata": {},
   "source": [
    "### Задание 4.1\n",
    "\n",
    "Найдите минимум функции `f(x)=x**2-3*x+45`. с помощью квазиньютоновского метода BFGS.\n",
    "\n",
    "В качестве стартовой точки возьмите `x=10`.\n",
    "\n",
    "В качестве ответа введите минимальное значение функции в достигнутой точке."
   ]
  },
  {
   "cell_type": "code",
   "execution_count": 24,
   "metadata": {},
   "outputs": [
    {
     "name": "stdout",
     "output_type": "stream",
     "text": [
      "Статус оптимизации BFGS Optimization terminated successfully.\n",
      "Количество оценок BFGS: 5\n",
      "Решение BFGS: f([1.5 0. ]) = 42.75000\n",
      "Статус оптимизации L-BFGS-B CONVERGENCE: NORM_OF_PROJECTED_GRADIENT_<=_PGTOL\n",
      "Количество оценок L-BFGS-B: 3\n",
      "Решение L-BFGS-B: f([1.5 0. ]) = 42.75000\n"
     ]
    }
   ],
   "source": [
    "def func1(x):\n",
    "    return x[0]**2.0 - 3*x[0]  + 45\n",
    "\n",
    "#Теперь определим градиент для функции:\n",
    "def grad_func1(x):\n",
    "    return np.array([x[0]*2 - 3, 0])\n",
    "\n",
    "\n",
    "#Зададим начальную точку:\n",
    "\n",
    "x_0 = [10,0]\n",
    "#Определим алгоритм:\n",
    "\n",
    "result_bfgs = minimize(func1, x_0, method='BFGS', jac=grad_func1)\n",
    "result_lbfgsb = minimize(func1, x_0, method='L-BFGS-B', jac=grad_func1)\n",
    "\n",
    "\n",
    "#Выведем результаты:\n",
    "\n",
    "print('Статус оптимизации BFGS %s' % result_bfgs['message'])\n",
    "print('Количество оценок BFGS: %d' % result_bfgs['nfev'])\n",
    "solution = result_bfgs['x']\n",
    "evaluation = func1(solution)\n",
    "print('Решение BFGS: f(%s) = %.5f' % (solution, evaluation))\n",
    "\n",
    "print('Статус оптимизации L-BFGS-B %s' % result_lbfgsb['message'])\n",
    "print('Количество оценок L-BFGS-B: %d' % result_lbfgsb['nfev'])\n",
    "solution = result_lbfgsb['x']\n",
    "evaluation = func1(solution)\n",
    "print('Решение L-BFGS-B: f(%s) = %.5f' % (solution, evaluation))\n",
    " \n",
    "#42.75000 \n",
    " "
   ]
  },
  {
   "cell_type": "markdown",
   "metadata": {},
   "source": [
    "### Задание 4.7\n",
    "\n",
    "Найдите минимум функции `f(x,y)=x**4+6*y**2+10`, взяв за стартовую точку (100,100).\n",
    "\n",
    "Какой алгоритм сошелся быстрее?"
   ]
  },
  {
   "cell_type": "code",
   "execution_count": 25,
   "metadata": {},
   "outputs": [
    {
     "name": "stdout",
     "output_type": "stream",
     "text": [
      "Статус оптимизации BFGS Optimization terminated successfully.\n",
      "Количество оценок BFGS: 5\n",
      "Решение BFGS: f([0. 0.]) = 10.00000\n",
      "Статус оптимизации L-BFGS-B CONVERGENCE: NORM_OF_PROJECTED_GRADIENT_<=_PGTOL\n",
      "Количество оценок L-BFGS-B: 5\n",
      "Решение L-BFGS-B: f([1.42108547e-14 1.42108547e-14]) = 10.00000\n"
     ]
    }
   ],
   "source": [
    "#Определим функцию, которую будем оптимизировать. Вместо отдельных  и  можно взять координаты единого вектора:\n",
    "def func2(x):\n",
    "    return x[0]**4 + 6*x[1]**2.0 + 10\n",
    "\n",
    "\n",
    "#Теперь определим градиент для функции:\n",
    "def grad_func2(x):\n",
    "    return np.array([4*x[0]*3,  12*x[1]])\n",
    "\n",
    "\n",
    "#Зададим начальную точку:\n",
    "\n",
    "x_0 = [100,100]\n",
    "#Определим алгоритм:\n",
    "\n",
    "result2_bfgs = minimize(func2, x_0, method='BFGS', jac=grad_func2)\n",
    "result2_lbfgsb = minimize(func2, x_0, method='L-BFGS-B', jac=grad_func2)\n",
    "\n",
    "#Выведем результаты:\n",
    "\n",
    "print('Статус оптимизации BFGS %s' % result2_bfgs['message'])\n",
    "print('Количество оценок BFGS: %d' % result2_bfgs['nfev'])\n",
    "solution = result2_bfgs['x']\n",
    "evaluation = func2(solution)\n",
    "print('Решение BFGS: f(%s) = %.5f' % (solution, evaluation))\n",
    " \n",
    "print('Статус оптимизации L-BFGS-B %s' % result2_lbfgsb['message'])\n",
    "print('Количество оценок L-BFGS-B: %d' % result2_lbfgsb['nfev'])\n",
    "solution = result2_lbfgsb['x']\n",
    "evaluation = func2(solution)\n",
    "print('Решение L-BFGS-B: f(%s) = %.5f' % (solution, evaluation))\n",
    "\n",
    "\n",
    "#Статус оптимизации BFGS Optimization terminated successfully.\n",
    "#Количество оценок BFGS: 5\n",
    "#Решение BFGS: f([0. 0.]) = 10.00000\n",
    "#Статус оптимизации L-BFGS-B CONVERGENCE: NORM_OF_PROJECTED_GRADIENT_<=_PGTOL\n",
    "#Количество оценок L-BFGS-B: 5\n",
    "#Решение L-BFGS-B: f([1.42108547e-14 1.42108547e-14]) = 10.00000\n",
    "\n",
    "#Быстрее был BFGS"
   ]
  }
 ],
 "metadata": {
  "kernelspec": {
   "display_name": "Python 3",
   "language": "python",
   "name": "python3"
  },
  "language_info": {
   "codemirror_mode": {
    "name": "ipython",
    "version": 3
   },
   "file_extension": ".py",
   "mimetype": "text/x-python",
   "name": "python",
   "nbconvert_exporter": "python",
   "pygments_lexer": "ipython3",
   "version": "3.9.10"
  },
  "orig_nbformat": 4
 },
 "nbformat": 4,
 "nbformat_minor": 2
}
