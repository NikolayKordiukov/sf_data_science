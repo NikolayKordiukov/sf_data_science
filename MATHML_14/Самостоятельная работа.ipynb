{
 "cells": [
  {
   "cell_type": "markdown",
   "metadata": {},
   "source": [
    "# Самостоятельная работа\n",
    "\n",
    "Давайте на примере рассмотрим, как можно построить систему рекомендаций на основе популярности.\n",
    "\n",
    "Мы будем работать с набором данных Movie Lens. Он содержит идентификаторы для каждого фильма и пользователя, который его смотрел, а также оценку, которую пользователь поставил фильму. В датасете представлено 25 000 095 оценок фильмов от 162 541 пользователя со шкалой оценок от 0.5 до 5.0.\n",
    "\n",
    "Из этого набора нам понадобится два файла"
   ]
  },
  {
   "cell_type": "code",
   "execution_count": 39,
   "metadata": {},
   "outputs": [],
   "source": [
    "import pandas as pd\n",
    "import math\n",
    "import numpy as np"
   ]
  },
  {
   "cell_type": "code",
   "execution_count": 2,
   "metadata": {},
   "outputs": [],
   "source": [
    "ratings = pd.read_csv('data/dst-3.0_mathml_14_5_rating.csv')"
   ]
  },
  {
   "cell_type": "code",
   "execution_count": 3,
   "metadata": {},
   "outputs": [],
   "source": [
    "movies = pd.read_csv('data/movie.zip')"
   ]
  },
  {
   "cell_type": "code",
   "execution_count": 4,
   "metadata": {},
   "outputs": [
    {
     "data": {
      "text/html": [
       "<div>\n",
       "<style scoped>\n",
       "    .dataframe tbody tr th:only-of-type {\n",
       "        vertical-align: middle;\n",
       "    }\n",
       "\n",
       "    .dataframe tbody tr th {\n",
       "        vertical-align: top;\n",
       "    }\n",
       "\n",
       "    .dataframe thead th {\n",
       "        text-align: right;\n",
       "    }\n",
       "</style>\n",
       "<table border=\"1\" class=\"dataframe\">\n",
       "  <thead>\n",
       "    <tr style=\"text-align: right;\">\n",
       "      <th></th>\n",
       "      <th>userId</th>\n",
       "      <th>movieId</th>\n",
       "      <th>rating</th>\n",
       "      <th>timestamp</th>\n",
       "      <th>title</th>\n",
       "      <th>genres</th>\n",
       "    </tr>\n",
       "  </thead>\n",
       "  <tbody>\n",
       "    <tr>\n",
       "      <th>0</th>\n",
       "      <td>1</td>\n",
       "      <td>2</td>\n",
       "      <td>3.5</td>\n",
       "      <td>2005-04-02 23:53:47</td>\n",
       "      <td>Jumanji (1995)</td>\n",
       "      <td>Adventure|Children|Fantasy</td>\n",
       "    </tr>\n",
       "    <tr>\n",
       "      <th>1</th>\n",
       "      <td>1</td>\n",
       "      <td>29</td>\n",
       "      <td>3.5</td>\n",
       "      <td>2005-04-02 23:31:16</td>\n",
       "      <td>City of Lost Children, The (Cité des enfants p...</td>\n",
       "      <td>Adventure|Drama|Fantasy|Mystery|Sci-Fi</td>\n",
       "    </tr>\n",
       "    <tr>\n",
       "      <th>2</th>\n",
       "      <td>1</td>\n",
       "      <td>32</td>\n",
       "      <td>3.5</td>\n",
       "      <td>2005-04-02 23:33:39</td>\n",
       "      <td>Twelve Monkeys (a.k.a. 12 Monkeys) (1995)</td>\n",
       "      <td>Mystery|Sci-Fi|Thriller</td>\n",
       "    </tr>\n",
       "    <tr>\n",
       "      <th>3</th>\n",
       "      <td>1</td>\n",
       "      <td>47</td>\n",
       "      <td>3.5</td>\n",
       "      <td>2005-04-02 23:32:07</td>\n",
       "      <td>Seven (a.k.a. Se7en) (1995)</td>\n",
       "      <td>Mystery|Thriller</td>\n",
       "    </tr>\n",
       "    <tr>\n",
       "      <th>4</th>\n",
       "      <td>1</td>\n",
       "      <td>50</td>\n",
       "      <td>3.5</td>\n",
       "      <td>2005-04-02 23:29:40</td>\n",
       "      <td>Usual Suspects, The (1995)</td>\n",
       "      <td>Crime|Mystery|Thriller</td>\n",
       "    </tr>\n",
       "  </tbody>\n",
       "</table>\n",
       "</div>"
      ],
      "text/plain": [
       "   userId  movieId  rating            timestamp  \\\n",
       "0       1        2     3.5  2005-04-02 23:53:47   \n",
       "1       1       29     3.5  2005-04-02 23:31:16   \n",
       "2       1       32     3.5  2005-04-02 23:33:39   \n",
       "3       1       47     3.5  2005-04-02 23:32:07   \n",
       "4       1       50     3.5  2005-04-02 23:29:40   \n",
       "\n",
       "                                               title  \\\n",
       "0                                     Jumanji (1995)   \n",
       "1  City of Lost Children, The (Cité des enfants p...   \n",
       "2          Twelve Monkeys (a.k.a. 12 Monkeys) (1995)   \n",
       "3                        Seven (a.k.a. Se7en) (1995)   \n",
       "4                         Usual Suspects, The (1995)   \n",
       "\n",
       "                                   genres  \n",
       "0              Adventure|Children|Fantasy  \n",
       "1  Adventure|Drama|Fantasy|Mystery|Sci-Fi  \n",
       "2                 Mystery|Sci-Fi|Thriller  \n",
       "3                        Mystery|Thriller  \n",
       "4                  Crime|Mystery|Thriller  "
      ]
     },
     "execution_count": 4,
     "metadata": {},
     "output_type": "execute_result"
    }
   ],
   "source": [
    "df=pd.merge(ratings,movies, how='left',on='movieId')\n",
    "df.head()"
   ]
  },
  {
   "cell_type": "markdown",
   "metadata": {},
   "source": [
    "## Признаки данных\n",
    "\n",
    "* userId — id пользователя;\n",
    "* movieId — id фильма;\n",
    "* rating — выставленный пользователем рейтинг для фильма;\n",
    "* timestamp — время выставления рейтинга;\n",
    "* title — название фильма;\n",
    "* genres — жанры, к которым относится фильм."
   ]
  },
  {
   "cell_type": "markdown",
   "metadata": {},
   "source": [
    "1. Подсчитайте, сколько раз каждый фильм встречается в наборе данных. Отметьте среди перечисленных ниже фильмов те, что встречаются в топ-5 по популярности."
   ]
  },
  {
   "cell_type": "code",
   "execution_count": 5,
   "metadata": {},
   "outputs": [
    {
     "data": {
      "text/plain": [
       "Pulp Fiction (1994)                 67310\n",
       "Forrest Gump (1994)                 66172\n",
       "Shawshank Redemption, The (1994)    63366\n",
       "Silence of the Lambs, The (1991)    63299\n",
       "Jurassic Park (1993)                59715\n",
       "Name: title, dtype: int64"
      ]
     },
     "execution_count": 5,
     "metadata": {},
     "output_type": "execute_result"
    }
   ],
   "source": [
    "df['title'].value_counts(ascending=False).head(5)"
   ]
  },
  {
   "cell_type": "markdown",
   "metadata": {},
   "source": [
    "2. Отлично, мы нашли самые востребованные фильмы. Однако если фильм посмотрело много людей, это ещё не значит, что он им понравился. Чтобы понять, как зритель на самом деле относится к фильму, нужны более чёткие данные. К счастью, в наборе данных `Movie Lens` есть оценки каждого из зрителей.\n",
    "\n",
    "* Найдите средний рейтинг для каждого из фильмов.\n",
    "* Найдите фильмы с наивысшим средним рейтингом.\n",
    "* Введите в качестве ответа фильм, занимающий последнее место среди фильмов с наивысшим рейтингом, если предварительно отсортировать их по алфавитному порядку.\n",
    "* Впишите только название фильма, без кавычек и без года выхода на экран."
   ]
  },
  {
   "cell_type": "code",
   "execution_count": 6,
   "metadata": {},
   "outputs": [
    {
     "data": {
      "text/html": [
       "<div>\n",
       "<style scoped>\n",
       "    .dataframe tbody tr th:only-of-type {\n",
       "        vertical-align: middle;\n",
       "    }\n",
       "\n",
       "    .dataframe tbody tr th {\n",
       "        vertical-align: top;\n",
       "    }\n",
       "\n",
       "    .dataframe thead th {\n",
       "        text-align: right;\n",
       "    }\n",
       "</style>\n",
       "<table border=\"1\" class=\"dataframe\">\n",
       "  <thead>\n",
       "    <tr style=\"text-align: right;\">\n",
       "      <th></th>\n",
       "      <th>mean</th>\n",
       "    </tr>\n",
       "    <tr>\n",
       "      <th>title</th>\n",
       "      <th></th>\n",
       "    </tr>\n",
       "  </thead>\n",
       "  <tbody>\n",
       "    <tr>\n",
       "      <th>Yonkers Joe (2008)</th>\n",
       "      <td>5.0</td>\n",
       "    </tr>\n",
       "  </tbody>\n",
       "</table>\n",
       "</div>"
      ],
      "text/plain": [
       "                    mean\n",
       "title                   \n",
       "Yonkers Joe (2008)   5.0"
      ]
     },
     "execution_count": 6,
     "metadata": {},
     "output_type": "execute_result"
    }
   ],
   "source": [
    "grouped = df.groupby(by='title')['rating'].agg(['mean']).sort_values(by=['mean', 'title'],ascending=False)\n",
    "grouped.head(1)\n",
    "#Yonkers Joe"
   ]
  },
  {
   "cell_type": "markdown",
   "metadata": {},
   "source": [
    "3. В двух предыдущих заданиях вы использовали два самых простых метода для создания неперсонализированных рекомендаций. Однако у них обоих есть свои недостатки: поиск наиболее часто просматриваемых фильмов не учитывает того, насколько фильм нравится аудитории, а поиск среднего рейтинга может вывести в рекомендуемые фильмы малоизвестные специфические картины с одной-двумя оценками.\n",
    "\n",
    "Чтобы решить эти проблемы, объединим два подхода и будем искать средний рейтинг только для фильмов, которые были оценены более 50 раз.\n",
    "\n",
    "Сколько таких фильмов?"
   ]
  },
  {
   "cell_type": "code",
   "execution_count": 7,
   "metadata": {},
   "outputs": [
    {
     "data": {
      "text/plain": [
       "10472"
      ]
     },
     "execution_count": 7,
     "metadata": {},
     "output_type": "execute_result"
    }
   ],
   "source": [
    "count50 = df['title'].value_counts(ascending=False)\n",
    "count50 = pd.DataFrame(count50)\n",
    "count50 = count50[count50['title']>50]\n",
    "count50.shape[0]\n",
    "#10472"
   ]
  },
  {
   "cell_type": "markdown",
   "metadata": {},
   "source": [
    "4. Постройте простейшую рекомендацию: возьмите фильмы, которые смотрели более 50 раз, и найдите среди них фильм с наивысшей средней оценкой. В качестве ответа запишите название этого фильма без артикля и года выхода на экран."
   ]
  },
  {
   "cell_type": "code",
   "execution_count": 8,
   "metadata": {},
   "outputs": [
    {
     "data": {
      "text/plain": [
       "2    Shawshank Redemption, The (1994)\n",
       "Name: title, dtype: object"
      ]
     },
     "execution_count": 8,
     "metadata": {},
     "output_type": "execute_result"
    }
   ],
   "source": [
    "count50['title'] = count50.index\n",
    "f50 = pd.merge(count50,grouped, how='left',on='title')\n",
    "f50.sort_values(by='mean', ascending=False)['title'].head(1)\n",
    "#Shawshank Redemption"
   ]
  },
  {
   "cell_type": "markdown",
   "metadata": {},
   "source": [
    "По сути, вы только что построили простейшую рекомендательную систему. В следующем юните вы решите более объёмную задачу, пройдя все этапы от предобработки данных до оценки качества получившейся системы рекомендаций."
   ]
  },
  {
   "cell_type": "markdown",
   "metadata": {},
   "source": [
    "# Практика\n",
    "\n",
    "В этом модуле мы обсудили, как используются рекомендательные системы, как получают данные для них и как оценивают результаты работы РС. Мы начали знакомиться с алгоритмами построения систем рекомендаций и пока успели изучить более подробно один из них — РС на основе популярности. В этом юните мы построим систему рекомендаций, основываясь именно на этом методе. Вы сможете усовершенствовать её в следующем модуле, после того как освоите другие алгоритмы."
   ]
  },
  {
   "cell_type": "markdown",
   "metadata": {},
   "source": [
    "Для начала загрузим датасет `Articles sharing and reading from CI&T DeskDrop`, включающий в себя собранные за один год логи `DeskDrop` — платформы для внутренних коммуникаций, разработанной CI&T и ориентированной на компании, использующие Google Workspace (Google G Suite). Среди прочего, эта платформа позволяет сотрудникам компаний делиться актуальными статьями со своими коллегами.\n",
    "\n",
    "В датасете содержится около 73 тысяч записей о взаимодействии пользователей с более чем тремя тысячами публичных статей, размещённых на платформе."
   ]
  },
  {
   "cell_type": "markdown",
   "metadata": {},
   "source": [
    "**Информация в наборе данных:**\n",
    "\n",
    "* Оригинальный URL, название и текст статьи.\n",
    "* Контекст посещений пользователей, например дата/время, клиент (мобильное приложение/браузер) и геолокация.\n",
    "* Различные типы взаимодействия, что позволяет сделать вывод об уровне заинтересованности пользователя в статьях, например комментарии → лайки → просмотры."
   ]
  },
  {
   "cell_type": "markdown",
   "metadata": {},
   "source": [
    "Данные включают в себя два файла:\n",
    "\n",
    "`shared_articles.csv`;\n",
    "\n",
    "`users_interactions.csv`.\n",
    "\n",
    "Начнём работать с файлом shared_articles.csv. Он содержит информацию о статьях, опубликованных на платформе DeskDrop.\n",
    "\n",
    "**Для каждой статьи есть:**\n",
    "\n",
    "* дата публикации (временная метка),\n",
    "* исходный URL-адрес,\n",
    "* заголовок,\n",
    "* содержание в виде обычного текста,\n",
    "* язык статьи (португальский — pt или английский — en),\n",
    "* информация о пользователе, который поделился статьёй (автор).\n",
    "\n",
    "Для временной метки существует два возможных типа событий:\n",
    "\n",
    "* `CONTENT SHARED` — статья была опубликована на платформе и доступна для пользователей;\n",
    "* `CONTENT REMOVED` — статья была удалена с платформы и недоступна для дальнейших рекомендаций.\n",
    "  \n",
    "Для простоты мы рассматриваем здесь только тип события `CONTENT SHARED`."
   ]
  },
  {
   "cell_type": "markdown",
   "metadata": {},
   "source": [
    "1. Отфильтруйте данные так, чтобы остались только объекты с типом события `CONTENT SHARED`. Сколько таких объектов в получившейся таблице?"
   ]
  },
  {
   "cell_type": "code",
   "execution_count": 9,
   "metadata": {},
   "outputs": [],
   "source": [
    "import pandas as pd"
   ]
  },
  {
   "cell_type": "code",
   "execution_count": 10,
   "metadata": {},
   "outputs": [],
   "source": [
    "shared_articles = pd.read_csv('data/shared_articles.zip')"
   ]
  },
  {
   "cell_type": "code",
   "execution_count": 11,
   "metadata": {},
   "outputs": [
    {
     "data": {
      "text/plain": [
       "3047"
      ]
     },
     "execution_count": 11,
     "metadata": {},
     "output_type": "execute_result"
    }
   ],
   "source": [
    "shared_articles_filtered = shared_articles[shared_articles['eventType']=='CONTENT SHARED']\n",
    "shared_articles_filtered.shape[0]\n",
    "#3047"
   ]
  },
  {
   "cell_type": "markdown",
   "metadata": {},
   "source": [
    "Теперь откроем второй файл — `users_interactions.csv.`\n",
    "\n",
    "Давайте предварительно преобразуем столбцы personId, contentId в таблицах к строкам. Это преобразование пригодится нам в дальнейшем:\n",
    "\n",
    "```\n",
    "interactions_df.personId = interactions_df.personId.astype(str)\n",
    "interactions_df.contentId = interactions_df.contentId.astype(str)\n",
    "articles_df.contentId = articles_df.contentId.astype(str)\n",
    "```\n",
    "\n",
    "В колонке `eventType` описаны действия, которые могли совершать пользователи при взаимодействии со статьёй:\n",
    "\n",
    "\n",
    "* VIEW — просмотр,\n",
    "* LIKE — лайк,\n",
    "* COMMENT CREATED — комментарий,\n",
    "* FOLLOW — подписка,\n",
    "* BOOKMARK — добавление в закладки.\n",
    "  \n",
    "В первую очередь нам необходимо понять, как определить, что какая-то статья популярнее других. Если бы из возможных реакций у нас были только лайки или только просмотры, то статьи было бы легко ранжировать в соответствии с этими значениями. Однако у нас есть информация о различных действиях пользователя, и на её основе мы должны создать некий универсальный индекс популярности. Составим его из реакций пользователей, придав им разные веса:\n",
    "```\n",
    "event_type = {\n",
    "   'VIEW': 1.0,\n",
    "   'LIKE': 2.0, \n",
    "   'BOOKMARK': 2.5, \n",
    "   'FOLLOW': 3.0,\n",
    "   'COMMENT CREATED': 4.0,  \n",
    "}\n",
    "```\n",
    "\n",
    "**Веса здесь подобраны исходя из важности каждого действия: оставить комментарий — значит, показать наибольшую вовлечённость, а обычный просмотр, напротив, демонстрирует наименьшую вовлечённость**"
   ]
  },
  {
   "cell_type": "code",
   "execution_count": 12,
   "metadata": {},
   "outputs": [],
   "source": [
    "interactions_df= pd.read_csv('data/users_interactions.zip')"
   ]
  },
  {
   "cell_type": "code",
   "execution_count": 13,
   "metadata": {},
   "outputs": [
    {
     "name": "stderr",
     "output_type": "stream",
     "text": [
      "C:\\Users\\пользователь\\AppData\\Local\\Temp\\ipykernel_9068\\2961181235.py:5: SettingWithCopyWarning: \n",
      "A value is trying to be set on a copy of a slice from a DataFrame.\n",
      "Try using .loc[row_indexer,col_indexer] = value instead\n",
      "\n",
      "See the caveats in the documentation: https://pandas.pydata.org/pandas-docs/stable/user_guide/indexing.html#returning-a-view-versus-a-copy\n",
      "  articles_df.contentId = articles_df.contentId.astype(str)\n"
     ]
    }
   ],
   "source": [
    "interactions_df.personId = interactions_df.personId.astype(str)\n",
    "interactions_df.contentId = interactions_df.contentId.astype(str)\n",
    "\n",
    "articles_df = shared_articles_filtered\n",
    "articles_df.contentId = articles_df.contentId.astype(str)"
   ]
  },
  {
   "cell_type": "code",
   "execution_count": 14,
   "metadata": {},
   "outputs": [],
   "source": [
    "event_type = {\n",
    "   'VIEW': 1.0,\n",
    "   'LIKE': 2.0, \n",
    "   'BOOKMARK': 2.5, \n",
    "   'FOLLOW': 3.0,\n",
    "   'COMMENT CREATED': 4.0,  \n",
    "}"
   ]
  },
  {
   "cell_type": "markdown",
   "metadata": {},
   "source": [
    "2. Создайте признак, который будет отражать числовой вес для взаимодействия со статьёй (в соответствии с приведёнными выше весами). Вычислите среднее значение для полученного признака. Округлите его до двух знаков после точки-разделителя."
   ]
  },
  {
   "cell_type": "code",
   "execution_count": 15,
   "metadata": {},
   "outputs": [],
   "source": [
    "interactions_df['weight']=interactions_df['eventType'].apply(lambda x: event_type[x])"
   ]
  },
  {
   "cell_type": "code",
   "execution_count": 16,
   "metadata": {},
   "outputs": [
    {
     "data": {
      "text/plain": [
       "1.24"
      ]
     },
     "execution_count": 16,
     "metadata": {},
     "output_type": "execute_result"
    }
   ],
   "source": [
    "interactions_df['weight'].mean().round(2)\n",
    "#1.24"
   ]
  },
  {
   "cell_type": "markdown",
   "metadata": {},
   "source": [
    "Ранее мы говорили, что рекомендательные системы подвержены проблеме холодного старта — в таких случаях создавать рекомендации намного сложнее."
   ]
  },
  {
   "cell_type": "markdown",
   "metadata": {},
   "source": [
    "3. Чтобы получить хоть какую-то информацию, на которую можно будет опираться, оставьте только тех пользователей, которые взаимодействовали хотя бы с пятью статьями. Сколько всего таких пользователей?"
   ]
  },
  {
   "cell_type": "code",
   "execution_count": 17,
   "metadata": {},
   "outputs": [
    {
     "data": {
      "text/plain": [
       "1140"
      ]
     },
     "execution_count": 17,
     "metadata": {},
     "output_type": "execute_result"
    }
   ],
   "source": [
    "persons = pd.DataFrame(interactions_df[['personId','contentId']].groupby(by=['personId']).agg(['unique']))\n",
    "#persons = persons[persons['contentId']>5]\n",
    "#persons.shape[0] \n",
    "persons['content'] = persons['contentId']['unique']\n",
    "persons['content'] = persons['content'].astype(str)\n",
    "persons = persons.drop(['contentId'], axis=1)\n",
    "persons['len_unique'] = persons['content'].apply(lambda x: x.count(\" \")+1)\n",
    "persons = persons[persons['len_unique']>=5]\n",
    "persons.shape[0]\n",
    "#1140"
   ]
  },
  {
   "cell_type": "markdown",
   "metadata": {},
   "source": [
    "4. Теперь оставим только те взаимодействия, которые касаются только отфильтрованных пользователей (то есть тех, которые взаимодействовали как минимум с пятью статьями). Сколько всего таких взаимодействий?\n",
    "\n",
    "В этом задании необходимо работать с данными, полученными в задании 3."
   ]
  },
  {
   "cell_type": "code",
   "execution_count": 18,
   "metadata": {},
   "outputs": [],
   "source": [
    "persons['personId'] = persons.index\n",
    "persons.reset_index(drop=True, inplace=True)\n",
    "persons.columns = ['content','len_unique','personId']"
   ]
  },
  {
   "cell_type": "code",
   "execution_count": 19,
   "metadata": {},
   "outputs": [],
   "source": [
    "interactions_filtered = pd.merge(interactions_df, persons, how='left', on='personId')\n",
    "interactions_filtered['isna'] = interactions_filtered['len_unique'].isna()\n",
    "interactions_filtered = interactions_filtered[interactions_filtered['isna']==False]"
   ]
  },
  {
   "cell_type": "code",
   "execution_count": 20,
   "metadata": {},
   "outputs": [],
   "source": [
    "interactions_filtered = interactions_filtered.drop(['content','len_unique','isna'], axis=1)"
   ]
  },
  {
   "cell_type": "code",
   "execution_count": 21,
   "metadata": {},
   "outputs": [
    {
     "data": {
      "text/plain": [
       "69868"
      ]
     },
     "execution_count": 21,
     "metadata": {},
     "output_type": "execute_result"
    }
   ],
   "source": [
    "interactions_filtered.shape[0]\n",
    "#69868"
   ]
  },
  {
   "cell_type": "markdown",
   "metadata": {},
   "source": [
    "Сейчас каждое отдельное взаимодействие пользователя со статьёй выделено в отдельную запись, то есть пользователь мог просмотреть статью, лайкнуть и прокомментировать её, и всё это отразилось в трёх действиях. Давайте для удобства соединим все эти действия в некоторый коэффициент, который будет отражать интерес пользователя к статье. Так как каждому возможному действию мы ранее уже присвоили вес, то, по сути, нам нужно просто сложить все действия. Однако полученное число будет увеличиваться с количеством действий, и будет очень большой разброс возможных значений. В таких случаях обычно логарифмируют полученный результат с помощью следующей функции:\n",
    "\n",
    "```\n",
    "def smooth_user_preference(x):\n",
    "    return math.log(1+x, 2)\n",
    "```\n",
    "5. Примените упомянутое выше преобразование для логарифмирования к сумме весов для взаимодействия пользователя с каждой конкретной статьёй. Также сохраните для каждой пары «пользователь — статья» значение времени последнего взаимодействия.\n",
    "\n",
    "Найдите среднее по признаку с получившимися временными отсечками. Округлите результат до двух знаков после точки-разделителя.\n",
    "\n",
    "Так как наши данные отсортированы по дате, то для того, чтобы выбрать последнее взаимодействие, необходимо использовать метод `max()`.\n",
    "\n",
    "**В этом задании необходимо работать с данными, полученными в задании 4.**"
   ]
  },
  {
   "cell_type": "code",
   "execution_count": 22,
   "metadata": {},
   "outputs": [],
   "source": [
    "def smooth_user_preference(x):\n",
    "    return math.log(1+x, 2)"
   ]
  },
  {
   "cell_type": "code",
   "execution_count": 23,
   "metadata": {},
   "outputs": [
    {
     "name": "stderr",
     "output_type": "stream",
     "text": [
      "C:\\Users\\пользователь\\AppData\\Local\\Temp\\ipykernel_9068\\1343130655.py:1: FutureWarning: Indexing with multiple keys (implicitly converted to a tuple of keys) will be deprecated, use a list instead.\n",
      "  interactions_grouped = interactions_filtered.groupby(by=['personId','contentId'])['timestamp','weight'].agg(['max','sum'])\n"
     ]
    }
   ],
   "source": [
    "interactions_grouped = interactions_filtered.groupby(by=['personId','contentId'])['timestamp','weight'].agg(['max','sum'])"
   ]
  },
  {
   "cell_type": "code",
   "execution_count": 24,
   "metadata": {},
   "outputs": [
    {
     "data": {
      "text/html": [
       "<div>\n",
       "<style scoped>\n",
       "    .dataframe tbody tr th:only-of-type {\n",
       "        vertical-align: middle;\n",
       "    }\n",
       "\n",
       "    .dataframe tbody tr th {\n",
       "        vertical-align: top;\n",
       "    }\n",
       "\n",
       "    .dataframe thead th {\n",
       "        text-align: right;\n",
       "    }\n",
       "</style>\n",
       "<table border=\"1\" class=\"dataframe\">\n",
       "  <thead>\n",
       "    <tr style=\"text-align: right;\">\n",
       "      <th></th>\n",
       "      <th></th>\n",
       "      <th>tsmax</th>\n",
       "      <th>wsum</th>\n",
       "    </tr>\n",
       "    <tr>\n",
       "      <th>personId</th>\n",
       "      <th>contentId</th>\n",
       "      <th></th>\n",
       "      <th></th>\n",
       "    </tr>\n",
       "  </thead>\n",
       "  <tbody>\n",
       "    <tr>\n",
       "      <th rowspan=\"5\" valign=\"top\">-1007001694607905623</th>\n",
       "      <th>-5065077552540450930</th>\n",
       "      <td>1470395911</td>\n",
       "      <td>1.000000</td>\n",
       "    </tr>\n",
       "    <tr>\n",
       "      <th>-6623581327558800021</th>\n",
       "      <td>1487240080</td>\n",
       "      <td>1.000000</td>\n",
       "    </tr>\n",
       "    <tr>\n",
       "      <th>-793729620925729327</th>\n",
       "      <td>1472834892</td>\n",
       "      <td>1.000000</td>\n",
       "    </tr>\n",
       "    <tr>\n",
       "      <th>1469580151036142903</th>\n",
       "      <td>1487240062</td>\n",
       "      <td>1.000000</td>\n",
       "    </tr>\n",
       "    <tr>\n",
       "      <th>7270966256391553686</th>\n",
       "      <td>1485994342</td>\n",
       "      <td>1.584963</td>\n",
       "    </tr>\n",
       "    <tr>\n",
       "      <th>...</th>\n",
       "      <th>...</th>\n",
       "      <td>...</td>\n",
       "      <td>...</td>\n",
       "    </tr>\n",
       "    <tr>\n",
       "      <th rowspan=\"5\" valign=\"top\">998688566268269815</th>\n",
       "      <th>-401664538366009049</th>\n",
       "      <td>1474567449</td>\n",
       "      <td>1.000000</td>\n",
       "    </tr>\n",
       "    <tr>\n",
       "      <th>3456674717452933449</th>\n",
       "      <td>1478802088</td>\n",
       "      <td>2.584963</td>\n",
       "    </tr>\n",
       "    <tr>\n",
       "      <th>6881796783400625893</th>\n",
       "      <td>1474567675</td>\n",
       "      <td>1.000000</td>\n",
       "    </tr>\n",
       "    <tr>\n",
       "      <th>7174452660053929140</th>\n",
       "      <td>1478812905</td>\n",
       "      <td>2.321928</td>\n",
       "    </tr>\n",
       "    <tr>\n",
       "      <th>739747367187387064</th>\n",
       "      <td>1474567514</td>\n",
       "      <td>1.000000</td>\n",
       "    </tr>\n",
       "  </tbody>\n",
       "</table>\n",
       "<p>39106 rows × 2 columns</p>\n",
       "</div>"
      ],
      "text/plain": [
       "                                                tsmax      wsum\n",
       "personId             contentId                                 \n",
       "-1007001694607905623 -5065077552540450930  1470395911  1.000000\n",
       "                     -6623581327558800021  1487240080  1.000000\n",
       "                     -793729620925729327   1472834892  1.000000\n",
       "                     1469580151036142903   1487240062  1.000000\n",
       "                     7270966256391553686   1485994342  1.584963\n",
       "...                                               ...       ...\n",
       "998688566268269815   -401664538366009049   1474567449  1.000000\n",
       "                     3456674717452933449   1478802088  2.584963\n",
       "                     6881796783400625893   1474567675  1.000000\n",
       "                     7174452660053929140   1478812905  2.321928\n",
       "                     739747367187387064    1474567514  1.000000\n",
       "\n",
       "[39106 rows x 2 columns]"
      ]
     },
     "execution_count": 24,
     "metadata": {},
     "output_type": "execute_result"
    }
   ],
   "source": [
    "interactions_grouped.columns = ['tsmax','tssum','wmax', 'wsum']\n",
    "interactions_grouped = interactions_grouped.drop(['tssum','wmax'], axis=1)\n",
    "interactions_grouped['wsum'] = interactions_grouped['wsum'].apply(lambda x: smooth_user_preference(x))\n",
    "interactions_grouped"
   ]
  },
  {
   "cell_type": "code",
   "execution_count": 25,
   "metadata": {},
   "outputs": [
    {
     "data": {
      "text/plain": [
       "1470605340.04"
      ]
     },
     "execution_count": 25,
     "metadata": {},
     "output_type": "execute_result"
    }
   ],
   "source": [
    "interactions_grouped['tsmax'].mean().round(2)\n",
    "#1470605340.04"
   ]
  },
  {
   "cell_type": "markdown",
   "metadata": {},
   "source": [
    "Разумеется, для того чтобы впоследствии оценить качество построенной рекомендательной системы, нам нужно разделить выборку на обучающую и тестовую. Так как в реальности рекомендации строятся на основе исторических данных о пользователе и контенте, сделаем в нашей задаче разбиение на обучающую и тестовую выборки по временной отсечке."
   ]
  },
  {
   "cell_type": "markdown",
   "metadata": {},
   "source": [
    "6. Разделите данные на обучающую и тестовую выборки, выбрав в качестве временной отсечки значение 1475519545. Значение отсечки включите в тестовую выборку. Сколько объектов попало в обучающую выборку?"
   ]
  },
  {
   "cell_type": "code",
   "execution_count": 34,
   "metadata": {},
   "outputs": [],
   "source": [
    "interactions_grouped = interactions_grouped.reset_index()"
   ]
  },
  {
   "cell_type": "code",
   "execution_count": 35,
   "metadata": {},
   "outputs": [
    {
     "data": {
      "text/html": [
       "<div>\n",
       "<style scoped>\n",
       "    .dataframe tbody tr th:only-of-type {\n",
       "        vertical-align: middle;\n",
       "    }\n",
       "\n",
       "    .dataframe tbody tr th {\n",
       "        vertical-align: top;\n",
       "    }\n",
       "\n",
       "    .dataframe thead th {\n",
       "        text-align: right;\n",
       "    }\n",
       "</style>\n",
       "<table border=\"1\" class=\"dataframe\">\n",
       "  <thead>\n",
       "    <tr style=\"text-align: right;\">\n",
       "      <th></th>\n",
       "      <th>personId</th>\n",
       "      <th>contentId</th>\n",
       "      <th>tsmax</th>\n",
       "      <th>wsum</th>\n",
       "    </tr>\n",
       "  </thead>\n",
       "  <tbody>\n",
       "    <tr>\n",
       "      <th>0</th>\n",
       "      <td>-1007001694607905623</td>\n",
       "      <td>-5065077552540450930</td>\n",
       "      <td>1470395911</td>\n",
       "      <td>1.000000</td>\n",
       "    </tr>\n",
       "    <tr>\n",
       "      <th>1</th>\n",
       "      <td>-1007001694607905623</td>\n",
       "      <td>-6623581327558800021</td>\n",
       "      <td>1487240080</td>\n",
       "      <td>1.000000</td>\n",
       "    </tr>\n",
       "    <tr>\n",
       "      <th>2</th>\n",
       "      <td>-1007001694607905623</td>\n",
       "      <td>-793729620925729327</td>\n",
       "      <td>1472834892</td>\n",
       "      <td>1.000000</td>\n",
       "    </tr>\n",
       "    <tr>\n",
       "      <th>3</th>\n",
       "      <td>-1007001694607905623</td>\n",
       "      <td>1469580151036142903</td>\n",
       "      <td>1487240062</td>\n",
       "      <td>1.000000</td>\n",
       "    </tr>\n",
       "    <tr>\n",
       "      <th>4</th>\n",
       "      <td>-1007001694607905623</td>\n",
       "      <td>7270966256391553686</td>\n",
       "      <td>1485994342</td>\n",
       "      <td>1.584963</td>\n",
       "    </tr>\n",
       "    <tr>\n",
       "      <th>...</th>\n",
       "      <td>...</td>\n",
       "      <td>...</td>\n",
       "      <td>...</td>\n",
       "      <td>...</td>\n",
       "    </tr>\n",
       "    <tr>\n",
       "      <th>39101</th>\n",
       "      <td>998688566268269815</td>\n",
       "      <td>-401664538366009049</td>\n",
       "      <td>1474567449</td>\n",
       "      <td>1.000000</td>\n",
       "    </tr>\n",
       "    <tr>\n",
       "      <th>39102</th>\n",
       "      <td>998688566268269815</td>\n",
       "      <td>3456674717452933449</td>\n",
       "      <td>1478802088</td>\n",
       "      <td>2.584963</td>\n",
       "    </tr>\n",
       "    <tr>\n",
       "      <th>39103</th>\n",
       "      <td>998688566268269815</td>\n",
       "      <td>6881796783400625893</td>\n",
       "      <td>1474567675</td>\n",
       "      <td>1.000000</td>\n",
       "    </tr>\n",
       "    <tr>\n",
       "      <th>39104</th>\n",
       "      <td>998688566268269815</td>\n",
       "      <td>7174452660053929140</td>\n",
       "      <td>1478812905</td>\n",
       "      <td>2.321928</td>\n",
       "    </tr>\n",
       "    <tr>\n",
       "      <th>39105</th>\n",
       "      <td>998688566268269815</td>\n",
       "      <td>739747367187387064</td>\n",
       "      <td>1474567514</td>\n",
       "      <td>1.000000</td>\n",
       "    </tr>\n",
       "  </tbody>\n",
       "</table>\n",
       "<p>39106 rows × 4 columns</p>\n",
       "</div>"
      ],
      "text/plain": [
       "                   personId             contentId       tsmax      wsum\n",
       "0      -1007001694607905623  -5065077552540450930  1470395911  1.000000\n",
       "1      -1007001694607905623  -6623581327558800021  1487240080  1.000000\n",
       "2      -1007001694607905623   -793729620925729327  1472834892  1.000000\n",
       "3      -1007001694607905623   1469580151036142903  1487240062  1.000000\n",
       "4      -1007001694607905623   7270966256391553686  1485994342  1.584963\n",
       "...                     ...                   ...         ...       ...\n",
       "39101    998688566268269815   -401664538366009049  1474567449  1.000000\n",
       "39102    998688566268269815   3456674717452933449  1478802088  2.584963\n",
       "39103    998688566268269815   6881796783400625893  1474567675  1.000000\n",
       "39104    998688566268269815   7174452660053929140  1478812905  2.321928\n",
       "39105    998688566268269815    739747367187387064  1474567514  1.000000\n",
       "\n",
       "[39106 rows x 4 columns]"
      ]
     },
     "execution_count": 35,
     "metadata": {},
     "output_type": "execute_result"
    }
   ],
   "source": [
    "interactions_grouped"
   ]
  },
  {
   "cell_type": "code",
   "execution_count": 36,
   "metadata": {},
   "outputs": [],
   "source": [
    "interactions_train_df = interactions_grouped[interactions_grouped['tsmax']<=1475519545]\n",
    "interactions_test_df = interactions_grouped[interactions_grouped['tsmax']>1475519545]"
   ]
  },
  {
   "cell_type": "code",
   "execution_count": 129,
   "metadata": {},
   "outputs": [
    {
     "data": {
      "text/plain": [
       "29325"
      ]
     },
     "execution_count": 129,
     "metadata": {},
     "output_type": "execute_result"
    }
   ],
   "source": [
    "interactions_train_df.shape[0]\n",
    "#29325"
   ]
  },
  {
   "cell_type": "code",
   "execution_count": 130,
   "metadata": {},
   "outputs": [
    {
     "data": {
      "text/html": [
       "<div>\n",
       "<style scoped>\n",
       "    .dataframe tbody tr th:only-of-type {\n",
       "        vertical-align: middle;\n",
       "    }\n",
       "\n",
       "    .dataframe tbody tr th {\n",
       "        vertical-align: top;\n",
       "    }\n",
       "\n",
       "    .dataframe thead th {\n",
       "        text-align: right;\n",
       "    }\n",
       "</style>\n",
       "<table border=\"1\" class=\"dataframe\">\n",
       "  <thead>\n",
       "    <tr style=\"text-align: right;\">\n",
       "      <th></th>\n",
       "      <th>true_train</th>\n",
       "      <th>true_test</th>\n",
       "    </tr>\n",
       "    <tr>\n",
       "      <th>personId</th>\n",
       "      <th></th>\n",
       "      <th></th>\n",
       "    </tr>\n",
       "  </thead>\n",
       "  <tbody>\n",
       "    <tr>\n",
       "      <th>-1007001694607905623</th>\n",
       "      <td>[-5065077552540450930, -793729620925729327]</td>\n",
       "      <td>[-6623581327558800021, 1469580151036142903, 72...</td>\n",
       "    </tr>\n",
       "    <tr>\n",
       "      <th>-1032019229384696495</th>\n",
       "      <td>[-1006791494035379303, -1039912738963181810, -...</td>\n",
       "      <td>[-1415040208471067980, -2555801390963402198, -...</td>\n",
       "    </tr>\n",
       "    <tr>\n",
       "      <th>-108842214936804958</th>\n",
       "      <td>[-1196068832249300490, -133139342397538859, -1...</td>\n",
       "      <td>[-2780168264183400543, -3060116862184714437, -...</td>\n",
       "    </tr>\n",
       "    <tr>\n",
       "      <th>-1130272294246983140</th>\n",
       "      <td>[-1150591229250318592, -1196068832249300490, -...</td>\n",
       "      <td>[-1606980109000976010, -1663441888197894674, -...</td>\n",
       "    </tr>\n",
       "    <tr>\n",
       "      <th>-1160159014793528221</th>\n",
       "      <td>[-133139342397538859, -387651900461462767, 377...</td>\n",
       "      <td>[-3462051751080362224]</td>\n",
       "    </tr>\n",
       "  </tbody>\n",
       "</table>\n",
       "</div>"
      ],
      "text/plain": [
       "                                                             true_train  \\\n",
       "personId                                                                  \n",
       "-1007001694607905623        [-5065077552540450930, -793729620925729327]   \n",
       "-1032019229384696495  [-1006791494035379303, -1039912738963181810, -...   \n",
       "-108842214936804958   [-1196068832249300490, -133139342397538859, -1...   \n",
       "-1130272294246983140  [-1150591229250318592, -1196068832249300490, -...   \n",
       "-1160159014793528221  [-133139342397538859, -387651900461462767, 377...   \n",
       "\n",
       "                                                              true_test  \n",
       "personId                                                                 \n",
       "-1007001694607905623  [-6623581327558800021, 1469580151036142903, 72...  \n",
       "-1032019229384696495  [-1415040208471067980, -2555801390963402198, -...  \n",
       "-108842214936804958   [-2780168264183400543, -3060116862184714437, -...  \n",
       "-1130272294246983140  [-1606980109000976010, -1663441888197894674, -...  \n",
       "-1160159014793528221                             [-3462051751080362224]  "
      ]
     },
     "execution_count": 130,
     "metadata": {},
     "output_type": "execute_result"
    }
   ],
   "source": [
    "final_df = (\n",
    "    interactions_train_df.reset_index()\n",
    "    .groupby('personId')['contentId'].agg(lambda x: list(x))\n",
    "    .reset_index()\n",
    "    .rename(columns={'contentId': 'true_train'})\n",
    "    .set_index('personId')\n",
    ")\n",
    "\n",
    "final_df['true_test'] = (\n",
    "    interactions_test_df.reset_index()\n",
    "    .groupby('personId')['contentId'].agg(lambda x: list(x))\n",
    ")\n",
    "\n",
    "final_df['true_test'] = [ [] if x is np.NaN else x for x in final_df['true_test'] ]\n",
    "final_df.head()"
   ]
  },
  {
   "cell_type": "markdown",
   "metadata": {},
   "source": [
    "Осталось совсем немного — скоро вы получите свою первую систему рекомендаций! Мы будем строить popular-based-модель, а значит, нам необходимо найти самые популярные статьи.\n",
    "\n",
    "7. Посчитайте популярность каждой статьи как сумму всех логарифмических «оценок» взаимодействий с ней (используя только обучающую выборку). Выберите ID самой популярной статьи:"
   ]
  },
  {
   "cell_type": "code",
   "execution_count": 131,
   "metadata": {},
   "outputs": [
    {
     "data": {
      "text/plain": [
       "sum    231.177195\n",
       "Name: -6783772548752091658, dtype: float64"
      ]
     },
     "execution_count": 131,
     "metadata": {},
     "output_type": "execute_result"
    }
   ],
   "source": [
    "content = interactions_train_df.groupby('contentId')['wsum'].agg(['sum']).sort_values(by='sum',ascending=False)\n",
    "content.iloc[0]\n",
    "#-6783772548752091658"
   ]
  },
  {
   "cell_type": "markdown",
   "metadata": {},
   "source": [
    "Теперь необходимо сформировать рекомендации для каждого пользователя. Будем рекомендовать десять самых популярных статей. Также необходимо помнить, что следует предлагать пользователю только то, что он ещё не читал.\n",
    "\n",
    "8. Постройте систему рекомендаций. Оцените качество с помощью `precision@10` для каждого пользователя (доля угаданных рекомендаций). После этого усредните результат по всем пользователям.\n",
    "\n",
    "Для вычисления `precision@10` воспользуйтесь следующей функцией:\n",
    "```\n",
    "def precision(column):\n",
    "    return (final_df.apply(lambda row:\n",
    "            len(set(row['true_test']).intersection(set(row[column]))) /\n",
    "            min(len(row['true_test']) + 0.001, 10.0),axis=1)).mean()\n",
    "```\n",
    "\n",
    "Итоговый результат округлите до трёх знаков после точки-разделителя.\n",
    "\n",
    "*В этом задании необходимо использовать данные, полученные в задании 6.6 (для которых приведён скриншот выше).*"
   ]
  },
  {
   "cell_type": "code",
   "execution_count": 139,
   "metadata": {},
   "outputs": [],
   "source": [
    "def precision(column):\n",
    "    return (final_df.apply(lambda row:\n",
    "            len(set(row['true_test']).intersection(set(row[column]))) /\n",
    "            min(len(row['true_test']) + 0.001, 10.0),axis=1)).mean().round(3)"
   ]
  },
  {
   "cell_type": "code",
   "execution_count": 133,
   "metadata": {},
   "outputs": [],
   "source": [
    "def recomendation(row):\n",
    "    true_train = list(set(row))\n",
    "    \n",
    "    recomendation_list = []\n",
    "    all_recomendations = list(content.reset_index()['contentId'])\n",
    "    \n",
    "    for i in list(range(len(all_recomendations))):\n",
    "        if len(recomendation_list)<10:\n",
    "            if all_recomendations[i] not in true_train:\n",
    "                recomendation_list.append(all_recomendations[i])\n",
    "        else: return recomendation_list"
   ]
  },
  {
   "cell_type": "code",
   "execution_count": 134,
   "metadata": {},
   "outputs": [],
   "source": [
    "final_df['recomendations'] = final_df['true_train'].apply(lambda x: recomendation(x))"
   ]
  },
  {
   "cell_type": "code",
   "execution_count": 140,
   "metadata": {},
   "outputs": [
    {
     "data": {
      "text/plain": [
       "0.006"
      ]
     },
     "execution_count": 140,
     "metadata": {},
     "output_type": "execute_result"
    }
   ],
   "source": [
    "precision('recomendations')\n",
    "#0.006"
   ]
  },
  {
   "cell_type": "code",
   "execution_count": 138,
   "metadata": {},
   "outputs": [
    {
     "data": {
      "text/html": [
       "<div>\n",
       "<style scoped>\n",
       "    .dataframe tbody tr th:only-of-type {\n",
       "        vertical-align: middle;\n",
       "    }\n",
       "\n",
       "    .dataframe tbody tr th {\n",
       "        vertical-align: top;\n",
       "    }\n",
       "\n",
       "    .dataframe thead th {\n",
       "        text-align: right;\n",
       "    }\n",
       "</style>\n",
       "<table border=\"1\" class=\"dataframe\">\n",
       "  <thead>\n",
       "    <tr style=\"text-align: right;\">\n",
       "      <th></th>\n",
       "      <th>true_train</th>\n",
       "      <th>true_test</th>\n",
       "      <th>recomendations</th>\n",
       "    </tr>\n",
       "    <tr>\n",
       "      <th>personId</th>\n",
       "      <th></th>\n",
       "      <th></th>\n",
       "      <th></th>\n",
       "    </tr>\n",
       "  </thead>\n",
       "  <tbody>\n",
       "    <tr>\n",
       "      <th>-1007001694607905623</th>\n",
       "      <td>[-5065077552540450930, -793729620925729327]</td>\n",
       "      <td>[-6623581327558800021, 1469580151036142903, 72...</td>\n",
       "      <td>[-6783772548752091658, -133139342397538859, -8...</td>\n",
       "    </tr>\n",
       "    <tr>\n",
       "      <th>-1032019229384696495</th>\n",
       "      <td>[-1006791494035379303, -1039912738963181810, -...</td>\n",
       "      <td>[-1415040208471067980, -2555801390963402198, -...</td>\n",
       "      <td>[-6783772548752091658, -133139342397538859, -8...</td>\n",
       "    </tr>\n",
       "    <tr>\n",
       "      <th>-108842214936804958</th>\n",
       "      <td>[-1196068832249300490, -133139342397538859, -1...</td>\n",
       "      <td>[-2780168264183400543, -3060116862184714437, -...</td>\n",
       "      <td>[-6783772548752091658, -8208801367848627943, 8...</td>\n",
       "    </tr>\n",
       "    <tr>\n",
       "      <th>-1130272294246983140</th>\n",
       "      <td>[-1150591229250318592, -1196068832249300490, -...</td>\n",
       "      <td>[-1606980109000976010, -1663441888197894674, -...</td>\n",
       "      <td>[-133139342397538859, -8208801367848627943, 82...</td>\n",
       "    </tr>\n",
       "    <tr>\n",
       "      <th>-1160159014793528221</th>\n",
       "      <td>[-133139342397538859, -387651900461462767, 377...</td>\n",
       "      <td>[-3462051751080362224]</td>\n",
       "      <td>[-6783772548752091658, -8208801367848627943, 8...</td>\n",
       "    </tr>\n",
       "    <tr>\n",
       "      <th>...</th>\n",
       "      <td>...</td>\n",
       "      <td>...</td>\n",
       "      <td>...</td>\n",
       "    </tr>\n",
       "    <tr>\n",
       "      <th>953707509720613429</th>\n",
       "      <td>[-1068603220639552685, -2358756719610361882, -...</td>\n",
       "      <td>[-2402288292108892893, -5813211845057621660, -...</td>\n",
       "      <td>[-133139342397538859, -8208801367848627943, 82...</td>\n",
       "    </tr>\n",
       "    <tr>\n",
       "      <th>983095443598229476</th>\n",
       "      <td>[-133139342397538859, -8742648016180281673]</td>\n",
       "      <td>[-14569272361926584, -1572252285162838958, -18...</td>\n",
       "      <td>[-6783772548752091658, -8208801367848627943, 8...</td>\n",
       "    </tr>\n",
       "    <tr>\n",
       "      <th>989049974880576288</th>\n",
       "      <td>[-133139342397538859, -2038869595290705317, -2...</td>\n",
       "      <td>[-6289909056857931861, -7047448754687279385, -...</td>\n",
       "      <td>[-6783772548752091658, -8208801367848627943, 8...</td>\n",
       "    </tr>\n",
       "    <tr>\n",
       "      <th>997469202936578234</th>\n",
       "      <td>[-2358756719610361882, -4336877432539963613, -...</td>\n",
       "      <td>[-4029704725707465084, -5920475612630001479, -...</td>\n",
       "      <td>[-6783772548752091658, -133139342397538859, -8...</td>\n",
       "    </tr>\n",
       "    <tr>\n",
       "      <th>998688566268269815</th>\n",
       "      <td>[-1255189867397298842, -401664538366009049, 68...</td>\n",
       "      <td>[3456674717452933449, 7174452660053929140]</td>\n",
       "      <td>[-6783772548752091658, -133139342397538859, -8...</td>\n",
       "    </tr>\n",
       "  </tbody>\n",
       "</table>\n",
       "<p>1112 rows × 3 columns</p>\n",
       "</div>"
      ],
      "text/plain": [
       "                                                             true_train  \\\n",
       "personId                                                                  \n",
       "-1007001694607905623        [-5065077552540450930, -793729620925729327]   \n",
       "-1032019229384696495  [-1006791494035379303, -1039912738963181810, -...   \n",
       "-108842214936804958   [-1196068832249300490, -133139342397538859, -1...   \n",
       "-1130272294246983140  [-1150591229250318592, -1196068832249300490, -...   \n",
       "-1160159014793528221  [-133139342397538859, -387651900461462767, 377...   \n",
       "...                                                                 ...   \n",
       "953707509720613429    [-1068603220639552685, -2358756719610361882, -...   \n",
       "983095443598229476          [-133139342397538859, -8742648016180281673]   \n",
       "989049974880576288    [-133139342397538859, -2038869595290705317, -2...   \n",
       "997469202936578234    [-2358756719610361882, -4336877432539963613, -...   \n",
       "998688566268269815    [-1255189867397298842, -401664538366009049, 68...   \n",
       "\n",
       "                                                              true_test  \\\n",
       "personId                                                                  \n",
       "-1007001694607905623  [-6623581327558800021, 1469580151036142903, 72...   \n",
       "-1032019229384696495  [-1415040208471067980, -2555801390963402198, -...   \n",
       "-108842214936804958   [-2780168264183400543, -3060116862184714437, -...   \n",
       "-1130272294246983140  [-1606980109000976010, -1663441888197894674, -...   \n",
       "-1160159014793528221                             [-3462051751080362224]   \n",
       "...                                                                 ...   \n",
       "953707509720613429    [-2402288292108892893, -5813211845057621660, -...   \n",
       "983095443598229476    [-14569272361926584, -1572252285162838958, -18...   \n",
       "989049974880576288    [-6289909056857931861, -7047448754687279385, -...   \n",
       "997469202936578234    [-4029704725707465084, -5920475612630001479, -...   \n",
       "998688566268269815           [3456674717452933449, 7174452660053929140]   \n",
       "\n",
       "                                                         recomendations  \n",
       "personId                                                                 \n",
       "-1007001694607905623  [-6783772548752091658, -133139342397538859, -8...  \n",
       "-1032019229384696495  [-6783772548752091658, -133139342397538859, -8...  \n",
       "-108842214936804958   [-6783772548752091658, -8208801367848627943, 8...  \n",
       "-1130272294246983140  [-133139342397538859, -8208801367848627943, 82...  \n",
       "-1160159014793528221  [-6783772548752091658, -8208801367848627943, 8...  \n",
       "...                                                                 ...  \n",
       "953707509720613429    [-133139342397538859, -8208801367848627943, 82...  \n",
       "983095443598229476    [-6783772548752091658, -8208801367848627943, 8...  \n",
       "989049974880576288    [-6783772548752091658, -8208801367848627943, 8...  \n",
       "997469202936578234    [-6783772548752091658, -133139342397538859, -8...  \n",
       "998688566268269815    [-6783772548752091658, -133139342397538859, -8...  \n",
       "\n",
       "[1112 rows x 3 columns]"
      ]
     },
     "execution_count": 138,
     "metadata": {},
     "output_type": "execute_result"
    }
   ],
   "source": [
    "final_df"
   ]
  },
  {
   "cell_type": "markdown",
   "metadata": {},
   "source": [
    "Качество получилось не очень высоким, но ведь и рекомендации у нас были неперсонализированными.\n",
    "\n",
    "**Примечание**. Стоит отметить, что качество РС оценивается не так, как в задачах классификации: показателей выше 0.5 добиться практически невозможно, и даже результат 0.1–0.2 — индикатор высокого качества.\n",
    "\n",
    "Уже в следующем модуле вы сможете улучшить качество, изучив более продвинутые алгоритмы. Однако уже сейчас у вас получилось построить простейшую систему рекомендаций — это большое достижение!"
   ]
  }
 ],
 "metadata": {
  "kernelspec": {
   "display_name": "Python 3",
   "language": "python",
   "name": "python3"
  },
  "language_info": {
   "codemirror_mode": {
    "name": "ipython",
    "version": 3
   },
   "file_extension": ".py",
   "mimetype": "text/x-python",
   "name": "python",
   "nbconvert_exporter": "python",
   "pygments_lexer": "ipython3",
   "version": "3.9.10"
  },
  "orig_nbformat": 4
 },
 "nbformat": 4,
 "nbformat_minor": 2
}
