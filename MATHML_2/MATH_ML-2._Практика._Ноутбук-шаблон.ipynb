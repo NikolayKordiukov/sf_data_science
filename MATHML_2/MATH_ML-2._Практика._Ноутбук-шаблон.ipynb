{
  "cells": [
    {
      "cell_type": "markdown",
      "id": "b054bd88",
      "metadata": {
        "id": "b054bd88"
      },
      "source": [
        "# <center> Линейная алгебра в контексте линейных методов. Практика.\n",
        "\n",
        "## <center> Прогнозирование выработки газа на скважинах."
      ]
    },
    {
      "cell_type": "markdown",
      "id": "325bc80b",
      "metadata": {
        "id": "325bc80b"
      },
      "source": [
        "## Постановка задачи"
      ]
    },
    {
      "cell_type": "markdown",
      "id": "8247bd54",
      "metadata": {
        "id": "8247bd54"
      },
      "source": [
        "У Василия, основателя компании «Газ-Таз-Ваз-Нефть», дела идут в гору: у него уже функционирует 200 скважин для добычи газа. В этом году он открывает 30 новых скважин. Однако в целях оптимизации расходов и повышения дохода Василию необходимо оценить, сколько денег будет приносить ему каждая из скважин, а также понять, какие факторы (параметры скважин) потенциально сильнее всего повлияют на объём добычи газа. Для этого Василий решил нанять вас как специалиста в области Data Science.\n",
        "\n",
        "Василий представляет вам набор данных о добыче газа на своих скважинах. Файл с данными вы можете скачать на платформе.\n",
        "\n",
        "**Признаки в данных:**\n",
        "\n",
        "* Well — идентификатор скважины;\n",
        "* Por — пористость скважины (%);\n",
        "* Perm — проницаемость скважины;\n",
        "* AI — акустический импеданс ($кг/м^2 * 10^6$);\n",
        "* Brittle — коэффициент хрупкости скважины (%);\n",
        "* TOC — общий органический углерод (%);\n",
        "* VR — коэффициент отражения витринита (%);\n",
        "* Prod — добыча газа в сутки (млн. кубических футов).\n",
        "\n",
        "**Ваша задача** — построить регрессионную модель, которая прогнозирует выработку газа на скважине (целевой признак — Prod) на основе остальных характеристик скважины, и проинтерпретировать результаты вашей модели.\n",
        "\n",
        "Разделим задачу на две части:\n",
        "* В первой мы построим простейшую модель линейной регрессии, проанализируем результаты её работы и выберем наиболее значимые факторы для прогнозирования.\n",
        "* Во второй мы займёмся построением модели полиномиальной регрессии с регуляризацией и посмотрим на итоговые результаты моделирования.\n"
      ]
    },
    {
      "cell_type": "markdown",
      "id": "d67d069e",
      "metadata": {
        "id": "d67d069e"
      },
      "source": [
        "Импортируем необходимые библиотеки:"
      ]
    },
    {
      "cell_type": "code",
      "execution_count": 87,
      "id": "83a555bc-8dff-4b7e-bba1-cd4f4a9e69b2",
      "metadata": {
        "id": "83a555bc-8dff-4b7e-bba1-cd4f4a9e69b2"
      },
      "outputs": [],
      "source": [
        "# Импорт библиотек\n",
        "import numpy as np # для работы с массивами\n",
        "import pandas as pd # для работы с DataFrame \n",
        "import seaborn as sns # библиотека для визуализации статистических данных\n",
        "import matplotlib.pyplot as plt # для построения графиков\n",
        "\n",
        "%matplotlib inline"
      ]
    },
    {
      "cell_type": "markdown",
      "id": "e689ddaf",
      "metadata": {
        "id": "e689ddaf"
      },
      "source": [
        "Прочитаем исходные данные:"
      ]
    },
    {
      "cell_type": "code",
      "execution_count": 88,
      "id": "b7b5cd9b-703f-4dbc-a6e3-61d583eafcac",
      "metadata": {
        "colab": {
          "base_uri": "https://localhost:8080/",
          "height": 206
        },
        "id": "b7b5cd9b-703f-4dbc-a6e3-61d583eafcac",
        "outputId": "d4e99a48-2a0d-4edd-f86c-617c44bf36d2"
      },
      "outputs": [
        {
          "data": {
            "text/html": [
              "<div>\n",
              "<style scoped>\n",
              "    .dataframe tbody tr th:only-of-type {\n",
              "        vertical-align: middle;\n",
              "    }\n",
              "\n",
              "    .dataframe tbody tr th {\n",
              "        vertical-align: top;\n",
              "    }\n",
              "\n",
              "    .dataframe thead th {\n",
              "        text-align: right;\n",
              "    }\n",
              "</style>\n",
              "<table border=\"1\" class=\"dataframe\">\n",
              "  <thead>\n",
              "    <tr style=\"text-align: right;\">\n",
              "      <th></th>\n",
              "      <th>Well</th>\n",
              "      <th>Por</th>\n",
              "      <th>Perm</th>\n",
              "      <th>AI</th>\n",
              "      <th>Brittle</th>\n",
              "      <th>TOC</th>\n",
              "      <th>VR</th>\n",
              "      <th>Prod</th>\n",
              "    </tr>\n",
              "  </thead>\n",
              "  <tbody>\n",
              "    <tr>\n",
              "      <th>0</th>\n",
              "      <td>1</td>\n",
              "      <td>12.08</td>\n",
              "      <td>2.92</td>\n",
              "      <td>2.80</td>\n",
              "      <td>81.40</td>\n",
              "      <td>1.16</td>\n",
              "      <td>2.31</td>\n",
              "      <td>4165.196191</td>\n",
              "    </tr>\n",
              "    <tr>\n",
              "      <th>1</th>\n",
              "      <td>2</td>\n",
              "      <td>12.38</td>\n",
              "      <td>3.53</td>\n",
              "      <td>3.22</td>\n",
              "      <td>46.17</td>\n",
              "      <td>0.89</td>\n",
              "      <td>1.88</td>\n",
              "      <td>3561.146205</td>\n",
              "    </tr>\n",
              "    <tr>\n",
              "      <th>2</th>\n",
              "      <td>3</td>\n",
              "      <td>14.02</td>\n",
              "      <td>2.59</td>\n",
              "      <td>4.01</td>\n",
              "      <td>72.80</td>\n",
              "      <td>0.89</td>\n",
              "      <td>2.72</td>\n",
              "      <td>4284.348574</td>\n",
              "    </tr>\n",
              "    <tr>\n",
              "      <th>3</th>\n",
              "      <td>4</td>\n",
              "      <td>17.67</td>\n",
              "      <td>6.75</td>\n",
              "      <td>2.63</td>\n",
              "      <td>39.81</td>\n",
              "      <td>1.08</td>\n",
              "      <td>1.88</td>\n",
              "      <td>5098.680869</td>\n",
              "    </tr>\n",
              "    <tr>\n",
              "      <th>4</th>\n",
              "      <td>5</td>\n",
              "      <td>17.52</td>\n",
              "      <td>4.57</td>\n",
              "      <td>3.18</td>\n",
              "      <td>10.94</td>\n",
              "      <td>1.51</td>\n",
              "      <td>1.90</td>\n",
              "      <td>3406.132832</td>\n",
              "    </tr>\n",
              "  </tbody>\n",
              "</table>\n",
              "</div>"
            ],
            "text/plain": [
              "   Well    Por  Perm    AI  Brittle   TOC    VR         Prod\n",
              "0     1  12.08  2.92  2.80    81.40  1.16  2.31  4165.196191\n",
              "1     2  12.38  3.53  3.22    46.17  0.89  1.88  3561.146205\n",
              "2     3  14.02  2.59  4.01    72.80  0.89  2.72  4284.348574\n",
              "3     4  17.67  6.75  2.63    39.81  1.08  1.88  5098.680869\n",
              "4     5  17.52  4.57  3.18    10.94  1.51  1.90  3406.132832"
            ]
          },
          "execution_count": 88,
          "metadata": {},
          "output_type": "execute_result"
        }
      ],
      "source": [
        "data = pd.read_csv('data/unconv.zip')\n",
        "data.head()"
      ]
    },
    {
      "cell_type": "markdown",
      "id": "58639b40",
      "metadata": {
        "id": "58639b40"
      },
      "source": [
        "## Практика: линейная регрессия по методу наименьших квадратов"
      ]
    },
    {
      "cell_type": "markdown",
      "id": "a90535b8",
      "metadata": {
        "id": "a90535b8"
      },
      "source": [
        "Для начала построим простейшую модель линейной регрессии, проанализируем результаты её работы и выберем наиболее значимые факторы для прогнозирования.\n",
        "\n",
        "В первой части вам предстоит выполнить задания 5.0–5.6. Максимальное количество баллов, которое можно получить, — 9."
      ]
    },
    {
      "cell_type": "markdown",
      "id": "4061b706",
      "metadata": {
        "id": "4061b706"
      },
      "source": [
        "### Задание 5.0. (не оценивается)\n",
        "\n",
        "Проведите небольшой разведывательный анализ, чтобы поближе познакомиться с исходными данными. Постройте несколько визуализаций, которые помогут вам понять, как устроены исходные признаки, а также смогут продемонстрировать взаимосвязь факторов. \n",
        "\n",
        "Сделайте промежуточные выводы из проведённого разведывательного анализа."
      ]
    },
    {
      "cell_type": "code",
      "execution_count": 89,
      "id": "daf1ccc7",
      "metadata": {
        "id": "daf1ccc7"
      },
      "outputs": [
        {
          "name": "stdout",
          "output_type": "stream",
          "text": [
            "<class 'pandas.core.frame.DataFrame'>\n",
            "RangeIndex: 200 entries, 0 to 199\n",
            "Data columns (total 8 columns):\n",
            " #   Column   Non-Null Count  Dtype  \n",
            "---  ------   --------------  -----  \n",
            " 0   Well     200 non-null    int64  \n",
            " 1   Por      200 non-null    float64\n",
            " 2   Perm     200 non-null    float64\n",
            " 3   AI       200 non-null    float64\n",
            " 4   Brittle  200 non-null    float64\n",
            " 5   TOC      200 non-null    float64\n",
            " 6   VR       200 non-null    float64\n",
            " 7   Prod     200 non-null    float64\n",
            "dtypes: float64(7), int64(1)\n",
            "memory usage: 12.6 KB\n",
            "             Well         Por        Perm          AI     Brittle         TOC  \\\n",
            "count  200.000000  200.000000  200.000000  200.000000  200.000000  200.000000   \n",
            "mean   100.500000   14.991150    4.330750    2.968850   48.161950    0.990450   \n",
            "std     57.879185    2.971176    1.731014    0.566885   14.129455    0.481588   \n",
            "min      1.000000    6.550000    1.130000    1.280000   10.940000   -0.190000   \n",
            "25%     50.750000   12.912500    3.122500    2.547500   37.755000    0.617500   \n",
            "50%    100.500000   15.070000    4.035000    2.955000   49.510000    1.030000   \n",
            "75%    150.250000   17.402500    5.287500    3.345000   58.262500    1.350000   \n",
            "max    200.000000   23.550000    9.870000    4.630000   84.330000    2.180000   \n",
            "\n",
            "               VR         Prod  \n",
            "count  200.000000   200.000000  \n",
            "mean     1.964300  4311.219852  \n",
            "std      0.300827   992.038414  \n",
            "min      0.930000  2107.139414  \n",
            "25%      1.770000  3618.064513  \n",
            "50%      1.960000  4284.687348  \n",
            "75%      2.142500  5086.089761  \n",
            "max      2.870000  6662.622385  \n"
          ]
        },
        {
          "data": {
            "image/png": "[encoded data removed]",
            "text/plain": [
              "<Figure size 1000x800 with 2 Axes>"
            ]
          },
          "metadata": {},
          "output_type": "display_data"
        },
        {
          "data": {
            "image/png": "[encoded data removed]",
            "text/plain": [
              "<Figure size 1000x800 with 2 Axes>"
            ]
          },
          "metadata": {},
          "output_type": "display_data"
        },
        {
          "data": {
            "image/png": "[encoded data removed]",
            "text/plain": [
              "<Figure size 1000x800 with 2 Axes>"
            ]
          },
          "metadata": {},
          "output_type": "display_data"
        },
        {
          "data": {
            "image/png": "[encoded data removed]",
            "text/plain": [
              "<Figure size 1000x800 with 2 Axes>"
            ]
          },
          "metadata": {},
          "output_type": "display_data"
        },
        {
          "data": {
            "image/png": "[encoded data removed]",
            "text/plain": [
              "<Figure size 1000x800 with 2 Axes>"
            ]
          },
          "metadata": {},
          "output_type": "display_data"
        },
        {
          "data": {
            "image/png": "[encoded data removed]",
            "text/plain": [
              "<Figure size 1000x800 with 2 Axes>"
            ]
          },
          "metadata": {},
          "output_type": "display_data"
        }
      ],
      "source": [
        "# Ваш код здесь\n",
        "# посмотрим на данные стандартными методами info и describe\n",
        "data.info()\n",
        "\n",
        "print(data.describe())\n",
        "\n",
        "# посмотрим на взаимосвязь завимостей через графики\n",
        "\n",
        "#сделаем временную таблицу без лишних столбцов\n",
        "temp_data = data.drop(['Prod', 'Well'], axis=1)\n",
        "\n",
        "#построим фигуру с использованием циклов по столбцам\n",
        "for i in temp_data.columns:\n",
        "    fig, axes = plt.subplots(nrows=2, ncols=1, figsize=(10, 8))\n",
        "    sns.scatterplot(\n",
        "        x=temp_data[i], \n",
        "        y=data['Prod'], \n",
        "        legend=True, \n",
        "        ax=axes[0]\n",
        "    );\n",
        "    sns.boxplot(\n",
        "        data=data,\n",
        "        #y='country',\n",
        "        x=data[i],\n",
        "        orient='h',\n",
        "        width=0.9,\n",
        "        ax=axes[1]\n",
        "    );"
      ]
    },
    {
      "cell_type": "markdown",
      "id": "19d487d9",
      "metadata": {},
      "source": [
        "#### Выводы:\n",
        "По результатам краткого разведывательного анализа и построенных графиков:\n",
        "1. Пропусков данных нет, все признаки - числовые, нулей в данных тоже нет\n",
        "2. Отмечается наличие ярко выраженной прямой зависимости между целевым признаком Prod и признаками Por, Perm, ТОС. Между остальными признаками и целевым признаком отсутствует явно выраженная прямая или обратная зависимость (нужно доп исследование с матрицей корреляций)\n",
        "3. Выбросов почти нет, большая часть значений признаков находится вблизи средних значений"
      ]
    },
    {
      "cell_type": "markdown",
      "id": "d11cb44f",
      "metadata": {
        "id": "d11cb44f"
      },
      "source": [
        "### Задание 5.1. (2 балла)\n",
        "\n",
        "Постройте корреляционную матрицу факторов, включив в неё целевой признак. \n",
        "\n",
        "Для наглядности визуализируйте полученную матрицу с помощью тепловой карты. \n",
        "\n",
        "**Примечание.** *Для визуализации вы можете использовать любую из знакомых вам библиотек.*\n",
        "\n",
        "На основе построенной корреляционной матрицы ответьте на следующий вопрос:\n",
        "\n",
        "* Какие факторы сильнее всего коррелируют с целевой переменной?\n",
        "\n",
        "Вычислите ранг и определитель полученной матрицы корреляций и приведите развёрнутые ответы на следующие вопросы:\n",
        "* Является ли корреляционная матрица плохо обусловенной (близок ли её опредитель к нулю)?\n",
        "* Что вы можете сказать о наличии коллинераности/мультиколлинеарности в данных? \n",
        "* Применима ли в данном случае модель классической линейной регрессии по методу наименьших квадратов и почему? "
      ]
    },
    {
      "cell_type": "markdown",
      "id": "57OjUl5e2oiL",
      "metadata": {
        "id": "57OjUl5e2oiL"
      },
      "source": [
        "**Критерии оценивания:**\n",
        "- Задание выполнено верно, учтены все условия (**2 балла**): \n",
        "    * приведён код для расчёта корреляционной матрицы;\n",
        "    * приведён код для визуализации корреляционной матрицы в виде тепловой карты;\n",
        "    * рассчитаны ранг и определитель корреляционной матрицы;\n",
        "    * предоставлены обоснованные ответы на все поставленные вопросы. \n",
        "\n",
        "- Задание выполнено верно, но не учтено одно условие (**1 балл**).\n",
        "- Задание выполнено неверно, не учтено несколько условий (**0 баллов**)."
      ]
    },
    {
      "cell_type": "code",
      "execution_count": 90,
      "id": "af00a5a0",
      "metadata": {
        "id": "af00a5a0"
      },
      "outputs": [
        {
          "data": {
            "text/html": [
              "<div>\n",
              "<style scoped>\n",
              "    .dataframe tbody tr th:only-of-type {\n",
              "        vertical-align: middle;\n",
              "    }\n",
              "\n",
              "    .dataframe tbody tr th {\n",
              "        vertical-align: top;\n",
              "    }\n",
              "\n",
              "    .dataframe thead th {\n",
              "        text-align: right;\n",
              "    }\n",
              "</style>\n",
              "<table border=\"1\" class=\"dataframe\">\n",
              "  <thead>\n",
              "    <tr style=\"text-align: right;\">\n",
              "      <th></th>\n",
              "      <th>Well</th>\n",
              "      <th>Por</th>\n",
              "      <th>Perm</th>\n",
              "      <th>AI</th>\n",
              "      <th>Brittle</th>\n",
              "      <th>TOC</th>\n",
              "      <th>VR</th>\n",
              "      <th>Prod</th>\n",
              "    </tr>\n",
              "  </thead>\n",
              "  <tbody>\n",
              "    <tr>\n",
              "      <th>Well</th>\n",
              "      <td>1.000000</td>\n",
              "      <td>0.068927</td>\n",
              "      <td>0.077928</td>\n",
              "      <td>0.041483</td>\n",
              "      <td>-0.079252</td>\n",
              "      <td>0.022624</td>\n",
              "      <td>-0.007279</td>\n",
              "      <td>0.026817</td>\n",
              "    </tr>\n",
              "    <tr>\n",
              "      <th>Por</th>\n",
              "      <td>0.068927</td>\n",
              "      <td>1.000000</td>\n",
              "      <td>0.760546</td>\n",
              "      <td>-0.461549</td>\n",
              "      <td>-0.218570</td>\n",
              "      <td>0.711831</td>\n",
              "      <td>0.111860</td>\n",
              "      <td>0.861910</td>\n",
              "    </tr>\n",
              "    <tr>\n",
              "      <th>Perm</th>\n",
              "      <td>0.077928</td>\n",
              "      <td>0.760546</td>\n",
              "      <td>1.000000</td>\n",
              "      <td>-0.239636</td>\n",
              "      <td>-0.124017</td>\n",
              "      <td>0.471746</td>\n",
              "      <td>0.051023</td>\n",
              "      <td>0.727426</td>\n",
              "    </tr>\n",
              "    <tr>\n",
              "      <th>AI</th>\n",
              "      <td>0.041483</td>\n",
              "      <td>-0.461549</td>\n",
              "      <td>-0.239636</td>\n",
              "      <td>1.000000</td>\n",
              "      <td>0.127599</td>\n",
              "      <td>-0.531864</td>\n",
              "      <td>0.499143</td>\n",
              "      <td>-0.390835</td>\n",
              "    </tr>\n",
              "    <tr>\n",
              "      <th>Brittle</th>\n",
              "      <td>-0.079252</td>\n",
              "      <td>-0.218570</td>\n",
              "      <td>-0.124017</td>\n",
              "      <td>0.127599</td>\n",
              "      <td>1.000000</td>\n",
              "      <td>-0.214282</td>\n",
              "      <td>0.317929</td>\n",
              "      <td>0.237155</td>\n",
              "    </tr>\n",
              "    <tr>\n",
              "      <th>TOC</th>\n",
              "      <td>0.022624</td>\n",
              "      <td>0.711831</td>\n",
              "      <td>0.471746</td>\n",
              "      <td>-0.531864</td>\n",
              "      <td>-0.214282</td>\n",
              "      <td>1.000000</td>\n",
              "      <td>0.299483</td>\n",
              "      <td>0.654445</td>\n",
              "    </tr>\n",
              "    <tr>\n",
              "      <th>VR</th>\n",
              "      <td>-0.007279</td>\n",
              "      <td>0.111860</td>\n",
              "      <td>0.051023</td>\n",
              "      <td>0.499143</td>\n",
              "      <td>0.317929</td>\n",
              "      <td>0.299483</td>\n",
              "      <td>1.000000</td>\n",
              "      <td>0.323182</td>\n",
              "    </tr>\n",
              "    <tr>\n",
              "      <th>Prod</th>\n",
              "      <td>0.026817</td>\n",
              "      <td>0.861910</td>\n",
              "      <td>0.727426</td>\n",
              "      <td>-0.390835</td>\n",
              "      <td>0.237155</td>\n",
              "      <td>0.654445</td>\n",
              "      <td>0.323182</td>\n",
              "      <td>1.000000</td>\n",
              "    </tr>\n",
              "  </tbody>\n",
              "</table>\n",
              "</div>"
            ],
            "text/plain": [
              "             Well       Por      Perm        AI   Brittle       TOC        VR  \\\n",
              "Well     1.000000  0.068927  0.077928  0.041483 -0.079252  0.022624 -0.007279   \n",
              "Por      0.068927  1.000000  0.760546 -0.461549 -0.218570  0.711831  0.111860   \n",
              "Perm     0.077928  0.760546  1.000000 -0.239636 -0.124017  0.471746  0.051023   \n",
              "AI       0.041483 -0.461549 -0.239636  1.000000  0.127599 -0.531864  0.499143   \n",
              "Brittle -0.079252 -0.218570 -0.124017  0.127599  1.000000 -0.214282  0.317929   \n",
              "TOC      0.022624  0.711831  0.471746 -0.531864 -0.214282  1.000000  0.299483   \n",
              "VR      -0.007279  0.111860  0.051023  0.499143  0.317929  0.299483  1.000000   \n",
              "Prod     0.026817  0.861910  0.727426 -0.390835  0.237155  0.654445  0.323182   \n",
              "\n",
              "             Prod  \n",
              "Well     0.026817  \n",
              "Por      0.861910  \n",
              "Perm     0.727426  \n",
              "AI      -0.390835  \n",
              "Brittle  0.237155  \n",
              "TOC      0.654445  \n",
              "VR       0.323182  \n",
              "Prod     1.000000  "
            ]
          },
          "metadata": {},
          "output_type": "display_data"
        },
        {
          "name": "stdout",
          "output_type": "stream",
          "text": [
            "Ранг матрицы корреляций: 8\n",
            "Определитель матрицы корреляций: 0.0007299388072652082\n"
          ]
        },
        {
          "data": {
            "image/png": "[encoded data removed]",
            "text/plain": [
              "<Figure size 640x480 with 2 Axes>"
            ]
          },
          "metadata": {},
          "output_type": "display_data"
        }
      ],
      "source": [
        "# Ваш код здесь\n",
        "# корреляционная матрица\n",
        "display(data.corr())\n",
        "\n",
        "#визуализация матрицы в виде тепловой карты\n",
        "sns.heatmap(data.corr(), annot=True)\n",
        "\n",
        "# переводим в ряды, считаем ранг и определитель\n",
        "A = data.corr().values\n",
        "print(f'Ранг матрицы корреляций: {np.linalg.matrix_rank(A)}')\n",
        "print(f'Определитель матрицы корреляций: {np.linalg.det(A)}')"
      ]
    },
    {
      "cell_type": "markdown",
      "id": "9a56013d",
      "metadata": {
        "id": "9a56013d"
      },
      "source": [
        "#### Выводы:\n",
        "1. Сильнее всего коррелируют с целевой переменной факторы Por, Perm, TOC\n",
        "2. Корреляционная матрица является плохо обусловенной (её опредитель близок к нулю)\n",
        "3. Т.к. ранг равен количеству столбцов, то чистой коллинераности/мультиколлинеарности в данных нет, но определитель всё равно очень близок к нулю, т.е. сказывается сильное влиение показателя Por c коэффициентом корреляции 0,86\n",
        "4. В данном случае модель классической линейной регрессии по методу наименьших квадратов можно применить, т.к. определитель не равен нулю, а ранг матрицы корреляций равен количеству неизвестных, но возможны проблемы с стабильностью весов получаемых коэффициентов в модели."
      ]
    },
    {
      "cell_type": "markdown",
      "id": "43fd91c4",
      "metadata": {
        "id": "43fd91c4"
      },
      "source": [
        "### Задание 5.2. (2 балла)\n",
        "\n",
        "Создайте матрицу наблюдений `X` и вектор правильных ответов `y`. В качестве факторов для матрицы наблюдений возьмите все имеющиеся в данных признаки. \n",
        "\n",
        "Постройте модель линейной регрессии по методу наименьших квадратов. Для этого воспользуйтесь матричной формулой МНК и инструментарием библиотеки numpy. \n",
        "\n",
        "Выведите на экран полученные оценки коэффициентов модели, округлённые до целого.\n",
        "\n",
        "Приведите подробные выводы по полученным результатам, ответив на следующие вопросы:\n",
        "* Есть ли в ваших данных признаки, которые, согласно модели, можно назвать неинформативными, то есть они не оказывают влияния на целевую переменную или оказывают шумовое влияние?\n",
        "* Приведите интерпретацию нескольких (двух или трёх) коэффициентов полученной модели линейной регрессии.\n"
      ]
    },
    {
      "cell_type": "markdown",
      "id": "QtNtTUzI4Cpq",
      "metadata": {
        "id": "QtNtTUzI4Cpq"
      },
      "source": [
        "**Критерии оценивания:**\n",
        "- Задание выполнено верно, учтены все условия (**2 балла**): \n",
        "    * приведён код для нахождения параметров модели линейной регрессии с помощью матричной формулы МНК;\n",
        "    * на основе полученных параметров даны верные ответы на поставленные вопросы;\n",
        "    * приведена корректная интерпретация нескольких коэффициентов полученной модели линейной регрессии.\n",
        "\n",
        "- Задание выполнено верно, но не учтено одно из условий (**1 балл**).\n",
        "- Задание выполнено неверно, не учтено несколько условий (**0 баллов**)."
      ]
    },
    {
      "cell_type": "code",
      "execution_count": 91,
      "id": "5724288c",
      "metadata": {
        "id": "5724288c"
      },
      "outputs": [
        {
          "data": {
            "text/html": [
              "<div>\n",
              "<style scoped>\n",
              "    .dataframe tbody tr th:only-of-type {\n",
              "        vertical-align: middle;\n",
              "    }\n",
              "\n",
              "    .dataframe tbody tr th {\n",
              "        vertical-align: top;\n",
              "    }\n",
              "\n",
              "    .dataframe thead th {\n",
              "        text-align: right;\n",
              "    }\n",
              "</style>\n",
              "<table border=\"1\" class=\"dataframe\">\n",
              "  <thead>\n",
              "    <tr style=\"text-align: right;\">\n",
              "      <th></th>\n",
              "      <th>Признаки</th>\n",
              "      <th>Коэффициенты модели</th>\n",
              "    </tr>\n",
              "  </thead>\n",
              "  <tbody>\n",
              "    <tr>\n",
              "      <th>0</th>\n",
              "      <td>w0</td>\n",
              "      <td>-1232.0</td>\n",
              "    </tr>\n",
              "    <tr>\n",
              "      <th>1</th>\n",
              "      <td>Well</td>\n",
              "      <td>0.0</td>\n",
              "    </tr>\n",
              "    <tr>\n",
              "      <th>2</th>\n",
              "      <td>Por</td>\n",
              "      <td>230.0</td>\n",
              "    </tr>\n",
              "    <tr>\n",
              "      <th>3</th>\n",
              "      <td>Perm</td>\n",
              "      <td>116.0</td>\n",
              "    </tr>\n",
              "    <tr>\n",
              "      <th>4</th>\n",
              "      <td>AI</td>\n",
              "      <td>-365.0</td>\n",
              "    </tr>\n",
              "    <tr>\n",
              "      <th>5</th>\n",
              "      <td>Brittle</td>\n",
              "      <td>25.0</td>\n",
              "    </tr>\n",
              "    <tr>\n",
              "      <th>6</th>\n",
              "      <td>TOC</td>\n",
              "      <td>-78.0</td>\n",
              "    </tr>\n",
              "    <tr>\n",
              "      <th>7</th>\n",
              "      <td>VR</td>\n",
              "      <td>785.0</td>\n",
              "    </tr>\n",
              "  </tbody>\n",
              "</table>\n",
              "</div>"
            ],
            "text/plain": [
              "  Признаки  Коэффициенты модели\n",
              "0       w0              -1232.0\n",
              "1     Well                  0.0\n",
              "2      Por                230.0\n",
              "3     Perm                116.0\n",
              "4       AI               -365.0\n",
              "5  Brittle                 25.0\n",
              "6      TOC                -78.0\n",
              "7       VR                785.0"
            ]
          },
          "execution_count": 91,
          "metadata": {},
          "output_type": "execute_result"
        }
      ],
      "source": [
        "# Ваш код здесь\n",
        "\n",
        "# создаем df только с признаками, добавляем столбец в единицами, выделяем целевой признак в отдельный df\n",
        "X = data.drop('Prod', axis=1)\n",
        "X = np.column_stack((np.ones(200), X)) \n",
        "y = data[['Prod']]\n",
        "\n",
        "# вычислим OLS-оценку для коэффициентов\n",
        "w_hat = np.linalg.inv(X.T@X)@X.T@y\n",
        "\n",
        "#оформим коэффициенты в виде таблицы\n",
        "coef_list = ['w0'] + list(data.columns)\n",
        "coef_list.remove('Prod')\n",
        "df_coef  = pd.DataFrame({'Признаки':coef_list})\n",
        "df_coef['Коэффициенты модели'] = round(pd.DataFrame(w_hat.values))\n",
        "\n",
        "df_coef\n"
      ]
    },
    {
      "cell_type": "markdown",
      "id": "bab9ee21",
      "metadata": {
        "id": "bab9ee21"
      },
      "source": [
        "#### Выводы:\n",
        "1. В данных есть признаки, которые, согласно модели, можно назвать неинформативными, то есть они не оказывают влияния на целевую переменную или оказывают шумовое влияние. Это признак Well (это идентификатор скважины). Его коэффициент в модели после округления равен 0.\n",
        "2. Интерпретация трёх коэффициентов в модели:\n",
        "   * Каждое увеличение показателя пористости скважины (признак Por) на 1% ожидаемо будет увеличивать добычу газа на ней на 230 млн. куб.футов/сутки\n",
        "   * Каждое увеличение показателя проницаемости скважины (признак Perm) на 1 ожидаемо будет увеличивать добычу газа на ней на 116 млн. куб.футов/сутки\n",
        "   * Каждое увеличение показателя общего органического углерода скважины (признак TOC) на 1% ожидаемо будет снижать добычу газа на ней на 78 млн. куб.футов/сутки"
      ]
    },
    {
      "cell_type": "markdown",
      "id": "4a05a4ac",
      "metadata": {
        "id": "4a05a4ac"
      },
      "source": [
        "### Задание 5.3. (1 балл)\n",
        "\n",
        "Теперь потренируемся строить предсказание для наблюдений целевой переменной. \n",
        "\n",
        "**а)** Постройте прогноз выработки газа для скважины со следующими параметрами:\n",
        "\n",
        "```python\n",
        "{\n",
        "    'Well': 106.0,\n",
        "    'Por': 15.32,\n",
        "    'Perm': 3.71,\n",
        "    'AI': 3.29,\n",
        "    'Brittle': 55.99,\n",
        "    'TOC': 1.35,\n",
        "    'VR': 2.42\n",
        " }\n",
        "```\n",
        "\n",
        "Рассчитайте абсолютную ошибку построенного вами прогноза для предложенной скважины (в миллионах кубических футов в день), если известно, что на этой скважине производится `4748.315024` миллионов кубических футов газа в день. \n",
        "\n",
        "**б)** Постройте прогноз выработки газа для всех скважин из обучающего набора данных. Выберите метрику, по которой вы будете оценивать качество регрессионных моделей и сравнивать их между собой (можно использовать несколько метрик, но не более двух).\n",
        "\n",
        "Рассчитайте значение выбранной метрики для вашей модели. Приведите интерпретацию полученного результата. "
      ]
    },
    {
      "cell_type": "markdown",
      "id": "qUDcep5Q5GWU",
      "metadata": {
        "id": "qUDcep5Q5GWU"
      },
      "source": [
        "**Критерии оценивания:**\n",
        "- Задание выполнено верно, учтены все условия (**1 балл**): \n",
        "    * приведён код для построения прогноза выработки газа на указанной скважине и рассчитана абсолютная ошибка прогноза для этой скважины;\n",
        "    * выбрана корректная для поставленной задачи метрика (или метрики) оценки качества модели и приведён код для расчёта этой метрики на всём обучающем наборе данных;\n",
        "    * приведена корректная интерпретация полученного результата.\n",
        "\n",
        "- Задание выполнено верно, но не учтено одно из условий, или задание выполнено неверно (**0 баллов**)."
      ]
    },
    {
      "cell_type": "code",
      "execution_count": 92,
      "id": "e4291db0",
      "metadata": {
        "id": "e4291db0"
      },
      "outputs": [
        {
          "name": "stdout",
          "output_type": "stream",
          "text": [
            "Прогноз по новой скважине - 4715.26 млн. куб. футов в сутки\n",
            "Абсолютная ошибка прогноза - -33.06 млн. куб. футов в сутки\n",
            "MAE -  154.56 млн. куб. футов в сутки\n",
            "MAPE - 3.65 %\n"
          ]
        }
      ],
      "source": [
        "# Ваш код здесь\n",
        "\n",
        "#используем словарь с новыми данными\n",
        "new_well = {\n",
        "    'Well': 106.0,\n",
        "    'Por': 15.32,\n",
        "    'Perm': 3.71,\n",
        "    'AI': 3.29,\n",
        "    'Brittle': 55.99,\n",
        "    'TOC': 1.35,\n",
        "    'VR': 2.42\n",
        "}\n",
        "\n",
        "#занесем данные по новой скважине в df c коэффициентами\n",
        "df_coef['Новая скважина'] = df_coef['Признаки'].apply(lambda x: new_well[x] if x in new_well.keys() else 1)\n",
        "\n",
        "#сделаем прогноз по новой скважине\n",
        "df_coef['Прогноз по новой скважине'] = df_coef['Новая скважина'] * df_coef['Коэффициенты модели']\n",
        "print(f\"Прогноз по новой скважине - {df_coef['Прогноз по новой скважине'].sum()} млн. куб. футов в сутки\")\n",
        "\n",
        "#абсолютная ошибка построенного прогноза\n",
        "print(f\"Абсолютная ошибка прогноза - {round(df_coef['Прогноз по новой скважине'].sum() - 4748.315024, 2)} млн. куб. футов в сутки\")\n",
        "\n",
        "\n",
        "#вот ещё короткий способ сделать прогноз\n",
        "#new=np.array([1]+list(new_well.values()))\n",
        "#print('prediction:', (new@(round(w_hat))).values)\n",
        "#prediction: [4715.26]\n",
        "\n",
        "\n",
        "#Построим прогноз выработки газа для всех скважин из обучающего набора данных. \n",
        "#Используем метрики MAE и MAPE\n",
        "\n",
        "prediction_list_mae = []\n",
        "prediction_list_mape = []\n",
        "\n",
        "for i in range(data.shape[0]):\n",
        "    exist_pred = np.array([1]+list(data.iloc[i,:].drop('Prod',axis=0)))\n",
        "    prediction_list_mae.append(abs(data['Prod'][i]-(exist_pred@(round(w_hat))).values[0]))\n",
        "    prediction_list_mape.append(abs((data['Prod'][i]-(exist_pred@(round(w_hat))).values[0])/data['Prod'][i]))\n",
        "\n",
        "print(f'MAE -  {round(sum(prediction_list_mae)/data.shape[0],2)} млн. куб. футов в сутки')\n",
        "print(f'MAPE - {round(sum(prediction_list_mape)/data.shape[0]*100, 2)} %')"
      ]
    },
    {
      "cell_type": "markdown",
      "id": "c9bee4bc",
      "metadata": {
        "id": "c9bee4bc"
      },
      "source": [
        "#### Выводы:\n",
        "1. Прогноз по новой скважине - 4715.26 млн. куб. футов в сутки\n",
        "2. Абсолютная ошибка прогноза - -33.06 млн. куб. футов в сутки\n",
        "3. Для оценки качества модели будут использованы метрики MAE и MAPE, т.к. по ним можно дать корректную интерпретацию в отличие от например, метрик MSE, коэффициента детерминации и т.д.\n",
        "4. По результатам полученных метрик предсказание модели в среднем отличается от истинного значения на 154,56 млн. куб. футов в сутки или 3,65%"
      ]
    },
    {
      "cell_type": "markdown",
      "id": "0c25c3aa",
      "metadata": {
        "id": "0c25c3aa"
      },
      "source": [
        "### Задание 5.4. (1 балл)\n",
        "\n",
        "Настало время анализа построенной модели. Посмотрите на коэффициенты и сравните их знаки со значениями выборочных корреляций между целевым признаком и факторами, которые вы нашли ранее.\n",
        "\n",
        "Дайте развёрнутые ответы на следующие вопросы:\n",
        "\n",
        "* Есть ли в вашей модели фактор, при котором коэффициент в модели линейной регрессии противоречит соответствующему коэффициенту корреляции? Например, корреляция говорит, что зависимость между фактором и целевой переменной прямая, а модель говорит обратное. Если таких факторов несколько, укажите их все.\n",
        "* Как вы считаете, с чем связано полученное противоречие результатов?"
      ]
    },
    {
      "cell_type": "markdown",
      "id": "ngJ3UdYb6Ll6",
      "metadata": {
        "id": "ngJ3UdYb6Ll6"
      },
      "source": [
        "**Критерии оценивания:**\n",
        "\n",
        "- Задание выполнено верно, даны корректные развёрнутые ответы на все поставленные в задании вопросы (**1 балл**). \n",
        "\n",
        "- Задание выполнено неверно, даны некорректные ответы на один или несколько поставленных в задании вопросов (**0 баллов**)."
      ]
    },
    {
      "cell_type": "code",
      "execution_count": 93,
      "id": "v-zIxRPY9wK7",
      "metadata": {
        "id": "v-zIxRPY9wK7"
      },
      "outputs": [
        {
          "data": {
            "text/html": [
              "<div>\n",
              "<style scoped>\n",
              "    .dataframe tbody tr th:only-of-type {\n",
              "        vertical-align: middle;\n",
              "    }\n",
              "\n",
              "    .dataframe tbody tr th {\n",
              "        vertical-align: top;\n",
              "    }\n",
              "\n",
              "    .dataframe thead th {\n",
              "        text-align: right;\n",
              "    }\n",
              "</style>\n",
              "<table border=\"1\" class=\"dataframe\">\n",
              "  <thead>\n",
              "    <tr style=\"text-align: right;\">\n",
              "      <th></th>\n",
              "      <th>Признаки</th>\n",
              "      <th>Коэффициенты модели</th>\n",
              "      <th>Коэффициенты корреляции</th>\n",
              "    </tr>\n",
              "  </thead>\n",
              "  <tbody>\n",
              "    <tr>\n",
              "      <th>0</th>\n",
              "      <td>w0</td>\n",
              "      <td>-1232.0</td>\n",
              "      <td>0.00</td>\n",
              "    </tr>\n",
              "    <tr>\n",
              "      <th>1</th>\n",
              "      <td>Well</td>\n",
              "      <td>0.0</td>\n",
              "      <td>0.03</td>\n",
              "    </tr>\n",
              "    <tr>\n",
              "      <th>2</th>\n",
              "      <td>Por</td>\n",
              "      <td>230.0</td>\n",
              "      <td>0.86</td>\n",
              "    </tr>\n",
              "    <tr>\n",
              "      <th>3</th>\n",
              "      <td>Perm</td>\n",
              "      <td>116.0</td>\n",
              "      <td>0.73</td>\n",
              "    </tr>\n",
              "    <tr>\n",
              "      <th>4</th>\n",
              "      <td>AI</td>\n",
              "      <td>-365.0</td>\n",
              "      <td>-0.39</td>\n",
              "    </tr>\n",
              "    <tr>\n",
              "      <th>5</th>\n",
              "      <td>Brittle</td>\n",
              "      <td>25.0</td>\n",
              "      <td>0.24</td>\n",
              "    </tr>\n",
              "    <tr>\n",
              "      <th>6</th>\n",
              "      <td>TOC</td>\n",
              "      <td>-78.0</td>\n",
              "      <td>0.65</td>\n",
              "    </tr>\n",
              "    <tr>\n",
              "      <th>7</th>\n",
              "      <td>VR</td>\n",
              "      <td>785.0</td>\n",
              "      <td>0.32</td>\n",
              "    </tr>\n",
              "  </tbody>\n",
              "</table>\n",
              "</div>"
            ],
            "text/plain": [
              "  Признаки  Коэффициенты модели  Коэффициенты корреляции\n",
              "0       w0              -1232.0                     0.00\n",
              "1     Well                  0.0                     0.03\n",
              "2      Por                230.0                     0.86\n",
              "3     Perm                116.0                     0.73\n",
              "4       AI               -365.0                    -0.39\n",
              "5  Brittle                 25.0                     0.24\n",
              "6      TOC                -78.0                     0.65\n",
              "7       VR                785.0                     0.32"
            ]
          },
          "execution_count": 93,
          "metadata": {},
          "output_type": "execute_result"
        }
      ],
      "source": [
        "# Ваш код здесь\n",
        "# Добавим коэффициенты корреляции в таблицу коэффициентов для наглядности\n",
        "\n",
        "df_coef['Коэффициенты корреляции'] = df_coef['Признаки'].apply(lambda x: round(data.corr()['Prod'][x],2) if x in data.corr()['Prod'].keys() else 0)\n",
        "df_coef[['Признаки','Коэффициенты модели','Коэффициенты корреляции']]"
      ]
    },
    {
      "cell_type": "markdown",
      "id": "qeowwIp99yBf",
      "metadata": {
        "id": "qeowwIp99yBf"
      },
      "source": [
        "#### Выводы:\n",
        "1. В модели есть фактор, при котором коэффициент в модели линейной регрессии противоречит соответствующему коэффициенту корреляции, т.е. корреляция говорит, что зависимость между фактором и целевой переменной прямая, а модель говорит обратное. Это фактор ТОС.\n",
        "2. Данное обстоятельноство связано с тем, что матрица корреляций практически вырождена (определитель близок к нулю), т.е. между некоторыми признаками есть достаточно высокая корреляция (в данном случае это факторы ТОС и Perm). Поэтому в модели у них будут коэффициенты с противоположными знаками. "
      ]
    },
    {
      "cell_type": "markdown",
      "id": "9cea9195",
      "metadata": {
        "id": "9cea9195"
      },
      "source": [
        "### Задание 5.5. (2 балла)\n",
        "\n",
        "* Исключите из данных сильно коррелированные между собой факторы. Под сильной корреляцией в данной задаче будем понимать значения выше `0.7`.\n",
        "\n",
        "Выбирая, какой из коррелированных факторов оставить, руководствуйтесь коэффициентом корреляции с целевой переменной: оставляйте тот фактор, который больше всего коррелирует с целевой переменной (объёмом добычи газа).\n",
        "\n",
        "* Также исключите из данных факторы, для которых корреляция с целевой переменной меньше `0.05`.\n",
        "\n",
        "Постройте модель линейной регрессии на обновлённых после удаления факторов данных по методу наименьших квадратов. Для этого используйте матричную формулу и библиотеку numpy. Выведите значение полученных коэффициентов, округлённых до целого.\n",
        "\n",
        "Сделайте прогноз для всего обучающего набора данных и рассчитайте выбранную вами ранее метрику (или метрики). \n",
        "\n",
        "Дайте подробные ответы на следующие вопросы:\n",
        "\n",
        "* Приведите интерпретацию нескольких полученных коэффициентов (двух или трёх). Сравните их значения с полученными ранее.\n",
        "* Приведите интерпретацию полученных значений метрик. Сравните их значения с полученными ранее. \n",
        "* Удалось ли вам побороть противоречие коэффициентов линейной регрессии и коэффициентов корреляции?"
      ]
    },
    {
      "cell_type": "markdown",
      "id": "vlUYVjJP6oXN",
      "metadata": {
        "id": "vlUYVjJP6oXN"
      },
      "source": [
        "**Критерии оценивания:**\n",
        "- Задание выполнено верно, учтены все условия (**2 балла**): \n",
        "    * отобраны верные факторы;\n",
        "    * на основе отобранных факторов построена модель линейной регрессии с помощью матричной формулы МНК и найдены параметры модели, соответствующие каждому из факторов;\n",
        "    * построен прогноз для всего обучающего набора данных и рассчитано значение метрики (метрика должна быть выбрана корректно);\n",
        "    * даны ответы на все поставленные в задании вопросы.\n",
        "\n",
        "- Задание выполнено верно, но не учтено одно из условий (**1 балл**).\n",
        "- Задание выполнено верно, не учтено несколько из условий (**0 баллов**)."
      ]
    },
    {
      "cell_type": "code",
      "execution_count": 94,
      "id": "5d5ZJ0lX_UHe",
      "metadata": {
        "id": "5d5ZJ0lX_UHe"
      },
      "outputs": [
        {
          "name": "stdout",
          "output_type": "stream",
          "text": [
            "MAE -  171.87 млн. куб. футов в сутки\n",
            "MAPE - 4.05 %\n"
          ]
        },
        {
          "data": {
            "text/html": [
              "<div>\n",
              "<style scoped>\n",
              "    .dataframe tbody tr th:only-of-type {\n",
              "        vertical-align: middle;\n",
              "    }\n",
              "\n",
              "    .dataframe tbody tr th {\n",
              "        vertical-align: top;\n",
              "    }\n",
              "\n",
              "    .dataframe thead th {\n",
              "        text-align: right;\n",
              "    }\n",
              "</style>\n",
              "<table border=\"1\" class=\"dataframe\">\n",
              "  <thead>\n",
              "    <tr style=\"text-align: right;\">\n",
              "      <th></th>\n",
              "      <th>Признаки</th>\n",
              "      <th>Коэффициенты модели</th>\n",
              "      <th>Коэффициенты корреляции</th>\n",
              "    </tr>\n",
              "  </thead>\n",
              "  <tbody>\n",
              "    <tr>\n",
              "      <th>0</th>\n",
              "      <td>w0</td>\n",
              "      <td>-1835.0</td>\n",
              "      <td>0.00</td>\n",
              "    </tr>\n",
              "    <tr>\n",
              "      <th>1</th>\n",
              "      <td>Por</td>\n",
              "      <td>293.0</td>\n",
              "      <td>0.86</td>\n",
              "    </tr>\n",
              "    <tr>\n",
              "      <th>2</th>\n",
              "      <td>AI</td>\n",
              "      <td>-200.0</td>\n",
              "      <td>-0.39</td>\n",
              "    </tr>\n",
              "    <tr>\n",
              "      <th>3</th>\n",
              "      <td>Brittle</td>\n",
              "      <td>28.0</td>\n",
              "      <td>0.24</td>\n",
              "    </tr>\n",
              "    <tr>\n",
              "      <th>4</th>\n",
              "      <td>VR</td>\n",
              "      <td>517.0</td>\n",
              "      <td>0.32</td>\n",
              "    </tr>\n",
              "  </tbody>\n",
              "</table>\n",
              "</div>"
            ],
            "text/plain": [
              "  Признаки  Коэффициенты модели  Коэффициенты корреляции\n",
              "0       w0              -1835.0                     0.00\n",
              "1      Por                293.0                     0.86\n",
              "2       AI               -200.0                    -0.39\n",
              "3  Brittle                 28.0                     0.24\n",
              "4       VR                517.0                     0.32"
            ]
          },
          "execution_count": 94,
          "metadata": {},
          "output_type": "execute_result"
        },
        {
          "data": {
            "image/png": "[encoded data removed]",
            "text/plain": [
              "<Figure size 640x480 with 2 Axes>"
            ]
          },
          "metadata": {},
          "output_type": "display_data"
        }
      ],
      "source": [
        "# Ваш код здесь\n",
        "#Посмотрим ещё раз на тепловую карту\n",
        "sns.heatmap(data.corr(), annot=True)\n",
        "\n",
        "#С учётом указанных выше условий исключим фактор Well (слишком низкий коэффициент)\n",
        "#Из пар факторов Por-Perm (коэффициент 0,76) и Por-TOC (коэффицент 0,71) оставляем фактор Por - у него выше коэффицент с целевым признаком Prod. Признаки Perm и TOC исключаем.\n",
        "\n",
        "\n",
        "#строим обновленную модель\n",
        "X = data.drop(['Prod','Well','Perm','TOC'], axis=1)\n",
        "X = np.column_stack((np.ones(200), X)) \n",
        "y = data[['Prod']]\n",
        "\n",
        "# вычислим OLS-оценку для коэффициентов\n",
        "w_hat = np.linalg.inv(X.T@X)@X.T@y\n",
        "\n",
        "#оформим коэффициенты в виде таблицы\n",
        "coef_list = ['w0'] + list(data.columns)\n",
        "unwanted = {'Prod','Well','Perm','TOC'}\n",
        "coef_list= [ele for ele in coef_list if ele not in unwanted]\n",
        "df_coef_new  = pd.DataFrame({'Признаки':coef_list})\n",
        "df_coef_new['Коэффициенты модели'] = round(pd.DataFrame(w_hat.values))\n",
        "\n",
        "\n",
        "\n",
        "#Построим прогноз выработки газа для всех скважин из обучающего набора данных\n",
        "#Используем метрики MAE и MAPE\n",
        "\n",
        "prediction_list_mae_new = []\n",
        "prediction_list_mape_new = []\n",
        "\n",
        "for i in range(data.shape[0]):\n",
        "    exist_pred = np.array([1]+list(data.iloc[i,:].drop(['Prod','Well','Perm','TOC'],axis=0)))\n",
        "    prediction_list_mae_new.append(abs(data['Prod'][i]-(exist_pred@(round(w_hat))).values[0]))\n",
        "    prediction_list_mape_new.append(abs((data['Prod'][i]-(exist_pred@(round(w_hat))).values[0])/data['Prod'][i]))\n",
        "\n",
        "print(f'MAE -  {round(sum(prediction_list_mae_new)/data.shape[0],2)} млн. куб. футов в сутки')\n",
        "print(f'MAPE - {round(sum(prediction_list_mape_new)/data.shape[0]*100, 2)} %')\n",
        "\n",
        "\n",
        "#выведем таблицу с коэффициентами для наглядности\n",
        "df_coef_new['Коэффициенты корреляции'] = df_coef_new['Признаки'].apply(lambda x: round(data.corr()['Prod'][x],2) if x in data.corr()['Prod'].keys() else 0)\n",
        "df_coef_new[['Признаки','Коэффициенты модели','Коэффициенты корреляции']]\n"
      ]
    },
    {
      "cell_type": "markdown",
      "id": "KxbYvMDo_WLe",
      "metadata": {
        "id": "KxbYvMDo_WLe"
      },
      "source": [
        "#### Выводы:\n",
        "1.  Интерпретация трёх коэффициентов в модели:\n",
        "   * Каждое увеличение показателя пористости скважины (признак Por) на 1% ожидаемо будет увеличивать добычу газа на ней на 293 млн. куб.футов/сутки\n",
        "   * Каждое увеличение показателя проницаемости акустическго импеданса (признак AI) на 1 $кг/м^2 * 10^6$ ожидаемо будет уменьшать добычу газа на ней на 200 млн. куб.футов/сутки\n",
        "   * Каждое увеличение коэффициента хрупкости скважины (признак Brittle) на 1% ожидаемо будет увеличивать добычу газа на ней на 28 млн. куб.футов/сутки\n",
        "2.  По результатам полученных метрик предсказание модели в среднем отличается от истинного значения на 171,87 млн. куб. футов в сутки или 4,05%. По сравнению с предыдущим вариатом есть ухудшение показателей метрик, но оно незначительное.\n",
        "3. Из-за исключения некоторых признаков удалось побороть противоречие коэффициентов линейной регрессии и коэффициентов корреляции (см. выведенную таблицу)"
      ]
    },
    {
      "cell_type": "markdown",
      "id": "7d50db12",
      "metadata": {
        "id": "7d50db12"
      },
      "source": [
        "### Задание 5.6. (1 балл)\n",
        "\n",
        "Наконец, давайте построим модель линейной регрессии из библиотеки `scikit-learn (sklearn)` и сравним результаты её работы с теми, что нам удалось получить вручную. \n",
        "\n",
        "Постройте модель линейной регрессии на обновлённых после удаления факторов данных по методу наименьших квадратов. Для этого воспользуйтесь классом `LinearRegression` из библиотеки `sklearn`. Выведите значения полученных коэффициентов, округлённые до целого.\n",
        "\n",
        "Сделайте прогноз для всего обучающего набора данных и рассчитайте значение выбранной вами метрики (или метрик).\n",
        "\n",
        "Сравните результаты библиотечной реализации с тем, что вы получили ранее. "
      ]
    },
    {
      "cell_type": "markdown",
      "id": "emu5D3w278JP",
      "metadata": {
        "id": "emu5D3w278JP"
      },
      "source": [
        "**Критерии оценивания:**\n",
        "\n",
        "- Задание выполнено верно, учтены все условия (**1 балл**): \n",
        "    * на основе отобранных факторов построена модель линейной регрессии из библиотеки sklearn и найдены параметры модели, соответствующие каждому из факторов;\n",
        "    * построен прогноз для всего обучающего набора данных и рассчитано значение метрики (метрика должна быть выбрана корректно);\n",
        "    * приведён вывод о соответствии результатов, полученных вручную и с помощью библиотеки.\n",
        "- Задание выполнено неверно, не учтено одно или несколько условий (**0 баллов**)."
      ]
    },
    {
      "cell_type": "code",
      "execution_count": 95,
      "id": "Gpdpfq59AKGu",
      "metadata": {
        "id": "Gpdpfq59AKGu"
      },
      "outputs": [
        {
          "name": "stdout",
          "output_type": "stream",
          "text": [
            "MAE -  171.43 млн. куб. футов в сутки\n",
            "MAPE - 4.04 %\n"
          ]
        },
        {
          "data": {
            "text/html": [
              "<div>\n",
              "<style scoped>\n",
              "    .dataframe tbody tr th:only-of-type {\n",
              "        vertical-align: middle;\n",
              "    }\n",
              "\n",
              "    .dataframe tbody tr th {\n",
              "        vertical-align: top;\n",
              "    }\n",
              "\n",
              "    .dataframe thead th {\n",
              "        text-align: right;\n",
              "    }\n",
              "</style>\n",
              "<table border=\"1\" class=\"dataframe\">\n",
              "  <thead>\n",
              "    <tr style=\"text-align: right;\">\n",
              "      <th></th>\n",
              "      <th>Признаки</th>\n",
              "      <th>Коэффициенты модели</th>\n",
              "      <th>Коэффициенты модели LR</th>\n",
              "    </tr>\n",
              "  </thead>\n",
              "  <tbody>\n",
              "    <tr>\n",
              "      <th>0</th>\n",
              "      <td>w0</td>\n",
              "      <td>-1835.0</td>\n",
              "      <td>-1835.0</td>\n",
              "    </tr>\n",
              "    <tr>\n",
              "      <th>1</th>\n",
              "      <td>Por</td>\n",
              "      <td>293.0</td>\n",
              "      <td>293.0</td>\n",
              "    </tr>\n",
              "    <tr>\n",
              "      <th>2</th>\n",
              "      <td>AI</td>\n",
              "      <td>-200.0</td>\n",
              "      <td>-200.0</td>\n",
              "    </tr>\n",
              "    <tr>\n",
              "      <th>3</th>\n",
              "      <td>Brittle</td>\n",
              "      <td>28.0</td>\n",
              "      <td>28.0</td>\n",
              "    </tr>\n",
              "    <tr>\n",
              "      <th>4</th>\n",
              "      <td>VR</td>\n",
              "      <td>517.0</td>\n",
              "      <td>517.0</td>\n",
              "    </tr>\n",
              "  </tbody>\n",
              "</table>\n",
              "</div>"
            ],
            "text/plain": [
              "  Признаки  Коэффициенты модели  Коэффициенты модели LR\n",
              "0       w0              -1835.0                 -1835.0\n",
              "1      Por                293.0                   293.0\n",
              "2       AI               -200.0                  -200.0\n",
              "3  Brittle                 28.0                    28.0\n",
              "4       VR                517.0                   517.0"
            ]
          },
          "execution_count": 95,
          "metadata": {},
          "output_type": "execute_result"
        }
      ],
      "source": [
        "# Ваш код здесь\n",
        "from sklearn.linear_model import LinearRegression\n",
        "from sklearn.metrics import mean_absolute_percentage_error\n",
        "from sklearn.metrics import mean_absolute_error\n",
        "\n",
        "# создаём модель линейной регрессии\n",
        "lr = LinearRegression(fit_intercept=False) #ставим False, т.к. уже есть столбец с единицами\n",
        "# вычисляем коэффициенты регрессии\n",
        "lr.fit(X, y)\n",
        "#print('w_hat:', model.coef_)\n",
        "\n",
        "\n",
        "#делаем предсказание\n",
        "y_pred = lr.predict(X)\n",
        "\n",
        "\n",
        "#считаем и выводим метрик\n",
        "print(f'MAE -  {round(mean_absolute_error(y, y_pred),2)} млн. куб. футов в сутки')\n",
        "print(f'MAPE - {round(mean_absolute_percentage_error(y, y_pred)*100, 2)} %')\n",
        "\n",
        "\n",
        "#выводим коэффициенты в таблице\n",
        "df_coef_new['Коэффициенты модели LR'] = round(pd.DataFrame(lr.coef_)).iloc[0,:]\n",
        "df_coef_new[['Признаки','Коэффициенты модели','Коэффициенты модели LR']]\n"
      ]
    },
    {
      "cell_type": "markdown",
      "id": "WT9cdHAbAMG7",
      "metadata": {
        "id": "WT9cdHAbAMG7"
      },
      "source": [
        "#### Выводы:\n",
        "По результатам оценки метрик: результаты, полученные путем библиотечной реалиазации sklearn сопоставимы с табличной реализацией методом OLS. Отличие в метриках - десятые доли, в коэфиицентах - не отмечается из-за использования округления до целого числа."
      ]
    },
    {
      "cell_type": "markdown",
      "id": "5346338e",
      "metadata": {
        "id": "5346338e"
      },
      "source": [
        "## Практика: полиномиальная регрессия и регуляризация"
      ]
    },
    {
      "cell_type": "markdown",
      "id": "aad9e3a6",
      "metadata": {
        "id": "aad9e3a6"
      },
      "source": [
        "Мы продолжаем работать над задачей от владельца компании «Газ-Таз-Ваз-Нефть» Василия.\n",
        "\n",
        "Ранее мы построили модель линейной регрессии, которая прогнозирует выработку газа на скважине. Для этого мы с помощью матрицы корреляций и рассуждений отобрали некоррелированные, значимые для предсказания признаки. **Далее мы будем использовать именно их (см. задание 5.5).**\n",
        "\n",
        "Мы хотим улучшить результат — уменьшить ошибку прогноза. Для этого мы воспользуемся моделью полиномиальной регрессии третьей степени. Однако теперь мы знаем, что полиномиальным моделям очень легко переобучиться под исходную выборку. Так как данных у нас не так много (всего 200 скважин), то для контроля качества модели мы будем использовать кросс-валидацию. \n",
        "\n",
        "Приступим! Выполните задания 8.1–8.5:\n"
      ]
    },
    {
      "cell_type": "code",
      "execution_count": 96,
      "id": "18506d1b",
      "metadata": {
        "id": "18506d1b"
      },
      "outputs": [],
      "source": [
        "from sklearn.preprocessing import PolynomialFeatures, StandardScaler\n",
        "from sklearn.linear_model import LinearRegression, Lasso, Ridge, ElasticNet\n",
        "from sklearn.model_selection import GridSearchCV\n",
        "from sklearn.model_selection import cross_validate"
      ]
    },
    {
      "cell_type": "markdown",
      "id": "bfbfea8d",
      "metadata": {
        "id": "bfbfea8d"
      },
      "source": [
        "### Задание 8.1. (1 балл)\n",
        "\n",
        "Стандаризируйте признаки с помощью `StandartScaler` из библиотеки `sklearn`. \n",
        "\n",
        "Затем сгенерируйте полиномиальные признаки третьего порядка на факторах, которые вы выбрали для обучения моделей. Для этого воспользуйтесь генератором полиномов `PolynomialFeatures` из библиотеки `sklearn`. Параметр `include_bias` установите в значение `False`.\n",
        "\n",
        "Выведите на экран, сколько факторов у вас получилось после генерации полиномиальных признаков.\n",
        "\n",
        "**Важно:** стандартизацию необходимо произвести до генерации полиномиальных факторов!\n",
        "\n",
        "Обучите модель линейной регрессии из библиотеки `sklearn` (`LinearRegression`) на полученных полиномиальных факторах.\n",
        "\n",
        "Используя кросс-валидацию оцените среднее значение выбранной вами метрики (или метрик) на тренировочных и валидационных фолдах.\n",
        "\n",
        "Проинтерпретируйте полученные результаты."
      ]
    },
    {
      "cell_type": "markdown",
      "id": "Y8oAhQkr8gV-",
      "metadata": {
        "id": "Y8oAhQkr8gV-"
      },
      "source": [
        "**Критерии оценивания:**\n",
        "\n",
        "- Задание выполнено верно, учтены все условия (**1 балл**): \n",
        "    * на основе отобранных факторов сгенерированы полиномиальные признаки третьего порядка;\n",
        "    * построена модель полиномиальной регрессии (линейной регрессии на полиномиальных признаках);\n",
        "    * с помощью кросс-валидации оценено среднее значение выбранной студентом метрики (или метрик) на тренировочных и валидационных фолдах (метрика должна быть выбрана корректно).\n",
        "- Задание выполнено неверно, не учтено одно или несколько из условий (**0 баллов**)."
      ]
    },
    {
      "cell_type": "code",
      "execution_count": 97,
      "id": "-ln3bx8NFNRw",
      "metadata": {
        "id": "-ln3bx8NFNRw"
      },
      "outputs": [
        {
          "data": {
            "text/html": [
              "<div>\n",
              "<style scoped>\n",
              "    .dataframe tbody tr th:only-of-type {\n",
              "        vertical-align: middle;\n",
              "    }\n",
              "\n",
              "    .dataframe tbody tr th {\n",
              "        vertical-align: top;\n",
              "    }\n",
              "\n",
              "    .dataframe thead th {\n",
              "        text-align: right;\n",
              "    }\n",
              "</style>\n",
              "<table border=\"1\" class=\"dataframe\">\n",
              "  <thead>\n",
              "    <tr style=\"text-align: right;\">\n",
              "      <th></th>\n",
              "      <th>0</th>\n",
              "      <th>1</th>\n",
              "      <th>2</th>\n",
              "      <th>3</th>\n",
              "      <th>4</th>\n",
              "      <th>5</th>\n",
              "      <th>6</th>\n",
              "      <th>7</th>\n",
              "      <th>8</th>\n",
              "      <th>9</th>\n",
              "      <th>...</th>\n",
              "      <th>24</th>\n",
              "      <th>25</th>\n",
              "      <th>26</th>\n",
              "      <th>27</th>\n",
              "      <th>28</th>\n",
              "      <th>29</th>\n",
              "      <th>30</th>\n",
              "      <th>31</th>\n",
              "      <th>32</th>\n",
              "      <th>33</th>\n",
              "    </tr>\n",
              "  </thead>\n",
              "  <tbody>\n",
              "    <tr>\n",
              "      <th>0</th>\n",
              "      <td>-0.982256</td>\n",
              "      <td>-0.298603</td>\n",
              "      <td>2.358297</td>\n",
              "      <td>1.152048</td>\n",
              "      <td>0.964826</td>\n",
              "      <td>0.293305</td>\n",
              "      <td>-2.316451</td>\n",
              "      <td>-1.131606</td>\n",
              "      <td>0.089164</td>\n",
              "      <td>-0.704195</td>\n",
              "      <td>...</td>\n",
              "      <td>-0.026625</td>\n",
              "      <td>0.210275</td>\n",
              "      <td>0.102721</td>\n",
              "      <td>-1.660701</td>\n",
              "      <td>-0.811267</td>\n",
              "      <td>-0.396311</td>\n",
              "      <td>13.115830</td>\n",
              "      <td>6.407195</td>\n",
              "      <td>3.129970</td>\n",
              "      <td>1.529017</td>\n",
              "    </tr>\n",
              "    <tr>\n",
              "      <th>1</th>\n",
              "      <td>-0.881032</td>\n",
              "      <td>0.444147</td>\n",
              "      <td>-0.141332</td>\n",
              "      <td>-0.280931</td>\n",
              "      <td>0.776218</td>\n",
              "      <td>-0.391308</td>\n",
              "      <td>0.124518</td>\n",
              "      <td>0.247509</td>\n",
              "      <td>0.197266</td>\n",
              "      <td>-0.062772</td>\n",
              "      <td>...</td>\n",
              "      <td>0.087615</td>\n",
              "      <td>-0.027880</td>\n",
              "      <td>-0.055418</td>\n",
              "      <td>0.008872</td>\n",
              "      <td>0.017635</td>\n",
              "      <td>0.035053</td>\n",
              "      <td>-0.002823</td>\n",
              "      <td>-0.005612</td>\n",
              "      <td>-0.011154</td>\n",
              "      <td>-0.022172</td>\n",
              "    </tr>\n",
              "    <tr>\n",
              "      <th>2</th>\n",
              "      <td>-0.327677</td>\n",
              "      <td>1.841224</td>\n",
              "      <td>1.748113</td>\n",
              "      <td>2.518377</td>\n",
              "      <td>0.107372</td>\n",
              "      <td>-0.603327</td>\n",
              "      <td>-0.572817</td>\n",
              "      <td>-0.825215</td>\n",
              "      <td>3.390105</td>\n",
              "      <td>3.218666</td>\n",
              "      <td>...</td>\n",
              "      <td>6.241941</td>\n",
              "      <td>5.926284</td>\n",
              "      <td>8.537563</td>\n",
              "      <td>5.626591</td>\n",
              "      <td>8.105816</td>\n",
              "      <td>11.677454</td>\n",
              "      <td>5.342052</td>\n",
              "      <td>7.695903</td>\n",
              "      <td>11.086922</td>\n",
              "      <td>15.972114</td>\n",
              "    </tr>\n",
              "    <tr>\n",
              "      <th>3</th>\n",
              "      <td>0.903875</td>\n",
              "      <td>-0.599240</td>\n",
              "      <td>-0.592585</td>\n",
              "      <td>-0.280931</td>\n",
              "      <td>0.816990</td>\n",
              "      <td>-0.541638</td>\n",
              "      <td>-0.535623</td>\n",
              "      <td>-0.253926</td>\n",
              "      <td>0.359088</td>\n",
              "      <td>0.355101</td>\n",
              "      <td>...</td>\n",
              "      <td>-0.215180</td>\n",
              "      <td>-0.212791</td>\n",
              "      <td>-0.100879</td>\n",
              "      <td>-0.210428</td>\n",
              "      <td>-0.099759</td>\n",
              "      <td>-0.047293</td>\n",
              "      <td>-0.208091</td>\n",
              "      <td>-0.098651</td>\n",
              "      <td>-0.046768</td>\n",
              "      <td>-0.022172</td>\n",
              "    </tr>\n",
              "    <tr>\n",
              "      <th>4</th>\n",
              "      <td>0.853263</td>\n",
              "      <td>0.373409</td>\n",
              "      <td>-2.640962</td>\n",
              "      <td>-0.214280</td>\n",
              "      <td>0.728058</td>\n",
              "      <td>0.318616</td>\n",
              "      <td>-2.253436</td>\n",
              "      <td>-0.182838</td>\n",
              "      <td>0.139434</td>\n",
              "      <td>-0.986158</td>\n",
              "      <td>...</td>\n",
              "      <td>0.052066</td>\n",
              "      <td>-0.368240</td>\n",
              "      <td>-0.029878</td>\n",
              "      <td>2.604406</td>\n",
              "      <td>0.211314</td>\n",
              "      <td>0.017145</td>\n",
              "      <td>-18.419868</td>\n",
              "      <td>-1.494537</td>\n",
              "      <td>-0.121263</td>\n",
              "      <td>-0.009839</td>\n",
              "    </tr>\n",
              "  </tbody>\n",
              "</table>\n",
              "<p>5 rows × 34 columns</p>\n",
              "</div>"
            ],
            "text/plain": [
              "         0         1         2         3         4         5         6   \\\n",
              "0 -0.982256 -0.298603  2.358297  1.152048  0.964826  0.293305 -2.316451   \n",
              "1 -0.881032  0.444147 -0.141332 -0.280931  0.776218 -0.391308  0.124518   \n",
              "2 -0.327677  1.841224  1.748113  2.518377  0.107372 -0.603327 -0.572817   \n",
              "3  0.903875 -0.599240 -0.592585 -0.280931  0.816990 -0.541638 -0.535623   \n",
              "4  0.853263  0.373409 -2.640962 -0.214280  0.728058  0.318616 -2.253436   \n",
              "\n",
              "         7         8         9   ...        24        25        26        27  \\\n",
              "0 -1.131606  0.089164 -0.704195  ... -0.026625  0.210275  0.102721 -1.660701   \n",
              "1  0.247509  0.197266 -0.062772  ...  0.087615 -0.027880 -0.055418  0.008872   \n",
              "2 -0.825215  3.390105  3.218666  ...  6.241941  5.926284  8.537563  5.626591   \n",
              "3 -0.253926  0.359088  0.355101  ... -0.215180 -0.212791 -0.100879 -0.210428   \n",
              "4 -0.182838  0.139434 -0.986158  ...  0.052066 -0.368240 -0.029878  2.604406   \n",
              "\n",
              "         28         29         30        31         32         33  \n",
              "0 -0.811267  -0.396311  13.115830  6.407195   3.129970   1.529017  \n",
              "1  0.017635   0.035053  -0.002823 -0.005612  -0.011154  -0.022172  \n",
              "2  8.105816  11.677454   5.342052  7.695903  11.086922  15.972114  \n",
              "3 -0.099759  -0.047293  -0.208091 -0.098651  -0.046768  -0.022172  \n",
              "4  0.211314   0.017145 -18.419868 -1.494537  -0.121263  -0.009839  \n",
              "\n",
              "[5 rows x 34 columns]"
            ]
          },
          "metadata": {},
          "output_type": "display_data"
        },
        {
          "name": "stdout",
          "output_type": "stream",
          "text": [
            "Количество факторов после генерации признаков - 34\n",
            "MAE на тренировочных фолдах: 75.35 млн. куб. футов в сутки\n",
            "MAPE на тренировочных фолдах: 1.77 %\n",
            "MAE на валидационных фолдах: 110.47 млн. куб. футов в сутки\n",
            "MAPE на валидационных фолдах: 2.68 %\n"
          ]
        }
      ],
      "source": [
        "# Ваш код здесь\n",
        "\n",
        "X = data.drop(['Prod','Well','Perm','TOC'], axis=1)\n",
        "y = data[['Prod']]\n",
        "\n",
        "# инициализируем стандартизатор StandardScaler\n",
        "scaler = StandardScaler()\n",
        "# подгоняем параметры стандартизатора\n",
        "X = scaler.fit_transform(X)\n",
        "# добавляем полиномиальные признаки\n",
        "poly = PolynomialFeatures(degree=3, include_bias=False)\n",
        "X = poly.fit_transform(X)\n",
        "\n",
        "#выводим на экран информацию по полиномиальных признаках\n",
        "display(pd.DataFrame(X).head())\n",
        "print(f'Количество факторов после генерации признаков - {len(pd.DataFrame(X).columns)}')\n",
        "\n",
        "# создаём модель линейной регрессии\n",
        "lr_poly = LinearRegression()\n",
        " \n",
        "# оцениваем качество модели на кросс-валидации, метрика — MAPE и МAE\n",
        "cv_results = cross_validate(lr_poly, X, y, scoring='neg_mean_absolute_percentage_error', cv=5, return_train_score=True)\n",
        "cv_results1 = cross_validate(lr_poly, X, y, scoring='neg_mean_absolute_error', cv=5, return_train_score=True)\n",
        "\n",
        "\n",
        "#считаем метрики\n",
        "print('MAE на тренировочных фолдах: {:.2f} млн. куб. футов в сутки'.format(-cv_results1['train_score'].mean()))\n",
        "print('MAPE на тренировочных фолдах: {:.2f} %'.format(-cv_results['train_score'].mean()* 100))\n",
        "\n",
        "print('MAE на валидационных фолдах: {:.2f} млн. куб. футов в сутки'.format(-cv_results1['test_score'].mean()))\n",
        "print('MAPE на валидационных фолдах: {:.2f} %'.format(-cv_results['test_score'].mean() * 100))"
      ]
    },
    {
      "cell_type": "markdown",
      "id": "9DkuuLLtFPPy",
      "metadata": {
        "id": "9DkuuLLtFPPy"
      },
      "source": [
        "#### Вывводы:\n",
        "1. После стандартизации признаков их количество увеличилось до 34\n",
        "2. После обучения линейной регрессии и проверки через кросс-валидацию были получены следующие результаты, характеризующие её качество:\n",
        "   * На тренировочных фолдах предсказание модели в среднем отличается от истинного значения на 75,35 млн. куб. футов в сутки или 1,77%\n",
        "   * На валидационных фолдах предсказание модели в среднем отличается от истинного значения на 110,47 млн. куб. футов в сутки или 2,68%"
      ]
    },
    {
      "cell_type": "markdown",
      "id": "63d06013",
      "metadata": {
        "id": "63d06013"
      },
      "source": [
        "### Задание 8.2. (2 балла)\n",
        "\n",
        "Теперь попробуем воспользоваться линейной регрессией с регуляризацией. Для начала возьмём $L_1$-регуляризацию.\n",
        "\n",
        "Обучите модель `Lasso` из библиотеки `sklearn` на полученных полиномиальных факторах, предварительно стандартизировав факторы. \n",
        "\n",
        "Коэффициент регуляризации (`alpha`) подберите самостоятельно с помощью любого известного вам метода подбора гиперпаметров.\n",
        "\n",
        "Используя кросс-валидацию, оцените среднее значение выбранной вами метрики (или метрик) на тренировочных и валидационных фолдах.\n",
        "\n",
        "Проинтерпретируйте полученные результаты."
      ]
    },
    {
      "cell_type": "markdown",
      "id": "z24YUfuA9rUq",
      "metadata": {
        "id": "z24YUfuA9rUq"
      },
      "source": [
        "**Критерии оценивания:**\n",
        "\n",
        "- Задание выполнено верно, учтены все условия (**2 балла**): \n",
        "    * правильно построена модель полиномиальной регрессии (линейной регрессии на полиномиальных признаках) с регуляризацией (Lasso), учтены условия необходимости масштабирования факторов для построения модели;\n",
        "    * приведён код для подбора параметра регуляризации (вручную или с помощью библиотечных инструментов);\n",
        "    * с помощью кросс-валидации оценено среднее значение выбранной студентом метрики (или метрик) на тренировочных и валидационных фолдах (метрика должна быть выбрана корректно).\n",
        "\n",
        "- Задание выполнено верно, но не учтено одно из условий (**1 балл**).\n",
        "- Задание выполнено неверно, не учтено несколько условий (**0 баллов**)."
      ]
    },
    {
      "cell_type": "code",
      "execution_count": 98,
      "id": "IJ5b5G8qFz-r",
      "metadata": {
        "id": "IJ5b5G8qFz-r"
      },
      "outputs": [
        {
          "name": "stdout",
          "output_type": "stream",
          "text": [
            "CPU times: total: 156 ms\n",
            "Wall time: 552 ms\n",
            "MAPE на тестовом наборе: 0.02\n",
            "Наилучшие значения гиперпараметров: {'alpha': 5}\n",
            "MAE на тренировочных фолдах: 78.30 млн. куб. футов в сутки\n",
            "MAPE на тренировочных фолдах: 1.83 %\n",
            "MAE на валидационных фолдах: 95.69 млн. куб. футов в сутки\n",
            "MAPE на валидационных фолдах: 2.28 %\n"
          ]
        }
      ],
      "source": [
        "# Ваш код здесь\n",
        "\n",
        "#используем GridSearchCV для оптимизации\n",
        "from sklearn.model_selection import GridSearchCV\n",
        "from sklearn import metrics #метрики\n",
        "\n",
        "#по совету ментора используем заданный список значений с 10 до 0.001\n",
        "param_distributions = {'alpha': [10,9,8,7,6,5,4,3,2,1,0.1,0.01,0.001]},\n",
        "            \n",
        "grid_search = GridSearchCV(\n",
        "    estimator=Lasso(), \n",
        "    param_grid=param_distributions, \n",
        "    n_jobs = -1,\n",
        "    scoring='neg_mean_absolute_percentage_error'\n",
        ")  \n",
        "%time grid_search.fit(X, y) \n",
        "y_pred = grid_search.predict(X)\n",
        "print('MAPE на тестовом наборе: {:.2f}'.format(metrics.mean_absolute_percentage_error(y, y_pred)))\n",
        "print(\"Наилучшие значения гиперпараметров: {}\".format(grid_search.best_params_))\n",
        "\n",
        "\n",
        "lasso = Lasso(alpha=grid_search.best_params_['alpha'])\n",
        "lasso.fit(X, y) #X уже стандартизирован (см. блок кода выше)\n",
        "\n",
        "# оцениваем качество модели на кросс-валидации, метрика — MAPE и МAE\n",
        "cv_results = cross_validate(lasso, X, y, scoring='neg_mean_absolute_percentage_error', cv=5, return_train_score=True, n_jobs = -1)\n",
        "cv_results1 = cross_validate(lasso, X, y, scoring='neg_mean_absolute_error', cv=5, return_train_score=True, n_jobs = -1)\n",
        "\n",
        "\n",
        "#считаем метрики\n",
        "print('MAE на тренировочных фолдах: {:.2f} млн. куб. футов в сутки'.format(-cv_results1['train_score'].mean()))\n",
        "print('MAPE на тренировочных фолдах: {:.2f} %'.format(-cv_results['train_score'].mean()* 100))\n",
        "\n",
        "print('MAE на валидационных фолдах: {:.2f} млн. куб. футов в сутки'.format(-cv_results1['test_score'].mean()))\n",
        "print('MAPE на валидационных фолдах: {:.2f} %'.format(-cv_results['test_score'].mean() * 100))\n",
        "\n"
      ]
    },
    {
      "cell_type": "markdown",
      "id": "Se0OGR8UF2Td",
      "metadata": {
        "id": "Se0OGR8UF2Td"
      },
      "source": [
        "#### Выводы:\n",
        "При пострении модели линейной регрессии с использование $L_1$-регуляризации и подбором оптимального параметра `alpha` были получены следующие значения метрик \n",
        "* на тренировочных фолдах: MAE - 78,3 млн. куб. футов в сутки, MAPE - 1.83%. Таким образом по результатам полученных метрик предсказание модели в среднем отличается от истинного значения на 78,3 млн. куб. футов в сутки или 1,83%.\n",
        "* на валидационных фолдах: MAE - 95,69 млн. куб. футов в сутки, MAPE - 2,28%. Таким образом по результатам полученных метрик предсказание модели в среднем отличается от истинного значения на 95,69 млн. куб. футов в сутки или 2,28%."
      ]
    },
    {
      "cell_type": "markdown",
      "id": "2975ae60",
      "metadata": {
        "id": "2975ae60"
      },
      "source": [
        "### Задание 8.3. (2 балла)\n",
        "\n",
        "Проделаем то же самое с $L_2$-регуляризацией.\n",
        "\n",
        "Обучите модель `Ridge` из библиотеки `sklearn` на полученных полиномиальных факторах, предварительно стандартизировав факторы. \n",
        "\n",
        "Коэффициент регуляризации (`alpha`) подберите самостоятельно с помощью любого известного вам метода подбора гиперпаметров.\n",
        "\n",
        "Используя кросс-валидацию оцените среднее значение выбранной вами метрики (или метрик) на тренировочных и валидационных фолдах.\n",
        "\n",
        "Проинтерпретируйте полученные результаты.\n",
        "\n",
        "**Критерии оценивания:**\n",
        "\n",
        "- Задание выполнено верно, учтены все условия (**2 балла**): \n",
        "    * правильно построена модель полиномиальной регрессии (линейной регрессии на полиномиальных признаках) с регуляризацией (Ridge), учтены условия необходимости масштабирования факторов для построения модели;\n",
        "    * приведён код для подбора параметра регуляризации (вручную или с помощью библиотечных инструментов);\n",
        "    * с помощью кросс-валидации оценено среднее значение выбранной студентом метрики (или метрик) на тренировочных и валидационных фолдах (метрика должна быть выбрана корректно).\n",
        "\n",
        "- Задание выполнено верно, но не учтено одно из условий (**1 балл**).\n",
        "- Задание выполнено неверно, не учтено несколько условий (**0 баллов**)."
      ]
    },
    {
      "cell_type": "code",
      "execution_count": 99,
      "id": "UfPGyNsjGGS8",
      "metadata": {
        "id": "UfPGyNsjGGS8"
      },
      "outputs": [
        {
          "name": "stdout",
          "output_type": "stream",
          "text": [
            "CPU times: total: 125 ms\n",
            "Wall time: 323 ms\n",
            "MAPE на тестовом наборе: 0.02\n",
            "Наилучшие значения гиперпараметров: {'alpha': 0.1}\n",
            "MAE на тренировочных фолдах: 75.32 млн. куб. футов в сутки\n",
            "MAPE на тренировочных фолдах: 1.77 %\n",
            "MAE на валидационных фолдах: 110.14 млн. куб. футов в сутки\n",
            "MAPE на валидационных фолдах: 2.67 %\n"
          ]
        }
      ],
      "source": [
        "# Ваш код здесь\n",
        "\n",
        "#используем GridSearchCV для оптимизации\n",
        "from sklearn.model_selection import GridSearchCV\n",
        "from sklearn import metrics #метрики\n",
        "\n",
        "#по совету ментора используем заданный список значений с 10 до 0.001\n",
        "param_distributions = {'alpha': [10,9,8,7,6,5,4,3,2,1,0.1,0.01,0.001]},\n",
        "            \n",
        "grid_search = GridSearchCV(\n",
        "    estimator=Ridge(), \n",
        "    param_grid=param_distributions, \n",
        "    n_jobs = -1,\n",
        "    scoring='neg_mean_absolute_percentage_error'\n",
        ")  \n",
        "%time grid_search.fit(X, y) \n",
        "y_pred = grid_search.predict(X)\n",
        "print('MAPE на тестовом наборе: {:.2f}'.format(metrics.mean_absolute_percentage_error(y, y_pred)))\n",
        "print(\"Наилучшие значения гиперпараметров: {}\".format(grid_search.best_params_))\n",
        "\n",
        "\n",
        "ridge = Ridge(alpha=grid_search.best_params_['alpha'])\n",
        "ridge.fit(X, y) #X уже стандартизирован (см. блок кода выше)\n",
        "\n",
        "# оцениваем качество модели на кросс-валидации, метрика — MAPE и МAE\n",
        "cv_results = cross_validate(ridge, X, y, scoring='neg_mean_absolute_percentage_error', cv=5, return_train_score=True, n_jobs = -1)\n",
        "cv_results1 = cross_validate(ridge, X, y, scoring='neg_mean_absolute_error', cv=5, return_train_score=True, n_jobs = -1)\n",
        "\n",
        "\n",
        "#считаем метрики\n",
        "print('MAE на тренировочных фолдах: {:.2f} млн. куб. футов в сутки'.format(-cv_results1['train_score'].mean()))\n",
        "print('MAPE на тренировочных фолдах: {:.2f} %'.format(-cv_results['train_score'].mean()* 100))\n",
        "\n",
        "print('MAE на валидационных фолдах: {:.2f} млн. куб. футов в сутки'.format(-cv_results1['test_score'].mean()))\n",
        "print('MAPE на валидационных фолдах: {:.2f} %'.format(-cv_results['test_score'].mean() * 100))"
      ]
    },
    {
      "cell_type": "markdown",
      "id": "dQBd7ny_GIi1",
      "metadata": {
        "id": "dQBd7ny_GIi1"
      },
      "source": [
        "#### Выводы:\n",
        "При пострении модели линейной регрессии с использование $L_2$-регуляризации и подбором оптимального параметра `alpha` были получены следующие значения метрик \n",
        "* на тренировочных фолдах: MAE - 75.23 млн. куб. футов в сутки, MAPE - 1.77%. Таким образом по результатам полученных метрик предсказание модели в среднем отличается от истинного значения на 75.23 млн. куб. футов в сутки или 1.77%.\n",
        "* на валидационных фолдах: MAE - 110.14 млн. куб. футов в сутки, MAPE - 2.67%. Таким образом по результатам полученных метрик предсказание модели в среднем отличается от истинного значения на 110.14 млн. куб. футов в сутки или 2.67%."
      ]
    },
    {
      "cell_type": "markdown",
      "id": "7ad85b78",
      "metadata": {
        "id": "7ad85b78"
      },
      "source": [
        "### Задание 8.4. (2 балла)\n",
        "\n",
        "Наконец, настало время комбинировать $L_1$ и $L_2$ -регуляризации.\n",
        "\n",
        "Обучите модель `ElasticNet` из библиотеки `sklearn` на полученных полиномиальных факторах, предварительно стандартизировав факторы. \n",
        "\n",
        "Коэффициенты регуляризации (`alpha` и `l1-ratio`) подберите самостоятельно с помощью любого известного вам метода подбора гиперпаметров.\n",
        "\n",
        "Используя кросс-валидацию, оцените среднее значение метрики MAPE на тренировочных и валидационных фолдах.\n",
        "\n",
        "Проинтерпретируйте полученные результаты."
      ]
    },
    {
      "cell_type": "markdown",
      "id": "sy8ESceQ-__u",
      "metadata": {
        "id": "sy8ESceQ-__u"
      },
      "source": [
        "**Критерии оценивания:**\n",
        "\n",
        "- Задание выполнено верно, учтены все условия (**2 балла**): \n",
        "    * правильно построена модель полиномиальной регрессии (линейной регрессии на полиномиальных признаках) с регуляризацией (ElasticNet), учтены условия необходимости масштабирования факторов для построения модели;\n",
        "    * приведён код для подбора параметра регуляризации (вручную или с помощью библиотечных инструментов);\n",
        "    * с помощью кросс-валидации оценено среднее значение выбранной студентом метрики (или метрик) на тренировочных и валидационных фолдах (метрика должна быть выбрана корректно).\n",
        "\n",
        "- Задание выполнено верно, но не учтено одно из условий (**1 балл**).\n",
        "- Задание выполнено неверно, не учтено несколько условий (**0 баллов**)."
      ]
    },
    {
      "cell_type": "code",
      "execution_count": 100,
      "id": "-Yi3P20hQnLS",
      "metadata": {
        "id": "-Yi3P20hQnLS"
      },
      "outputs": [
        {
          "name": "stdout",
          "output_type": "stream",
          "text": [
            "CPU times: total: 812 ms\n",
            "Wall time: 4.91 s\n",
            "MAPE на тестовом наборе: 0.02\n",
            "Наилучшие значения гиперпараметров: {'alpha': 5, 'l1_ratio': 1.0}\n",
            "MAE на тренировочных фолдах: 78.30 млн. куб. футов в сутки\n",
            "MAPE на тренировочных фолдах: 1.83 %\n",
            "MAE на валидационных фолдах: 95.69 млн. куб. футов в сутки\n",
            "MAPE на валидационных фолдах: 2.28 %\n"
          ]
        }
      ],
      "source": [
        "# Ваш код здесь\n",
        "\n",
        "#используем GridSearchCV для оптимизации\n",
        "from sklearn.model_selection import GridSearchCV\n",
        "from sklearn import metrics #метрики\n",
        "\n",
        "#по совету ментора используем заданный список значений с 10 до 0.001\n",
        "param_distributions = {'alpha': [10,9,8,7,6,5,4,3,2,1,0.1,0.01,0.001],\n",
        "                       'l1_ratio': list(np.linspace(0.1, 1, 10, dtype=float))\n",
        "                       },\n",
        "            \n",
        "grid_search = GridSearchCV(\n",
        "    estimator=ElasticNet(), \n",
        "    param_grid=param_distributions, \n",
        "    #cv=5, \n",
        "    n_jobs = -1,\n",
        "    scoring='neg_mean_absolute_percentage_error'\n",
        ")  \n",
        "%time grid_search.fit(X, y) \n",
        "y_pred = grid_search.predict(X)\n",
        "print('MAPE на тестовом наборе: {:.2f}'.format(metrics.mean_absolute_percentage_error(y, y_pred)))\n",
        "print(\"Наилучшие значения гиперпараметров: {}\".format(grid_search.best_params_))\n",
        "\n",
        "\n",
        "el_net = ElasticNet(alpha=grid_search.best_params_['alpha'], l1_ratio=grid_search.best_params_['l1_ratio'])\n",
        "el_net.fit(X, y) #X уже стандартизирован (см. блок кода выше)\n",
        "\n",
        "# оцениваем качество модели на кросс-валидации, метрика — MAPE и МAE\n",
        "cv_results = cross_validate(el_net, X, y, scoring='neg_mean_absolute_percentage_error', cv=5, return_train_score=True, n_jobs = -1)\n",
        "cv_results1 = cross_validate(el_net, X, y, scoring='neg_mean_absolute_error', cv=5, return_train_score=True, n_jobs = -1)\n",
        "\n",
        "\n",
        "#считаем метрики\n",
        "print('MAE на тренировочных фолдах: {:.2f} млн. куб. футов в сутки'.format(-cv_results1['train_score'].mean()))\n",
        "print('MAPE на тренировочных фолдах: {:.2f} %'.format(-cv_results['train_score'].mean()* 100))\n",
        "\n",
        "print('MAE на валидационных фолдах: {:.2f} млн. куб. футов в сутки'.format(-cv_results1['test_score'].mean()))\n",
        "print('MAPE на валидационных фолдах: {:.2f} %'.format(-cv_results['test_score'].mean() * 100))"
      ]
    },
    {
      "cell_type": "markdown",
      "id": "er2lAiE9QpAb",
      "metadata": {
        "id": "er2lAiE9QpAb"
      },
      "source": [
        "#### Выводы:\n",
        "При пострении модели линейной регрессии с использование $L_1$- и $L_2$-регуляризации и подбором оптимального параметра `alpha` и `l1-ratio` были получены следующие значения метрик:\n",
        "* на тренировочных фолдах: MAE - 78.30 млн. куб. футов в сутки, MAPE - 1.83%. Таким образом по результатам полученных метрик предсказание модели в среднем отличается от истинного значения на 78.30 млн. куб. футов в сутки или 1.83%.\n",
        "* на валидационных фолдах: MAE - 95.69 млн. куб. футов в сутки, MAPE - 2.28%. Таким образом по результатам полученных метрик предсказание модели в среднем отличается от истинного значения на 95.69 млн. куб. футов в сутки или 2.28%."
      ]
    },
    {
      "cell_type": "markdown",
      "id": "91c6e1d1",
      "metadata": {
        "id": "91c6e1d1"
      },
      "source": [
        "### Задание 8.5. (1 балл)\n",
        "\n",
        "Завершением вашей работы будет сводная таблица результатов, которую вы представите на презентации заказчику Василию.\n",
        "\n",
        "Составьте таблицу (DataFrame) со следующими столбцами (имена столбцов выберите самостоятельно):\n",
        "* Наименование модели.\n",
        "* Гиперпараметры (коэффициенты регуляризации, если таковые имеются), если нет — оставьте ячейку пустой.\n",
        "* Использовались ли полиномиальные признаки при построении модели (Да/Нет или True/False).\n",
        "* Значение выбранной метрики на тренировочных фолдах при кросс-валидации модели.\n",
        "* Значение выбранной метрики на валидационных фолдах при кросс-валидации модели.\n",
        "\n",
        "Сделайте финальный вывод по проделанной работе. Какая линейная модель из тех, что мы рассмотрели, показала наилучший результат с точки зрения качества на валидационных фолдах, а также с точки зрения переобученности?"
      ]
    },
    {
      "cell_type": "markdown",
      "id": "OsFRaKkF_nLq",
      "metadata": {
        "id": "OsFRaKkF_nLq"
      },
      "source": [
        "**Критерии оценивания:**\n",
        "\n",
        "- Задание выполнено верно, учтены все условия (**1 балл**): \n",
        "    * верно составлена сводная таблица итоговых результатов построенных ранее моделей с указанными в задании столбцами;\n",
        "    * приведены итоговые выводы по проделанной работе, указано, какая из рассмотренных моделей показала наилучший результат.\n",
        "\n",
        "- Задание выполнено неверно, не учтено одно или несколько условий (**0 баллов**)."
      ]
    },
    {
      "cell_type": "code",
      "execution_count": 101,
      "id": "wRiys8lKQuqW",
      "metadata": {
        "id": "wRiys8lKQuqW"
      },
      "outputs": [
        {
          "data": {
            "text/html": [
              "<div>\n",
              "<style scoped>\n",
              "    .dataframe tbody tr th:only-of-type {\n",
              "        vertical-align: middle;\n",
              "    }\n",
              "\n",
              "    .dataframe tbody tr th {\n",
              "        vertical-align: top;\n",
              "    }\n",
              "\n",
              "    .dataframe thead th {\n",
              "        text-align: right;\n",
              "    }\n",
              "</style>\n",
              "<table border=\"1\" class=\"dataframe\">\n",
              "  <thead>\n",
              "    <tr style=\"text-align: right;\">\n",
              "      <th></th>\n",
              "      <th>Имя модели</th>\n",
              "      <th>Гиперпараметры</th>\n",
              "      <th>Полиномиальные признаки</th>\n",
              "      <th>Значение МАPE на тренировочных фолдах, %</th>\n",
              "      <th>Значение МАPE на валидационных фолдах, %</th>\n",
              "    </tr>\n",
              "  </thead>\n",
              "  <tbody>\n",
              "    <tr>\n",
              "      <th>0</th>\n",
              "      <td>lr</td>\n",
              "      <td>None</td>\n",
              "      <td>Нет</td>\n",
              "      <td>4.04</td>\n",
              "      <td>4.04</td>\n",
              "    </tr>\n",
              "    <tr>\n",
              "      <th>1</th>\n",
              "      <td>lr_poly</td>\n",
              "      <td>None</td>\n",
              "      <td>Да</td>\n",
              "      <td>1.77</td>\n",
              "      <td>2.68</td>\n",
              "    </tr>\n",
              "    <tr>\n",
              "      <th>2</th>\n",
              "      <td>lasso</td>\n",
              "      <td>'alpha' - 5</td>\n",
              "      <td>Да</td>\n",
              "      <td>1.83</td>\n",
              "      <td>2.28</td>\n",
              "    </tr>\n",
              "    <tr>\n",
              "      <th>3</th>\n",
              "      <td>ridge</td>\n",
              "      <td>'alpha' - 0.1</td>\n",
              "      <td>Да</td>\n",
              "      <td>1.77</td>\n",
              "      <td>2.67</td>\n",
              "    </tr>\n",
              "    <tr>\n",
              "      <th>4</th>\n",
              "      <td>el_net</td>\n",
              "      <td>'alpha' - 5, 'l1_ratio' - 1.0</td>\n",
              "      <td>Да</td>\n",
              "      <td>1.83</td>\n",
              "      <td>2.28</td>\n",
              "    </tr>\n",
              "  </tbody>\n",
              "</table>\n",
              "</div>"
            ],
            "text/plain": [
              "  Имя модели                 Гиперпараметры Полиномиальные признаки  \\\n",
              "0         lr                           None                     Нет   \n",
              "1    lr_poly                           None                      Да   \n",
              "2      lasso                    'alpha' - 5                      Да   \n",
              "3      ridge                  'alpha' - 0.1                      Да   \n",
              "4     el_net  'alpha' - 5, 'l1_ratio' - 1.0                      Да   \n",
              "\n",
              "   Значение МАPE на тренировочных фолдах, %  \\\n",
              "0                                      4.04   \n",
              "1                                      1.77   \n",
              "2                                      1.83   \n",
              "3                                      1.77   \n",
              "4                                      1.83   \n",
              "\n",
              "   Значение МАPE на валидационных фолдах, %  \n",
              "0                                      4.04  \n",
              "1                                      2.68  \n",
              "2                                      2.28  \n",
              "3                                      2.67  \n",
              "4                                      2.28  "
            ]
          },
          "execution_count": 101,
          "metadata": {},
          "output_type": "execute_result"
        }
      ],
      "source": [
        "# Ваш код здесь\n",
        "\n",
        "#задаем строки и столбцы\n",
        "name_df = [lr,lr_poly,lasso,ridge,el_net]\n",
        "columns_df = ['Имя модели','Гиперпараметры','Полиномиальные признаки','Значение МАPE на тренировочных фолдах, %','Значение МАPE на валидационных фолдах, %']\n",
        "\n",
        "#создаем df и заполняем его\n",
        "result_df = pd.DataFrame(columns=columns_df)\n",
        "\n",
        "result_df['Имя модели'] = name_df \n",
        "result_df['Полиномиальные признаки'] = result_df['Имя модели'].apply(lambda x: 'Нет' if x==lr else 'Да')\n",
        "\n",
        "\n",
        "#функция для вывода гиперпараметров\n",
        "def hyperparams(name):\n",
        "    if ('alpha' in name.get_params()) and ('l1_ratio' in name.get_params()):\n",
        "        return f\"'alpha' - {name.get_params()['alpha']}, 'l1_ratio' - {name.get_params()['l1_ratio']}\"\n",
        "    if ('alpha' in name.get_params()) and ('l1_ratio' not in name.get_params()):\n",
        "        return f\"'alpha' - {name.get_params()['alpha']}\"\n",
        "    else:\n",
        "        return None\n",
        "        \n",
        "    \n",
        "result_df['Гиперпараметры'] = result_df['Имя модели'].apply(hyperparams)\n",
        "\n",
        "\n",
        "#значения метрик\n",
        "result_df['Значение МАPE на тренировочных фолдах, %'] = result_df['Имя модели'].apply(lambda b: round(-cross_validate(b, X, y, scoring='neg_mean_absolute_percentage_error', cv=5, return_train_score=True, n_jobs = -1)['train_score'].mean()* 100 if b!=lr \n",
        "                                                                                   else round(mean_absolute_percentage_error(y, lr.predict(np.column_stack((np.ones(200), data.drop(['Prod','Well','Perm','TOC'], axis=1))) ))*100, 2), 2))\n",
        "\n",
        "result_df['Значение МАPE на валидационных фолдах, %'] = result_df['Имя модели'].apply(lambda b: round(-cross_validate(b, X, y, scoring='neg_mean_absolute_percentage_error', cv=5, return_train_score=True, n_jobs = -1)['test_score'].mean()* 100 if b!=lr \n",
        "                                                                                   else round(mean_absolute_percentage_error(y, lr.predict(np.column_stack((np.ones(200), data.drop(['Prod','Well','Perm','TOC'], axis=1))) ))*100, 2), 2))\n",
        "\n",
        "\n",
        "#поставим краткие имена моделей\n",
        "result_df['Имя модели'] = ['lr','lr_poly','lasso','ridge','el_net']\n",
        "\n",
        "\n",
        "result_df"
      ]
    },
    {
      "cell_type": "markdown",
      "id": "UP7_LSoEQsrA",
      "metadata": {
        "id": "UP7_LSoEQsrA"
      },
      "source": [
        "#### Выводы:\n",
        "С учётом проделанной работы по наилучшими по метрикам оказались модели Lasso и ElasticNet со значениями MAPE - 2.28%. У них одинаковые наилучшие метрики, т.к. в результате подбора гиперпараметров у ElasticNet коэффициент `l1_ratio` оказался равен 1, т.е. по сути модель ElasticNet выполняет функции модели Lasso.\n",
        "\n",
        "В целом все модели, построенные на полиномиальных признаках, позывают улучшение результатов по метрикам по сравнению с обычными моделями. Влияние же применения регуляризации в данном случае дало лишь незначительное улучшение результатов предсказаний модели.\n",
        "\n",
        "Исходя из этого оптимально использовать модель на полиномиальных признаках с вариантом регуляризации Lasso, т.к ElasticNet не дает улучшение результатов по метрикам."
      ]
    }
  ],
  "metadata": {
    "colab": {
      "provenance": []
    },
    "kernelspec": {
      "display_name": "Python 3.10.8 ('base')",
      "language": "python",
      "name": "python3"
    },
    "language_info": {
      "codemirror_mode": {
        "name": "ipython",
        "version": 3
      },
      "file_extension": ".py",
      "mimetype": "text/x-python",
      "name": "python",
      "nbconvert_exporter": "python",
      "pygments_lexer": "ipython3",
      "version": "3.9.10"
    },
    "vscode": {
      "interpreter": {
        "hash": "86c56a74836ad344b00594bf6f38fa6a676a207ceefe20d101fbc465800ccb8d"
      }
    }
  },
  "nbformat": 4,
  "nbformat_minor": 5
}
