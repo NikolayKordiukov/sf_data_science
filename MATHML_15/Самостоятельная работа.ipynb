{
 "cells": [
  {
   "cell_type": "markdown",
   "metadata": {},
   "source": [
    "# Content-based model\n",
    "\n",
    "Давайте реализуем подобную рекомендательную систему на практике. Будем работать с датасетом, содержащим информацию об оценивании фильмов на платформе Netflix\n",
    "\n",
    "**Признаки данных:**\n",
    "\n",
    "* show_id — id фильма,\n",
    "* type — его тип (фильм или сериал),\n",
    "* title — название,\n",
    "* director — режиссер,\n",
    "* cast — актерский состав,\n",
    "* country — страна,\n",
    "* release_year — год выхода на экраны,\n",
    "* rating — рейтинг,\n",
    "* duration — продолжительность,\n",
    "* listened_in — жанр(-ы),\n",
    "* description — описание."
   ]
  },
  {
   "cell_type": "markdown",
   "metadata": {},
   "source": [
    "В первую очередь нам необходимо определить, на основании чего мы будем рассматривать близость фильмов. Выберем для этой задачи описание фильма, ведь в нём, скорее всего, содержится много информации. Однако описание — это текст. Есть много подходов к преобразованию текста в вектор, и мы будем использовать подход `TF-IDF (Term Frequency-Inverse Document Frequency)`.\n",
    "\n",
    "Показатель `TD-IDF` — это индикатор того, насколько релевантно слово в контексте документа."
   ]
  },
  {
   "cell_type": "markdown",
   "metadata": {},
   "source": [
    "Его можно определить следующим образом:\n",
    "$\\text{TF-IDF(слова) = TF(слова) * IDF (слова)}$\n",
    "\n",
    "$\\text{TF слова} = \\frac{\\text{Количество раз, когда слово встретилось в тексте}}{\\text{Количество всех слов в тексте}}$\n",
    "\n",
    "$\\text{IDF слова} = log \\left (\\frac{\\text{Общее кол-во документов}}{\\text{Кол-во документов, в которых встречается слово}}\\right )$"
   ]
  },
  {
   "cell_type": "markdown",
   "metadata": {},
   "source": [
    "Этот показатель возрастает пропорционально количеству раз, когда слово встречается в тексте, и уменьшается пропорционально количеству слов во всех текстах в целом.\n",
    "\n",
    "Таким образом:\n",
    "\n",
    "* **Коэффициент будет выше**, если слово характерно именно для этого текста, то есть встречается в данном тексте часто, но не встречается в других текстах.\n",
    "* **Коэффициент будет ниже**, если слово не встречается почти нигде или встречается одинаковое количество раз во всех текстах, то есть не характеризует никакой текст в отдельности."
   ]
  },
  {
   "cell_type": "code",
   "execution_count": 1,
   "metadata": {},
   "outputs": [],
   "source": [
    "#Чтобы преобразовать текст по этому принципу, нам понадобится соответствующая функция из библиотеки sklearn — импортируем её:\n",
    "from sklearn.feature_extraction.text import TfidfVectorizer"
   ]
  },
  {
   "cell_type": "code",
   "execution_count": 2,
   "metadata": {},
   "outputs": [],
   "source": [
    "#Далее учтём стоп-слова, т. е. предлоги и другие служебные части речи, которые не несут содержательной информации, и с учётом этого определим нашу модель:\n",
    "model = TfidfVectorizer(stop_words='english')"
   ]
  },
  {
   "cell_type": "code",
   "execution_count": 3,
   "metadata": {},
   "outputs": [],
   "source": [
    "import pandas as pd"
   ]
  },
  {
   "cell_type": "code",
   "execution_count": 4,
   "metadata": {},
   "outputs": [],
   "source": [
    "df = pd.read_csv('data/netflix_titles.zip')\n",
    "#Заполним пропуски пустыми строками:\n",
    "df['description'] = df['description'].fillna('')"
   ]
  },
  {
   "cell_type": "code",
   "execution_count": 5,
   "metadata": {},
   "outputs": [],
   "source": [
    "#Трансформируем наши описания в матрицу:\n",
    "feature_matrix = model.fit_transform(df['description'])"
   ]
  },
  {
   "cell_type": "code",
   "execution_count": 6,
   "metadata": {},
   "outputs": [
    {
     "data": {
      "text/plain": [
       "17905"
      ]
     },
     "execution_count": 6,
     "metadata": {},
     "output_type": "execute_result"
    }
   ],
   "source": [
    "#Сколько столбцов в получившейся матрице?\n",
    "feature_matrix.shape[1]\n",
    "#17905"
   ]
  },
  {
   "cell_type": "code",
   "execution_count": 7,
   "metadata": {},
   "outputs": [],
   "source": [
    "#Теперь необходимо вычислить косинусную близость. Можно сделать это так:\n",
    "\n",
    "from sklearn.metrics.pairwise import linear_kernel\n",
    "cosine_sim = linear_kernel(feature_matrix, feature_matrix)"
   ]
  },
  {
   "cell_type": "markdown",
   "metadata": {},
   "source": [
    "**Обратите внимание!** Мы используем здесь `linear_kernel()`, а не `cosine_similarity()`, так как в косинусном расстоянии в знаменателе реализуется нормировка векторов, а `TF-IDF` создаёт уже нормализованные векторы."
   ]
  },
  {
   "cell_type": "code",
   "execution_count": 8,
   "metadata": {},
   "outputs": [],
   "source": [
    "#Вернём индексацию и уберём дубликаты из данных:\n",
    "indices = pd.Series(df.index,index=df['title']).drop_duplicates()"
   ]
  },
  {
   "cell_type": "code",
   "execution_count": 9,
   "metadata": {},
   "outputs": [],
   "source": [
    "#Теперь пропишем функцию для создания рекомендаций:\n",
    "\n",
    "def get_recommendations(title):\n",
    "    idx = indices[title]\n",
    "    #вычисляем попарные коэффициенты косинусной близости\n",
    "    scores = list(enumerate(cosine_sim[idx]))\n",
    "    #сортируем фильмы на основании коэффициентов косинусной близости по убыванию\n",
    "    scores = sorted(scores, key=lambda x: x[1], reverse=True)\n",
    "    #выбираем десять наибольших значений косинусной близости; нулевую не берём, т. к. это тот же фильм\n",
    "    scores =   scores[1:11]\n",
    "    #забираем индексы\n",
    "    ind_movie = [i[0] for i in scores]\n",
    "    #возвращаем названия по индексам\n",
    "    return df['title'].iloc[ind_movie]"
   ]
  },
  {
   "cell_type": "code",
   "execution_count": 10,
   "metadata": {},
   "outputs": [
    {
     "data": {
      "text/plain": [
       "5788             Star Trek: The Next Generation\n",
       "5787                      Star Trek: Enterprise\n",
       "5786                 Star Trek: Deep Space Nine\n",
       "5557                     She's Out of My League\n",
       "134                                  7 Days Out\n",
       "6664                        The Midnight Gospel\n",
       "6023                                     Teresa\n",
       "4863    Pinkfong & Baby Shark's Space Adventure\n",
       "5104                                       Rats\n",
       "5970                             Tales by Light\n",
       "Name: title, dtype: object"
      ]
     },
     "execution_count": 10,
     "metadata": {},
     "output_type": "execute_result"
    }
   ],
   "source": [
    "#Например, если мы хотим найти рекомендации по фильму \"Star Trek\", то функция будет выдавать следующий результат:\n",
    "get_recommendations('Star Trek')"
   ]
  },
  {
   "cell_type": "code",
   "execution_count": 11,
   "metadata": {},
   "outputs": [
    {
     "data": {
      "text/plain": [
       "'Vroomiz'"
      ]
     },
     "execution_count": 11,
     "metadata": {},
     "output_type": "execute_result"
    }
   ],
   "source": [
    "#Найдите вторую рекомендацию для детского фильма \"Balto\", вышедшего на экраны в 1995 году:\n",
    "get_recommendations('Balto').iloc[1]\n",
    "#Vroomiz"
   ]
  },
  {
   "cell_type": "markdown",
   "metadata": {},
   "source": [
    "# Коллаборативная фильтрация"
   ]
  },
  {
   "cell_type": "markdown",
   "metadata": {},
   "source": [
    "В нашей задаче мы будем использовать датасет `movielens`, который содержит информацию о фильмах и выставленных рейтингах с сайта https://movielens.org/."
   ]
  },
  {
   "cell_type": "code",
   "execution_count": 12,
   "metadata": {},
   "outputs": [],
   "source": [
    "#Импортируем необходимые нам компоненты и считаем данные с помощью специального метода Reader:\n",
    "\n",
    "from surprise import Dataset\n",
    "from surprise import Reader\n",
    "from surprise.dataset import BUILTIN_DATASETS #с помощью данного объекта мы можем использовать встроенные датасеты\n",
    "\n",
    "data = Dataset.load_from_file(\n",
    "    \"data/u.data.txt\",\n",
    "    reader=Reader(line_format=\"user item rating timestamp\", sep=\"\\t\"),\n",
    ")"
   ]
  },
  {
   "cell_type": "markdown",
   "metadata": {},
   "source": [
    "Чтобы обучать рекомендательные системы с помощью `surprise`, мы создали объект `Dataset`. Объект `surprise.dataset` — это набор данных, который содержит следующие поля в указанном порядке:\n",
    "\n",
    "* идентификаторы пользователей,\n",
    "* идентификаторы элементов,\n",
    "* соответствующая оценка.\n",
    "  \n",
    "Преобразуем данные к формату pandas DataFrame для удобной работы с ними:"
   ]
  },
  {
   "cell_type": "code",
   "execution_count": 13,
   "metadata": {},
   "outputs": [],
   "source": [
    "df = pd.DataFrame(data.raw_ratings, columns=['userId', 'movieId', 'rating', 'timestamp'])"
   ]
  },
  {
   "cell_type": "markdown",
   "metadata": {},
   "source": [
    "В данных присутствуют следующие признаки:\n",
    "\n",
    "* userId — идентификаторы пользователей сайта movielens;\n",
    "* movieId — идентификаторы фильмов;\n",
    "* rating — оценки фильмов, выставленные пользователями по шкале от 1 до 5;\n",
    "* timestamp — время оценки фильма пользователем. Данный формат представления времени показывает, сколько секунд прошло с 1 января 1970 года."
   ]
  },
  {
   "cell_type": "markdown",
   "metadata": {},
   "source": [
    "1. Сколько уникальных фильмов в наборе данных?"
   ]
  },
  {
   "cell_type": "code",
   "execution_count": 14,
   "metadata": {},
   "outputs": [
    {
     "data": {
      "text/plain": [
       "1682"
      ]
     },
     "execution_count": 14,
     "metadata": {},
     "output_type": "execute_result"
    }
   ],
   "source": [
    "df.movieId.value_counts().shape[0]\n",
    "#1682"
   ]
  },
  {
   "cell_type": "markdown",
   "metadata": {},
   "source": [
    "2. Сколько уникальных пользователей в наборе данных?"
   ]
  },
  {
   "cell_type": "code",
   "execution_count": 15,
   "metadata": {},
   "outputs": [
    {
     "data": {
      "text/plain": [
       "943"
      ]
     },
     "execution_count": 15,
     "metadata": {},
     "output_type": "execute_result"
    }
   ],
   "source": [
    "df.userId.value_counts().shape[0]\n",
    "#943"
   ]
  },
  {
   "cell_type": "markdown",
   "metadata": {},
   "source": [
    "3. Какая оценка встречается в наборе данных чаще всего? Введите ответ в виде целого числа."
   ]
  },
  {
   "cell_type": "code",
   "execution_count": 16,
   "metadata": {},
   "outputs": [
    {
     "data": {
      "text/plain": [
       "4.0"
      ]
     },
     "execution_count": 16,
     "metadata": {},
     "output_type": "execute_result"
    }
   ],
   "source": [
    "df.rating.mode()[0]\n",
    "#4.0"
   ]
  },
  {
   "cell_type": "markdown",
   "metadata": {},
   "source": [
    "Библиотека surprise очень похожа на библиотеку sklearn, и тоже позволяет разбить данные на обучающую и тестовую выборки всего одной функцией — `surprise.model_selection.train_test_split()`."
   ]
  },
  {
   "cell_type": "markdown",
   "metadata": {},
   "source": [
    "4. Разбейте данные на обучающую и тестовую выборки. Объём тестовой выборки должен составлять 25% от общего объёма данных. В качестве значения параметра `random_state` возьмите число 13.\n",
    "\n",
    "Сколько объектов попало в тестовую выборку?"
   ]
  },
  {
   "cell_type": "code",
   "execution_count": 17,
   "metadata": {},
   "outputs": [
    {
     "data": {
      "text/plain": [
       "25000"
      ]
     },
     "execution_count": 17,
     "metadata": {},
     "output_type": "execute_result"
    }
   ],
   "source": [
    "from surprise.model_selection import train_test_split\n",
    "\n",
    "trainset, testset = train_test_split(data, test_size=0.25, random_state=13)\n",
    "len(testset)"
   ]
  },
  {
   "cell_type": "markdown",
   "metadata": {},
   "source": [
    "Импортируем функции для построения рекомендательных систем (`SVD` — для model-based-подхода и `KNNBasic` — для memory-basic-подхода) и для оценки качества результата."
   ]
  },
  {
   "cell_type": "code",
   "execution_count": 18,
   "metadata": {},
   "outputs": [],
   "source": [
    "from surprise import SVD, KNNBasic, accuracy"
   ]
  },
  {
   "cell_type": "markdown",
   "metadata": {},
   "source": [
    "Теперь реализуем обычную коллаборативную фильтрацию. Выберем оценку схожести через косинусную близость и item-based-подход:"
   ]
  },
  {
   "cell_type": "code",
   "execution_count": 19,
   "metadata": {},
   "outputs": [],
   "source": [
    "#Теперь реализуем обычную коллаборативную фильтрацию. Выберем оценку схожести через косинусную близость и item-based-подход:\n",
    "sim_options = {\n",
    "    'name': 'cosine',\n",
    "    'user_based': False\n",
    "}\n",
    " \n",
    "knn = KNNBasic(sim_options=sim_options)"
   ]
  },
  {
   "cell_type": "code",
   "execution_count": 20,
   "metadata": {},
   "outputs": [
    {
     "name": "stdout",
     "output_type": "stream",
     "text": [
      "Computing the cosine similarity matrix...\n",
      "Done computing similarity matrix.\n"
     ]
    },
    {
     "data": {
      "text/plain": [
       "<surprise.prediction_algorithms.knns.KNNBasic at 0x23a41d7c820>"
      ]
     },
     "execution_count": 20,
     "metadata": {},
     "output_type": "execute_result"
    }
   ],
   "source": [
    "#Обучим алгоритм:\n",
    "knn.fit(trainset)"
   ]
  },
  {
   "cell_type": "code",
   "execution_count": 21,
   "metadata": {},
   "outputs": [
    {
     "data": {
      "text/plain": [
       "[Prediction(uid='7', iid='633', r_ui=5.0, est=4.199452349030111, details={'actual_k': 40, 'was_impossible': False}),\n",
       " Prediction(uid='422', iid='287', r_ui=3.0, est=3.4703437660463736, details={'actual_k': 40, 'was_impossible': False}),\n",
       " Prediction(uid='804', iid='163', r_ui=3.0, est=3.5716736533692854, details={'actual_k': 40, 'was_impossible': False}),\n",
       " Prediction(uid='189', iid='480', r_ui=5.0, est=4.222825780855538, details={'actual_k': 40, 'was_impossible': False}),\n",
       " Prediction(uid='238', iid='546', r_ui=3.0, est=3.473417286928204, details={'actual_k': 17, 'was_impossible': False}),\n",
       " Prediction(uid='804', iid='216', r_ui=4.0, est=3.922551907749182, details={'actual_k': 40, 'was_impossible': False}),\n",
       " Prediction(uid='350', iid='204', r_ui=4.0, est=4.345238219480267, details={'actual_k': 38, 'was_impossible': False}),\n",
       " Prediction(uid='708', iid='993', r_ui=4.0, est=3.4458505791534115, details={'actual_k': 40, 'was_impossible': False}),\n",
       " Prediction(uid='193', iid='1078', r_ui=4.0, est=3.07510784413058, details={'actual_k': 40, 'was_impossible': False}),\n",
       " Prediction(uid='847', iid='173', r_ui=5.0, est=3.300050806141639, details={'actual_k': 40, 'was_impossible': False}),\n",
       " Prediction(uid='244', iid='662', r_ui=3.0, est=3.69830156454333, details={'actual_k': 40, 'was_impossible': False}),\n",
       " Prediction(uid='592', iid='1014', r_ui=4.0, est=3.1998176170082737, details={'actual_k': 40, 'was_impossible': False}),\n",
       " Prediction(uid='6', iid='15', r_ui=3.0, est=3.5999047772513957, details={'actual_k': 40, 'was_impossible': False}),\n",
       " Prediction(uid='49', iid='96', r_ui=1.0, est=2.5980114864164348, details={'actual_k': 40, 'was_impossible': False}),\n",
       " Prediction(uid='354', iid='1194', r_ui=4.0, est=4.000860894050235, details={'actual_k': 40, 'was_impossible': False}),\n",
       " Prediction(uid='265', iid='117', r_ui=5.0, est=3.6386166652345158, details={'actual_k': 30, 'was_impossible': False}),\n",
       " Prediction(uid='233', iid='193', r_ui=4.0, est=4.248645101202358, details={'actual_k': 40, 'was_impossible': False}),\n",
       " Prediction(uid='345', iid='620', r_ui=2.0, est=3.724835738485935, details={'actual_k': 40, 'was_impossible': False}),\n",
       " Prediction(uid='923', iid='831', r_ui=4.0, est=4.3507502906437745, details={'actual_k': 40, 'was_impossible': False}),\n",
       " Prediction(uid='833', iid='1143', r_ui=4.0, est=3.125, details={'actual_k': 40, 'was_impossible': False}),\n",
       " Prediction(uid='588', iid='443', r_ui=3.0, est=3.8752933806110414, details={'actual_k': 40, 'was_impossible': False}),\n",
       " Prediction(uid='916', iid='50', r_ui=5.0, est=3.6249832673946663, details={'actual_k': 40, 'was_impossible': False}),\n",
       " Prediction(uid='334', iid='1525', r_ui=4.0, est=3.5279866666666666, details={'was_impossible': True, 'reason': 'User and/or item is unknown.'}),\n",
       " Prediction(uid='909', iid='292', r_ui=4.0, est=4.195752007172238, details={'actual_k': 17, 'was_impossible': False}),\n",
       " Prediction(uid='697', iid='713', r_ui=5.0, est=3.6692382055805806, details={'actual_k': 40, 'was_impossible': False}),\n",
       " Prediction(uid='370', iid='525', r_ui=4.0, est=3.848874864003559, details={'actual_k': 40, 'was_impossible': False}),\n",
       " Prediction(uid='271', iid='89', r_ui=3.0, est=3.747211938837685, details={'actual_k': 40, 'was_impossible': False}),\n",
       " Prediction(uid='458', iid='116', r_ui=4.0, est=3.847791002778979, details={'actual_k': 40, 'was_impossible': False}),\n",
       " Prediction(uid='416', iid='1495', r_ui=3.0, est=3.825, details={'actual_k': 40, 'was_impossible': False}),\n",
       " Prediction(uid='921', iid='410', r_ui=2.0, est=3.522332289528116, details={'actual_k': 40, 'was_impossible': False}),\n",
       " Prediction(uid='97', iid='670', r_ui=5.0, est=4.127392635709689, details={'actual_k': 40, 'was_impossible': False}),\n",
       " Prediction(uid='286', iid='288', r_ui=5.0, est=3.95314051595336, details={'actual_k': 40, 'was_impossible': False}),\n",
       " Prediction(uid='257', iid='198', r_ui=3.0, est=3.9514883739447724, details={'actual_k': 39, 'was_impossible': False}),\n",
       " Prediction(uid='175', iid='132', r_ui=3.0, est=3.7593017450745414, details={'actual_k': 29, 'was_impossible': False}),\n",
       " Prediction(uid='315', iid='187', r_ui=4.0, est=4.201669841153457, details={'actual_k': 40, 'was_impossible': False}),\n",
       " Prediction(uid='543', iid='761', r_ui=2.0, est=3.4762386698025205, details={'actual_k': 40, 'was_impossible': False}),\n",
       " Prediction(uid='905', iid='245', r_ui=3.0, est=3.2263977703040645, details={'actual_k': 34, 'was_impossible': False}),\n",
       " Prediction(uid='313', iid='231', r_ui=2.0, est=3.848215167980456, details={'actual_k': 40, 'was_impossible': False}),\n",
       " Prediction(uid='365', iid='908', r_ui=3.0, est=3.331756540843533, details={'actual_k': 31, 'was_impossible': False}),\n",
       " Prediction(uid='399', iid='470', r_ui=4.0, est=2.9250880134132413, details={'actual_k': 40, 'was_impossible': False}),\n",
       " Prediction(uid='578', iid='272', r_ui=2.0, est=2.71298393127952, details={'actual_k': 20, 'was_impossible': False}),\n",
       " Prediction(uid='775', iid='315', r_ui=5.0, est=3.6850338209825795, details={'actual_k': 22, 'was_impossible': False}),\n",
       " Prediction(uid='653', iid='200', r_ui=4.0, est=2.673263692490889, details={'actual_k': 40, 'was_impossible': False}),\n",
       " Prediction(uid='405', iid='1572', r_ui=1.0, est=3.5279866666666666, details={'was_impossible': True, 'reason': 'User and/or item is unknown.'}),\n",
       " Prediction(uid='498', iid='175', r_ui=5.0, est=3.5723269528257338, details={'actual_k': 40, 'was_impossible': False}),\n",
       " Prediction(uid='279', iid='1113', r_ui=3.0, est=3.3, details={'actual_k': 40, 'was_impossible': False}),\n",
       " Prediction(uid='76', iid='23', r_ui=5.0, est=4.100699321302352, details={'actual_k': 40, 'was_impossible': False}),\n",
       " Prediction(uid='344', iid='708', r_ui=4.0, est=4.125846250290898, details={'actual_k': 40, 'was_impossible': False}),\n",
       " Prediction(uid='276', iid='1478', r_ui=3.0, est=2.9, details={'actual_k': 40, 'was_impossible': False}),\n",
       " Prediction(uid='267', iid='1090', r_ui=3.0, est=3.6937562478848935, details={'actual_k': 40, 'was_impossible': False}),\n",
       " Prediction(uid='648', iid='497', r_ui=4.0, est=3.1432169160607564, details={'actual_k': 40, 'was_impossible': False}),\n",
       " Prediction(uid='642', iid='1480', r_ui=1.0, est=3.45, details={'actual_k': 40, 'was_impossible': False}),\n",
       " Prediction(uid='276', iid='428', r_ui=4.0, est=2.9457911408402135, details={'actual_k': 40, 'was_impossible': False}),\n",
       " Prediction(uid='540', iid='762', r_ui=4.0, est=3.7857323261429294, details={'actual_k': 37, 'was_impossible': False}),\n",
       " Prediction(uid='399', iid='288', r_ui=3.0, est=2.974343535440141, details={'actual_k': 40, 'was_impossible': False}),\n",
       " Prediction(uid='268', iid='250', r_ui=4.0, est=2.872019361176961, details={'actual_k': 40, 'was_impossible': False}),\n",
       " Prediction(uid='349', iid='471', r_ui=3.0, est=3.223475938022671, details={'actual_k': 28, 'was_impossible': False}),\n",
       " Prediction(uid='854', iid='117', r_ui=3.0, est=3.049479500971992, details={'actual_k': 40, 'was_impossible': False}),\n",
       " Prediction(uid='182', iid='845', r_ui=3.0, est=3.832196547515011, details={'actual_k': 23, 'was_impossible': False}),\n",
       " Prediction(uid='773', iid='1071', r_ui=2.0, est=3.3241031746593053, details={'actual_k': 40, 'was_impossible': False}),\n",
       " Prediction(uid='883', iid='487', r_ui=5.0, est=4.1499382915889305, details={'actual_k': 40, 'was_impossible': False}),\n",
       " Prediction(uid='425', iid='258', r_ui=2.0, est=3.274726800443655, details={'actual_k': 40, 'was_impossible': False}),\n",
       " Prediction(uid='298', iid='473', r_ui=3.0, est=4.200941748841276, details={'actual_k': 40, 'was_impossible': False}),\n",
       " Prediction(uid='114', iid='269', r_ui=4.0, est=3.4898887470944633, details={'actual_k': 35, 'was_impossible': False}),\n",
       " Prediction(uid='521', iid='268', r_ui=5.0, est=3.224593331510733, details={'actual_k': 40, 'was_impossible': False}),\n",
       " Prediction(uid='346', iid='318', r_ui=5.0, est=3.5263123221873887, details={'actual_k': 40, 'was_impossible': False}),\n",
       " Prediction(uid='752', iid='355', r_ui=2.0, est=3.269754952886165, details={'actual_k': 40, 'was_impossible': False}),\n",
       " Prediction(uid='916', iid='509', r_ui=4.0, est=3.6971683818161134, details={'actual_k': 40, 'was_impossible': False}),\n",
       " Prediction(uid='716', iid='117', r_ui=4.0, est=3.746935220328798, details={'actual_k': 40, 'was_impossible': False}),\n",
       " Prediction(uid='269', iid='5', r_ui=2.0, est=2.950320873765803, details={'actual_k': 40, 'was_impossible': False}),\n",
       " Prediction(uid='184', iid='69', r_ui=3.0, est=3.850438530980304, details={'actual_k': 40, 'was_impossible': False}),\n",
       " Prediction(uid='174', iid='575', r_ui=1.0, est=3.949993340751277, details={'actual_k': 40, 'was_impossible': False}),\n",
       " Prediction(uid='244', iid='53', r_ui=3.0, est=3.845946445437602, details={'actual_k': 40, 'was_impossible': False}),\n",
       " Prediction(uid='200', iid='2', r_ui=4.0, est=3.969269117509676, details={'actual_k': 40, 'was_impossible': False}),\n",
       " Prediction(uid='426', iid='1204', r_ui=4.0, est=3.898214990000964, details={'actual_k': 40, 'was_impossible': False}),\n",
       " Prediction(uid='13', iid='846', r_ui=2.0, est=2.975, details={'actual_k': 40, 'was_impossible': False}),\n",
       " Prediction(uid='661', iid='210', r_ui=5.0, est=4.101076838404325, details={'actual_k': 40, 'was_impossible': False}),\n",
       " Prediction(uid='639', iid='1195', r_ui=2.0, est=2.774165883681317, details={'actual_k': 40, 'was_impossible': False}),\n",
       " Prediction(uid='128', iid='133', r_ui=5.0, est=3.7252374907969927, details={'actual_k': 40, 'was_impossible': False}),\n",
       " Prediction(uid='357', iid='546', r_ui=5.0, est=4.3013676749715515, details={'actual_k': 40, 'was_impossible': False}),\n",
       " Prediction(uid='564', iid='272', r_ui=3.0, est=3.475431713690478, details={'actual_k': 23, 'was_impossible': False}),\n",
       " Prediction(uid='758', iid='576', r_ui=4.0, est=3.8250503450057005, details={'actual_k': 40, 'was_impossible': False}),\n",
       " Prediction(uid='598', iid='259', r_ui=3.0, est=3.6399239215702583, details={'actual_k': 20, 'was_impossible': False}),\n",
       " Prediction(uid='210', iid='483', r_ui=5.0, est=4.274525611249623, details={'actual_k': 40, 'was_impossible': False}),\n",
       " Prediction(uid='144', iid='960', r_ui=2.0, est=3.5237869129508383, details={'actual_k': 40, 'was_impossible': False}),\n",
       " Prediction(uid='364', iid='319', r_ui=3.0, est=3.502243633122377, details={'actual_k': 14, 'was_impossible': False}),\n",
       " Prediction(uid='380', iid='300', r_ui=3.0, est=3.272494402550429, details={'actual_k': 40, 'was_impossible': False}),\n",
       " Prediction(uid='749', iid='188', r_ui=3.0, est=3.7968423133733746, details={'actual_k': 40, 'was_impossible': False}),\n",
       " Prediction(uid='435', iid='3', r_ui=3.0, est=3.0479215704166798, details={'actual_k': 40, 'was_impossible': False}),\n",
       " Prediction(uid='244', iid='290', r_ui=3.0, est=3.751096294574518, details={'actual_k': 40, 'was_impossible': False}),\n",
       " Prediction(uid='548', iid='603', r_ui=5.0, est=3.90131216151074, details={'actual_k': 40, 'was_impossible': False}),\n",
       " Prediction(uid='405', iid='720', r_ui=1.0, est=1.125, details={'actual_k': 40, 'was_impossible': False}),\n",
       " Prediction(uid='176', iid='240', r_ui=4.0, est=3.7283315360968654, details={'actual_k': 40, 'was_impossible': False}),\n",
       " Prediction(uid='450', iid='430', r_ui=4.0, est=3.624003593073203, details={'actual_k': 40, 'was_impossible': False}),\n",
       " Prediction(uid='16', iid='942', r_ui=4.0, est=4.224351870264815, details={'actual_k': 40, 'was_impossible': False}),\n",
       " Prediction(uid='70', iid='197', r_ui=4.0, est=3.577051759042252, details={'actual_k': 40, 'was_impossible': False}),\n",
       " Prediction(uid='940', iid='354', r_ui=5.0, est=3.5974293928226984, details={'actual_k': 40, 'was_impossible': False}),\n",
       " Prediction(uid='551', iid='366', r_ui=5.0, est=3.598840640104643, details={'actual_k': 40, 'was_impossible': False}),\n",
       " Prediction(uid='920', iid='300', r_ui=3.0, est=3.2271412280919045, details={'actual_k': 18, 'was_impossible': False}),\n",
       " Prediction(uid='130', iid='210', r_ui=5.0, est=3.919803393881592, details={'actual_k': 40, 'was_impossible': False}),\n",
       " Prediction(uid='7', iid='608', r_ui=4.0, est=3.5000384941332343, details={'actual_k': 40, 'was_impossible': False}),\n",
       " Prediction(uid='886', iid='1324', r_ui=2.0, est=3.7, details={'actual_k': 40, 'was_impossible': False}),\n",
       " Prediction(uid='880', iid='316', r_ui=5.0, est=3.099665682198066, details={'actual_k': 40, 'was_impossible': False}),\n",
       " Prediction(uid='655', iid='1142', r_ui=2.0, est=3.0, details={'actual_k': 40, 'was_impossible': False}),\n",
       " Prediction(uid='385', iid='506', r_ui=2.0, est=3.576343722717137, details={'actual_k': 40, 'was_impossible': False}),\n",
       " Prediction(uid='313', iid='237', r_ui=2.0, est=3.9975377537966628, details={'actual_k': 40, 'was_impossible': False}),\n",
       " Prediction(uid='32', iid='288', r_ui=4.0, est=3.357707473118339, details={'actual_k': 34, 'was_impossible': False}),\n",
       " Prediction(uid='76', iid='547', r_ui=2.0, est=3.6773192373026555, details={'actual_k': 40, 'was_impossible': False}),\n",
       " Prediction(uid='892', iid='515', r_ui=5.0, est=4.27227303433439, details={'actual_k': 40, 'was_impossible': False}),\n",
       " Prediction(uid='823', iid='66', r_ui=4.0, est=3.975837931550042, details={'actual_k': 40, 'was_impossible': False}),\n",
       " Prediction(uid='416', iid='300', r_ui=4.0, est=3.923445827849886, details={'actual_k': 40, 'was_impossible': False}),\n",
       " Prediction(uid='318', iid='205', r_ui=3.0, est=3.895812749763578, details={'actual_k': 40, 'was_impossible': False}),\n",
       " Prediction(uid='450', iid='485', r_ui=5.0, est=3.5701949925706566, details={'actual_k': 40, 'was_impossible': False}),\n",
       " Prediction(uid='416', iid='827', r_ui=4.0, est=3.225, details={'actual_k': 40, 'was_impossible': False}),\n",
       " Prediction(uid='412', iid='684', r_ui=4.0, est=3.97479328105175, details={'actual_k': 35, 'was_impossible': False}),\n",
       " Prediction(uid='682', iid='196', r_ui=5.0, est=3.1487576094562315, details={'actual_k': 40, 'was_impossible': False}),\n",
       " Prediction(uid='110', iid='1090', r_ui=2.0, est=2.9652747281489646, details={'actual_k': 40, 'was_impossible': False}),\n",
       " Prediction(uid='521', iid='755', r_ui=3.0, est=3.1495714190554036, details={'actual_k': 40, 'was_impossible': False}),\n",
       " Prediction(uid='861', iid='289', r_ui=5.0, est=4.0023624606025505, details={'actual_k': 28, 'was_impossible': False}),\n",
       " Prediction(uid='712', iid='584', r_ui=4.0, est=3.7769348505190643, details={'actual_k': 40, 'was_impossible': False}),\n",
       " Prediction(uid='568', iid='923', r_ui=3.0, est=3.474591763949734, details={'actual_k': 40, 'was_impossible': False}),\n",
       " Prediction(uid='921', iid='15', r_ui=4.0, est=3.522627563319372, details={'actual_k': 40, 'was_impossible': False}),\n",
       " Prediction(uid='815', iid='494', r_ui=5.0, est=3.872031113707181, details={'actual_k': 40, 'was_impossible': False}),\n",
       " Prediction(uid='523', iid='549', r_ui=4.0, est=4.599500524822178, details={'actual_k': 40, 'was_impossible': False}),\n",
       " Prediction(uid='846', iid='566', r_ui=5.0, est=3.6435284955065748, details={'actual_k': 40, 'was_impossible': False}),\n",
       " Prediction(uid='184', iid='165', r_ui=4.0, est=3.847668026771911, details={'actual_k': 40, 'was_impossible': False}),\n",
       " Prediction(uid='556', iid='513', r_ui=4.0, est=4.325581740127155, details={'actual_k': 32, 'was_impossible': False}),\n",
       " Prediction(uid='378', iid='13', r_ui=3.0, est=3.4703365222357974, details={'actual_k': 40, 'was_impossible': False}),\n",
       " Prediction(uid='870', iid='690', r_ui=2.0, est=3.197054210085647, details={'actual_k': 40, 'was_impossible': False}),\n",
       " Prediction(uid='534', iid='628', r_ui=5.0, est=4.023988500116665, details={'actual_k': 40, 'was_impossible': False}),\n",
       " Prediction(uid='851', iid='192', r_ui=4.0, est=3.0936405088067542, details={'actual_k': 40, 'was_impossible': False}),\n",
       " Prediction(uid='445', iid='310', r_ui=1.0, est=2.023999789020754, details={'actual_k': 40, 'was_impossible': False}),\n",
       " Prediction(uid='380', iid='62', r_ui=1.0, est=3.349110709281696, details={'actual_k': 40, 'was_impossible': False}),\n",
       " Prediction(uid='26', iid='50', r_ui=4.0, est=3.4023175201951346, details={'actual_k': 40, 'was_impossible': False}),\n",
       " Prediction(uid='319', iid='338', r_ui=2.0, est=3.7933553301564515, details={'actual_k': 14, 'was_impossible': False}),\n",
       " Prediction(uid='97', iid='82', r_ui=4.0, est=4.175752153986282, details={'actual_k': 40, 'was_impossible': False}),\n",
       " Prediction(uid='618', iid='117', r_ui=5.0, est=3.172604034933685, details={'actual_k': 40, 'was_impossible': False}),\n",
       " Prediction(uid='642', iid='217', r_ui=2.0, est=3.7209288574788393, details={'actual_k': 40, 'was_impossible': False}),\n",
       " Prediction(uid='913', iid='317', r_ui=4.0, est=3.823827985080838, details={'actual_k': 40, 'was_impossible': False}),\n",
       " Prediction(uid='919', iid='174', r_ui=4.0, est=3.722132615970615, details={'actual_k': 40, 'was_impossible': False}),\n",
       " Prediction(uid='870', iid='715', r_ui=3.0, est=3.549282626191216, details={'actual_k': 40, 'was_impossible': False}),\n",
       " Prediction(uid='405', iid='415', r_ui=2.0, est=1.275, details={'actual_k': 40, 'was_impossible': False}),\n",
       " Prediction(uid='217', iid='144', r_ui=4.0, est=2.8265100699991748, details={'actual_k': 40, 'was_impossible': False}),\n",
       " Prediction(uid='109', iid='845', r_ui=4.0, est=3.450564177475175, details={'actual_k': 40, 'was_impossible': False}),\n",
       " Prediction(uid='642', iid='409', r_ui=5.0, est=3.448138251256887, details={'actual_k': 40, 'was_impossible': False}),\n",
       " Prediction(uid='894', iid='818', r_ui=3.0, est=3.6000675346592343, details={'actual_k': 40, 'was_impossible': False}),\n",
       " Prediction(uid='340', iid='174', r_ui=4.0, est=4.200098782599134, details={'actual_k': 31, 'was_impossible': False}),\n",
       " Prediction(uid='790', iid='403', r_ui=4.0, est=3.2240817579444427, details={'actual_k': 40, 'was_impossible': False}),\n",
       " Prediction(uid='282', iid='307', r_ui=3.0, est=3.3819175371731385, details={'actual_k': 18, 'was_impossible': False}),\n",
       " Prediction(uid='586', iid='164', r_ui=2.0, est=3.3247826517651244, details={'actual_k': 40, 'was_impossible': False}),\n",
       " Prediction(uid='130', iid='2', r_ui=4.0, est=3.64457684420459, details={'actual_k': 40, 'was_impossible': False}),\n",
       " Prediction(uid='506', iid='198', r_ui=2.0, est=3.7489483807318433, details={'actual_k': 40, 'was_impossible': False}),\n",
       " Prediction(uid='943', iid='210', r_ui=4.0, est=3.5018811286238667, details={'actual_k': 40, 'was_impossible': False}),\n",
       " Prediction(uid='363', iid='39', r_ui=4.0, est=2.925162482239632, details={'actual_k': 40, 'was_impossible': False}),\n",
       " Prediction(uid='94', iid='1226', r_ui=4.0, est=3.175, details={'actual_k': 40, 'was_impossible': False}),\n",
       " Prediction(uid='389', iid='238', r_ui=5.0, est=4.32380790563759, details={'actual_k': 40, 'was_impossible': False}),\n",
       " Prediction(uid='624', iid='979', r_ui=4.0, est=3.5744019371633273, details={'actual_k': 40, 'was_impossible': False}),\n",
       " Prediction(uid='860', iid='865', r_ui=4.0, est=3.3437331329785542, details={'actual_k': 40, 'was_impossible': False}),\n",
       " Prediction(uid='908', iid='144', r_ui=4.0, est=3.6744422794797713, details={'actual_k': 40, 'was_impossible': False}),\n",
       " Prediction(uid='122', iid='46', r_ui=5.0, est=3.931042915309801, details={'actual_k': 40, 'was_impossible': False}),\n",
       " Prediction(uid='48', iid='680', r_ui=3.0, est=3.8572507372442146, details={'actual_k': 40, 'was_impossible': False}),\n",
       " Prediction(uid='805', iid='141', r_ui=2.0, est=3.72514671914643, details={'actual_k': 40, 'was_impossible': False}),\n",
       " Prediction(uid='347', iid='157', r_ui=5.0, est=3.6457388951455187, details={'actual_k': 40, 'was_impossible': False}),\n",
       " Prediction(uid='520', iid='100', r_ui=4.0, est=3.08802721111001, details={'actual_k': 14, 'was_impossible': False}),\n",
       " Prediction(uid='234', iid='436', r_ui=3.0, est=3.1490744707045906, details={'actual_k': 40, 'was_impossible': False}),\n",
       " Prediction(uid='397', iid='134', r_ui=5.0, est=4.218938768920796, details={'actual_k': 40, 'was_impossible': False}),\n",
       " Prediction(uid='92', iid='1014', r_ui=3.0, est=3.0707925271861347, details={'actual_k': 40, 'was_impossible': False}),\n",
       " Prediction(uid='210', iid='722', r_ui=4.0, est=4.199228005411683, details={'actual_k': 40, 'was_impossible': False}),\n",
       " Prediction(uid='158', iid='277', r_ui=4.0, est=3.848793656194784, details={'actual_k': 40, 'was_impossible': False}),\n",
       " Prediction(uid='916', iid='549', r_ui=3.0, est=3.322916325836501, details={'actual_k': 40, 'was_impossible': False}),\n",
       " Prediction(uid='790', iid='145', r_ui=2.0, est=2.570450323990713, details={'actual_k': 40, 'was_impossible': False}),\n",
       " Prediction(uid='724', iid='877', r_ui=1.0, est=2.1106622112989317, details={'actual_k': 40, 'was_impossible': False}),\n",
       " Prediction(uid='234', iid='451', r_ui=3.0, est=3.126035551592862, details={'actual_k': 40, 'was_impossible': False}),\n",
       " Prediction(uid='250', iid='44', r_ui=4.0, est=3.750653712810691, details={'actual_k': 40, 'was_impossible': False}),\n",
       " Prediction(uid='94', iid='412', r_ui=2.0, est=3.8267223704381728, details={'actual_k': 40, 'was_impossible': False}),\n",
       " Prediction(uid='25', iid='495', r_ui=4.0, est=4.075614967665048, details={'actual_k': 40, 'was_impossible': False}),\n",
       " Prediction(uid='421', iid='175', r_ui=2.0, est=3.7719411453305676, details={'actual_k': 40, 'was_impossible': False}),\n",
       " Prediction(uid='429', iid='768', r_ui=3.0, est=3.373308694195406, details={'actual_k': 40, 'was_impossible': False}),\n",
       " Prediction(uid='536', iid='163', r_ui=5.0, est=4.249806930122042, details={'actual_k': 40, 'was_impossible': False}),\n",
       " Prediction(uid='115', iid='969', r_ui=1.0, est=3.826434971683506, details={'actual_k': 40, 'was_impossible': False}),\n",
       " Prediction(uid='339', iid='508', r_ui=4.0, est=4.045455113814387, details={'actual_k': 40, 'was_impossible': False}),\n",
       " Prediction(uid='303', iid='357', r_ui=5.0, est=3.8961193004452674, details={'actual_k': 40, 'was_impossible': False}),\n",
       " Prediction(uid='608', iid='507', r_ui=3.0, est=3.7516095580196267, details={'actual_k': 40, 'was_impossible': False}),\n",
       " Prediction(uid='712', iid='232', r_ui=3.0, est=3.826290436655384, details={'actual_k': 40, 'was_impossible': False}),\n",
       " Prediction(uid='883', iid='198', r_ui=5.0, est=4.200906422160898, details={'actual_k': 40, 'was_impossible': False}),\n",
       " Prediction(uid='603', iid='173', r_ui=4.0, est=3.8929337846632595, details={'actual_k': 37, 'was_impossible': False}),\n",
       " Prediction(uid='225', iid='603', r_ui=5.0, est=4.405766770893796, details={'actual_k': 20, 'was_impossible': False}),\n",
       " Prediction(uid='655', iid='218', r_ui=3.0, est=2.8251328127391786, details={'actual_k': 40, 'was_impossible': False}),\n",
       " Prediction(uid='643', iid='162', r_ui=3.0, est=3.897944054368157, details={'actual_k': 40, 'was_impossible': False}),\n",
       " Prediction(uid='303', iid='479', r_ui=5.0, est=3.1691678011509947, details={'actual_k': 40, 'was_impossible': False}),\n",
       " Prediction(uid='145', iid='56', r_ui=5.0, est=3.3712597913379643, details={'actual_k': 40, 'was_impossible': False}),\n",
       " Prediction(uid='428', iid='268', r_ui=4.0, est=3.95489541620263, details={'actual_k': 40, 'was_impossible': False}),\n",
       " Prediction(uid='189', iid='7', r_ui=3.0, est=4.173786382935981, details={'actual_k': 40, 'was_impossible': False}),\n",
       " Prediction(uid='409', iid='45', r_ui=4.0, est=3.3733987243462393, details={'actual_k': 40, 'was_impossible': False}),\n",
       " Prediction(uid='245', iid='133', r_ui=2.0, est=3.3109079315961516, details={'actual_k': 17, 'was_impossible': False}),\n",
       " Prediction(uid='41', iid='28', r_ui=4.0, est=3.6677268612134633, details={'actual_k': 39, 'was_impossible': False}),\n",
       " Prediction(uid='541', iid='810', r_ui=3.0, est=3.843530828553799, details={'actual_k': 40, 'was_impossible': False}),\n",
       " Prediction(uid='846', iid='1209', r_ui=1.0, est=3.65, details={'actual_k': 40, 'was_impossible': False}),\n",
       " Prediction(uid='49', iid='1018', r_ui=2.0, est=2.4254074812796165, details={'actual_k': 40, 'was_impossible': False}),\n",
       " Prediction(uid='410', iid='352', r_ui=3.0, est=3.2003215950213804, details={'actual_k': 20, 'was_impossible': False}),\n",
       " Prediction(uid='234', iid='216', r_ui=3.0, est=3.423960509543575, details={'actual_k': 40, 'was_impossible': False}),\n",
       " Prediction(uid='130', iid='331', r_ui=3.0, est=3.6498438946404463, details={'actual_k': 40, 'was_impossible': False}),\n",
       " Prediction(uid='363', iid='222', r_ui=5.0, est=3.1715706154772527, details={'actual_k': 40, 'was_impossible': False}),\n",
       " Prediction(uid='435', iid='930', r_ui=3.0, est=3.2977078232798265, details={'actual_k': 40, 'was_impossible': False}),\n",
       " Prediction(uid='244', iid='1119', r_ui=5.0, est=3.7738737570422987, details={'actual_k': 40, 'was_impossible': False}),\n",
       " Prediction(uid='839', iid='950', r_ui=4.0, est=3.3169838243151806, details={'actual_k': 39, 'was_impossible': False}),\n",
       " Prediction(uid='320', iid='472', r_ui=3.0, est=3.772926839990355, details={'actual_k': 40, 'was_impossible': False}),\n",
       " Prediction(uid='305', iid='190', r_ui=3.0, est=3.3978544062033147, details={'actual_k': 40, 'was_impossible': False}),\n",
       " Prediction(uid='293', iid='632', r_ui=3.0, est=2.547397296678621, details={'actual_k': 40, 'was_impossible': False}),\n",
       " Prediction(uid='457', iid='443', r_ui=4.0, est=4.375034053144597, details={'actual_k': 40, 'was_impossible': False}),\n",
       " Prediction(uid='261', iid='259', r_ui=4.0, est=4.04417056734998, details={'actual_k': 19, 'was_impossible': False}),\n",
       " Prediction(uid='658', iid='168', r_ui=3.0, est=3.773637735276123, details={'actual_k': 40, 'was_impossible': False}),\n",
       " Prediction(uid='684', iid='742', r_ui=4.0, est=3.624641331538051, details={'actual_k': 40, 'was_impossible': False}),\n",
       " Prediction(uid='532', iid='501', r_ui=5.0, est=4.14714969928115, details={'actual_k': 40, 'was_impossible': False}),\n",
       " Prediction(uid='545', iid='326', r_ui=3.0, est=3.4745413036328974, details={'actual_k': 40, 'was_impossible': False}),\n",
       " Prediction(uid='498', iid='174', r_ui=3.0, est=3.274367765692108, details={'actual_k': 40, 'was_impossible': False}),\n",
       " Prediction(uid='158', iid='433', r_ui=3.0, est=4.322871504557923, details={'actual_k': 40, 'was_impossible': False}),\n",
       " Prediction(uid='18', iid='216', r_ui=4.0, est=4.023387170641003, details={'actual_k': 40, 'was_impossible': False}),\n",
       " Prediction(uid='393', iid='1435', r_ui=3.0, est=3.325, details={'actual_k': 40, 'was_impossible': False}),\n",
       " Prediction(uid='813', iid='9', r_ui=3.0, est=2.8516208408753365, details={'actual_k': 20, 'was_impossible': False}),\n",
       " Prediction(uid='585', iid='1319', r_ui=2.0, est=3.5636335284965797, details={'actual_k': 16, 'was_impossible': False}),\n",
       " Prediction(uid='158', iid='502', r_ui=4.0, est=3.8503671910012494, details={'actual_k': 40, 'was_impossible': False}),\n",
       " Prediction(uid='259', iid='357', r_ui=5.0, est=3.8937652369449043, details={'actual_k': 35, 'was_impossible': False}),\n",
       " Prediction(uid='160', iid='273', r_ui=5.0, est=4.175200562322735, details={'actual_k': 40, 'was_impossible': False}),\n",
       " Prediction(uid='567', iid='192', r_ui=4.0, est=4.0502829282349495, details={'actual_k': 40, 'was_impossible': False}),\n",
       " Prediction(uid='62', iid='283', r_ui=4.0, est=3.4992963247664988, details={'actual_k': 40, 'was_impossible': False}),\n",
       " Prediction(uid='916', iid='204', r_ui=3.0, est=3.475420933673526, details={'actual_k': 40, 'was_impossible': False}),\n",
       " Prediction(uid='738', iid='528', r_ui=4.0, est=3.8499255666471366, details={'actual_k': 40, 'was_impossible': False}),\n",
       " Prediction(uid='23', iid='541', r_ui=4.0, est=3.847496699340866, details={'actual_k': 40, 'was_impossible': False}),\n",
       " Prediction(uid='643', iid='50', r_ui=4.0, est=4.1503486291463805, details={'actual_k': 40, 'was_impossible': False}),\n",
       " Prediction(uid='437', iid='692', r_ui=4.0, est=3.8745494671338236, details={'actual_k': 40, 'was_impossible': False}),\n",
       " Prediction(uid='1', iid='117', r_ui=3.0, est=3.7691407511738264, details={'actual_k': 40, 'was_impossible': False}),\n",
       " Prediction(uid='559', iid='194', r_ui=3.0, est=3.798652917506532, details={'actual_k': 40, 'was_impossible': False}),\n",
       " Prediction(uid='805', iid='431', r_ui=1.0, est=3.2977897330139543, details={'actual_k': 40, 'was_impossible': False}),\n",
       " Prediction(uid='248', iid='96', r_ui=4.0, est=3.5754451404315586, details={'actual_k': 40, 'was_impossible': False}),\n",
       " Prediction(uid='222', iid='195', r_ui=4.0, est=3.6437554855263796, details={'actual_k': 40, 'was_impossible': False}),\n",
       " Prediction(uid='886', iid='49', r_ui=4.0, est=3.320961959127114, details={'actual_k': 40, 'was_impossible': False}),\n",
       " Prediction(uid='323', iid='744', r_ui=5.0, est=3.8728529184274367, details={'actual_k': 40, 'was_impossible': False}),\n",
       " Prediction(uid='368', iid='777', r_ui=2.0, est=3.08, details={'actual_k': 25, 'was_impossible': False}),\n",
       " Prediction(uid='796', iid='684', r_ui=5.0, est=3.7485337318033567, details={'actual_k': 40, 'was_impossible': False}),\n",
       " Prediction(uid='624', iid='845', r_ui=3.0, est=3.6262947930059166, details={'actual_k': 40, 'was_impossible': False}),\n",
       " Prediction(uid='492', iid='242', r_ui=5.0, est=3.580170227945, details={'actual_k': 38, 'was_impossible': False}),\n",
       " Prediction(uid='932', iid='498', r_ui=5.0, est=4.247972718944143, details={'actual_k': 40, 'was_impossible': False}),\n",
       " Prediction(uid='303', iid='1199', r_ui=3.0, est=2.95, details={'actual_k': 40, 'was_impossible': False}),\n",
       " Prediction(uid='796', iid='217', r_ui=4.0, est=3.3985083828496405, details={'actual_k': 40, 'was_impossible': False}),\n",
       " Prediction(uid='915', iid='302', r_ui=4.0, est=3.153988680261241, details={'actual_k': 20, 'was_impossible': False}),\n",
       " Prediction(uid='318', iid='768', r_ui=2.0, est=3.721786514656055, details={'actual_k': 40, 'was_impossible': False}),\n",
       " Prediction(uid='454', iid='1190', r_ui=3.0, est=2.7, details={'actual_k': 40, 'was_impossible': False}),\n",
       " Prediction(uid='268', iid='217', r_ui=2.0, est=2.3264785528864573, details={'actual_k': 40, 'was_impossible': False}),\n",
       " Prediction(uid='864', iid='736', r_ui=5.0, est=3.595694327691956, details={'actual_k': 40, 'was_impossible': False}),\n",
       " Prediction(uid='417', iid='827', r_ui=2.0, est=3.199390498816688, details={'actual_k': 40, 'was_impossible': False}),\n",
       " Prediction(uid='918', iid='86', r_ui=4.0, est=3.550346845000696, details={'actual_k': 40, 'was_impossible': False}),\n",
       " Prediction(uid='753', iid='64', r_ui=4.0, est=3.6058737078589727, details={'actual_k': 40, 'was_impossible': False}),\n",
       " Prediction(uid='406', iid='150', r_ui=4.0, est=3.4999360711308847, details={'actual_k': 40, 'was_impossible': False}),\n",
       " Prediction(uid='308', iid='169', r_ui=5.0, est=3.6993892517234572, details={'actual_k': 40, 'was_impossible': False}),\n",
       " Prediction(uid='650', iid='212', r_ui=3.0, est=3.3227904101062595, details={'actual_k': 40, 'was_impossible': False}),\n",
       " Prediction(uid='221', iid='1016', r_ui=3.0, est=3.873982818863081, details={'actual_k': 40, 'was_impossible': False}),\n",
       " Prediction(uid='160', iid='56', r_ui=5.0, est=4.300875616786216, details={'actual_k': 40, 'was_impossible': False}),\n",
       " Prediction(uid='244', iid='815', r_ui=4.0, est=3.52526039201736, details={'actual_k': 40, 'was_impossible': False}),\n",
       " Prediction(uid='554', iid='13', r_ui=2.0, est=3.674135411960293, details={'actual_k': 40, 'was_impossible': False}),\n",
       " Prediction(uid='94', iid='173', r_ui=4.0, est=4.097193227009217, details={'actual_k': 40, 'was_impossible': False}),\n",
       " Prediction(uid='642', iid='218', r_ui=3.0, est=3.3989034492339387, details={'actual_k': 40, 'was_impossible': False}),\n",
       " Prediction(uid='933', iid='180', r_ui=5.0, est=3.1948852584798604, details={'actual_k': 40, 'was_impossible': False}),\n",
       " Prediction(uid='149', iid='321', r_ui=2.0, est=2.7705087979496117, details={'actual_k': 22, 'was_impossible': False}),\n",
       " Prediction(uid='396', iid='245', r_ui=3.0, est=3.236446743317234, details={'actual_k': 38, 'was_impossible': False}),\n",
       " Prediction(uid='935', iid='405', r_ui=4.0, est=3.8487448296611486, details={'actual_k': 32, 'was_impossible': False}),\n",
       " Prediction(uid='212', iid='382', r_ui=5.0, est=3.9959419143594013, details={'actual_k': 18, 'was_impossible': False}),\n",
       " Prediction(uid='666', iid='288', r_ui=3.0, est=3.4245692361766054, details={'actual_k': 40, 'was_impossible': False}),\n",
       " Prediction(uid='125', iid='427', r_ui=4.0, est=3.4976052332860306, details={'actual_k': 40, 'was_impossible': False}),\n",
       " Prediction(uid='321', iid='513', r_ui=4.0, est=3.7249889799452203, details={'actual_k': 40, 'was_impossible': False}),\n",
       " Prediction(uid='305', iid='655', r_ui=4.0, est=3.800259811893002, details={'actual_k': 40, 'was_impossible': False}),\n",
       " Prediction(uid='269', iid='1101', r_ui=4.0, est=3.293503684330507, details={'actual_k': 40, 'was_impossible': False}),\n",
       " Prediction(uid='654', iid='476', r_ui=3.0, est=3.95002867995374, details={'actual_k': 40, 'was_impossible': False}),\n",
       " Prediction(uid='193', iid='682', r_ui=1.0, est=3.353776242359449, details={'actual_k': 40, 'was_impossible': False}),\n",
       " Prediction(uid='419', iid='306', r_ui=5.0, est=4.291030001432043, details={'actual_k': 21, 'was_impossible': False}),\n",
       " Prediction(uid='113', iid='742', r_ui=3.0, est=3.6911537827097685, details={'actual_k': 40, 'was_impossible': False}),\n",
       " Prediction(uid='634', iid='1048', r_ui=3.0, est=3.3243363541997337, details={'actual_k': 40, 'was_impossible': False}),\n",
       " Prediction(uid='911', iid='530', r_ui=4.0, est=3.8013475213088412, details={'actual_k': 40, 'was_impossible': False}),\n",
       " Prediction(uid='280', iid='322', r_ui=4.0, est=3.5261984586233828, details={'actual_k': 40, 'was_impossible': False}),\n",
       " Prediction(uid='871', iid='346', r_ui=3.0, est=3.3742009365555607, details={'actual_k': 40, 'was_impossible': False}),\n",
       " Prediction(uid='275', iid='1', r_ui=4.0, est=3.2515392047925116, details={'actual_k': 40, 'was_impossible': False}),\n",
       " Prediction(uid='770', iid='294', r_ui=3.0, est=4.3516974063552185, details={'actual_k': 40, 'was_impossible': False}),\n",
       " Prediction(uid='221', iid='1067', r_ui=3.0, est=3.6962997746543413, details={'actual_k': 40, 'was_impossible': False}),\n",
       " Prediction(uid='162', iid='230', r_ui=2.0, est=3.6721940534397612, details={'actual_k': 33, 'was_impossible': False}),\n",
       " Prediction(uid='489', iid='897', r_ui=2.0, est=3.7, details={'actual_k': 40, 'was_impossible': False}),\n",
       " Prediction(uid='95', iid='181', r_ui=4.0, est=3.6496155376423594, details={'actual_k': 40, 'was_impossible': False}),\n",
       " Prediction(uid='273', iid='319', r_ui=4.0, est=3.6249166735910006, details={'actual_k': 18, 'was_impossible': False}),\n",
       " Prediction(uid='843', iid='627', r_ui=2.0, est=2.6500752386057473, details={'actual_k': 40, 'was_impossible': False}),\n",
       " Prediction(uid='763', iid='111', r_ui=2.0, est=3.8236282690289616, details={'actual_k': 40, 'was_impossible': False}),\n",
       " Prediction(uid='659', iid='134', r_ui=4.0, est=4.125850113145709, details={'actual_k': 40, 'was_impossible': False}),\n",
       " Prediction(uid='707', iid='770', r_ui=3.0, est=3.548926351265751, details={'actual_k': 40, 'was_impossible': False}),\n",
       " Prediction(uid='792', iid='844', r_ui=4.0, est=3.1353767342097614, details={'actual_k': 31, 'was_impossible': False}),\n",
       " Prediction(uid='134', iid='294', r_ui=4.0, est=3.508317589738033, details={'actual_k': 18, 'was_impossible': False}),\n",
       " Prediction(uid='622', iid='1203', r_ui=3.0, est=3.2213424558257846, details={'actual_k': 40, 'was_impossible': False}),\n",
       " Prediction(uid='892', iid='401', r_ui=3.0, est=3.977743758945368, details={'actual_k': 40, 'was_impossible': False}),\n",
       " Prediction(uid='822', iid='432', r_ui=3.0, est=3.19069506831486, details={'actual_k': 12, 'was_impossible': False}),\n",
       " Prediction(uid='521', iid='159', r_ui=3.0, est=3.0988464410838206, details={'actual_k': 40, 'was_impossible': False}),\n",
       " Prediction(uid='661', iid='427', r_ui=4.0, est=3.9776752575437255, details={'actual_k': 40, 'was_impossible': False}),\n",
       " Prediction(uid='542', iid='427', r_ui=5.0, est=3.7759767019673216, details={'actual_k': 40, 'was_impossible': False}),\n",
       " Prediction(uid='25', iid='177', r_ui=3.0, est=4.07617589697998, details={'actual_k': 40, 'was_impossible': False}),\n",
       " Prediction(uid='886', iid='11', r_ui=5.0, est=3.473699318843036, details={'actual_k': 40, 'was_impossible': False}),\n",
       " Prediction(uid='394', iid='795', r_ui=2.0, est=3.446705057824819, details={'actual_k': 40, 'was_impossible': False}),\n",
       " Prediction(uid='90', iid='904', r_ui=3.0, est=3.95, details={'actual_k': 40, 'was_impossible': False}),\n",
       " Prediction(uid='320', iid='292', r_ui=3.0, est=3.696074493116822, details={'actual_k': 40, 'was_impossible': False}),\n",
       " Prediction(uid='614', iid='293', r_ui=3.0, est=3.2587470716781293, details={'actual_k': 27, 'was_impossible': False}),\n",
       " Prediction(uid='372', iid='561', r_ui=5.0, est=4.346486397906752, details={'actual_k': 40, 'was_impossible': False}),\n",
       " Prediction(uid='712', iid='365', r_ui=3.0, est=3.847998642842222, details={'actual_k': 40, 'was_impossible': False}),\n",
       " Prediction(uid='170', iid='245', r_ui=5.0, est=3.745889068149622, details={'actual_k': 15, 'was_impossible': False}),\n",
       " Prediction(uid='592', iid='194', r_ui=4.0, est=3.7956588146674193, details={'actual_k': 40, 'was_impossible': False}),\n",
       " Prediction(uid='894', iid='639', r_ui=5.0, est=3.549800203666289, details={'actual_k': 40, 'was_impossible': False}),\n",
       " Prediction(uid='431', iid='286', r_ui=4.0, est=3.5432392172577716, details={'actual_k': 11, 'was_impossible': False}),\n",
       " Prediction(uid='334', iid='129', r_ui=4.0, est=3.623400772827543, details={'actual_k': 40, 'was_impossible': False}),\n",
       " Prediction(uid='670', iid='96', r_ui=5.0, est=3.8287867922745518, details={'actual_k': 34, 'was_impossible': False}),\n",
       " Prediction(uid='790', iid='1044', r_ui=4.0, est=2.9456362133839495, details={'actual_k': 40, 'was_impossible': False}),\n",
       " Prediction(uid='889', iid='128', r_ui=5.0, est=3.4248990351365927, details={'actual_k': 40, 'was_impossible': False}),\n",
       " Prediction(uid='796', iid='143', r_ui=5.0, est=3.54748714459343, details={'actual_k': 40, 'was_impossible': False}),\n",
       " Prediction(uid='543', iid='462', r_ui=4.0, est=3.6715125330892877, details={'actual_k': 40, 'was_impossible': False}),\n",
       " Prediction(uid='648', iid='586', r_ui=3.0, est=3.10058951581209, details={'actual_k': 40, 'was_impossible': False}),\n",
       " Prediction(uid='503', iid='97', r_ui=4.0, est=3.996704790926658, details={'actual_k': 40, 'was_impossible': False}),\n",
       " Prediction(uid='73', iid='382', r_ui=4.0, est=4.124771144225842, details={'actual_k': 40, 'was_impossible': False}),\n",
       " Prediction(uid='342', iid='813', r_ui=5.0, est=3.224834813940376, details={'actual_k': 40, 'was_impossible': False}),\n",
       " Prediction(uid='311', iid='131', r_ui=3.0, est=3.674628581411899, details={'actual_k': 40, 'was_impossible': False}),\n",
       " Prediction(uid='7', iid='594', r_ui=3.0, est=4.1, details={'actual_k': 40, 'was_impossible': False}),\n",
       " Prediction(uid='416', iid='64', r_ui=5.0, est=3.994873982496101, details={'actual_k': 40, 'was_impossible': False}),\n",
       " Prediction(uid='398', iid='523', r_ui=4.0, est=3.874605326565389, details={'actual_k': 40, 'was_impossible': False}),\n",
       " Prediction(uid='458', iid='190', r_ui=4.0, est=3.7959520922301437, details={'actual_k': 40, 'was_impossible': False}),\n",
       " Prediction(uid='246', iid='101', r_ui=2.0, est=2.8248933521213706, details={'actual_k': 40, 'was_impossible': False}),\n",
       " Prediction(uid='694', iid='434', r_ui=5.0, est=4.122624477518385, details={'actual_k': 40, 'was_impossible': False}),\n",
       " Prediction(uid='537', iid='942', r_ui=3.0, est=2.5244748585285874, details={'actual_k': 40, 'was_impossible': False}),\n",
       " Prediction(uid='160', iid='234', r_ui=5.0, est=4.350048231635669, details={'actual_k': 40, 'was_impossible': False}),\n",
       " Prediction(uid='160', iid='603', r_ui=4.0, est=4.200736210829845, details={'actual_k': 40, 'was_impossible': False}),\n",
       " Prediction(uid='440', iid='886', r_ui=5.0, est=4.133634119347755, details={'actual_k': 40, 'was_impossible': False}),\n",
       " Prediction(uid='716', iid='234', r_ui=5.0, est=4.049876726581625, details={'actual_k': 40, 'was_impossible': False}),\n",
       " Prediction(uid='270', iid='443', r_ui=3.0, est=4.575239634566744, details={'actual_k': 40, 'was_impossible': False}),\n",
       " Prediction(uid='389', iid='210', r_ui=2.0, est=3.9762369643463167, details={'actual_k': 40, 'was_impossible': False}),\n",
       " Prediction(uid='506', iid='746', r_ui=5.0, est=3.7254061186473204, details={'actual_k': 40, 'was_impossible': False}),\n",
       " Prediction(uid='279', iid='654', r_ui=5.0, est=2.798726754501, details={'actual_k': 40, 'was_impossible': False}),\n",
       " Prediction(uid='280', iid='282', r_ui=3.0, est=3.7260795131734974, details={'actual_k': 40, 'was_impossible': False}),\n",
       " Prediction(uid='271', iid='510', r_ui=4.0, est=3.8222810433145704, details={'actual_k': 40, 'was_impossible': False}),\n",
       " Prediction(uid='346', iid='642', r_ui=3.0, est=3.3203074685718437, details={'actual_k': 40, 'was_impossible': False}),\n",
       " Prediction(uid='199', iid='323', r_ui=3.0, est=2.9548589941758068, details={'actual_k': 28, 'was_impossible': False}),\n",
       " Prediction(uid='286', iid='95', r_ui=5.0, est=3.9013217244806753, details={'actual_k': 40, 'was_impossible': False}),\n",
       " Prediction(uid='472', iid='418', r_ui=3.0, est=4.124001027312186, details={'actual_k': 40, 'was_impossible': False}),\n",
       " Prediction(uid='92', iid='561', r_ui=3.0, est=2.9771921488610382, details={'actual_k': 40, 'was_impossible': False}),\n",
       " Prediction(uid='331', iid='1141', r_ui=3.0, est=3.5276515352345035, details={'actual_k': 40, 'was_impossible': False}),\n",
       " Prediction(uid='270', iid='156', r_ui=5.0, est=4.400568376054925, details={'actual_k': 40, 'was_impossible': False}),\n",
       " Prediction(uid='705', iid='566', r_ui=4.0, est=3.7004159241708003, details={'actual_k': 40, 'was_impossible': False}),\n",
       " Prediction(uid='782', iid='331', r_ui=3.0, est=2.498982492503207, details={'actual_k': 40, 'was_impossible': False}),\n",
       " Prediction(uid='117', iid='405', r_ui=5.0, est=4.325870466030751, details={'actual_k': 40, 'was_impossible': False}),\n",
       " Prediction(uid='843', iid='101', r_ui=3.0, est=2.6238702336463517, details={'actual_k': 40, 'was_impossible': False}),\n",
       " Prediction(uid='459', iid='1060', r_ui=1.0, est=3.399544406447897, details={'actual_k': 40, 'was_impossible': False}),\n",
       " Prediction(uid='752', iid='327', r_ui=5.0, est=3.202479762490777, details={'actual_k': 40, 'was_impossible': False}),\n",
       " Prediction(uid='710', iid='258', r_ui=2.0, est=3.87583764848897, details={'actual_k': 40, 'was_impossible': False}),\n",
       " Prediction(uid='861', iid='463', r_ui=3.0, est=4.001121605058195, details={'actual_k': 28, 'was_impossible': False}),\n",
       " Prediction(uid='276', iid='332', r_ui=4.0, est=3.024649374610215, details={'actual_k': 40, 'was_impossible': False}),\n",
       " Prediction(uid='618', iid='144', r_ui=4.0, est=3.44915355431835, details={'actual_k': 40, 'was_impossible': False}),\n",
       " Prediction(uid='151', iid='461', r_ui=4.0, est=3.9732987309229437, details={'actual_k': 40, 'was_impossible': False}),\n",
       " Prediction(uid='844', iid='1474', r_ui=4.0, est=3.57294886139354, details={'actual_k': 40, 'was_impossible': False}),\n",
       " Prediction(uid='308', iid='69', r_ui=2.0, est=3.54870296147903, details={'actual_k': 40, 'was_impossible': False}),\n",
       " Prediction(uid='548', iid='275', r_ui=3.0, est=3.848631269102389, details={'actual_k': 40, 'was_impossible': False}),\n",
       " Prediction(uid='287', iid='252', r_ui=1.0, est=4.1287628905889875, details={'actual_k': 40, 'was_impossible': False}),\n",
       " Prediction(uid='56', iid='399', r_ui=4.0, est=3.8958125391118674, details={'actual_k': 40, 'was_impossible': False}),\n",
       " Prediction(uid='109', iid='1210', r_ui=3.0, est=3.394010676420569, details={'actual_k': 40, 'was_impossible': False}),\n",
       " Prediction(uid='943', iid='217', r_ui=3.0, est=3.4501776196310234, details={'actual_k': 40, 'was_impossible': False}),\n",
       " Prediction(uid='535', iid='942', r_ui=4.0, est=3.95026417449889, details={'actual_k': 40, 'was_impossible': False}),\n",
       " Prediction(uid='536', iid='164', r_ui=4.0, est=4.148897085518855, details={'actual_k': 40, 'was_impossible': False}),\n",
       " Prediction(uid='43', iid='684', r_ui=4.0, est=4.224568036079402, details={'actual_k': 40, 'was_impossible': False}),\n",
       " Prediction(uid='497', iid='403', r_ui=3.0, est=3.699842212826497, details={'actual_k': 40, 'was_impossible': False}),\n",
       " Prediction(uid='450', iid='739', r_ui=4.0, est=3.570532293046511, details={'actual_k': 40, 'was_impossible': False}),\n",
       " Prediction(uid='13', iid='138', r_ui=1.0, est=2.875, details={'actual_k': 40, 'was_impossible': False}),\n",
       " Prediction(uid='233', iid='47', r_ui=5.0, est=4.201496522891478, details={'actual_k': 40, 'was_impossible': False}),\n",
       " Prediction(uid='104', iid='984', r_ui=1.0, est=2.5132330468882778, details={'actual_k': 40, 'was_impossible': False}),\n",
       " Prediction(uid='249', iid='478', r_ui=4.0, est=4.224422722074541, details={'actual_k': 40, 'was_impossible': False}),\n",
       " Prediction(uid='593', iid='51', r_ui=3.0, est=3.493310028737632, details={'actual_k': 40, 'was_impossible': False}),\n",
       " Prediction(uid='455', iid='258', r_ui=5.0, est=3.750340403910224, details={'actual_k': 40, 'was_impossible': False}),\n",
       " Prediction(uid='741', iid='781', r_ui=4.0, est=3.627083682224399, details={'actual_k': 40, 'was_impossible': False}),\n",
       " Prediction(uid='686', iid='1184', r_ui=1.0, est=4.728809724366255, details={'actual_k': 40, 'was_impossible': False}),\n",
       " Prediction(uid='441', iid='121', r_ui=4.0, est=3.3167824206388046, details={'actual_k': 16, 'was_impossible': False}),\n",
       " Prediction(uid='566', iid='202', r_ui=4.0, est=3.552556185684407, details={'actual_k': 40, 'was_impossible': False}),\n",
       " Prediction(uid='450', iid='388', r_ui=3.0, est=3.625, details={'actual_k': 40, 'was_impossible': False}),\n",
       " Prediction(uid='182', iid='150', r_ui=3.0, est=3.825156210184093, details={'actual_k': 23, 'was_impossible': False}),\n",
       " Prediction(uid='407', iid='747', r_ui=3.0, est=3.748364727821407, details={'actual_k': 40, 'was_impossible': False}),\n",
       " Prediction(uid='44', iid='591', r_ui=4.0, est=3.723777146485196, details={'actual_k': 40, 'was_impossible': False}),\n",
       " Prediction(uid='840', iid='423', r_ui=5.0, est=3.9986957352010766, details={'actual_k': 40, 'was_impossible': False}),\n",
       " Prediction(uid='452', iid='1109', r_ui=2.0, est=3.498920406753839, details={'actual_k': 40, 'was_impossible': False}),\n",
       " Prediction(uid='560', iid='606', r_ui=4.0, est=3.5000224332102765, details={'actual_k': 40, 'was_impossible': False}),\n",
       " Prediction(uid='506', iid='550', r_ui=4.0, est=3.6991003487736442, details={'actual_k': 40, 'was_impossible': False}),\n",
       " Prediction(uid='409', iid='1242', r_ui=2.0, est=3.925, details={'actual_k': 40, 'was_impossible': False}),\n",
       " Prediction(uid='416', iid='202', r_ui=4.0, est=3.968386483269809, details={'actual_k': 40, 'was_impossible': False}),\n",
       " Prediction(uid='907', iid='619', r_ui=2.0, est=4.723410545663497, details={'actual_k': 40, 'was_impossible': False}),\n",
       " Prediction(uid='370', iid='210', r_ui=3.0, est=3.901036461609002, details={'actual_k': 40, 'was_impossible': False}),\n",
       " Prediction(uid='881', iid='443', r_ui=5.0, est=3.595591722200151, details={'actual_k': 40, 'was_impossible': False}),\n",
       " Prediction(uid='844', iid='117', r_ui=4.0, est=3.6246101158398614, details={'actual_k': 40, 'was_impossible': False}),\n",
       " Prediction(uid='875', iid='651', r_ui=5.0, est=4.248931448235451, details={'actual_k': 40, 'was_impossible': False}),\n",
       " Prediction(uid='201', iid='1220', r_ui=2.0, est=2.7496952059383504, details={'actual_k': 40, 'was_impossible': False}),\n",
       " Prediction(uid='152', iid='549', r_ui=4.0, est=4.451001618090182, details={'actual_k': 40, 'was_impossible': False}),\n",
       " Prediction(uid='659', iid='712', r_ui=3.0, est=3.6743115286930284, details={'actual_k': 40, 'was_impossible': False}),\n",
       " Prediction(uid='930', iid='756', r_ui=3.0, est=3.098733861149136, details={'actual_k': 40, 'was_impossible': False}),\n",
       " Prediction(uid='648', iid='9', r_ui=1.0, est=3.520149879631244, details={'actual_k': 40, 'was_impossible': False}),\n",
       " Prediction(uid='108', iid='121', r_ui=3.0, est=3.6053056077849197, details={'actual_k': 23, 'was_impossible': False}),\n",
       " Prediction(uid='532', iid='367', r_ui=5.0, est=4.019451662117112, details={'actual_k': 40, 'was_impossible': False}),\n",
       " Prediction(uid='738', iid='50', r_ui=5.0, est=4.1012799955126225, details={'actual_k': 40, 'was_impossible': False}),\n",
       " Prediction(uid='537', iid='923', r_ui=3.0, est=2.2989809178311114, details={'actual_k': 40, 'was_impossible': False}),\n",
       " Prediction(uid='73', iid='202', r_ui=2.0, est=4.075961219885551, details={'actual_k': 40, 'was_impossible': False}),\n",
       " Prediction(uid='722', iid='300', r_ui=3.0, est=3.727871627226796, details={'actual_k': 29, 'was_impossible': False}),\n",
       " Prediction(uid='656', iid='327', r_ui=2.0, est=2.7860203100284657, details={'actual_k': 19, 'was_impossible': False}),\n",
       " Prediction(uid='399', iid='22', r_ui=3.0, est=3.2000026339779395, details={'actual_k': 40, 'was_impossible': False}),\n",
       " Prediction(uid='321', iid='704', r_ui=3.0, est=3.698686967224789, details={'actual_k': 40, 'was_impossible': False}),\n",
       " Prediction(uid='747', iid='11', r_ui=5.0, est=4.167869853464072, details={'actual_k': 40, 'was_impossible': False}),\n",
       " Prediction(uid='588', iid='110', r_ui=3.0, est=3.92404106954306, details={'actual_k': 40, 'was_impossible': False}),\n",
       " Prediction(uid='59', iid='606', r_ui=4.0, est=3.8730571580845417, details={'actual_k': 40, 'was_impossible': False}),\n",
       " Prediction(uid='794', iid='475', r_ui=5.0, est=4.277961206447568, details={'actual_k': 30, 'was_impossible': False}),\n",
       " Prediction(uid='626', iid='286', r_ui=5.0, est=2.2334357493896024, details={'actual_k': 20, 'was_impossible': False}),\n",
       " Prediction(uid='388', iid='690', r_ui=5.0, est=4.1704081402248185, details={'actual_k': 40, 'was_impossible': False}),\n",
       " Prediction(uid='334', iid='19', r_ui=4.0, est=3.196971520198919, details={'actual_k': 40, 'was_impossible': False}),\n",
       " Prediction(uid='248', iid='181', r_ui=4.0, est=3.651435397118937, details={'actual_k': 40, 'was_impossible': False}),\n",
       " Prediction(uid='327', iid='169', r_ui=2.0, est=3.4499204768854765, details={'actual_k': 40, 'was_impossible': False}),\n",
       " Prediction(uid='417', iid='120', r_ui=2.0, est=3.097536185860829, details={'actual_k': 40, 'was_impossible': False}),\n",
       " Prediction(uid='883', iid='195', r_ui=5.0, est=3.825716057631314, details={'actual_k': 40, 'was_impossible': False}),\n",
       " Prediction(uid='332', iid='229', r_ui=5.0, est=4.09543906775436, details={'actual_k': 40, 'was_impossible': False}),\n",
       " Prediction(uid='541', iid='843', r_ui=4.0, est=3.6440318371085687, details={'actual_k': 40, 'was_impossible': False}),\n",
       " Prediction(uid='458', iid='199', r_ui=4.0, est=3.9503976216567493, details={'actual_k': 40, 'was_impossible': False}),\n",
       " Prediction(uid='370', iid='193', r_ui=4.0, est=3.8223759859446864, details={'actual_k': 40, 'was_impossible': False}),\n",
       " Prediction(uid='788', iid='781', r_ui=3.0, est=3.2003842425784206, details={'actual_k': 40, 'was_impossible': False}),\n",
       " Prediction(uid='236', iid='71', r_ui=3.0, est=3.675557330293318, details={'actual_k': 40, 'was_impossible': False}),\n",
       " Prediction(uid='416', iid='775', r_ui=4.0, est=3.6498178220289295, details={'actual_k': 40, 'was_impossible': False}),\n",
       " Prediction(uid='189', iid='28', r_ui=4.0, est=3.9237338242114506, details={'actual_k': 40, 'was_impossible': False}),\n",
       " Prediction(uid='927', iid='155', r_ui=4.0, est=3.672480850974708, details={'actual_k': 40, 'was_impossible': False}),\n",
       " Prediction(uid='658', iid='257', r_ui=4.0, est=3.797404353461509, details={'actual_k': 40, 'was_impossible': False}),\n",
       " Prediction(uid='276', iid='540', r_ui=1.0, est=3.025341069848289, details={'actual_k': 40, 'was_impossible': False}),\n",
       " Prediction(uid='675', iid='86', r_ui=4.0, est=3.602374431169252, details={'actual_k': 23, 'was_impossible': False}),\n",
       " Prediction(uid='234', iid='842', r_ui=4.0, est=3.049454910985193, details={'actual_k': 40, 'was_impossible': False}),\n",
       " Prediction(uid='665', iid='274', r_ui=3.0, est=3.5240015917103436, details={'actual_k': 40, 'was_impossible': False}),\n",
       " Prediction(uid='201', iid='366', r_ui=2.0, est=2.699195699501363, details={'actual_k': 40, 'was_impossible': False}),\n",
       " Prediction(uid='121', iid='257', r_ui=5.0, est=3.802003211370661, details={'actual_k': 40, 'was_impossible': False}),\n",
       " Prediction(uid='409', iid='607', r_ui=5.0, est=3.5449464645181545, details={'actual_k': 40, 'was_impossible': False}),\n",
       " Prediction(uid='417', iid='628', r_ui=3.0, est=3.3213715048983365, details={'actual_k': 40, 'was_impossible': False}),\n",
       " Prediction(uid='918', iid='529', r_ui=3.0, est=3.349101666250973, details={'actual_k': 40, 'was_impossible': False}),\n",
       " Prediction(uid='85', iid='464', r_ui=5.0, est=3.373258781076594, details={'actual_k': 40, 'was_impossible': False}),\n",
       " Prediction(uid='327', iid='239', r_ui=3.0, est=3.2269215118324577, details={'actual_k': 40, 'was_impossible': False}),\n",
       " Prediction(uid='188', iid='118', r_ui=3.0, est=3.7490906623827205, details={'actual_k': 40, 'was_impossible': False}),\n",
       " Prediction(uid='506', iid='410', r_ui=2.0, est=3.7734094550360755, details={'actual_k': 40, 'was_impossible': False}),\n",
       " Prediction(uid='709', iid='762', r_ui=3.0, est=3.849645958838417, details={'actual_k': 40, 'was_impossible': False}),\n",
       " Prediction(uid='507', iid='597', r_ui=5.0, est=4.751707949257251, details={'actual_k': 40, 'was_impossible': False}),\n",
       " Prediction(uid='538', iid='191', r_ui=5.0, est=3.7755187088701634, details={'actual_k': 40, 'was_impossible': False}),\n",
       " Prediction(uid='773', iid='475', r_ui=3.0, est=3.747887445661987, details={'actual_k': 40, 'was_impossible': False}),\n",
       " Prediction(uid='763', iid='730', r_ui=5.0, est=3.7236637555109025, details={'actual_k': 40, 'was_impossible': False}),\n",
       " Prediction(uid='682', iid='1012', r_ui=4.0, est=2.748638346039818, details={'actual_k': 40, 'was_impossible': False}),\n",
       " Prediction(uid='76', iid='1155', r_ui=2.0, est=3.6577516066647124, details={'actual_k': 38, 'was_impossible': False}),\n",
       " Prediction(uid='481', iid='427', r_ui=4.0, est=4.101923375495676, details={'actual_k': 40, 'was_impossible': False}),\n",
       " Prediction(uid='184', iid='396', r_ui=3.0, est=3.873270760683951, details={'actual_k': 40, 'was_impossible': False}),\n",
       " Prediction(uid='501', iid='1011', r_ui=4.0, est=3.776665972072267, details={'actual_k': 40, 'was_impossible': False}),\n",
       " Prediction(uid='84', iid='286', r_ui=5.0, est=3.827871736982925, details={'actual_k': 40, 'was_impossible': False}),\n",
       " Prediction(uid='897', iid='82', r_ui=5.0, est=4.174876898351621, details={'actual_k': 40, 'was_impossible': False}),\n",
       " Prediction(uid='40', iid='245', r_ui=3.0, est=2.9198925983357515, details={'actual_k': 28, 'was_impossible': False}),\n",
       " Prediction(uid='690', iid='712', r_ui=4.0, est=2.997181238283646, details={'actual_k': 40, 'was_impossible': False}),\n",
       " Prediction(uid='279', iid='1182', r_ui=3.0, est=3.075, details={'actual_k': 40, 'was_impossible': False}),\n",
       " Prediction(uid='840', iid='7', r_ui=4.0, est=4.297315911338471, details={'actual_k': 40, 'was_impossible': False}),\n",
       " Prediction(uid='585', iid='166', r_ui=4.0, est=3.949599527572816, details={'actual_k': 40, 'was_impossible': False}),\n",
       " Prediction(uid='648', iid='89', r_ui=4.0, est=3.6673199373952814, details={'actual_k': 40, 'was_impossible': False}),\n",
       " Prediction(uid='102', iid='672', r_ui=1.0, est=2.56799068022174, details={'actual_k': 40, 'was_impossible': False}),\n",
       " Prediction(uid='833', iid='159', r_ui=2.0, est=2.8504023817898303, details={'actual_k': 40, 'was_impossible': False}),\n",
       " Prediction(uid='325', iid='430', r_ui=5.0, est=3.6199966816924203, details={'actual_k': 40, 'was_impossible': False}),\n",
       " Prediction(uid='787', iid='880', r_ui=3.0, est=3.37978464585807, details={'actual_k': 38, 'was_impossible': False}),\n",
       " Prediction(uid='357', iid='117', r_ui=5.0, est=4.347163309833585, details={'actual_k': 40, 'was_impossible': False}),\n",
       " Prediction(uid='21', iid='688', r_ui=1.0, est=2.3746002955741843, details={'actual_k': 40, 'was_impossible': False}),\n",
       " Prediction(uid='456', iid='57', r_ui=4.0, est=3.6965136289241247, details={'actual_k': 40, 'was_impossible': False}),\n",
       " Prediction(uid='669', iid='133', r_ui=4.0, est=3.547059261539273, details={'actual_k': 40, 'was_impossible': False}),\n",
       " Prediction(uid='189', iid='1020', r_ui=4.0, est=3.623539386335626, details={'actual_k': 40, 'was_impossible': False}),\n",
       " Prediction(uid='280', iid='38', r_ui=3.0, est=3.502462464167467, details={'actual_k': 40, 'was_impossible': False}),\n",
       " Prediction(uid='495', iid='616', r_ui=4.0, est=3.8501171636741587, details={'actual_k': 40, 'was_impossible': False}),\n",
       " Prediction(uid='6', iid='7', r_ui=2.0, est=4.024571951235166, details={'actual_k': 40, 'was_impossible': False}),\n",
       " Prediction(uid='373', iid='318', r_ui=5.0, est=3.92207106144686, details={'actual_k': 40, 'was_impossible': False}),\n",
       " Prediction(uid='463', iid='887', r_ui=5.0, est=2.6955445953810377, details={'actual_k': 40, 'was_impossible': False}),\n",
       " Prediction(uid='313', iid='168', r_ui=3.0, est=4.149532418953247, details={'actual_k': 40, 'was_impossible': False}),\n",
       " Prediction(uid='109', iid='1244', r_ui=3.0, est=3.572472082293555, details={'actual_k': 40, 'was_impossible': False}),\n",
       " Prediction(uid='788', iid='241', r_ui=5.0, est=3.2475346982447815, details={'actual_k': 40, 'was_impossible': False}),\n",
       " Prediction(uid='64', iid='154', r_ui=4.0, est=3.7248183199061606, details={'actual_k': 40, 'was_impossible': False}),\n",
       " Prediction(uid='870', iid='770', r_ui=4.0, est=3.598876076598846, details={'actual_k': 40, 'was_impossible': False}),\n",
       " Prediction(uid='345', iid='223', r_ui=5.0, est=3.973370412181961, details={'actual_k': 40, 'was_impossible': False}),\n",
       " Prediction(uid='16', iid='642', r_ui=5.0, est=4.024346452047751, details={'actual_k': 40, 'was_impossible': False}),\n",
       " Prediction(uid='276', iid='508', r_ui=5.0, est=3.220210599479723, details={'actual_k': 40, 'was_impossible': False}),\n",
       " Prediction(uid='532', iid='496', r_ui=5.0, est=4.168860780445853, details={'actual_k': 40, 'was_impossible': False}),\n",
       " Prediction(uid='327', iid='211', r_ui=3.0, est=3.5988183409833168, details={'actual_k': 40, 'was_impossible': False}),\n",
       " Prediction(uid='389', iid='136', r_ui=4.0, est=3.8490734722646907, details={'actual_k': 40, 'was_impossible': False}),\n",
       " Prediction(uid='426', iid='98', r_ui=4.0, est=3.9993231981190824, details={'actual_k': 40, 'was_impossible': False}),\n",
       " Prediction(uid='373', iid='392', r_ui=4.0, est=3.97125597453596, details={'actual_k': 40, 'was_impossible': False}),\n",
       " Prediction(uid='234', iid='1400', r_ui=3.0, est=2.8, details={'actual_k': 40, 'was_impossible': False}),\n",
       " Prediction(uid='255', iid='335', r_ui=4.0, est=2.5956077042087107, details={'actual_k': 40, 'was_impossible': False}),\n",
       " Prediction(uid='402', iid='16', r_ui=3.0, est=3.9222416395294095, details={'actual_k': 40, 'was_impossible': False}),\n",
       " Prediction(uid='279', iid='1492', r_ui=4.0, est=3.5279866666666666, details={'was_impossible': True, 'reason': 'User and/or item is unknown.'}),\n",
       " Prediction(uid='511', iid='355', r_ui=2.0, est=3.88166736210686, details={'actual_k': 19, 'was_impossible': False}),\n",
       " Prediction(uid='195', iid='1418', r_ui=4.0, est=3.8421052631578947, details={'actual_k': 38, 'was_impossible': False}),\n",
       " Prediction(uid='354', iid='81', r_ui=3.0, est=3.9267785666525614, details={'actual_k': 40, 'was_impossible': False}),\n",
       " Prediction(uid='750', iid='879', r_ui=4.0, est=3.1927333678500758, details={'actual_k': 22, 'was_impossible': False}),\n",
       " Prediction(uid='454', iid='161', r_ui=4.0, est=2.7992100278154544, details={'actual_k': 40, 'was_impossible': False}),\n",
       " Prediction(uid='269', iid='212', r_ui=4.0, est=3.318726310701291, details={'actual_k': 40, 'was_impossible': False}),\n",
       " Prediction(uid='805', iid='9', r_ui=3.0, est=3.422020817788446, details={'actual_k': 40, 'was_impossible': False}),\n",
       " Prediction(uid='908', iid='488', r_ui=4.0, est=3.7261652106859557, details={'actual_k': 40, 'was_impossible': False}),\n",
       " Prediction(uid='184', iid='255', r_ui=3.0, est=3.1483916857535634, details={'actual_k': 40, 'was_impossible': False}),\n",
       " Prediction(uid='345', iid='1048', r_ui=2.0, est=3.597646326880797, details={'actual_k': 40, 'was_impossible': False}),\n",
       " Prediction(uid='659', iid='159', r_ui=4.0, est=3.672125475554475, details={'actual_k': 40, 'was_impossible': False}),\n",
       " Prediction(uid='561', iid='217', r_ui=3.0, est=3.174465344116654, details={'actual_k': 40, 'was_impossible': False}),\n",
       " Prediction(uid='642', iid='779', r_ui=3.0, est=3.4501546257963516, details={'actual_k': 40, 'was_impossible': False}),\n",
       " Prediction(uid='379', iid='131', r_ui=5.0, est=4.192865635979252, details={'actual_k': 40, 'was_impossible': False}),\n",
       " Prediction(uid='617', iid='669', r_ui=1.0, est=2.5304112690706817, details={'actual_k': 40, 'was_impossible': False}),\n",
       " Prediction(uid='560', iid='277', r_ui=3.0, est=3.470125771339993, details={'actual_k': 40, 'was_impossible': False}),\n",
       " Prediction(uid='553', iid='132', r_ui=4.0, est=4.3493893617055, details={'actual_k': 40, 'was_impossible': False}),\n",
       " Prediction(uid='495', iid='452', r_ui=2.0, est=3.9484601624009206, details={'actual_k': 40, 'was_impossible': False}),\n",
       " Prediction(uid='339', iid='498', r_ui=4.0, est=4.449778252918142, details={'actual_k': 40, 'was_impossible': False}),\n",
       " Prediction(uid='500', iid='183', r_ui=4.0, est=3.3734621468506636, details={'actual_k': 40, 'was_impossible': False}),\n",
       " Prediction(uid='763', iid='375', r_ui=2.0, est=3.9037843812565796, details={'actual_k': 40, 'was_impossible': False}),\n",
       " Prediction(uid='212', iid='427', r_ui=4.0, est=4.001723674106947, details={'actual_k': 18, 'was_impossible': False}),\n",
       " Prediction(uid='463', iid='1606', r_ui=2.0, est=3.5279866666666666, details={'was_impossible': True, 'reason': 'User and/or item is unknown.'}),\n",
       " Prediction(uid='387', iid='434', r_ui=5.0, est=3.4484197711992004, details={'actual_k': 40, 'was_impossible': False}),\n",
       " Prediction(uid='194', iid='87', r_ui=4.0, est=3.073402446085841, details={'actual_k': 40, 'was_impossible': False}),\n",
       " Prediction(uid='279', iid='234', r_ui=2.0, est=2.9922491833123157, details={'actual_k': 40, 'was_impossible': False}),\n",
       " Prediction(uid='758', iid='656', r_ui=5.0, est=3.5500849369539247, details={'actual_k': 40, 'was_impossible': False}),\n",
       " Prediction(uid='320', iid='164', r_ui=4.0, est=3.8984968535570568, details={'actual_k': 40, 'was_impossible': False}),\n",
       " Prediction(uid='222', iid='41', r_ui=3.0, est=2.6697868422662245, details={'actual_k': 40, 'was_impossible': False}),\n",
       " Prediction(uid='16', iid='4', r_ui=5.0, est=4.423560915475185, details={'actual_k': 40, 'was_impossible': False}),\n",
       " Prediction(uid='476', iid='173', r_ui=5.0, est=3.4020791794785143, details={'actual_k': 40, 'was_impossible': False}),\n",
       " Prediction(uid='561', iid='302', r_ui=4.0, est=3.548802799494583, details={'actual_k': 40, 'was_impossible': False}),\n",
       " Prediction(uid='40', iid='242', r_ui=4.0, est=2.92562566354864, details={'actual_k': 28, 'was_impossible': False}),\n",
       " Prediction(uid='87', iid='172', r_ui=5.0, est=4.1480299596676256, details={'actual_k': 40, 'was_impossible': False}),\n",
       " Prediction(uid='235', iid='22', r_ui=4.0, est=3.949997773218635, details={'actual_k': 40, 'was_impossible': False}),\n",
       " Prediction(uid='308', iid='100', r_ui=5.0, est=3.674492133340467, details={'actual_k': 40, 'was_impossible': False}),\n",
       " Prediction(uid='606', iid='282', r_ui=4.0, est=4.022643982572518, details={'actual_k': 40, 'was_impossible': False}),\n",
       " Prediction(uid='593', iid='71', r_ui=4.0, est=3.649502293113475, details={'actual_k': 40, 'was_impossible': False}),\n",
       " Prediction(uid='896', iid='405', r_ui=2.0, est=2.945677706813689, details={'actual_k': 40, 'was_impossible': False}),\n",
       " Prediction(uid='850', iid='490', r_ui=5.0, est=4.454900198833762, details={'actual_k': 37, 'was_impossible': False}),\n",
       " Prediction(uid='268', iid='284', r_ui=3.0, est=2.721009138022432, details={'actual_k': 40, 'was_impossible': False}),\n",
       " Prediction(uid='886', iid='159', r_ui=2.0, est=3.397138868188107, details={'actual_k': 40, 'was_impossible': False}),\n",
       " Prediction(uid='796', iid='815', r_ui=4.0, est=3.1990675462560696, details={'actual_k': 40, 'was_impossible': False}),\n",
       " Prediction(uid='13', iid='370', r_ui=1.0, est=3.05, details={'actual_k': 40, 'was_impossible': False}),\n",
       " Prediction(uid='747', iid='588', r_ui=5.0, est=4.067529355647995, details={'actual_k': 40, 'was_impossible': False}),\n",
       " Prediction(uid='254', iid='219', r_ui=1.0, est=3.3206279593261625, details={'actual_k': 40, 'was_impossible': False}),\n",
       " Prediction(uid='256', iid='476', r_ui=4.0, est=4.097451923652845, details={'actual_k': 40, 'was_impossible': False}),\n",
       " Prediction(uid='471', iid='477', r_ui=5.0, est=3.142874442510831, details={'actual_k': 25, 'was_impossible': False}),\n",
       " Prediction(uid='653', iid='182', r_ui=3.0, est=2.923175999145469, details={'actual_k': 40, 'was_impossible': False}),\n",
       " Prediction(uid='279', iid='17', r_ui=4.0, est=2.975530632116762, details={'actual_k': 40, 'was_impossible': False}),\n",
       " Prediction(uid='532', iid='195', r_ui=5.0, est=4.270660158650034, details={'actual_k': 40, 'was_impossible': False}),\n",
       " Prediction(uid='69', iid='1016', r_ui=3.0, est=3.602676628196679, details={'actual_k': 40, 'was_impossible': False}),\n",
       " Prediction(uid='682', iid='824', r_ui=1.0, est=2.9433444590912115, details={'actual_k': 40, 'was_impossible': False}),\n",
       " Prediction(uid='530', iid='483', r_ui=3.0, est=3.7896752569485663, details={'actual_k': 33, 'was_impossible': False}),\n",
       " Prediction(uid='303', iid='124', r_ui=4.0, est=3.6207999851076385, details={'actual_k': 40, 'was_impossible': False}),\n",
       " Prediction(uid='251', iid='472', r_ui=3.0, est=3.774107455230057, details={'actual_k': 40, 'was_impossible': False}),\n",
       " Prediction(uid='5', iid='369', r_ui=1.0, est=2.6626706811513063, details={'actual_k': 40, 'was_impossible': False}),\n",
       " Prediction(uid='767', iid='183', r_ui=4.0, est=4.498525759549479, details={'actual_k': 28, 'was_impossible': False}),\n",
       " Prediction(uid='276', iid='409', r_ui=3.0, est=2.974390306102388, details={'actual_k': 40, 'was_impossible': False}),\n",
       " Prediction(uid='371', iid='496', r_ui=4.0, est=4.0631327612330805, details={'actual_k': 36, 'was_impossible': False}),\n",
       " Prediction(uid='446', iid='302', r_ui=4.0, est=2.8332731297887954, details={'actual_k': 28, 'was_impossible': False}),\n",
       " Prediction(uid='174', iid='368', r_ui=1.0, est=3.482675155738521, details={'actual_k': 40, 'was_impossible': False}),\n",
       " Prediction(uid='66', iid='508', r_ui=4.0, est=3.5677777101855517, details={'actual_k': 30, 'was_impossible': False}),\n",
       " Prediction(uid='221', iid='56', r_ui=5.0, est=4.124575988719853, details={'actual_k': 40, 'was_impossible': False}),\n",
       " Prediction(uid='679', iid='100', r_ui=3.0, est=3.7533244313418894, details={'actual_k': 40, 'was_impossible': False}),\n",
       " Prediction(uid='543', iid='234', r_ui=4.0, est=3.648900778775616, details={'actual_k': 40, 'was_impossible': False}),\n",
       " Prediction(uid='206', iid='882', r_ui=1.0, est=2.360210446024633, details={'actual_k': 40, 'was_impossible': False}),\n",
       " Prediction(uid='650', iid='650', r_ui=2.0, est=3.0750332084641663, details={'actual_k': 40, 'was_impossible': False}),\n",
       " Prediction(uid='871', iid='56', r_ui=5.0, est=3.5210094724990366, details={'actual_k': 40, 'was_impossible': False}),\n",
       " Prediction(uid='393', iid='1055', r_ui=4.0, est=3.35, details={'actual_k': 40, 'was_impossible': False}),\n",
       " Prediction(uid='299', iid='433', r_ui=5.0, est=3.498556984599733, details={'actual_k': 40, 'was_impossible': False}),\n",
       " Prediction(uid='237', iid='179', r_ui=4.0, est=4.166608180954654, details={'actual_k': 31, 'was_impossible': False}),\n",
       " Prediction(uid='158', iid='866', r_ui=2.0, est=3.7222119798805875, details={'actual_k': 40, 'was_impossible': False}),\n",
       " Prediction(uid='409', iid='382', r_ui=4.0, est=3.4209226126307914, details={'actual_k': 40, 'was_impossible': False}),\n",
       " Prediction(uid='896', iid='71', r_ui=5.0, est=3.196472475251666, details={'actual_k': 40, 'was_impossible': False}),\n",
       " Prediction(uid='144', iid='405', r_ui=4.0, est=3.7757937898498466, details={'actual_k': 40, 'was_impossible': False}),\n",
       " Prediction(uid='496', iid='705', r_ui=2.0, est=3.474560100043973, details={'actual_k': 40, 'was_impossible': False}),\n",
       " Prediction(uid='766', iid='648', r_ui=3.0, est=3.624521475006921, details={'actual_k': 40, 'was_impossible': False}),\n",
       " Prediction(uid='306', iid='242', r_ui=5.0, est=3.7617491585299425, details={'actual_k': 24, 'was_impossible': False}),\n",
       " Prediction(uid='846', iid='482', r_ui=5.0, est=3.621618728334285, details={'actual_k': 40, 'was_impossible': False}),\n",
       " Prediction(uid='593', iid='402', r_ui=4.0, est=3.697958656362584, details={'actual_k': 40, 'was_impossible': False}),\n",
       " Prediction(uid='111', iid='304', r_ui=4.0, est=3.8545012270477947, details={'actual_k': 14, 'was_impossible': False}),\n",
       " Prediction(uid='393', iid='141', r_ui=2.0, est=3.400698170970368, details={'actual_k': 40, 'was_impossible': False}),\n",
       " Prediction(uid='788', iid='4', r_ui=3.0, est=3.323974280623251, details={'actual_k': 40, 'was_impossible': False}),\n",
       " Prediction(uid='547', iid='316', r_ui=5.0, est=3.478316433225181, details={'actual_k': 17, 'was_impossible': False}),\n",
       " Prediction(uid='94', iid='723', r_ui=3.0, est=3.6994394127101193, details={'actual_k': 40, 'was_impossible': False}),\n",
       " Prediction(uid='751', iid='153', r_ui=4.0, est=3.695954590609228, details={'actual_k': 40, 'was_impossible': False}),\n",
       " Prediction(uid='291', iid='195', r_ui=4.0, est=4.045788020421204, details={'actual_k': 40, 'was_impossible': False}),\n",
       " Prediction(uid='401', iid='815', r_ui=3.0, est=3.2005849605817245, details={'actual_k': 40, 'was_impossible': False}),\n",
       " Prediction(uid='183', iid='94', r_ui=3.0, est=3.178071147521784, details={'actual_k': 40, 'was_impossible': False}),\n",
       " Prediction(uid='872', iid='926', r_ui=4.0, est=3.3285288828122814, details={'actual_k': 40, 'was_impossible': False}),\n",
       " Prediction(uid='457', iid='704', r_ui=4.0, est=3.8731918115772874, details={'actual_k': 40, 'was_impossible': False}),\n",
       " Prediction(uid='595', iid='986', r_ui=2.0, est=3.028159432700944, details={'actual_k': 40, 'was_impossible': False}),\n",
       " Prediction(uid='786', iid='195', r_ui=4.0, est=4.124647936195598, details={'actual_k': 40, 'was_impossible': False}),\n",
       " Prediction(uid='454', iid='66', r_ui=4.0, est=3.0721643095332585, details={'actual_k': 40, 'was_impossible': False}),\n",
       " Prediction(uid='321', iid='507', r_ui=3.0, est=3.7745751093446374, details={'actual_k': 40, 'was_impossible': False}),\n",
       " Prediction(uid='435', iid='168', r_ui=5.0, est=3.800224762514631, details={'actual_k': 40, 'was_impossible': False}),\n",
       " Prediction(uid='313', iid='403', r_ui=3.0, est=3.721931472557666, details={'actual_k': 40, 'was_impossible': False}),\n",
       " Prediction(uid='870', iid='554', r_ui=2.0, est=3.420919339829066, details={'actual_k': 40, 'was_impossible': False}),\n",
       " Prediction(uid='653', iid='1101', r_ui=2.0, est=2.798312181226747, details={'actual_k': 40, 'was_impossible': False}),\n",
       " Prediction(uid='469', iid='923', r_ui=5.0, est=4.443682350232964, details={'actual_k': 32, 'was_impossible': False}),\n",
       " Prediction(uid='94', iid='366', r_ui=3.0, est=3.430567317031566, details={'actual_k': 40, 'was_impossible': False}),\n",
       " Prediction(uid='595', iid='369', r_ui=3.0, est=3.0413778002434206, details={'actual_k': 40, 'was_impossible': False}),\n",
       " Prediction(uid='454', iid='498', r_ui=3.0, est=2.874970223224385, details={'actual_k': 40, 'was_impossible': False}),\n",
       " Prediction(uid='721', iid='258', r_ui=3.0, est=4.02088706860742, details={'actual_k': 40, 'was_impossible': False}),\n",
       " Prediction(uid='787', iid='906', r_ui=1.0, est=3.3248786512382402, details={'actual_k': 34, 'was_impossible': False}),\n",
       " Prediction(uid='50', iid='286', r_ui=2.0, est=3.554216858850799, details={'actual_k': 17, 'was_impossible': False}),\n",
       " Prediction(uid='239', iid='288', r_ui=2.0, est=3.9832822821860465, details={'actual_k': 40, 'was_impossible': False}),\n",
       " Prediction(uid='789', iid='181', r_ui=4.0, est=3.6807230405560065, details={'actual_k': 28, 'was_impossible': False}),\n",
       " Prediction(uid='560', iid='405', r_ui=4.0, est=3.6752647682327892, details={'actual_k': 40, 'was_impossible': False}),\n",
       " Prediction(uid='40', iid='268', r_ui=4.0, est=2.933594270046513, details={'actual_k': 28, 'was_impossible': False}),\n",
       " Prediction(uid='517', iid='275', r_ui=5.0, est=3.377683132293321, details={'actual_k': 30, 'was_impossible': False}),\n",
       " Prediction(uid='5', iid='135', r_ui=4.0, est=3.6494474637170127, details={'actual_k': 40, 'was_impossible': False}),\n",
       " Prediction(uid='711', iid='154', r_ui=4.0, est=4.295425476068897, details={'actual_k': 40, 'was_impossible': False}),\n",
       " Prediction(uid='279', iid='216', r_ui=3.0, est=2.894849401041962, details={'actual_k': 40, 'was_impossible': False}),\n",
       " Prediction(uid='334', iid='190', r_ui=4.0, est=3.5471891862859835, details={'actual_k': 40, 'was_impossible': False}),\n",
       " Prediction(uid='109', iid='157', r_ui=4.0, est=3.296909301588333, details={'actual_k': 40, 'was_impossible': False}),\n",
       " Prediction(uid='483', iid='195', r_ui=3.0, est=3.051577463337167, details={'actual_k': 40, 'was_impossible': False}),\n",
       " Prediction(uid='405', iid='381', r_ui=1.0, est=1.25, details={'actual_k': 40, 'was_impossible': False}),\n",
       " Prediction(uid='830', iid='403', r_ui=4.0, est=4.176235419647742, details={'actual_k': 40, 'was_impossible': False}),\n",
       " Prediction(uid='884', iid='269', r_ui=5.0, est=3.6726113988984457, details={'actual_k': 32, 'was_impossible': False}),\n",
       " Prediction(uid='233', iid='504', r_ui=5.0, est=4.224819134907688, details={'actual_k': 40, 'was_impossible': False}),\n",
       " Prediction(uid='72', iid='476', r_ui=4.0, est=4.150197661622893, details={'actual_k': 40, 'was_impossible': False}),\n",
       " Prediction(uid='561', iid='19', r_ui=3.0, est=2.7963534131903955, details={'actual_k': 40, 'was_impossible': False}),\n",
       " Prediction(uid='727', iid='941', r_ui=2.0, est=2.600285145986988, details={'actual_k': 40, 'was_impossible': False}),\n",
       " Prediction(uid='492', iid='275', r_ui=2.0, est=3.5776696786953157, details={'actual_k': 38, 'was_impossible': False}),\n",
       " Prediction(uid='267', iid='153', r_ui=5.0, est=4.146478986047166, details={'actual_k': 40, 'was_impossible': False}),\n",
       " Prediction(uid='153', iid='294', r_ui=2.0, est=2.944483740855826, details={'actual_k': 18, 'was_impossible': False}),\n",
       " Prediction(uid='41', iid='180', r_ui=5.0, est=3.6696316946817205, details={'actual_k': 39, 'was_impossible': False}),\n",
       " Prediction(uid='551', iid='230', r_ui=5.0, est=3.8215290041263, details={'actual_k': 40, 'was_impossible': False}),\n",
       " Prediction(uid='303', iid='1222', r_ui=3.0, est=2.9, details={'actual_k': 40, 'was_impossible': False}),\n",
       " Prediction(uid='632', iid='685', r_ui=2.0, est=3.9013209294652436, details={'actual_k': 40, 'was_impossible': False}),\n",
       " Prediction(uid='387', iid='547', r_ui=4.0, est=3.404516537816323, details={'actual_k': 40, 'was_impossible': False}),\n",
       " Prediction(uid='815', iid='944', r_ui=3.0, est=3.4751210717048617, details={'actual_k': 40, 'was_impossible': False}),\n",
       " Prediction(uid='691', iid='79', r_ui=5.0, est=4.209000272987162, details={'actual_k': 26, 'was_impossible': False}),\n",
       " Prediction(uid='624', iid='245', r_ui=3.0, est=3.5721692899044872, details={'actual_k': 40, 'was_impossible': False}),\n",
       " Prediction(uid='727', iid='184', r_ui=3.0, est=3.223510013454363, details={'actual_k': 40, 'was_impossible': False}),\n",
       " Prediction(uid='7', iid='357', r_ui=5.0, est=4.300473720506667, details={'actual_k': 40, 'was_impossible': False}),\n",
       " Prediction(uid='416', iid='657', r_ui=5.0, est=3.624820369198073, details={'actual_k': 40, 'was_impossible': False}),\n",
       " Prediction(uid='551', iid='67', r_ui=5.0, est=3.4970971149471652, details={'actual_k': 40, 'was_impossible': False}),\n",
       " Prediction(uid='73', iid='82', r_ui=2.0, est=3.922569375467183, details={'actual_k': 40, 'was_impossible': False}),\n",
       " Prediction(uid='551', iid='97', r_ui=5.0, est=3.9936482496592927, details={'actual_k': 40, 'was_impossible': False}),\n",
       " Prediction(uid='606', iid='549', r_ui=4.0, est=3.9472034192822956, details={'actual_k': 40, 'was_impossible': False}),\n",
       " Prediction(uid='455', iid='288', r_ui=2.0, est=3.6718758393061397, details={'actual_k': 40, 'was_impossible': False}),\n",
       " Prediction(uid='387', iid='190', r_ui=5.0, est=3.4729939027675143, details={'actual_k': 40, 'was_impossible': False}),\n",
       " Prediction(uid='449', iid='179', r_ui=4.0, est=3.9526932620212154, details={'actual_k': 40, 'was_impossible': False}),\n",
       " Prediction(uid='16', iid='447', r_ui=5.0, est=4.699985971851867, details={'actual_k': 40, 'was_impossible': False}),\n",
       " Prediction(uid='294', iid='255', r_ui=3.0, est=3.4972948882215236, details={'actual_k': 40, 'was_impossible': False}),\n",
       " Prediction(uid='277', iid='872', r_ui=3.0, est=3.603291165769554, details={'actual_k': 36, 'was_impossible': False}),\n",
       " Prediction(uid='618', iid='501', r_ui=4.0, est=3.620333874736601, details={'actual_k': 40, 'was_impossible': False}),\n",
       " Prediction(uid='835', iid='210', r_ui=5.0, est=3.999288106963029, details={'actual_k': 40, 'was_impossible': False}),\n",
       " Prediction(uid='429', iid='708', r_ui=3.0, est=3.1454331258338013, details={'actual_k': 40, 'was_impossible': False}),\n",
       " Prediction(uid='299', iid='60', r_ui=5.0, est=3.3977571162578597, details={'actual_k': 40, 'was_impossible': False}),\n",
       " Prediction(uid='280', iid='586', r_ui=4.0, est=3.698746113357543, details={'actual_k': 40, 'was_impossible': False}),\n",
       " Prediction(uid='243', iid='632', r_ui=5.0, est=3.5492484240278035, details={'actual_k': 40, 'was_impossible': False}),\n",
       " Prediction(uid='668', iid='354', r_ui=4.0, est=3.512765292210533, details={'actual_k': 36, 'was_impossible': False}),\n",
       " Prediction(uid='588', iid='62', r_ui=2.0, est=4.045484765240567, details={'actual_k': 40, 'was_impossible': False}),\n",
       " Prediction(uid='197', iid='231', r_ui=3.0, est=3.695507636417416, details={'actual_k': 40, 'was_impossible': False}),\n",
       " Prediction(uid='881', iid='9', r_ui=3.0, est=3.545515125238384, details={'actual_k': 40, 'was_impossible': False}),\n",
       " Prediction(uid='251', iid='418', r_ui=4.0, est=4.0242545753567605, details={'actual_k': 40, 'was_impossible': False}),\n",
       " Prediction(uid='168', iid='259', r_ui=2.0, est=3.5719757715669003, details={'actual_k': 40, 'was_impossible': False}),\n",
       " Prediction(uid='113', iid='508', r_ui=4.0, est=3.7030902497812215, details={'actual_k': 40, 'was_impossible': False}),\n",
       " Prediction(uid='798', iid='133', r_ui=3.0, est=3.322565722304646, details={'actual_k': 40, 'was_impossible': False}),\n",
       " Prediction(uid='757', iid='202', r_ui=4.0, est=3.775671078483691, details={'actual_k': 40, 'was_impossible': False}),\n",
       " Prediction(uid='551', iid='241', r_ui=4.0, est=3.772648688946526, details={'actual_k': 40, 'was_impossible': False}),\n",
       " Prediction(uid='181', iid='681', r_ui=1.0, est=1.3, details={'actual_k': 40, 'was_impossible': False}),\n",
       " Prediction(uid='12', iid='196', r_ui=5.0, est=4.453470016639161, details={'actual_k': 31, 'was_impossible': False}),\n",
       " Prediction(uid='201', iid='172', r_ui=5.0, est=2.9719822698963756, details={'actual_k': 40, 'was_impossible': False}),\n",
       " Prediction(uid='905', iid='313', r_ui=4.0, est=3.242746837210588, details={'actual_k': 34, 'was_impossible': False}),\n",
       " Prediction(uid='918', iid='638', r_ui=4.0, est=3.4500344701232706, details={'actual_k': 40, 'was_impossible': False}),\n",
       " Prediction(uid='168', iid='1047', r_ui=2.0, est=3.6327984118954992, details={'actual_k': 40, 'was_impossible': False}),\n",
       " Prediction(uid='80', iid='260', r_ui=1.0, est=3.8697216853635275, details={'actual_k': 23, 'was_impossible': False}),\n",
       " Prediction(uid='422', iid='436', r_ui=3.0, est=3.3757566260132608, details={'actual_k': 40, 'was_impossible': False}),\n",
       " Prediction(uid='373', iid='699', r_ui=4.0, est=3.6482903987455644, details={'actual_k': 40, 'was_impossible': False}),\n",
       " Prediction(uid='846', iid='488', r_ui=5.0, est=2.9490715062499575, details={'actual_k': 40, 'was_impossible': False}),\n",
       " Prediction(uid='638', iid='29', r_ui=2.0, est=3.7024337667799503, details={'actual_k': 40, 'was_impossible': False}),\n",
       " Prediction(uid='881', iid='524', r_ui=4.0, est=3.29627983696956, details={'actual_k': 40, 'was_impossible': False}),\n",
       " Prediction(uid='474', iid='606', r_ui=3.0, est=3.7983728844024767, details={'actual_k': 40, 'was_impossible': False}),\n",
       " Prediction(uid='804', iid='1', r_ui=5.0, est=3.823949550135497, details={'actual_k': 40, 'was_impossible': False}),\n",
       " Prediction(uid='739', iid='1429', r_ui=5.0, est=1.5, details={'actual_k': 2, 'was_impossible': False}),\n",
       " Prediction(uid='600', iid='53', r_ui=4.0, est=3.999377494017818, details={'actual_k': 40, 'was_impossible': False}),\n",
       " Prediction(uid='896', iid='76', r_ui=3.0, est=2.9474958740108055, details={'actual_k': 40, 'was_impossible': False}),\n",
       " Prediction(uid='545', iid='17', r_ui=3.0, est=3.6994865684281617, details={'actual_k': 40, 'was_impossible': False}),\n",
       " Prediction(uid='1', iid='270', r_ui=5.0, est=3.3668203041699822, details={'actual_k': 40, 'was_impossible': False}),\n",
       " Prediction(uid='109', iid='595', r_ui=3.0, est=3.270883725746622, details={'actual_k': 40, 'was_impossible': False}),\n",
       " Prediction(uid='323', iid='1012', r_ui=4.0, est=4.028017435868925, details={'actual_k': 40, 'was_impossible': False}),\n",
       " Prediction(uid='406', iid='813', r_ui=4.0, est=3.4492913943664045, details={'actual_k': 40, 'was_impossible': False}),\n",
       " Prediction(uid='269', iid='956', r_ui=3.0, est=3.3995733491046614, details={'actual_k': 40, 'was_impossible': False}),\n",
       " Prediction(uid='781', iid='174', r_ui=5.0, est=3.7183588601656443, details={'actual_k': 30, 'was_impossible': False}),\n",
       " Prediction(uid='254', iid='1', r_ui=3.0, est=3.525197074264091, details={'actual_k': 40, 'was_impossible': False}),\n",
       " Prediction(uid='188', iid='300', r_ui=4.0, est=4.000143277515687, details={'actual_k': 40, 'was_impossible': False}),\n",
       " Prediction(uid='255', iid='444', r_ui=3.0, est=2.6945805260870954, details={'actual_k': 40, 'was_impossible': False}),\n",
       " Prediction(uid='104', iid='628', r_ui=4.0, est=2.8203334829581075, details={'actual_k': 40, 'was_impossible': False}),\n",
       " Prediction(uid='97', iid='429', r_ui=4.0, est=4.053568321571978, details={'actual_k': 40, 'was_impossible': False}),\n",
       " Prediction(uid='399', iid='144', r_ui=3.0, est=2.9507872209168764, details={'actual_k': 40, 'was_impossible': False}),\n",
       " Prediction(uid='798', iid='709', r_ui=5.0, est=3.3225456460120135, details={'actual_k': 40, 'was_impossible': False}),\n",
       " Prediction(uid='560', iid='1073', r_ui=3.0, est=3.6981861729821874, details={'actual_k': 40, 'was_impossible': False}),\n",
       " Prediction(uid='145', iid='761', r_ui=4.0, est=2.6727677371695866, details={'actual_k': 40, 'was_impossible': False}),\n",
       " Prediction(uid='21', iid='9', r_ui=5.0, est=3.245288995285483, details={'actual_k': 40, 'was_impossible': False}),\n",
       " Prediction(uid='127', iid='380', r_ui=5.0, est=4.239444691464478, details={'actual_k': 14, 'was_impossible': False}),\n",
       " Prediction(uid='480', iid='615', r_ui=4.0, est=3.7497012115385564, details={'actual_k': 40, 'was_impossible': False}),\n",
       " Prediction(uid='913', iid='8', r_ui=2.0, est=3.7764627104489508, details={'actual_k': 40, 'was_impossible': False}),\n",
       " Prediction(uid='94', iid='572', r_ui=3.0, est=3.59983553638255, details={'actual_k': 40, 'was_impossible': False}),\n",
       " Prediction(uid='447', iid='474', r_ui=3.0, est=4.051621212774513, details={'actual_k': 40, 'was_impossible': False}),\n",
       " Prediction(uid='339', iid='469', r_ui=5.0, est=4.173941675624666, details={'actual_k': 40, 'was_impossible': False}),\n",
       " Prediction(uid='912', iid='168', r_ui=5.0, est=3.743468880287784, details={'actual_k': 32, 'was_impossible': False}),\n",
       " Prediction(uid='838', iid='455', r_ui=4.0, est=4.223755734247604, details={'actual_k': 40, 'was_impossible': False}),\n",
       " Prediction(uid='922', iid='200', r_ui=3.0, est=3.674683848308193, details={'actual_k': 40, 'was_impossible': False}),\n",
       " Prediction(uid='896', iid='660', r_ui=5.0, est=2.8215237091841403, details={'actual_k': 40, 'was_impossible': False}),\n",
       " Prediction(uid='186', iid='281', r_ui=4.0, est=3.6966315635038995, details={'actual_k': 40, 'was_impossible': False}),\n",
       " Prediction(uid='149', iid='268', r_ui=4.0, est=2.779152913129842, details={'actual_k': 22, 'was_impossible': False}),\n",
       " Prediction(uid='916', iid='824', r_ui=3.0, est=3.5000992270498084, details={'actual_k': 40, 'was_impossible': False}),\n",
       " Prediction(uid='529', iid='343', r_ui=3.0, est=3.7516825039765216, details={'actual_k': 28, 'was_impossible': False}),\n",
       " Prediction(uid='798', iid='560', r_ui=3.0, est=3.12464345950798, details={'actual_k': 40, 'was_impossible': False}),\n",
       " Prediction(uid='495', iid='576', r_ui=3.0, est=3.875911827577537, details={'actual_k': 40, 'was_impossible': False}),\n",
       " Prediction(uid='255', iid='879', r_ui=3.0, est=2.318687089075314, details={'actual_k': 40, 'was_impossible': False}),\n",
       " Prediction(uid='273', iid='338', r_ui=3.0, est=3.6051546230166216, details={'actual_k': 18, 'was_impossible': False}),\n",
       " Prediction(uid='665', iid='527', r_ui=3.0, est=3.7248993698294024, details={'actual_k': 40, 'was_impossible': False}),\n",
       " Prediction(uid='437', iid='91', r_ui=3.0, est=3.597076997695405, details={'actual_k': 40, 'was_impossible': False}),\n",
       " Prediction(uid='449', iid='244', r_ui=4.0, est=3.6496444409916116, details={'actual_k': 40, 'was_impossible': False}),\n",
       " Prediction(uid='93', iid='275', r_ui=4.0, est=3.234369314702997, details={'actual_k': 18, 'was_impossible': False}),\n",
       " Prediction(uid='194', iid='756', r_ui=1.0, est=2.621657244442022, details={'actual_k': 40, 'was_impossible': False}),\n",
       " Prediction(uid='815', iid='1133', r_ui=3.0, est=3.9000698241687504, details={'actual_k': 40, 'was_impossible': False}),\n",
       " Prediction(uid='178', iid='127', r_ui=5.0, est=3.749656036012354, details={'actual_k': 40, 'was_impossible': False}),\n",
       " Prediction(uid='459', iid='358', r_ui=2.0, est=3.2984234249926416, details={'actual_k': 40, 'was_impossible': False}),\n",
       " Prediction(uid='212', iid='246', r_ui=5.0, est=3.994393456424125, details={'actual_k': 18, 'was_impossible': False}),\n",
       " Prediction(uid='561', iid='133', r_ui=3.0, est=3.222440521283799, details={'actual_k': 40, 'was_impossible': False}),\n",
       " Prediction(uid='805', iid='343', r_ui=5.0, est=3.276532903345131, details={'actual_k': 40, 'was_impossible': False}),\n",
       " Prediction(uid='535', iid='519', r_ui=3.0, est=4.075247455481244, details={'actual_k': 40, 'was_impossible': False}),\n",
       " Prediction(uid='671', iid='237', r_ui=5.0, est=3.7733263940624635, details={'actual_k': 40, 'was_impossible': False}),\n",
       " Prediction(uid='556', iid='170', r_ui=4.0, est=4.319889734058221, details={'actual_k': 32, 'was_impossible': False}),\n",
       " Prediction(uid='327', iid='99', r_ui=4.0, est=3.624528216155245, details={'actual_k': 40, 'was_impossible': False}),\n",
       " Prediction(uid='774', iid='227', r_ui=5.0, est=2.19701375120587, details={'actual_k': 40, 'was_impossible': False}),\n",
       " Prediction(uid='465', iid='134', r_ui=4.0, est=3.475910903717681, details={'actual_k': 40, 'was_impossible': False}),\n",
       " Prediction(uid='286', iid='100', r_ui=3.0, est=3.773795643189187, details={'actual_k': 40, 'was_impossible': False}),\n",
       " Prediction(uid='484', iid='248', r_ui=4.0, est=4.123208891335189, details={'actual_k': 40, 'was_impossible': False}),\n",
       " Prediction(uid='222', iid='412', r_ui=1.0, est=2.5938840681667057, details={'actual_k': 40, 'was_impossible': False}),\n",
       " Prediction(uid='606', iid='1518', r_ui=4.0, est=3.6749706589966347, details={'actual_k': 40, 'was_impossible': False}),\n",
       " Prediction(uid='767', iid='222', r_ui=5.0, est=4.5025016373741, details={'actual_k': 28, 'was_impossible': False}),\n",
       " Prediction(uid='622', iid='70', r_ui=3.0, est=3.7957159487365093, details={'actual_k': 40, 'was_impossible': False}),\n",
       " Prediction(uid='829', iid='275', r_ui=4.0, est=3.729003962580969, details={'actual_k': 40, 'was_impossible': False}),\n",
       " Prediction(uid='181', iid='1067', r_ui=1.0, est=1.325, details={'actual_k': 40, 'was_impossible': False}),\n",
       " Prediction(uid='184', iid='381', r_ui=4.0, est=3.7217714018506705, details={'actual_k': 40, 'was_impossible': False}),\n",
       " Prediction(uid='374', iid='467', r_ui=4.0, est=3.196238101299757, details={'actual_k': 40, 'was_impossible': False}),\n",
       " Prediction(uid='243', iid='275', r_ui=3.0, est=3.6244352392899577, details={'actual_k': 40, 'was_impossible': False}),\n",
       " Prediction(uid='13', iid='292', r_ui=5.0, est=2.3748741513362077, details={'actual_k': 40, 'was_impossible': False}),\n",
       " Prediction(uid='901', iid='405', r_ui=4.0, est=4.351142954014688, details={'actual_k': 40, 'was_impossible': False}),\n",
       " Prediction(uid='339', iid='530', r_ui=5.0, est=4.422226587076373, details={'actual_k': 40, 'was_impossible': False}),\n",
       " Prediction(uid='392', iid='302', r_ui=5.0, est=4.2759453785042165, details={'actual_k': 40, 'was_impossible': False}),\n",
       " Prediction(uid='781', iid='232', r_ui=3.0, est=3.79052390946345, details={'actual_k': 29, 'was_impossible': False}),\n",
       " Prediction(uid='59', iid='147', r_ui=5.0, est=3.724422166265441, details={'actual_k': 40, 'was_impossible': False}),\n",
       " Prediction(uid='697', iid='282', r_ui=4.0, est=4.022901416542952, details={'actual_k': 40, 'was_impossible': False}),\n",
       " Prediction(uid='694', iid='510', r_ui=5.0, est=4.14922213643777, details={'actual_k': 40, 'was_impossible': False}),\n",
       " Prediction(uid='15', iid='685', r_ui=4.0, est=2.9531119523020517, details={'actual_k': 40, 'was_impossible': False}),\n",
       " Prediction(uid='577', iid='735', r_ui=5.0, est=3.8464842543986304, details={'actual_k': 40, 'was_impossible': False}),\n",
       " Prediction(uid='41', iid='174', r_ui=4.0, est=3.668119178991145, details={'actual_k': 39, 'was_impossible': False}),\n",
       " Prediction(uid='909', iid='300', r_ui=5.0, est=4.17800878920868, details={'actual_k': 17, 'was_impossible': False}),\n",
       " Prediction(uid='539', iid='962', r_ui=4.0, est=4.09684565630854, details={'actual_k': 40, 'was_impossible': False}),\n",
       " Prediction(uid='381', iid='276', r_ui=3.0, est=3.9221533134618083, details={'actual_k': 40, 'was_impossible': False}),\n",
       " Prediction(uid='782', iid='1417', r_ui=2.0, est=3.5279866666666666, details={'was_impossible': True, 'reason': 'User and/or item is unknown.'}),\n",
       " Prediction(uid='650', iid='389', r_ui=3.0, est=3.299067820236817, details={'actual_k': 40, 'was_impossible': False}),\n",
       " Prediction(uid='308', iid='60', r_ui=3.0, est=3.699356076346515, details={'actual_k': 40, 'was_impossible': False}),\n",
       " Prediction(uid='384', iid='271', r_ui=4.0, est=4.212494414952922, details={'actual_k': 19, 'was_impossible': False}),\n",
       " Prediction(uid='922', iid='403', r_ui=3.0, est=3.751620340059275, details={'actual_k': 40, 'was_impossible': False}),\n",
       " Prediction(uid='881', iid='175', r_ui=2.0, est=3.4659209343038566, details={'actual_k': 40, 'was_impossible': False}),\n",
       " Prediction(uid='847', iid='8', r_ui=4.0, est=3.3990426699215246, details={'actual_k': 40, 'was_impossible': False}),\n",
       " Prediction(uid='279', iid='373', r_ui=4.0, est=2.8, details={'actual_k': 40, 'was_impossible': False}),\n",
       " Prediction(uid='794', iid='187', r_ui=5.0, est=4.272523741321786, details={'actual_k': 30, 'was_impossible': False}),\n",
       " Prediction(uid='789', iid='111', r_ui=3.0, est=3.6788623564787697, details={'actual_k': 28, 'was_impossible': False}),\n",
       " Prediction(uid='500', iid='557', r_ui=3.0, est=3.25, details={'actual_k': 40, 'was_impossible': False}),\n",
       " Prediction(uid='268', iid='790', r_ui=2.0, est=2.5434085514814306, details={'actual_k': 40, 'was_impossible': False}),\n",
       " Prediction(uid='380', iid='1168', r_ui=3.0, est=3.147393747274351, details={'actual_k': 40, 'was_impossible': False}),\n",
       " Prediction(uid='927', iid='154', r_ui=3.0, est=3.824757811891433, details={'actual_k': 40, 'was_impossible': False}),\n",
       " Prediction(uid='885', iid='56', r_ui=3.0, est=3.5252671761156784, details={'actual_k': 40, 'was_impossible': False}),\n",
       " Prediction(uid='738', iid='697', r_ui=2.0, est=3.8481173658797765, details={'actual_k': 40, 'was_impossible': False}),\n",
       " Prediction(uid='838', iid='584', r_ui=4.0, est=4.101041544455717, details={'actual_k': 40, 'was_impossible': False}),\n",
       " Prediction(uid='463', iid='313', r_ui=4.0, est=2.6958513512932805, details={'actual_k': 40, 'was_impossible': False}),\n",
       " Prediction(uid='43', iid='77', r_ui=3.0, est=4.124564118365984, details={'actual_k': 40, 'was_impossible': False}),\n",
       " Prediction(uid='643', iid='181', r_ui=3.0, est=3.9500491488342986, details={'actual_k': 40, 'was_impossible': False}),\n",
       " Prediction(uid='398', iid='64', r_ui=4.0, est=4.175408814820647, details={'actual_k': 40, 'was_impossible': False}),\n",
       " Prediction(uid='319', iid='350', r_ui=3.0, est=3.7945778664127197, details={'actual_k': 14, 'was_impossible': False}),\n",
       " Prediction(uid='226', iid='179', r_ui=4.0, est=3.8764602372380823, details={'actual_k': 40, 'was_impossible': False}),\n",
       " Prediction(uid='532', iid='1', r_ui=5.0, est=4.219093348772302, details={'actual_k': 40, 'was_impossible': False}),\n",
       " Prediction(uid='727', iid='239', r_ui=4.0, est=3.0426281025131967, details={'actual_k': 40, 'was_impossible': False}),\n",
       " Prediction(uid='397', iid='1298', r_ui=3.0, est=3.973216017575338, details={'actual_k': 40, 'was_impossible': False}),\n",
       " Prediction(uid='804', iid='411', r_ui=3.0, est=3.522217388250965, details={'actual_k': 40, 'was_impossible': False}),\n",
       " Prediction(uid='175', iid='187', r_ui=4.0, est=3.774807123076334, details={'actual_k': 29, 'was_impossible': False}),\n",
       " Prediction(uid='280', iid='928', r_ui=5.0, est=3.526569203827905, details={'actual_k': 40, 'was_impossible': False}),\n",
       " Prediction(uid='934', iid='56', r_ui=5.0, est=3.6762037831942953, details={'actual_k': 40, 'was_impossible': False}),\n",
       " Prediction(uid='417', iid='747', r_ui=3.0, est=3.0464837578689545, details={'actual_k': 40, 'was_impossible': False}),\n",
       " Prediction(uid='525', iid='762', r_ui=4.0, est=3.304677055132474, details={'actual_k': 40, 'was_impossible': False}),\n",
       " Prediction(uid='877', iid='739', r_ui=4.0, est=3.6800756520454727, details={'actual_k': 40, 'was_impossible': False}),\n",
       " Prediction(uid='313', iid='443', r_ui=5.0, est=4.073081874584421, details={'actual_k': 40, 'was_impossible': False}),\n",
       " Prediction(uid='655', iid='702', r_ui=2.0, est=2.65, details={'actual_k': 40, 'was_impossible': False}),\n",
       " Prediction(uid='13', iid='866', r_ui=3.0, est=2.475, details={'actual_k': 40, 'was_impossible': False}),\n",
       " Prediction(uid='303', iid='72', r_ui=3.0, est=3.019456284369595, details={'actual_k': 40, 'was_impossible': False}),\n",
       " Prediction(uid='162', iid='179', r_ui=3.0, est=3.6674537499222812, details={'actual_k': 33, 'was_impossible': False}),\n",
       " Prediction(uid='264', iid='659', r_ui=5.0, est=4.29917133703475, details={'actual_k': 40, 'was_impossible': False}),\n",
       " Prediction(uid='332', iid='302', r_ui=5.0, est=4.09814339811002, details={'actual_k': 40, 'was_impossible': False}),\n",
       " Prediction(uid='295', iid='427', r_ui=4.0, est=4.525604131515123, details={'actual_k': 40, 'was_impossible': False}),\n",
       " Prediction(uid='938', iid='121', r_ui=5.0, est=3.5258535037481784, details={'actual_k': 40, 'was_impossible': False}),\n",
       " Prediction(uid='880', iid='720', r_ui=2.0, est=2.8753988543010283, details={'actual_k': 40, 'was_impossible': False}),\n",
       " Prediction(uid='92', iid='780', r_ui=3.0, est=3.043023038814041, details={'actual_k': 40, 'was_impossible': False}),\n",
       " Prediction(uid='874', iid='654', r_ui=5.0, est=3.6571114732170202, details={'actual_k': 25, 'was_impossible': False}),\n",
       " Prediction(uid='201', iid='631', r_ui=2.0, est=2.9232868616966305, details={'actual_k': 40, 'was_impossible': False}),\n",
       " Prediction(uid='937', iid='408', r_ui=5.0, est=3.390882840351642, details={'actual_k': 32, 'was_impossible': False}),\n",
       " Prediction(uid='279', iid='61', r_ui=4.0, est=2.7744984111203665, details={'actual_k': 40, 'was_impossible': False}),\n",
       " Prediction(uid='151', iid='474', r_ui=5.0, est=4.298205641657549, details={'actual_k': 40, 'was_impossible': False}),\n",
       " Prediction(uid='932', iid='161', r_ui=3.0, est=4.198988527983173, details={'actual_k': 40, 'was_impossible': False}),\n",
       " Prediction(uid='7', iid='131', r_ui=5.0, est=3.6972876511670516, details={'actual_k': 40, 'was_impossible': False}),\n",
       " Prediction(uid='867', iid='323', r_ui=3.0, est=4.3502734530624645, details={'actual_k': 40, 'was_impossible': False}),\n",
       " Prediction(uid='171', iid='302', r_ui=4.0, est=3.4525217292721804, details={'actual_k': 18, 'was_impossible': False}),\n",
       " Prediction(uid='235', iid='523', r_ui=5.0, est=4.17449542822298, details={'actual_k': 40, 'was_impossible': False}),\n",
       " Prediction(uid='5', iid='94', r_ui=3.0, est=2.9740167780227362, details={'actual_k': 40, 'was_impossible': False}),\n",
       " Prediction(uid='222', iid='1035', r_ui=2.0, est=2.573980862795814, details={'actual_k': 40, 'was_impossible': False}),\n",
       " Prediction(uid='497', iid='849', r_ui=2.0, est=2.9499933641112435, details={'actual_k': 40, 'was_impossible': False}),\n",
       " Prediction(uid='214', iid='39', r_ui=4.0, est=3.9727377379491715, details={'actual_k': 40, 'was_impossible': False}),\n",
       " Prediction(uid='854', iid='756', r_ui=3.0, est=2.874144367558094, details={'actual_k': 40, 'was_impossible': False}),\n",
       " Prediction(uid='213', iid='591', r_ui=4.0, est=4.150785188007965, details={'actual_k': 40, 'was_impossible': False}),\n",
       " Prediction(uid='654', iid='146', r_ui=3.0, est=3.775, details={'actual_k': 40, 'was_impossible': False}),\n",
       " Prediction(uid='805', iid='559', r_ui=3.0, est=3.325781690661416, details={'actual_k': 40, 'was_impossible': False}),\n",
       " Prediction(uid='543', iid='163', r_ui=4.0, est=3.448743400572531, details={'actual_k': 40, 'was_impossible': False}),\n",
       " Prediction(uid='426', iid='968', r_ui=3.0, est=4.025646774195418, details={'actual_k': 40, 'was_impossible': False}),\n",
       " Prediction(uid='110', iid='38', r_ui=3.0, est=3.1930617569820066, details={'actual_k': 40, 'was_impossible': False}),\n",
       " Prediction(uid='864', iid='143', r_ui=4.0, est=3.2679339942270684, details={'actual_k': 40, 'was_impossible': False}),\n",
       " Prediction(uid='214', iid='181', r_ui=3.0, est=3.924304557221552, details={'actual_k': 40, 'was_impossible': False}),\n",
       " Prediction(uid='13', iid='630', r_ui=2.0, est=2.525, details={'actual_k': 40, 'was_impossible': False}),\n",
       " Prediction(uid='664', iid='408', r_ui=5.0, est=4.025349931956075, details={'actual_k': 40, 'was_impossible': False}),\n",
       " Prediction(uid='7', iid='455', r_ui=4.0, est=3.971890600402409, details={'actual_k': 40, 'was_impossible': False}),\n",
       " Prediction(uid='361', iid='212', r_ui=5.0, est=4.102098024892216, details={'actual_k': 40, 'was_impossible': False}),\n",
       " Prediction(uid='933', iid='1228', r_ui=1.0, est=2.466853236559508, details={'actual_k': 40, 'was_impossible': False}),\n",
       " Prediction(uid='642', iid='585', r_ui=5.0, est=3.0006893950771363, details={'actual_k': 40, 'was_impossible': False}),\n",
       " Prediction(uid='88', iid='880', r_ui=3.0, est=4.157506333961256, details={'actual_k': 17, 'was_impossible': False}),\n",
       " Prediction(uid='103', iid='50', r_ui=5.0, est=3.5956889091164173, details={'actual_k': 22, 'was_impossible': False}),\n",
       " Prediction(uid='62', iid='1028', r_ui=1.0, est=2.8758951129764925, details={'actual_k': 40, 'was_impossible': False}),\n",
       " Prediction(uid='56', iid='1035', r_ui=4.0, est=3.8212939533233325, details={'actual_k': 40, 'was_impossible': False}),\n",
       " Prediction(uid='13', iid='436', r_ui=2.0, est=2.599344554249118, details={'actual_k': 40, 'was_impossible': False}),\n",
       " Prediction(uid='301', iid='515', r_ui=3.0, est=3.724133279067392, details={'actual_k': 40, 'was_impossible': False}),\n",
       " Prediction(uid='498', iid='136', r_ui=3.0, est=3.3745252230378457, details={'actual_k': 40, 'was_impossible': False}),\n",
       " Prediction(uid='345', iid='51', r_ui=5.0, est=3.5228539135013404, details={'actual_k': 40, 'was_impossible': False}),\n",
       " Prediction(uid='578', iid='1264', r_ui=3.0, est=2.8346230346872425, details={'actual_k': 18, 'was_impossible': False}),\n",
       " Prediction(uid='758', iid='1047', r_ui=3.0, est=3.6520292735275772, details={'actual_k': 40, 'was_impossible': False}),\n",
       " Prediction(uid='361', iid='333', r_ui=2.0, est=3.799030598375665, details={'actual_k': 40, 'was_impossible': False}),\n",
       " Prediction(uid='748', iid='650', r_ui=1.0, est=3.7997799038218307, details={'actual_k': 40, 'was_impossible': False}),\n",
       " Prediction(uid='436', iid='856', r_ui=4.0, est=3.5752098854954655, details={'actual_k': 40, 'was_impossible': False}),\n",
       " Prediction(uid='315', iid='327', r_ui=4.0, est=4.049155969111063, details={'actual_k': 40, 'was_impossible': False}),\n",
       " Prediction(uid='678', iid='50', r_ui=4.0, est=3.38779349471274, details={'actual_k': 18, 'was_impossible': False}),\n",
       " Prediction(uid='472', iid='472', r_ui=5.0, est=4.323956025255932, details={'actual_k': 40, 'was_impossible': False}),\n",
       " Prediction(uid='303', iid='875', r_ui=4.0, est=2.275, details={'actual_k': 40, 'was_impossible': False}),\n",
       " Prediction(uid='666', iid='742', r_ui=3.0, est=3.699797486963687, details={'actual_k': 40, 'was_impossible': False}),\n",
       " Prediction(uid='932', iid='654', r_ui=5.0, est=4.372982611252458, details={'actual_k': 40, 'was_impossible': False}),\n",
       " Prediction(uid='627', iid='461', r_ui=3.0, est=3.2471430276719824, details={'actual_k': 40, 'was_impossible': False}),\n",
       " Prediction(uid='622', iid='227', r_ui=3.0, est=3.6222901563833436, details={'actual_k': 40, 'was_impossible': False}),\n",
       " Prediction(uid='618', iid='723', r_ui=3.0, est=2.998206752783825, details={'actual_k': 40, 'was_impossible': False}),\n",
       " Prediction(uid='916', iid='399', r_ui=3.0, est=3.3248241455305547, details={'actual_k': 40, 'was_impossible': False}),\n",
       " Prediction(uid='305', iid='751', r_ui=3.0, est=3.5732517720776773, details={'actual_k': 40, 'was_impossible': False}),\n",
       " Prediction(uid='296', iid='286', r_ui=5.0, est=4.4002199807280595, details={'actual_k': 40, 'was_impossible': False}),\n",
       " Prediction(uid='618', iid='382', r_ui=2.0, est=3.2193830975062774, details={'actual_k': 40, 'was_impossible': False}),\n",
       " Prediction(uid='42', iid='173', r_ui=5.0, est=4.09852049767414, details={'actual_k': 40, 'was_impossible': False}),\n",
       " Prediction(uid='561', iid='890', r_ui=1.0, est=3.2508417901762443, details={'actual_k': 40, 'was_impossible': False}),\n",
       " Prediction(uid='14', iid='174', r_ui=5.0, est=4.151008267760234, details={'actual_k': 40, 'was_impossible': False}),\n",
       " Prediction(uid='445', iid='313', r_ui=2.0, est=1.9731721915812344, details={'actual_k': 40, 'was_impossible': False}),\n",
       " Prediction(uid='370', iid='265', r_ui=5.0, est=3.5521695145180447, details={'actual_k': 40, 'was_impossible': False}),\n",
       " Prediction(uid='379', iid='523', r_ui=4.0, est=4.073830288103011, details={'actual_k': 40, 'was_impossible': False}),\n",
       " Prediction(uid='823', iid='144', r_ui=5.0, est=3.9723388535634268, details={'actual_k': 40, 'was_impossible': False}),\n",
       " Prediction(uid='81', iid='25', r_ui=5.0, est=3.381686795629, details={'actual_k': 40, 'was_impossible': False}),\n",
       " Prediction(uid='393', iid='153', r_ui=3.0, est=3.450266087523745, details={'actual_k': 40, 'was_impossible': False}),\n",
       " Prediction(uid='160', iid='544', r_ui=4.0, est=4.104498525959522, details={'actual_k': 40, 'was_impossible': False}),\n",
       " Prediction(uid='496', iid='56', r_ui=5.0, est=3.549506979577671, details={'actual_k': 40, 'was_impossible': False}),\n",
       " Prediction(uid='923', iid='148', r_ui=4.0, est=4.169817280054576, details={'actual_k': 40, 'was_impossible': False}),\n",
       " Prediction(uid='363', iid='90', r_ui=5.0, est=3.4782794318837422, details={'actual_k': 40, 'was_impossible': False}),\n",
       " Prediction(uid='847', iid='39', r_ui=2.0, est=3.298389312583056, details={'actual_k': 40, 'was_impossible': False}),\n",
       " Prediction(uid='363', iid='87', r_ui=3.0, est=2.7710009196434915, details={'actual_k': 40, 'was_impossible': False}),\n",
       " Prediction(uid='456', iid='1107', r_ui=4.0, est=3.524860445593194, details={'actual_k': 40, 'was_impossible': False}),\n",
       " Prediction(uid='497', iid='202', r_ui=4.0, est=3.4743383482793226, details={'actual_k': 40, 'was_impossible': False}),\n",
       " Prediction(uid='943', iid='233', r_ui=5.0, est=3.47642170371463, details={'actual_k': 40, 'was_impossible': False}),\n",
       " Prediction(uid='65', iid='211', r_ui=4.0, est=4.000064808813512, details={'actual_k': 40, 'was_impossible': False}),\n",
       " Prediction(uid='524', iid='1041', r_ui=2.0, est=3.224218060542789, details={'actual_k': 40, 'was_impossible': False}),\n",
       " Prediction(uid='244', iid='1225', r_ui=2.0, est=3.3495490443109053, details={'actual_k': 40, 'was_impossible': False}),\n",
       " Prediction(uid='854', iid='423', r_ui=4.0, est=3.624738352211172, details={'actual_k': 40, 'was_impossible': False}),\n",
       " Prediction(uid='343', iid='77', r_ui=3.0, est=3.8491845431783607, details={'actual_k': 40, 'was_impossible': False}),\n",
       " Prediction(uid='313', iid='488', r_ui=5.0, est=3.8216408655584586, details={'actual_k': 40, 'was_impossible': False}),\n",
       " Prediction(uid='13', iid='540', r_ui=3.0, est=2.475, details={'actual_k': 40, 'was_impossible': False}),\n",
       " Prediction(uid='911', iid='474', r_ui=5.0, est=3.848826032442246, details={'actual_k': 40, 'was_impossible': False}),\n",
       " Prediction(uid='554', iid='209', r_ui=4.0, est=3.700785682336644, details={'actual_k': 40, 'was_impossible': False}),\n",
       " Prediction(uid='277', iid='129', r_ui=4.0, est=3.5911660596688972, details={'actual_k': 36, 'was_impossible': False}),\n",
       " Prediction(uid='908', iid='701', r_ui=4.0, est=3.7008115331078226, details={'actual_k': 40, 'was_impossible': False}),\n",
       " Prediction(uid='625', iid='519', r_ui=2.0, est=3.5257629825582377, details={'actual_k': 40, 'was_impossible': False}),\n",
       " Prediction(uid='712', iid='215', r_ui=3.0, est=4.000243309853349, details={'actual_k': 40, 'was_impossible': False}),\n",
       " Prediction(uid='181', iid='934', r_ui=3.0, est=1.225, details={'actual_k': 40, 'was_impossible': False}),\n",
       " Prediction(uid='622', iid='1231', r_ui=2.0, est=3.1510272721133004, details={'actual_k': 40, 'was_impossible': False}),\n",
       " Prediction(uid='324', iid='748', r_ui=5.0, est=4.2502908753466055, details={'actual_k': 40, 'was_impossible': False}),\n",
       " Prediction(uid='263', iid='1126', r_ui=5.0, est=4.093822733286973, details={'actual_k': 40, 'was_impossible': False}),\n",
       " Prediction(uid='639', iid='70', r_ui=3.0, est=3.1514693172174923, details={'actual_k': 40, 'was_impossible': False}),\n",
       " Prediction(uid='398', iid='159', r_ui=3.0, est=3.8712093343038934, details={'actual_k': 40, 'was_impossible': False}),\n",
       " Prediction(uid='286', iid='56', r_ui=2.0, est=4.027845239997604, details={'actual_k': 40, 'was_impossible': False}),\n",
       " Prediction(uid='486', iid='1302', r_ui=3.0, est=3.1, details={'actual_k': 40, 'was_impossible': False}),\n",
       " Prediction(uid='556', iid='187', r_ui=5.0, est=4.3452280797069855, details={'actual_k': 32, 'was_impossible': False}),\n",
       " Prediction(uid='280', iid='217', r_ui=3.0, est=3.729223848940788, details={'actual_k': 40, 'was_impossible': False}),\n",
       " Prediction(uid='807', iid='373', r_ui=4.0, est=3.799130320000983, details={'actual_k': 40, 'was_impossible': False}),\n",
       " Prediction(uid='883', iid='271', r_ui=2.0, est=3.850862571348953, details={'actual_k': 40, 'was_impossible': False}),\n",
       " Prediction(uid='62', iid='147', r_ui=3.0, est=3.2011372149074124, details={'actual_k': 40, 'was_impossible': False}),\n",
       " Prediction(uid='523', iid='1036', r_ui=4.0, est=4.580314361859272, details={'actual_k': 40, 'was_impossible': False}),\n",
       " Prediction(uid='748', iid='144', r_ui=4.0, est=3.825988513090031, details={'actual_k': 40, 'was_impossible': False}),\n",
       " Prediction(uid='927', iid='385', r_ui=4.0, est=4.1231138117498, details={'actual_k': 40, 'was_impossible': False}),\n",
       " Prediction(uid='50', iid='1008', r_ui=5.0, est=3.537774706773962, details={'actual_k': 17, 'was_impossible': False}),\n",
       " Prediction(uid='128', iid='485', r_ui=3.0, est=3.8246133537930893, details={'actual_k': 40, 'was_impossible': False}),\n",
       " Prediction(uid='299', iid='345', r_ui=4.0, est=3.324120290282335, details={'actual_k': 40, 'was_impossible': False}),\n",
       " Prediction(uid='551', iid='1419', r_ui=1.0, est=3.55, details={'actual_k': 40, 'was_impossible': False}),\n",
       " Prediction(uid='144', iid='262', r_ui=3.0, est=3.897685234271868, details={'actual_k': 40, 'was_impossible': False}),\n",
       " Prediction(uid='916', iid='483', r_ui=5.0, est=3.5994844721399204, details={'actual_k': 40, 'was_impossible': False}),\n",
       " Prediction(uid='189', iid='647', r_ui=4.0, est=3.9249608818013466, details={'actual_k': 40, 'was_impossible': False}),\n",
       " Prediction(uid='326', iid='657', r_ui=5.0, est=3.425005108172141, details={'actual_k': 40, 'was_impossible': False}),\n",
       " Prediction(uid='647', iid='1047', r_ui=4.0, est=3.8754546287621747, details={'actual_k': 40, 'was_impossible': False}),\n",
       " Prediction(uid='406', iid='1197', r_ui=3.0, est=3.55008830468919, details={'actual_k': 40, 'was_impossible': False}),\n",
       " Prediction(uid='533', iid='580', r_ui=3.0, est=3.1742753531498655, details={'actual_k': 40, 'was_impossible': False}),\n",
       " Prediction(uid='378', iid='265', r_ui=4.0, est=3.3721537867750837, details={'actual_k': 40, 'was_impossible': False}),\n",
       " Prediction(uid='693', iid='1232', r_ui=2.0, est=2.9271210050467817, details={'actual_k': 40, 'was_impossible': False}),\n",
       " Prediction(uid='327', iid='546', r_ui=2.0, est=3.5015791942227397, details={'actual_k': 40, 'was_impossible': False}),\n",
       " Prediction(uid='244', iid='258', r_ui=5.0, est=3.9223569369039284, details={'actual_k': 40, 'was_impossible': False}),\n",
       " Prediction(uid='897', iid='176', r_ui=5.0, est=4.100421534106072, details={'actual_k': 40, 'was_impossible': False}),\n",
       " Prediction(uid='269', iid='168', r_ui=4.0, est=3.6242314174305053, details={'actual_k': 40, 'was_impossible': False}),\n",
       " Prediction(uid='821', iid='495', r_ui=5.0, est=4.353275407032272, details={'actual_k': 40, 'was_impossible': False}),\n",
       " Prediction(uid='295', iid='50', r_ui=5.0, est=4.324102549488621, details={'actual_k': 40, 'was_impossible': False}),\n",
       " Prediction(uid='904', iid='66', r_ui=4.0, est=3.89025770438799, details={'actual_k': 37, 'was_impossible': False}),\n",
       " Prediction(uid='437', iid='378', r_ui=4.0, est=3.622795049950825, details={'actual_k': 40, 'was_impossible': False}),\n",
       " Prediction(uid='751', iid='742', r_ui=3.0, est=3.3744829637685534, details={'actual_k': 40, 'was_impossible': False}),\n",
       " Prediction(uid='442', iid='172', r_ui=5.0, est=3.52536255241196, details={'actual_k': 40, 'was_impossible': False}),\n",
       " Prediction(uid='542', iid='772', r_ui=4.0, est=3.4190120367506984, details={'actual_k': 40, 'was_impossible': False}),\n",
       " Prediction(uid='847', iid='567', r_ui=3.0, est=2.7291768690700065, details={'actual_k': 40, 'was_impossible': False}),\n",
       " Prediction(uid='44', iid='24', r_ui=3.0, est=3.7991878491952527, details={'actual_k': 40, 'was_impossible': False}),\n",
       " Prediction(uid='425', iid='27', r_ui=3.0, est=2.7991351465060217, details={'actual_k': 40, 'was_impossible': False}),\n",
       " Prediction(uid='668', iid='333', r_ui=3.0, est=3.5059689372051333, details={'actual_k': 36, 'was_impossible': False}),\n",
       " Prediction(uid='581', iid='222', r_ui=3.0, est=3.9505589320663237, details={'actual_k': 20, 'was_impossible': False}),\n",
       " Prediction(uid='666', iid='651', r_ui=5.0, est=3.849798717819351, details={'actual_k': 40, 'was_impossible': False}),\n",
       " Prediction(uid='593', iid='742', r_ui=4.0, est=3.82407096966054, details={'actual_k': 40, 'was_impossible': False}),\n",
       " Prediction(uid='423', iid='1134', r_ui=4.0, est=3.660353433553939, details={'actual_k': 40, 'was_impossible': False}),\n",
       " Prediction(uid='790', iid='72', r_ui=2.0, est=2.922700680811602, details={'actual_k': 40, 'was_impossible': False}),\n",
       " Prediction(uid='896', iid='58', r_ui=3.0, est=3.1455440731937325, details={'actual_k': 40, 'was_impossible': False}),\n",
       " Prediction(uid='288', iid='528', r_ui=4.0, est=3.8473853617911424, details={'actual_k': 40, 'was_impossible': False}),\n",
       " Prediction(uid='14', iid='81', r_ui=5.0, est=4.146964316271125, details={'actual_k': 40, 'was_impossible': False}),\n",
       " Prediction(uid='454', iid='493', r_ui=2.0, est=2.799975177800182, details={'actual_k': 40, 'was_impossible': False}),\n",
       " Prediction(uid='605', iid='252', r_ui=4.0, est=3.8521971130844816, details={'actual_k': 40, 'was_impossible': False}),\n",
       " Prediction(uid='468', iid='612', r_ui=4.0, est=3.897829693059612, details={'actual_k': 40, 'was_impossible': False}),\n",
       " Prediction(uid='805', iid='99', r_ui=2.0, est=3.6746200056797487, details={'actual_k': 40, 'was_impossible': False}),\n",
       " Prediction(uid='512', iid='183', r_ui=5.0, est=4.245150375598059, details={'actual_k': 17, 'was_impossible': False}),\n",
       " Prediction(uid='33', iid='245', r_ui=3.0, est=3.7071618785774247, details={'actual_k': 17, 'was_impossible': False}),\n",
       " Prediction(uid='401', iid='151', r_ui=1.0, est=3.5749179330271517, details={'actual_k': 40, 'was_impossible': False}),\n",
       " Prediction(uid='818', iid='271', r_ui=4.0, est=3.5275865274504086, details={'actual_k': 15, 'was_impossible': False}),\n",
       " Prediction(uid='550', iid='300', r_ui=4.0, est=3.3104737937662723, details={'actual_k': 26, 'was_impossible': False}),\n",
       " Prediction(uid='270', iid='123', r_ui=5.0, est=4.395607928213477, details={'actual_k': 40, 'was_impossible': False}),\n",
       " Prediction(uid='644', iid='117', r_ui=4.0, est=4.100649475272147, details={'actual_k': 30, 'was_impossible': False}),\n",
       " Prediction(uid='453', iid='515', r_ui=4.0, est=3.544763865233498, details={'actual_k': 40, 'was_impossible': False}),\n",
       " Prediction(uid='210', iid='180', r_ui=4.0, est=4.175583036463767, details={'actual_k': 40, 'was_impossible': False}),\n",
       " Prediction(uid='247', iid='70', r_ui=5.0, est=3.8932666024628197, details={'actual_k': 17, 'was_impossible': False}),\n",
       " Prediction(uid='500', iid='699', r_ui=3.0, est=3.4747900407148165, details={'actual_k': 40, 'was_impossible': False}),\n",
       " Prediction(uid='909', iid='261', r_ui=5.0, est=4.1288910249787545, details={'actual_k': 16, 'was_impossible': False}),\n",
       " Prediction(uid='595', iid='460', r_ui=4.0, est=3.620681933228555, details={'actual_k': 40, 'was_impossible': False}),\n",
       " Prediction(uid='804', iid='1285', r_ui=2.0, est=3.425, details={'actual_k': 40, 'was_impossible': False}),\n",
       " Prediction(uid='899', iid='403', r_ui=3.0, est=3.8029377219785108, details={'actual_k': 40, 'was_impossible': False}),\n",
       " Prediction(uid='368', iid='670', r_ui=3.0, est=3.2210955611336, details={'actual_k': 32, 'was_impossible': False}),\n",
       " Prediction(uid='201', iid='226', r_ui=3.0, est=3.076543377570166, details={'actual_k': 40, 'was_impossible': False}),\n",
       " Prediction(uid='606', iid='64', r_ui=5.0, est=3.9975358813521065, details={'actual_k': 40, 'was_impossible': False}),\n",
       " Prediction(uid='246', iid='121', r_ui=4.0, est=2.5973710042229294, details={'actual_k': 40, 'was_impossible': False}),\n",
       " Prediction(uid='145', iid='298', r_ui=1.0, est=3.119237461116429, details={'actual_k': 40, 'was_impossible': False}),\n",
       " Prediction(uid='751', iid='746', r_ui=4.0, est=3.6257903987226623, details={'actual_k': 40, 'was_impossible': False}),\n",
       " Prediction(uid='280', iid='99', r_ui=2.0, est=3.7015827018723155, details={'actual_k': 40, 'was_impossible': False}),\n",
       " Prediction(uid='393', iid='1185', r_ui=3.0, est=3.325, details={'actual_k': 40, 'was_impossible': False}),\n",
       " Prediction(uid='861', iid='737', r_ui=3.0, est=4.011122042109093, details={'actual_k': 28, 'was_impossible': False}),\n",
       " Prediction(uid='593', iid='553', r_ui=2.0, est=3.495583859426324, details={'actual_k': 40, 'was_impossible': False}),\n",
       " Prediction(uid='487', iid='823', r_ui=1.0, est=3.8000272291464996, details={'actual_k': 40, 'was_impossible': False}),\n",
       " Prediction(uid='697', iid='596', r_ui=4.0, est=3.7799965454377418, details={'actual_k': 40, 'was_impossible': False}),\n",
       " Prediction(uid='405', iid='1470', r_ui=2.0, est=2.225, details={'actual_k': 40, 'was_impossible': False}),\n",
       " Prediction(uid='151', iid='49', r_ui=3.0, est=4.197798176676655, details={'actual_k': 40, 'was_impossible': False}),\n",
       " Prediction(uid='387', iid='972', r_ui=2.0, est=3.474679954936728, details={'actual_k': 40, 'was_impossible': False}),\n",
       " Prediction(uid='889', iid='199', r_ui=5.0, est=3.297432024845269, details={'actual_k': 40, 'was_impossible': False}),\n",
       " Prediction(uid='106', iid='956', r_ui=3.0, est=3.873172644884685, details={'actual_k': 40, 'was_impossible': False}),\n",
       " Prediction(uid='495', iid='413', r_ui=5.0, est=4.12377860480974, details={'actual_k': 40, 'was_impossible': False}),\n",
       " Prediction(uid='896', iid='184', r_ui=3.0, est=2.971813778793501, details={'actual_k': 40, 'was_impossible': False}),\n",
       " Prediction(uid='314', iid='1218', r_ui=4.0, est=3.97374671516261, details={'actual_k': 40, 'was_impossible': False}),\n",
       " Prediction(uid='303', iid='1110', r_ui=1.0, est=2.8997809828485313, details={'actual_k': 40, 'was_impossible': False}),\n",
       " Prediction(uid='551', iid='118', r_ui=5.0, est=3.5936530662158357, details={'actual_k': 40, 'was_impossible': False}),\n",
       " Prediction(uid='495', iid='768', r_ui=3.0, est=3.922634705452259, details={'actual_k': 40, 'was_impossible': False}),\n",
       " Prediction(uid='624', iid='405', r_ui=4.0, est=3.8247000413341548, details={'actual_k': 40, 'was_impossible': False}),\n",
       " Prediction(uid='474', iid='275', r_ui=3.0, est=3.9736634280244094, details={'actual_k': 40, 'was_impossible': False}),\n",
       " Prediction(uid='417', iid='325', r_ui=2.0, est=2.9980581094112706, details={'actual_k': 40, 'was_impossible': False}),\n",
       " Prediction(uid='654', iid='736', r_ui=5.0, est=3.7516351108899, details={'actual_k': 40, 'was_impossible': False}),\n",
       " Prediction(uid='336', iid='451', r_ui=2.0, est=3.2225460816784435, details={'actual_k': 40, 'was_impossible': False}),\n",
       " Prediction(uid='417', iid='5', r_ui=4.0, est=3.2455269080167124, details={'actual_k': 40, 'was_impossible': False}),\n",
       " Prediction(uid='399', iid='418', r_ui=3.0, est=2.9496536638962167, details={'actual_k': 40, 'was_impossible': False}),\n",
       " Prediction(uid='699', iid='304', r_ui=4.0, est=3.1745029664049857, details={'actual_k': 40, 'was_impossible': False}),\n",
       " Prediction(uid='26', iid='283', r_ui=3.0, est=3.2504925147412753, details={'actual_k': 40, 'was_impossible': False}),\n",
       " Prediction(uid='941', iid='358', r_ui=2.0, est=4.365041886722779, details={'actual_k': 14, 'was_impossible': False}),\n",
       " Prediction(uid='653', iid='101', r_ui=3.0, est=2.7745825657597325, details={'actual_k': 40, 'was_impossible': False}),\n",
       " Prediction(uid='608', iid='136', r_ui=3.0, est=3.825341304151815, details={'actual_k': 40, 'was_impossible': False}),\n",
       " Prediction(uid='710', iid='346', r_ui=4.0, est=3.826620714550039, details={'actual_k': 40, 'was_impossible': False}),\n",
       " Prediction(uid='390', iid='328', r_ui=4.0, est=3.830408983238243, details={'actual_k': 23, 'was_impossible': False}),\n",
       " Prediction(uid='316', iid='735', r_ui=4.0, est=3.9261845216065643, details={'actual_k': 40, 'was_impossible': False}),\n",
       " Prediction(uid='796', iid='182', r_ui=4.0, est=3.499992634920175, details={'actual_k': 40, 'was_impossible': False}),\n",
       " Prediction(uid='327', iid='678', r_ui=3.0, est=3.3268608118787912, details={'actual_k': 40, 'was_impossible': False}),\n",
       " Prediction(uid='197', iid='11', r_ui=1.0, est=3.825552174585011, details={'actual_k': 40, 'was_impossible': False}),\n",
       " Prediction(uid='275', iid='679', r_ui=3.0, est=3.1754661520168335, details={'actual_k': 40, 'was_impossible': False}),\n",
       " Prediction(uid='102', iid='778', r_ui=3.0, est=2.674169816267397, details={'actual_k': 40, 'was_impossible': False}),\n",
       " Prediction(uid='715', iid='53', r_ui=1.0, est=3.54623876345051, details={'actual_k': 40, 'was_impossible': False}),\n",
       " Prediction(uid='334', iid='483', r_ui=5.0, est=3.8236983552310186, details={'actual_k': 40, 'was_impossible': False}),\n",
       " Prediction(uid='62', iid='196', r_ui=4.0, est=3.4746580639126226, details={'actual_k': 40, 'was_impossible': False}),\n",
       " Prediction(uid='601', iid='699', r_ui=3.0, est=3.298270899207589, details={'actual_k': 40, 'was_impossible': False}),\n",
       " Prediction(uid='145', iid='595', r_ui=3.0, est=2.7253160305389383, details={'actual_k': 40, 'was_impossible': False}),\n",
       " Prediction(uid='250', iid='596', r_ui=5.0, est=4.024960560154663, details={'actual_k': 40, 'was_impossible': False}),\n",
       " ...]"
      ]
     },
     "execution_count": 21,
     "metadata": {},
     "output_type": "execute_result"
    }
   ],
   "source": [
    "#Теперь давайте посмотрим, какие рекомендации мы получили, с помощью следующей программы:\n",
    "predictions = knn.test(testset)\n",
    "predictions"
   ]
  },
  {
   "cell_type": "markdown",
   "metadata": {},
   "source": [
    "После этого можно вывести результат, записанный в переменную predictions.\n",
    "\n",
    "Информация о каждой паре будет содержать следующие характеристики:\n",
    "\n",
    "* uid — id пользователя;\n",
    "* iid — id элемента;\n",
    "* r_ui (float) — реальный рейтинг, который этот пользователь поставил этому элементу;\n",
    "* est (float) — предсказанный рейтинг."
   ]
  },
  {
   "cell_type": "markdown",
   "metadata": {},
   "source": [
    "5.1 Каков реальный рейтинг, выставленный пользователем с ID 500 для фильма с ID 699?"
   ]
  },
  {
   "cell_type": "code",
   "execution_count": 22,
   "metadata": {},
   "outputs": [
    {
     "name": "stdout",
     "output_type": "stream",
     "text": [
      "3\n"
     ]
    }
   ],
   "source": [
    "import re\n",
    "\n",
    "for i in list(range(len(list(predictions)))):\n",
    "    if int(re.search(r'\\d{1,5}',str(list(predictions)[i]).split('item')[1])[0])==699 and int(re.search(r'\\d{1,5}',str(list(predictions)[i]).split('user')[1])[0])==500:\n",
    "        print(int(re.search(r'\\d{1,5}',str(list(predictions)[1]).split('r_ui')[1])[0]))\n",
    "#3"
   ]
  },
  {
   "cell_type": "markdown",
   "metadata": {},
   "source": [
    "5.2 Каков прогнозируемый рейтинг для пользователя с ID 500 и фильма с ID 699? Ответ округлите до двух знаков после точки-разделителя."
   ]
  },
  {
   "cell_type": "code",
   "execution_count": 23,
   "metadata": {},
   "outputs": [
    {
     "name": "stdout",
     "output_type": "stream",
     "text": [
      "3.47\n"
     ]
    }
   ],
   "source": [
    "for i in list(range(len(list(predictions)))):\n",
    "    if int(re.search(r'\\d{1,5}',str(list(predictions)[i]).split('item')[1])[0])==699 and int(re.search(r'\\d{1,5}',str(list(predictions)[i]).split('user')[1])[0])==500:\n",
    "        print(float(re.search(r'\\d.\\d\\d',str(list(predictions)[i]).split('est')[1])[0]))\n",
    "#3.47"
   ]
  },
  {
   "cell_type": "code",
   "execution_count": 24,
   "metadata": {},
   "outputs": [
    {
     "name": "stdout",
     "output_type": "stream",
     "text": [
      "RMSE: 1.0272\n"
     ]
    },
    {
     "data": {
      "text/plain": [
       "1.0271678039029761"
      ]
     },
     "execution_count": 24,
     "metadata": {},
     "output_type": "execute_result"
    }
   ],
   "source": [
    "#Теперь необходимо вычислить RMSE для получившихся предсказаний:\n",
    "accuracy.rmse(predictions)"
   ]
  },
  {
   "cell_type": "markdown",
   "metadata": {},
   "source": [
    "Если округлить результат до сотых, получаем **1.03**.\n",
    "\n",
    "**Итак, мы построили систему рекомендаций и даже оценили её качество. Но как же вывести рекомендации для конкретного пользователя?**\n",
    "\n",
    "Для начала давайте оформим наши предсказания в таблицу и отсортируем их по прогнозируемому рейтингу:"
   ]
  },
  {
   "cell_type": "code",
   "execution_count": 25,
   "metadata": {},
   "outputs": [],
   "source": [
    "#Для начала давайте оформим наши предсказания в таблицу и отсортируем их по прогнозируемому рейтингу:\n",
    "\n",
    "pred = pd.DataFrame(predictions)\n",
    "pred.sort_values(by=['est'],inplace=True,ascending = False)"
   ]
  },
  {
   "cell_type": "code",
   "execution_count": 26,
   "metadata": {},
   "outputs": [
    {
     "data": {
      "text/plain": [
       "['234', '427', '568', '174']"
      ]
     },
     "execution_count": 26,
     "metadata": {},
     "output_type": "execute_result"
    }
   ],
   "source": [
    "#Теперь мы можем вывести рекомендуемые для конкретного пользователя фильмы, начиная от наиболее релевантного (с точки зрения рекомендаций) и заканчивая наименее релевантным.\n",
    "recom = pred[pred.uid =='849']['iid'].to_list()\n",
    "recom"
   ]
  },
  {
   "cell_type": "markdown",
   "metadata": {},
   "source": [
    "6. Реализуйте `user-based`-алгоритм. Какое значение RMSE получилось для коллаборативной фильтрации типа `user-based`? Ответ округлите до двух знаков после точки-разделителя."
   ]
  },
  {
   "cell_type": "code",
   "execution_count": 27,
   "metadata": {},
   "outputs": [
    {
     "name": "stdout",
     "output_type": "stream",
     "text": [
      "Computing the cosine similarity matrix...\n",
      "Done computing similarity matrix.\n",
      "RMSE: 1.0175\n"
     ]
    },
    {
     "data": {
      "text/plain": [
       "1.02"
      ]
     },
     "execution_count": 27,
     "metadata": {},
     "output_type": "execute_result"
    }
   ],
   "source": [
    "#мера близости\n",
    "sim_options_user_based = {\n",
    "    'name': 'cosine',\n",
    "    'user_based': True\n",
    "}\n",
    "\n",
    "#задаем модель \n",
    "knn_user_based = KNNBasic(sim_options=sim_options_user_based)\n",
    "\n",
    "#обучаем\n",
    "knn_user_based.fit(trainset)\n",
    "\n",
    "#предсказываем\n",
    "predictions_user_based = knn_user_based.test(testset)\n",
    "\n",
    "#считаем метрику\n",
    "accuracy.rmse(predictions_user_based).round(2)\n",
    "#1.02"
   ]
  },
  {
   "cell_type": "markdown",
   "metadata": {},
   "source": [
    "7. Теперь давайте сравним полученные результаты с результатами SVD-алгоритма. Реализуйте SVD с параметрами по умолчанию.\n",
    "\n",
    "Какое значение RMSE получилось для SVD? Ответ округлите до двух знаков после точки-разделителя."
   ]
  },
  {
   "cell_type": "code",
   "execution_count": 28,
   "metadata": {},
   "outputs": [
    {
     "name": "stdout",
     "output_type": "stream",
     "text": [
      "RMSE: 0.9401\n"
     ]
    },
    {
     "data": {
      "text/plain": [
       "0.94"
      ]
     },
     "execution_count": 28,
     "metadata": {},
     "output_type": "execute_result"
    }
   ],
   "source": [
    "#задаем модель\n",
    "svd = SVD()\n",
    "\n",
    "#обучаем\n",
    "svd.fit(trainset)\n",
    "\n",
    "#предсказываем\n",
    "predictions_svd = svd.test(testset)\n",
    "\n",
    "#считаем метрику\n",
    "accuracy.rmse(predictions_svd).round(2)\n",
    "#0.94"
   ]
  },
  {
   "cell_type": "markdown",
   "metadata": {},
   "source": [
    "8. Какой алгоритм показал наилучший результат?\n",
    "\n",
    "*Ответ:* SVD"
   ]
  },
  {
   "cell_type": "markdown",
   "metadata": {},
   "source": [
    "# Гибридные модели"
   ]
  },
  {
   "cell_type": "markdown",
   "metadata": {},
   "source": [
    "Давайте на практике рассмотрим, как создать рекомендательную систему с помощью гибридного подхода.\n",
    "\n",
    "Разумеется, можно комбинировать различные подходы самостоятельно, однако для удобства уже реализован модуль `LightFM` — установим библиотеку через следующую команду:"
   ]
  },
  {
   "cell_type": "code",
   "execution_count": 29,
   "metadata": {},
   "outputs": [
    {
     "name": "stderr",
     "output_type": "stream",
     "text": [
      "c:\\Users\\пользователь\\AppData\\Local\\Programs\\Python\\Python39\\lib\\site-packages\\lightfm\\_lightfm_fast.py:9: UserWarning: LightFM was compiled without OpenMP support. Only a single thread will be used.\n",
      "  warnings.warn(\n"
     ]
    }
   ],
   "source": [
    "#Импортируем нужные нам функции из этой библиотеки. На этом этапе сразу же загрузим инструменты оценки модели:\n",
    "from lightfm import LightFM\n",
    "from lightfm.cross_validation import random_train_test_split\n",
    "from lightfm.evaluation import precision_at_k, recall_at_k "
   ]
  },
  {
   "cell_type": "markdown",
   "metadata": {},
   "source": [
    "Работать мы будем с датасетом `goodreads_book`.\n",
    "\n",
    "`Goodreads` — это сайт, на котором люди могут добавлять книги в каталоги, искать их, изучать аннотации и отзывы. Пользователи также могут создавать сообщества, в которых они рекомендуют друг другу различную литературу, ведут блоги и устраивают обсуждения."
   ]
  },
  {
   "cell_type": "code",
   "execution_count": 30,
   "metadata": {},
   "outputs": [],
   "source": [
    "#Подгрузим все файлы, относящиеся к этому набору данных:\n",
    "ratings = pd.read_csv('data/Gooddreadbooks/ratings.zip') # Поставленные оценки\n",
    "books = pd.read_csv('data/Gooddreadbooks/books.zip') # Информация о книгах\n",
    "tags = pd.read_csv('data/Gooddreadbooks/tags.zip') # Информация о тегах\n",
    "book_tags = pd.read_csv('data/Gooddreadbooks/book_tags.zip') # Книги с тегами "
   ]
  },
  {
   "cell_type": "markdown",
   "metadata": {},
   "source": [
    "Сначала посмотрим на набор данных books: в этих данных есть обычный id книги, а есть id книги в системе Goodreads — этот id отображён в признаке `goodreads_book_id`. В других данных `(book_tags)` указан только id книги в системе Goodreads, поэтому нам необходимо добавить туда обычный id."
   ]
  },
  {
   "cell_type": "markdown",
   "metadata": {},
   "source": [
    "1. Добавьте в набор данных `book_tags` признак с обычным id книги, используя соответствие обычного id и id в системе Goodreads.\n",
    "\n",
    "Какой обычный id у книги, которая имеет id 5 в системе Goodreads?"
   ]
  },
  {
   "cell_type": "code",
   "execution_count": 31,
   "metadata": {},
   "outputs": [
    {
     "data": {
      "text/plain": [
       "18.0"
      ]
     },
     "execution_count": 31,
     "metadata": {},
     "output_type": "execute_result"
    }
   ],
   "source": [
    "part_books = books[['book_id', 'goodreads_book_id']]\n",
    "book_tags_merged = pd.merge(left=book_tags, right=part_books, how='left', on='goodreads_book_id')\n",
    "book_tags_merged[book_tags_merged['goodreads_book_id']==5]['book_id'].mean()\n",
    "#18.0"
   ]
  },
  {
   "cell_type": "markdown",
   "metadata": {},
   "source": [
    "2. Далее нам необходимо оставить в наборе данных `book_tags` только те записи, теги для которых есть в данных `tags`\n",
    "\n",
    "Отфильтруйте данные таким образом, чтобы в наборе данных book_tags остались только те строки, в которых находятся теги, информация о которых есть в наборе данных tags.\n",
    "\n",
    "Сколько объектов осталось?"
   ]
  },
  {
   "cell_type": "code",
   "execution_count": 32,
   "metadata": {},
   "outputs": [],
   "source": [
    "import numpy as np"
   ]
  },
  {
   "cell_type": "code",
   "execution_count": 33,
   "metadata": {},
   "outputs": [
    {
     "data": {
      "text/plain": [
       "300738"
      ]
     },
     "execution_count": 33,
     "metadata": {},
     "output_type": "execute_result"
    }
   ],
   "source": [
    "book_tags_merged2 = pd.merge(left=book_tags_merged, right=tags, how='left', on='tag_id')\n",
    "book_tags_merged2['Nan'] = book_tags_merged2['tag_name'].isna()\n",
    "book_tags_merged2 = book_tags_merged2[book_tags_merged2['Nan']==False]\n",
    "book_tags_merged2 = book_tags_merged2.drop(['tag_name','Nan'], axis=1)\n",
    "book_tags_merged2.shape[0]\n",
    "#300738"
   ]
  },
  {
   "cell_type": "markdown",
   "metadata": {},
   "source": [
    "Отлично, мы подготовили информацию о тегах книг — это будет метаинформацией для построения рекомендательной системы. Теперь нам необходимо подготовить данные о взаимодействии пользователей и книг. Для этого нам понадобится файл `ratings`."
   ]
  },
  {
   "cell_type": "code",
   "execution_count": 34,
   "metadata": {},
   "outputs": [],
   "source": [
    "#Оба набора данных (и про взаимодействия, и про метаинформацию) необходимо преобразовать в разрежённые матрицы. Это можно сделать с помощью специальной функции из модуля scipy:\n",
    "\n",
    "from scipy.sparse import csr_matrix"
   ]
  },
  {
   "cell_type": "markdown",
   "metadata": {},
   "source": [
    "Нам важно преобразовать данные в специальный формат, в котором хранятся разрежённые матрицы — будем использовать формат `Compressed Sparse Row (CSR)`, подразумевающий подсчёт кумулятивной суммы количества элементов в строке вместо индексов строк.\n",
    "\n",
    "<center> <img src=data/DST_MATH_ML_15_4_2.png alt=\"drawing\" style=\"width:400px;\"> </center>\n",
    "\n",
    "Здесь хранится информация о том, сколько суммарно ненулевых элементов в данной строке и выше, индексы столбцов с ненулевыми значениями, сами значения и размерность матрицы.\n",
    "\n",
    "В первой строке обозначено, сколько накоплено ненулевых значений (в первой строке — суммарно 1, после второй строки — суммарно 4, после третьей строки — суммарно 4, после четвёртой строки — суммарно 6).\n",
    "Во второй строке показано, в каком столбце находится ненулевое значение.\n",
    "В третьей строке указаны сами значения.\n",
    "Осуществляем преобразование следующим образом:"
   ]
  },
  {
   "cell_type": "code",
   "execution_count": 35,
   "metadata": {},
   "outputs": [],
   "source": [
    "#Осуществляем преобразование следующим образом:\n",
    "\n",
    "ratings_matrix = csr_matrix((ratings.rating,(ratings.user_id,ratings.book_id))) # Передаём в качестве аргументов в функцию выставленный рейтинг (это будут значения матрицы), а также id пользователя и id книги (это будут индексы для строк и столбцов матрицы)\n",
    "\n",
    "#Теперь нам необходимо составить матрицу с метаданными. В качестве индексов будут выступать id книги и id тега, и если у этой книги есть рассматриваемый тег, то на пересечении соответствующих строки и столбца будет выставлена единица.\n",
    "\n",
    "meta_matrix  = csr_matrix(([1]*len(book_tags_merged2),(book_tags_merged2.book_id,book_tags_merged2.tag_id))) "
   ]
  },
  {
   "cell_type": "markdown",
   "metadata": {},
   "source": [
    "3. Давайте проверим, что всё получилось правильно.\n",
    "\n",
    "Каково среднее арифметическое значений разрежённой матрицы с рейтингами? Ответ округлите до трёх знаков после точки-разделителя."
   ]
  },
  {
   "cell_type": "code",
   "execution_count": 36,
   "metadata": {},
   "outputs": [
    {
     "data": {
      "text/plain": [
       "0.007"
      ]
     },
     "execution_count": 36,
     "metadata": {},
     "output_type": "execute_result"
    }
   ],
   "source": [
    "ratings_matrix.mean().round(3)\n",
    "#0.007"
   ]
  },
  {
   "cell_type": "code",
   "execution_count": 37,
   "metadata": {},
   "outputs": [],
   "source": [
    "#Отлично, данные подготовлены — теперь настало время определить модель, которую мы будем использовать. Сделаем это следующим образом:\n",
    "model = LightFM(\n",
    "    loss='warp-kos', # Определяем функцию потерь\n",
    "    random_state=42, # Фиксируем случайное разбиение\n",
    "    learning_rate=0.05, # Темп обучения\n",
    "    no_components=100 # Размерность вектора для представления данных в модели\n",
    ")"
   ]
  },
  {
   "cell_type": "markdown",
   "metadata": {},
   "source": [
    "В качестве функции потерь мы выбрали значение 'warp', хотя, разумеется, это не единственный вариант. В модуле LightFM представлены следующие функции потерь:\n",
    "\n",
    "* 'logistic' — логистическая функция. Полезна в случаях, когда есть как положительные, так и отрицательные взаимодействия, например 1 и -1.\n",
    "* 'bpr' — байесовский персонализированный рейтинг. Можно применять, когда присутствуют только положительные взаимодействия.\n",
    "* 'warp' — парный взвешенный приблизительный ранг. Используется, если необходимо повысить качество именно в верхней части списка рекомендаций.\n",
    "* 'warp-kos' — модификация warp."
   ]
  },
  {
   "cell_type": "code",
   "execution_count": 38,
   "metadata": {},
   "outputs": [],
   "source": [
    "#Разобьём данные на обучающую и тестовую выборки:\n",
    "\n",
    "train, test = random_train_test_split(\n",
    "    ratings_matrix, # Общая выборка\n",
    "    test_percentage=0.2, # Размер тестовой выборки\n",
    "    random_state=42 # Генератор случайных чисел\n",
    ")"
   ]
  },
  {
   "cell_type": "markdown",
   "metadata": {},
   "source": [
    "Теперь обучим модель на наших данных о взаимодействии, также используя метаданные о книгах. Для этого воспользуемся методом `fit()`. В этот метод передадим обучающую выборку, признаки товаров — `item_features`, количество эпох обучения (сколько раз мы будем показывать модели исходный датасет, чтобы она лучше выучила данные) — `epochs`, а также параметр `verbose` для отслеживания процесса обучения:"
   ]
  },
  {
   "cell_type": "markdown",
   "metadata": {},
   "source": [
    "**Обратите внимание:** из-за трудоёмкости вычислений обучение модели и оценка качества могут занимать вплоть до 15-20 минут (зависит от мощности компьютера). Не волнуйтесь, это нормальная ситуация.\n",
    "\n",
    "**Примечание.** Если вы работаете через Google Collab, то для того, чтобы ускорить процесс обучения, вы можете в метод `fit()` передать параметр `num_threads`, в котором необходимо указать количество используемых потоков процессора. Задайте его значение, например, равным 6."
   ]
  },
  {
   "cell_type": "code",
   "execution_count": 39,
   "metadata": {},
   "outputs": [
    {
     "name": "stderr",
     "output_type": "stream",
     "text": [
      "Epoch:   0%|          | 0/10 [00:00<?, ?it/s]"
     ]
    },
    {
     "ename": "",
     "evalue": "",
     "output_type": "error",
     "traceback": [
      "\u001b[1;31mПри выполнении кода в текущей ячейке или предыдущей ячейке ядро аварийно завершило работу. Проверьте код в ячейках, чтобы определить возможную причину сбоя. Щелкните <a href=\"https://aka.ms/vscodeJupyterKernelCrash\">здесь</a> для получения дополнительных сведений. Подробнее см. в <a href='command:jupyter.viewOutput'>журнале Jupyter</a>."
     ]
    }
   ],
   "source": [
    "#model = model.fit(\n",
    "    #train, # Обучающая выборка\n",
    "    #item_features=meta_matrix, # Признаки товаров\n",
    "    #epochs=10, # Количество эпох\n",
    "    #verbose=True # Отображение обучения\n",
    "#)\n",
    "\n",
    "#код закоментирован, т.к. присутствует ошибка в библиотеке"
   ]
  },
  {
   "cell_type": "markdown",
   "metadata": {},
   "source": [
    "4. Оцените качество полученной модели с помощью функции `precision_at_k`, передав в неё три аргумента: модель, тестовые данные и обозначение метаданных `(item_features = meta_matrix)`.\n",
    "\n",
    "*Примечание.* Процесс расчёта метрик рекомендательной системы также является довольно затратным по времени. Для ускорения этого процесса вы можете передать параметр `num_threads`, чтобы указать количество потоков процессора, используемых для вычислений.\n",
    "\n",
    "Выведите среднее арифметическое и округлите его до двух знаков после точки-разделителя."
   ]
  },
  {
   "cell_type": "code",
   "execution_count": 40,
   "metadata": {},
   "outputs": [],
   "source": [
    "#precision_at_k(model=model, test_interactions=test, item_features = meta_matrix)\n",
    "\n",
    "#код закоментирован, т.к. присутствует ошибка в библиотеке\n",
    "\n",
    "#0.02"
   ]
  },
  {
   "cell_type": "markdown",
   "metadata": {},
   "source": [
    "В рекомендательных системах метрики интерпретируются иначе, чем в задачах классификации. Показатели точности РС считаются хорошими, если они находятся в районе 0.1-0.3.\n",
    "\n",
    "У нас получился не слишком высокий, но довольно неплохой результат. Чтобы его улучшить, можно попробовать следующее:\n",
    "\n",
    "* Поработать над предобработкой данных, добавив в них дополнительную информацию о товарах. Также можно попробовать воспользоваться иным способом создания разреженной матрицы, например, форматом `coo_matrix()` или `csc_matrix()`, которые также входят в библиотеку scipy. \n",
    "* Поиграться с параметрами модели LightFM — поуправлять темпом обучения (learning_rate), размерностью вектора для представления (no_components), количеством эпох обучения (epochs) и функцией потерь (loss)."
   ]
  },
  {
   "cell_type": "markdown",
   "metadata": {},
   "source": [
    "**Примечание.** Для предсказания рейтинга нового пользователя можно воспользоваться методом `predict()`:\n",
    "```\n",
    "scores = model.predict(<индекс интересующего пользователя>, np.arange(n_items), user_features=new_user_feature)\n",
    "```"
   ]
  },
  {
   "cell_type": "markdown",
   "metadata": {},
   "source": [
    "# Современные методы: глубокое обучение"
   ]
  },
  {
   "cell_type": "markdown",
   "metadata": {},
   "source": [
    "Давайте разберём несложную задачу, при решении которой мы обучим настоящую нейронную сеть и используем её для создания рекомендаций.\n",
    "\n",
    "Мы будем использовать модуль `tensorflow`, в котором реализовано много полезных методов для имплементации (внедрения) нейронных сетей. Установим его:"
   ]
  },
  {
   "cell_type": "code",
   "execution_count": 41,
   "metadata": {},
   "outputs": [],
   "source": [
    "#pip install tensorflow"
   ]
  },
  {
   "cell_type": "code",
   "execution_count": 1,
   "metadata": {},
   "outputs": [],
   "source": [
    "#Для начала импортируем из него функции, которые понадобятся нам для решения задачи:\n",
    "\n",
    "from tensorflow.keras.layers import Input, Embedding, Flatten, Dot, Dense, Concatenate\n",
    "from tensorflow.keras.models import Model\n"
   ]
  },
  {
   "cell_type": "code",
   "execution_count": 4,
   "metadata": {},
   "outputs": [],
   "source": [
    "#Мы будем использовать данные из предыдущего юнита, но лишь те, которые содержат информацию об оценках, выставленных книгам пользователями. Загрузим данные:\n",
    "\n",
    "df = pd.read_csv('data/Gooddreadbooks/ratings.zip')"
   ]
  },
  {
   "cell_type": "markdown",
   "metadata": {},
   "source": [
    "1. Разбейте данные на обучающую и тестовую выборки в отношении 4:1. В качестве значения параметра `random_state` возьмите число 42.\n",
    "\n",
    "Сколько объектов теперь находится в обучающей выборке?"
   ]
  },
  {
   "cell_type": "code",
   "execution_count": 5,
   "metadata": {},
   "outputs": [
    {
     "data": {
      "text/plain": [
       "785404"
      ]
     },
     "execution_count": 5,
     "metadata": {},
     "output_type": "execute_result"
    }
   ],
   "source": [
    "from sklearn.model_selection import train_test_split\n",
    "train, test = train_test_split(df,test_size=0.2, random_state=42)\n",
    "train.shape[0]\n",
    "#785404"
   ]
  },
  {
   "cell_type": "markdown",
   "metadata": {},
   "source": [
    "2. Запишите количество уникальных книг в переменную `n_books`.\n",
    "\n",
    "Сколько в наборе данных уникальных книг?"
   ]
  },
  {
   "cell_type": "code",
   "execution_count": 6,
   "metadata": {},
   "outputs": [
    {
     "name": "stdout",
     "output_type": "stream",
     "text": [
      "10000\n"
     ]
    }
   ],
   "source": [
    "n_books = df[\"book_id\"].nunique()\n",
    "print(n_books)\n",
    "#10000"
   ]
  },
  {
   "cell_type": "markdown",
   "metadata": {},
   "source": [
    "3. Запишите количество уникальных пользователей в переменную `n_users`.\n",
    "\n",
    "Сколько в наборе данных уникальных пользователей?"
   ]
  },
  {
   "cell_type": "code",
   "execution_count": 7,
   "metadata": {},
   "outputs": [
    {
     "name": "stdout",
     "output_type": "stream",
     "text": [
      "53424\n"
     ]
    }
   ],
   "source": [
    "n_users = df[\"user_id\"].nunique()\n",
    "print(n_users)\n",
    "#53424"
   ]
  },
  {
   "cell_type": "code",
   "execution_count": 8,
   "metadata": {},
   "outputs": [],
   "source": [
    "#В первую очередь нам необходимо создать эмбеддинги для книг и пользователей. Создаём эмбеддинги для книг:\n",
    "\n",
    "book_input = Input(shape=[1], name=\"Book-Input\")\n",
    "book_embedding = Embedding(n_books+1, 5, name=\"Book-Embedding\")(book_input)\n",
    "book_vec = Flatten(name=\"Flatten-Books\")(book_embedding)"
   ]
  },
  {
   "cell_type": "code",
   "execution_count": 9,
   "metadata": {},
   "outputs": [],
   "source": [
    "#Сначала мы задаём размерность входного слоя (в этом параметре максимальное значение всегда равно длине вектора +1). \n",
    "# После этого определяем размер эмбеддинга — в данном случае снижаем размерность до 5. \n",
    "# Далее мы разворачиваем результат в массив с одним измерением с помощью слоя Flatten().\n",
    "\n",
    "#Делаем то же самое для пользователей:\n",
    "\n",
    "user_input = Input(shape=[1], name=\"User-Input\")\n",
    "user_embedding = Embedding(n_users+1, 5, name=\"User-Embedding\")(user_input)\n",
    "user_vec = Flatten(name=\"Flatten-Users\")(user_embedding)"
   ]
  },
  {
   "cell_type": "code",
   "execution_count": 10,
   "metadata": {},
   "outputs": [],
   "source": [
    "#Теперь, когда мы создали представления как для книг, так и для пользователей, нам необходимо соединить их:\n",
    "\n",
    "conc = Concatenate()([book_vec, user_vec])"
   ]
  },
  {
   "cell_type": "code",
   "execution_count": 11,
   "metadata": {},
   "outputs": [],
   "source": [
    "#Далее начинаем «собирать» нашу нейронную сеть из слоёв. \n",
    "# Dense обозначает полносвязный слой. \n",
    "# Также мы обозначаем для него количество нейронов (на первом слое будет 128 нейронов, на втором 32, \n",
    "# на последнем (выходном) -  1\n",
    "# и данные (на первом слое принимаются данные от соединённых эмбеддингов, на втором – данные от 1 слоя, а в последнем  - данные от второго полносвязного слоя), которые идут на вход.\n",
    "\n",
    "fc1 = Dense(128, activation='relu')(conc)\n",
    "fc2 = Dense(32, activation='relu')(fc1)\n",
    "out = Dense(1)(fc2)"
   ]
  },
  {
   "cell_type": "code",
   "execution_count": 12,
   "metadata": {},
   "outputs": [],
   "source": [
    "#Собираем модель — передаём входные данные для книг и пользователей, а также архитектуру нейронной сети:\n",
    "\n",
    "model2 = Model([user_input, book_input], out)"
   ]
  },
  {
   "cell_type": "code",
   "execution_count": 13,
   "metadata": {},
   "outputs": [],
   "source": [
    "#Также нам необходимо задать алгоритм оптимизации и метрику, которую мы будем оптимизировать. В данном случае будем использовать метод adam (одна из вариаций градиентного спуска из модуля по матану) \n",
    "# и хорошо известную вам среднеквадратичную ошибку:\n",
    "\n",
    "model2.compile(optimizer = 'adam', loss =  'mean_squared_error')"
   ]
  },
  {
   "cell_type": "code",
   "execution_count": 14,
   "metadata": {},
   "outputs": [
    {
     "name": "stdout",
     "output_type": "stream",
     "text": [
      "Epoch 1/5\n",
      "24544/24544 [==============================] - 533s 22ms/step - loss: 0.7938\n",
      "Epoch 2/5\n",
      "24544/24544 [==============================] - 502s 20ms/step - loss: 0.6874\n",
      "Epoch 3/5\n",
      "24544/24544 [==============================] - 487s 20ms/step - loss: 0.6575\n",
      "Epoch 4/5\n",
      "24544/24544 [==============================] - 531s 22ms/step - loss: 0.6341\n",
      "Epoch 5/5\n",
      "24544/24544 [==============================] - 506s 21ms/step - loss: 0.6135\n"
     ]
    }
   ],
   "source": [
    "#Теперь будем обучать нашу модель:\n",
    "#В параметр эпох передаём значение 5: у нас будет реализовано пять эпох — пять обучений нейронной сети. На каждой из эпох обновляются веса для минимизации ошибки.\n",
    "\n",
    "history = model2.fit([train.user_id, train.book_id], train.rating, epochs=5, verbose=1)"
   ]
  },
  {
   "cell_type": "code",
   "execution_count": 15,
   "metadata": {},
   "outputs": [
    {
     "name": "stdout",
     "output_type": "stream",
     "text": [
      "6136/6136 [==============================] - 29s 5ms/step - loss: 0.7093\n"
     ]
    },
    {
     "data": {
      "text/plain": [
       "0.7093052268028259"
      ]
     },
     "execution_count": 15,
     "metadata": {},
     "output_type": "execute_result"
    }
   ],
   "source": [
    "#Теперь можно оценить качество:\n",
    "\n",
    "model2.evaluate([test.user_id, test.book_id], test.rating)"
   ]
  },
  {
   "cell_type": "markdown",
   "metadata": {},
   "source": [
    "**Примечание.** К сожалению, результаты этого алгоритма нельзя зафиксировать стандартным ramdom_state, к которому мы привыкли: применяемые методы не используют такой параметр. Поэтому мы опустим здесь сравнение результатов, однако посмотрим, как можно настроить нейронную сеть."
   ]
  },
  {
   "cell_type": "code",
   "execution_count": 16,
   "metadata": {},
   "outputs": [
    {
     "name": "stdout",
     "output_type": "stream",
     "text": [
      "Epoch 1/10\n",
      "24544/24544 [==============================] - 513s 21ms/step - loss: 0.6355\n",
      "Epoch 2/10\n",
      "24544/24544 [==============================] - 648s 26ms/step - loss: 0.5869\n",
      "Epoch 3/10\n",
      "24544/24544 [==============================] - 522s 21ms/step - loss: 0.5691\n",
      "Epoch 4/10\n",
      "24544/24544 [==============================] - 506s 21ms/step - loss: 0.5534\n",
      "Epoch 5/10\n",
      "24544/24544 [==============================] - 508s 21ms/step - loss: 0.5386\n",
      "Epoch 6/10\n",
      "24544/24544 [==============================] - 514s 21ms/step - loss: 0.5261\n",
      "Epoch 7/10\n",
      "24544/24544 [==============================] - 489s 20ms/step - loss: 0.5151\n",
      "Epoch 8/10\n",
      "24544/24544 [==============================] - 1966s 80ms/step - loss: 0.5054\n",
      "Epoch 9/10\n",
      "24544/24544 [==============================] - 508s 21ms/step - loss: 0.4971\n",
      "Epoch 10/10\n",
      "24544/24544 [==============================] - 755s 31ms/step - loss: 0.4895\n",
      "6136/6136 [==============================] - 28s 5ms/step - loss: 0.7735\n"
     ]
    },
    {
     "data": {
      "text/plain": [
       "0.7734776139259338"
      ]
     },
     "execution_count": 16,
     "metadata": {},
     "output_type": "execute_result"
    }
   ],
   "source": [
    "# Обычно для улучшения качества модели каким-то образом модифицируют нейронную сеть: дополняют её, увеличивают время обучения. \n",
    "# Добавим ещё один полносвязный слой с восемью нейронами после полносвязного слоя с 32 нейронами. Обучим нейронную сеть, реализовав десять эпох:\n",
    "fc1 = Dense(128, activation='relu')(conc)\n",
    "fc2 = Dense(32, activation='relu')(fc1)\n",
    "fc3 = Dense(8, activation='relu')(fc2)\n",
    "out = Dense(1)(fc3)\n",
    "\n",
    "model2 = Model([user_input, book_input], out)\n",
    "model2.compile('adam', 'mean_squared_error')\n",
    "result = model2.fit([train.user_id, train.book_id], train.rating, epochs=10, verbose=1)\n",
    "model2.evaluate([test.user_id, test.book_id], test.rating)"
   ]
  },
  {
   "cell_type": "markdown",
   "metadata": {},
   "source": [
    "Качество получившейся модели не будет выше качества предыдущей, так как усложнение сети или увеличение количества эпох не всегда даёт высокое качество. Здесь главное, что вы научились корректировать архитектуру нейронной сети."
   ]
  }
 ],
 "metadata": {
  "kernelspec": {
   "display_name": "Python 3",
   "language": "python",
   "name": "python3"
  },
  "language_info": {
   "codemirror_mode": {
    "name": "ipython",
    "version": 3
   },
   "file_extension": ".py",
   "mimetype": "text/x-python",
   "name": "python",
   "nbconvert_exporter": "python",
   "pygments_lexer": "ipython3",
   "version": "3.9.10"
  }
 },
 "nbformat": 4,
 "nbformat_minor": 2
}
